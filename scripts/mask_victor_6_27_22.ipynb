{
 "cells": [
  {
   "cell_type": "code",
   "execution_count": 1,
   "id": "855eea62-0aaf-42c3-aeb9-84792b4f1545",
   "metadata": {},
   "outputs": [],
   "source": [
    "# imports\n",
    "import numpy as np\n",
    "import matplotlib.pyplot as plt\n",
    "from PIL import Image"
   ]
  },
  {
   "cell_type": "code",
   "execution_count": 4,
   "id": "c4b01388-65e7-4046-a0c9-692db26cc8a2",
   "metadata": {},
   "outputs": [],
   "source": [
    "\n",
    "def in_square_circle(power, radius, pos, center):\n",
    "    \"\"\"\n",
    "    Returns weather a coordinate is inside the rounded square\n",
    "    \n",
    "    Parameters\n",
    "    ----------\n",
    "    power : int\n",
    "        the degree to which the square is rounded \n",
    "    radius : double\n",
    "        the radius of the rounded square\n",
    "    pos : numpy array\n",
    "        the coordinate of position being tested\n",
    "    center : numpy array\n",
    "        the coordinate of the center of the square circle\n",
    "        \n",
    "    Returns\n",
    "    -------\n",
    "    bool\n",
    "    \"\"\"\n",
    "    translated = pos - center\n",
    "    if translated[0]**(power*2) + translated[1]**(power*2) < radius**(power*2):\n",
    "        return True\n",
    "    else:\n",
    "        return False"
   ]
  },
  {
   "cell_type": "code",
   "execution_count": 9,
   "id": "4892c4e3-a174-4924-b1c6-5e759d09e2c3",
   "metadata": {},
   "outputs": [
    {
     "name": "stdout",
     "output_type": "stream",
     "text": [
      "20\r"
     ]
    }
   ],
   "source": [
    "image = np.zeros((800,1280), dtype = 'uint8')\n",
    "center = np.array(image.shape)/2\n",
    "\n",
    "# generate list of powers for the square circle\n",
    "powers = list(range(1,11))\n",
    "powers.append(20)\n",
    "\n",
    "# list of images for stack\n",
    "images = []\n",
    "\n",
    "# run through the list of powers and save each image\n",
    "for power in powers:\n",
    "    for x in range(image.shape[0]):\n",
    "        for y in range(image.shape[1]):\n",
    "            pos = np.array([x,y])\n",
    "            if in_square_circle(power,200,pos,center):\n",
    "                image[x,y] = 255\n",
    "    im = Image.fromarray(np.array(image))\n",
    "    images.append(im)\n",
    "    print(power, end = \"\\r\")\n",
    "    \n",
    "images[0].save(f\"square_circle.tif\", save_all = True, append_images=images[1:])"
   ]
  },
  {
   "cell_type": "code",
   "execution_count": null,
   "id": "2e94e3b9-f1fb-4f95-aeb0-38e4064bb1de",
   "metadata": {},
   "outputs": [],
   "source": []
  }
 ],
 "metadata": {
  "kernelspec": {
   "display_name": "Python 3 (ipykernel)",
   "language": "python",
   "name": "python3"
  },
  "language_info": {
   "codemirror_mode": {
    "name": "ipython",
    "version": 3
   },
   "file_extension": ".py",
   "mimetype": "text/x-python",
   "name": "python",
   "nbconvert_exporter": "python",
   "pygments_lexer": "ipython3",
   "version": "3.9.7"
  }
 },
 "nbformat": 4,
 "nbformat_minor": 5
}
