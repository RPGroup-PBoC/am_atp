{
 "cells": [
  {
   "cell_type": "code",
   "execution_count": 3,
   "id": "855eea62-0aaf-42c3-aeb9-84792b4f1545",
   "metadata": {},
   "outputs": [],
   "source": [
    "import numpy as np\n",
    "import matplotlib.pyplot as plt\n",
    "from PIL import Image"
   ]
  },
  {
   "cell_type": "code",
   "execution_count": null,
   "id": "7d44b9c2-890e-4ac7-a08f-b026a39842a4",
   "metadata": {},
   "outputs": [],
   "source": []
  },
  {
   "cell_type": "code",
   "execution_count": 4,
   "id": "c4b01388-65e7-4046-a0c9-692db26cc8a2",
   "metadata": {},
   "outputs": [],
   "source": [
    "def in_square_circle(power, radius, pos, center):\n",
    "    translated = pos - center\n",
    "    if translated[0]**(power*2) + translated[1]**(power*2) < radius**(power*2):\n",
    "        return True\n",
    "    else:\n",
    "        return False"
   ]
  },
  {
   "cell_type": "code",
   "execution_count": 12,
   "id": "4892c4e3-a174-4924-b1c6-5e759d09e2c3",
   "metadata": {},
   "outputs": [
    {
     "name": "stdout",
     "output_type": "stream",
     "text": [
      "[1, 2, 3, 4, 5, 6, 7, 8, 9, 10, 100]\n",
      "10\r"
     ]
    },
    {
     "name": "stderr",
     "output_type": "stream",
     "text": [
      "/var/folders/l0/nv_s611d4rjbvd6bfn24wlq80000gn/T/ipykernel_18148/2687842268.py:3: RuntimeWarning: overflow encountered in double_scalars\n",
      "  if translated[0]**(power*2) + translated[1]**(power*2) < radius**(power*2):\n"
     ]
    },
    {
     "name": "stdout",
     "output_type": "stream",
     "text": [
      "100\r"
     ]
    }
   ],
   "source": [
    "image = np.zeros((800,1280), dtype = 'uint8')\n",
    "center = np.array(image.shape)/2\n",
    "\n",
    "powers = list(range(1,11))\n",
    "powers.append(100)\n",
    "print(powers)\n",
    "for power in powers:\n",
    "    for x in range(image.shape[0]):\n",
    "        for y in range(image.shape[1]):\n",
    "            pos = np.array([x,y])\n",
    "            if in_square_circle(power,200,pos,center):\n",
    "                image[x,y] = 255\n",
    "    im = Image.fromarray(image)\n",
    "    im.save(f\"square_circle/image{power}.tiff\", )\n",
    "    print(power, end = \"\\r\")\n",
    "            \n"
   ]
  },
  {
   "cell_type": "code",
   "execution_count": null,
   "id": "be9df176-04f9-4e0d-b7f1-42430f6bf9ea",
   "metadata": {},
   "outputs": [],
   "source": []
  }
 ],
 "metadata": {
  "kernelspec": {
   "display_name": "Python 3 (ipykernel)",
   "language": "python",
   "name": "python3"
  },
  "language_info": {
   "codemirror_mode": {
    "name": "ipython",
    "version": 3
   },
   "file_extension": ".py",
   "mimetype": "text/x-python",
   "name": "python",
   "nbconvert_exporter": "python",
   "pygments_lexer": "ipython3",
   "version": "3.9.7"
  }
 },
 "nbformat": 4,
 "nbformat_minor": 5
}
