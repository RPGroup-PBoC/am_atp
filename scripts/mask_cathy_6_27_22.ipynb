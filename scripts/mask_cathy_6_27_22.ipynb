{
 "cells": [
  {
   "cell_type": "markdown",
   "id": "a88c6c49",
   "metadata": {},
   "source": [
    "# Creating mask for BeanShell script"
   ]
  },
  {
   "cell_type": "markdown",
   "id": "106d243e",
   "metadata": {},
   "source": [
    "Creating binary mask of moving circle. Radius, num frames, speed, direction adjustable."
   ]
  },
  {
   "cell_type": "markdown",
   "id": "5d00f499",
   "metadata": {},
   "source": [
    "## Pkg"
   ]
  },
  {
   "cell_type": "code",
   "execution_count": 13,
   "id": "9468a9ad",
   "metadata": {
    "deletable": false,
    "editable": false
   },
   "outputs": [],
   "source": [
    "import matplotlib.pyplot as plt\n",
    "import numpy as np\n",
    "from PIL import Image \n",
    "\n",
    "import math"
   ]
  },
  {
   "cell_type": "markdown",
   "id": "8ebdd531",
   "metadata": {},
   "source": [
    "## Parameters"
   ]
  },
  {
   "cell_type": "code",
   "execution_count": 19,
   "id": "3945f8a2",
   "metadata": {},
   "outputs": [],
   "source": [
    "h = 800  # (projector) image height\n",
    "w = 1280  # image width\n",
    "\n",
    "coord_start = np.array([300., 300.])  # starting coord\n",
    "direction = np.array([1., 0.])  # vector, normed\n",
    "\n",
    "num_frames = 100  # number of MOVING frames\n",
    "speed = 8  # pixels/frame\n",
    "default_radius = 50  # pixels\n",
    "\n",
    "im_dir = \"/Users/cathji/Dropbox (MIT)/wave 2022/script/6_27_22_mask/\"  #directory"
   ]
  },
  {
   "cell_type": "markdown",
   "id": "eb0bea6b",
   "metadata": {},
   "source": [
    "## Generating frames"
   ]
  },
  {
   "cell_type": "markdown",
   "id": "dce6570f",
   "metadata": {},
   "source": [
    "### Helper functions"
   ]
  },
  {
   "cell_type": "code",
   "execution_count": 20,
   "id": "669d45a5",
   "metadata": {
    "deletable": false,
    "editable": false
   },
   "outputs": [],
   "source": [
    "# creates circular mask\n",
    "\n",
    "def circular_mask(center, height=h, width=w, radius=default_radius):\n",
    "\n",
    "    Y, X = np.ogrid[:height, :width]\n",
    "    dist_from_center = np.sqrt((X - center[0])**2 + (Y - center[1])**2)\n",
    "\n",
    "    mask = dist_from_center <= radius\n",
    "    return mask"
   ]
  },
  {
   "cell_type": "markdown",
   "id": "09d6944a",
   "metadata": {},
   "source": [
    "### Generating one im (test)"
   ]
  },
  {
   "cell_type": "code",
   "execution_count": 21,
   "id": "3d7c9f52",
   "metadata": {},
   "outputs": [],
   "source": [
    "# initializing\n",
    "im = np.ones((h, w)) * 255\n",
    "\n",
    "# specifying center\n",
    "coord = [100, 200]\n",
    "\n",
    "# generating image\n",
    "im *= circular_mask(coord)"
   ]
  },
  {
   "cell_type": "markdown",
   "id": "4191eb6d",
   "metadata": {},
   "source": [
    "### Im generation + saving"
   ]
  },
  {
   "cell_type": "code",
   "execution_count": 22,
   "id": "7261c289",
   "metadata": {},
   "outputs": [],
   "source": [
    "# initializing\n",
    "im = np.ones((h, w)) * 255\n",
    "coord = coord_start \n",
    "images = []\n",
    "\n",
    "for i in range(num_frames):\n",
    "    # init\n",
    "    im = np.ones((h, w)) * 255\n",
    "\n",
    "    # updating center\n",
    "    coord += direction * speed\n",
    "    im *= circular_mask(coord)\n",
    "    im = im.astype(np.uint8)\n",
    "\n",
    "    # saving image\n",
    "    im_to_save = Image.fromarray(im)\n",
    "    im_path = im_dir + str(i)\n",
    "    images.append(im_to_save)\n",
    "\n",
    "    # typeof image\n",
    "\n",
    "images[0].save(f\"moving_circle.tif\", save_all = True, append_images = images[1:])"
   ]
  },
  {
   "cell_type": "code",
   "execution_count": null,
   "metadata": {},
   "outputs": [],
   "source": [
    "def circular_mask(center, height=h, width=w, radius=default_radius):\n",
    "\n",
    "    Y, X = np.ogrid[:height, :width]\n",
    "    dist_from_center = np.sqrt((X - center[0])**2 + (Y - center[1])**2)\n",
    "\n",
    "    mask = dist_from_center <= radius\n",
    "    return mask"
   ]
  },
  {
   "source": [
    "## Triangle mask"
   ],
   "cell_type": "markdown",
   "metadata": {}
  },
  {
   "cell_type": "code",
   "execution_count": 135,
   "metadata": {},
   "outputs": [],
   "source": [
    "vertex_angle = 150 # degrees\n",
    "base_val = 800 # pixels\n",
    "vertex_val = (int(w/2 - base_val/2), int(h/2 - base_val/2.5))\n"
   ]
  },
  {
   "cell_type": "code",
   "execution_count": 136,
   "metadata": {},
   "outputs": [],
   "source": [
    "def triangle_vertices(angle, base, vertex):\n",
    "\n",
    "    inner_rads = math.radians(180 - angle)\n",
    "    base_2 = base / 2\n",
    "\n",
    "    c1 = vertex\n",
    "    c2 = (vertex[0] + base, vertex[1])\n",
    "    c3 = ((vertex[0] + base_2), math.tan(inner_rads) * base_2 + vertex[1])\n",
    "\n",
    "    return [c1,c2,c3]"
   ]
  },
  {
   "cell_type": "code",
   "execution_count": 137,
   "metadata": {},
   "outputs": [],
   "source": [
    "im = Image.new('L', (w,h))\n",
    "\n",
    "# Draw red and yellow triangles on it and save\n",
    "draw = ImageDraw.Draw(im)\n",
    "\n",
    "coords = triangle_vertices(vertex_angle, base_val, vertex_val)\n",
    "\n",
    "draw.polygon(coords, fill = 'white')\n",
    "im.save(\"triangle.tif\")"
   ]
  },
  {
   "cell_type": "code",
   "execution_count": 138,
   "metadata": {},
   "outputs": [],
   "source": [
    "# initializing\n",
    "im = np.ones((h, w)) * 255\n",
    "coord = coord_start \n",
    "images = []\n",
    "\n",
    "angle_array = np.arange(120, 144, 5)\n",
    "\n",
    "for alpha in angle_array:\n",
    "    # init\n",
    "\n",
    "    im = Image.new('L', (w,h))\n",
    "\n",
    "    # Draw red and yellow triangles on it and save\n",
    "    draw = ImageDraw.Draw(im)\n",
    "    coords = triangle_vertices(alpha, base_val, vertex_val)\n",
    "\n",
    "    draw.polygon(coords, fill = 'white')\n",
    "    images.append(im)\n"
   ]
  },
  {
   "cell_type": "code",
   "execution_count": 139,
   "metadata": {},
   "outputs": [
    {
     "output_type": "execute_result",
     "data": {
      "text/plain": [
       "[<PIL.Image.Image image mode=L size=1280x800 at 0x7F877015F8B0>,\n",
       " <PIL.Image.Image image mode=L size=1280x800 at 0x7F877015FE20>,\n",
       " <PIL.Image.Image image mode=L size=1280x800 at 0x7F877015FCA0>,\n",
       " <PIL.Image.Image image mode=L size=1280x800 at 0x7F877015FA00>,\n",
       " <PIL.Image.Image image mode=L size=1280x800 at 0x7F877015F4F0>]"
      ]
     },
     "metadata": {},
     "execution_count": 139
    }
   ],
   "source": [
    "images"
   ]
  },
  {
   "cell_type": "code",
   "execution_count": 140,
   "metadata": {},
   "outputs": [],
   "source": [
    "images[0].save(f\"triangles.tif\", save_all = True, append_images = images[1:])"
   ]
  },
  {
   "cell_type": "code",
   "execution_count": null,
   "metadata": {},
   "outputs": [],
   "source": []
  },
  {
   "cell_type": "code",
   "execution_count": null,
   "metadata": {},
   "outputs": [],
   "source": []
  }
 ],
 "metadata": {
  "kernelspec": {
   "display_name": "Python 3",
   "language": "python",
   "name": "python3"
  },
  "language_info": {
   "codemirror_mode": {
    "name": "ipython",
    "version": 3
   },
   "file_extension": ".py",
   "mimetype": "text/x-python",
   "name": "python",
   "nbconvert_exporter": "python",
   "pygments_lexer": "ipython3",
   "version": "3.8.8-final"
  },
  "latex_envs": {
   "LaTeX_envs_menu_present": true,
   "autoclose": false,
   "autocomplete": true,
   "bibliofile": "biblio.bib",
   "cite_by": "apalike",
   "current_citInitial": 1,
   "eqLabelWithNumbers": true,
   "eqNumInitial": 1,
   "hotkeys": {
    "equation": "Ctrl-E",
    "itemize": "Ctrl-I"
   },
   "labels_anchors": false,
   "latex_user_defs": false,
   "report_style_numbering": false,
   "user_envs_cfg": false
  },
  "toc": {
   "base_numbering": 1,
   "nav_menu": {},
   "number_sections": true,
   "sideBar": true,
   "skip_h1_title": true,
   "title_cell": "Table of Contents",
   "title_sidebar": "Contents",
   "toc_cell": false,
   "toc_position": {},
   "toc_section_display": true,
   "toc_window_display": true
  },
  "widgets": {
   "application/vnd.jupyter.widget-state+json": {
    "state": {},
    "version_major": 2,
    "version_minor": 0
   }
  }
 },
 "nbformat": 4,
 "nbformat_minor": 5
}