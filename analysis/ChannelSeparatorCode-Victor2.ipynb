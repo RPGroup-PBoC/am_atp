{
 "cells": [
  {
   "cell_type": "code",
   "execution_count": null,
   "metadata": {},
   "outputs": [],
   "source": [
    "# import the usual \n",
    "import numpy as np\n",
    "import matplotlib.pyplot as plt\n",
    "import scipy\n",
    "from scipy import optimize\n",
    "%matplotlib inline\n",
    "from scipy.interpolate import make_interp_spline, BSpline\n",
    "\n",
    "# for nice plots\n",
    "import seaborn as sns\n",
    "rc={'lines.linewidth': 2, 'axes.labelsize': 14, 'axes.titlesize': 14, \\\n",
    "    'xtick.labelsize' : 14, 'ytick.labelsize' : 14}\n",
    "sns.set(style='ticks', rc=rc)\n",
    "\n",
    "#colors = ['#1f77b4', '#ff7f0e', '#2ca02c', '#d62728',\n",
    "          #'#9467bd', '#8c564b', '#e377c2', '#7f7f7f',\n",
    "          #'#bcbd22', '#17becf']\n",
    "#sns.set(style='whitegrid', palette=colors, rc=tuple('axes.labelsize'): 16)\n",
    "\n",
    "\n",
    "# show images in viridis by default\n",
    "plt.rcParams['image.cmap'] = 'viridis'\n",
    "\n",
    "# for extracting filenames\n",
    "import glob\n",
    "\n",
    "# skimage submodules we need\n",
    "import skimage.io\n",
    "import skimage.measure\n",
    "import skimage.filters\n",
    "import skimage.exposure\n",
    "import skimage.morphology\n",
    "\n",
    "import pandas as pd\n",
    "\n",
    "import os\n",
    "\n",
    "%config InlineBackend.figure_formats = {'png', 'retina'}"
   ]
  },
  {
   "cell_type": "code",
   "execution_count": 5,
   "metadata": {},
   "outputs": [],
   "source": [
    "#Input all the naming conventions here. \n",
    "\n",
    "#Total number of files\n",
    "n_files = 928\n",
    "#First part of the name without the frame number\n",
    "namestr = '2023-01-25_ATeamAsters_5_MMStack_Pos1.ome'\n",
    "#Saving convention\n",
    "formatstr = '.tif'\n",
    "#Number of channels\n",
    "channelnum = 4\n",
    "#folder names\n",
    "folder = ['Bright', 'Cherry', 'YFP', 'CFP']\n",
    "#Which channel you want to save\n",
    "channelpos=0"
   ]
  },
  {
   "cell_type": "code",
   "execution_count": 6,
   "metadata": {},
   "outputs": [],
   "source": [
    "#A loop that reports all the files for a given channel based on the channelnum. This reports 4 digit places\n",
    "filelist = []\n",
    "for n in range(n_files):\n",
    "    if channelpos == 0 and (n%4 == 0 or n%4 == 3):\n",
    "        if(n<10):\n",
    "            filelist.append(f'{namestr}000{n}.tif')\n",
    "        elif(n<100):\n",
    "            filelist.append(f'{namestr}00{n}.tif')\n",
    "        else:\n",
    "            filelist.append(f'{namestr}0{n}.tif')\n",
    "    elif (channelpos == 1 or channelpos == 2) and n%4 == channelpos:\n",
    "        if(n<10):\n",
    "            filelist.append(f'{namestr}000{n}.tif')\n",
    "        elif(n<100):\n",
    "            filelist.append(f'{namestr}00{n}.tif')\n",
    "        else:\n",
    "            filelist.append(f'{namestr}0{n}.tif')"
   ]
  },
  {
   "cell_type": "code",
   "execution_count": 7,
   "metadata": {},
   "outputs": [],
   "source": [
    "filestr = str(filelist)\n",
    "filestr1 = filestr.replace(\"'\", \"\")\n",
    "filestr2 = filestr1.replace(\"[\", \"\")\n",
    "filestr3 = filestr2.replace(\"]\", \"\")\n",
    "filestr4 = filestr3.replace(\",\", \" \")"
   ]
  },
  {
   "cell_type": "code",
   "execution_count": 8,
   "metadata": {},
   "outputs": [
    {
     "name": "stdout",
     "output_type": "stream",
     "text": [
      "mv 2023-01-25_ATeamAsters_5_MMStack_Pos1.ome0000.tif  2023-01-25_ATeamAsters_5_MMStack_Pos1.ome0003.tif  2023-01-25_ATeamAsters_5_MMStack_Pos1.ome0004.tif  2023-01-25_ATeamAsters_5_MMStack_Pos1.ome0007.tif  2023-01-25_ATeamAsters_5_MMStack_Pos1.ome0008.tif  2023-01-25_ATeamAsters_5_MMStack_Pos1.ome0011.tif  2023-01-25_ATeamAsters_5_MMStack_Pos1.ome0012.tif  2023-01-25_ATeamAsters_5_MMStack_Pos1.ome0015.tif  2023-01-25_ATeamAsters_5_MMStack_Pos1.ome0016.tif  2023-01-25_ATeamAsters_5_MMStack_Pos1.ome0019.tif  2023-01-25_ATeamAsters_5_MMStack_Pos1.ome0020.tif  2023-01-25_ATeamAsters_5_MMStack_Pos1.ome0023.tif  2023-01-25_ATeamAsters_5_MMStack_Pos1.ome0024.tif  2023-01-25_ATeamAsters_5_MMStack_Pos1.ome0027.tif  2023-01-25_ATeamAsters_5_MMStack_Pos1.ome0028.tif  2023-01-25_ATeamAsters_5_MMStack_Pos1.ome0031.tif  2023-01-25_ATeamAsters_5_MMStack_Pos1.ome0032.tif  2023-01-25_ATeamAsters_5_MMStack_Pos1.ome0035.tif  2023-01-25_ATeamAsters_5_MMStack_Pos1.ome0036.tif  2023-01-25_ATeamAsters_5_MMStack_Pos1.ome0039.tif  2023-01-25_ATeamAsters_5_MMStack_Pos1.ome0040.tif  2023-01-25_ATeamAsters_5_MMStack_Pos1.ome0043.tif  2023-01-25_ATeamAsters_5_MMStack_Pos1.ome0044.tif  2023-01-25_ATeamAsters_5_MMStack_Pos1.ome0047.tif  2023-01-25_ATeamAsters_5_MMStack_Pos1.ome0048.tif  2023-01-25_ATeamAsters_5_MMStack_Pos1.ome0051.tif  2023-01-25_ATeamAsters_5_MMStack_Pos1.ome0052.tif  2023-01-25_ATeamAsters_5_MMStack_Pos1.ome0055.tif  2023-01-25_ATeamAsters_5_MMStack_Pos1.ome0056.tif  2023-01-25_ATeamAsters_5_MMStack_Pos1.ome0059.tif  2023-01-25_ATeamAsters_5_MMStack_Pos1.ome0060.tif  2023-01-25_ATeamAsters_5_MMStack_Pos1.ome0063.tif  2023-01-25_ATeamAsters_5_MMStack_Pos1.ome0064.tif  2023-01-25_ATeamAsters_5_MMStack_Pos1.ome0067.tif  2023-01-25_ATeamAsters_5_MMStack_Pos1.ome0068.tif  2023-01-25_ATeamAsters_5_MMStack_Pos1.ome0071.tif  2023-01-25_ATeamAsters_5_MMStack_Pos1.ome0072.tif  2023-01-25_ATeamAsters_5_MMStack_Pos1.ome0075.tif  2023-01-25_ATeamAsters_5_MMStack_Pos1.ome0076.tif  2023-01-25_ATeamAsters_5_MMStack_Pos1.ome0079.tif  2023-01-25_ATeamAsters_5_MMStack_Pos1.ome0080.tif  2023-01-25_ATeamAsters_5_MMStack_Pos1.ome0083.tif  2023-01-25_ATeamAsters_5_MMStack_Pos1.ome0084.tif  2023-01-25_ATeamAsters_5_MMStack_Pos1.ome0087.tif  2023-01-25_ATeamAsters_5_MMStack_Pos1.ome0088.tif  2023-01-25_ATeamAsters_5_MMStack_Pos1.ome0091.tif  2023-01-25_ATeamAsters_5_MMStack_Pos1.ome0092.tif  2023-01-25_ATeamAsters_5_MMStack_Pos1.ome0095.tif  2023-01-25_ATeamAsters_5_MMStack_Pos1.ome0096.tif  2023-01-25_ATeamAsters_5_MMStack_Pos1.ome0099.tif  2023-01-25_ATeamAsters_5_MMStack_Pos1.ome0100.tif  2023-01-25_ATeamAsters_5_MMStack_Pos1.ome0103.tif  2023-01-25_ATeamAsters_5_MMStack_Pos1.ome0104.tif  2023-01-25_ATeamAsters_5_MMStack_Pos1.ome0107.tif  2023-01-25_ATeamAsters_5_MMStack_Pos1.ome0108.tif  2023-01-25_ATeamAsters_5_MMStack_Pos1.ome0111.tif  2023-01-25_ATeamAsters_5_MMStack_Pos1.ome0112.tif  2023-01-25_ATeamAsters_5_MMStack_Pos1.ome0115.tif  2023-01-25_ATeamAsters_5_MMStack_Pos1.ome0116.tif  2023-01-25_ATeamAsters_5_MMStack_Pos1.ome0119.tif  2023-01-25_ATeamAsters_5_MMStack_Pos1.ome0120.tif  2023-01-25_ATeamAsters_5_MMStack_Pos1.ome0123.tif  2023-01-25_ATeamAsters_5_MMStack_Pos1.ome0124.tif  2023-01-25_ATeamAsters_5_MMStack_Pos1.ome0127.tif  2023-01-25_ATeamAsters_5_MMStack_Pos1.ome0128.tif  2023-01-25_ATeamAsters_5_MMStack_Pos1.ome0131.tif  2023-01-25_ATeamAsters_5_MMStack_Pos1.ome0132.tif  2023-01-25_ATeamAsters_5_MMStack_Pos1.ome0135.tif  2023-01-25_ATeamAsters_5_MMStack_Pos1.ome0136.tif  2023-01-25_ATeamAsters_5_MMStack_Pos1.ome0139.tif  2023-01-25_ATeamAsters_5_MMStack_Pos1.ome0140.tif  2023-01-25_ATeamAsters_5_MMStack_Pos1.ome0143.tif  2023-01-25_ATeamAsters_5_MMStack_Pos1.ome0144.tif  2023-01-25_ATeamAsters_5_MMStack_Pos1.ome0147.tif  2023-01-25_ATeamAsters_5_MMStack_Pos1.ome0148.tif  2023-01-25_ATeamAsters_5_MMStack_Pos1.ome0151.tif  2023-01-25_ATeamAsters_5_MMStack_Pos1.ome0152.tif  2023-01-25_ATeamAsters_5_MMStack_Pos1.ome0155.tif  2023-01-25_ATeamAsters_5_MMStack_Pos1.ome0156.tif  2023-01-25_ATeamAsters_5_MMStack_Pos1.ome0159.tif  2023-01-25_ATeamAsters_5_MMStack_Pos1.ome0160.tif  2023-01-25_ATeamAsters_5_MMStack_Pos1.ome0163.tif  2023-01-25_ATeamAsters_5_MMStack_Pos1.ome0164.tif  2023-01-25_ATeamAsters_5_MMStack_Pos1.ome0167.tif  2023-01-25_ATeamAsters_5_MMStack_Pos1.ome0168.tif  2023-01-25_ATeamAsters_5_MMStack_Pos1.ome0171.tif  2023-01-25_ATeamAsters_5_MMStack_Pos1.ome0172.tif  2023-01-25_ATeamAsters_5_MMStack_Pos1.ome0175.tif  2023-01-25_ATeamAsters_5_MMStack_Pos1.ome0176.tif  2023-01-25_ATeamAsters_5_MMStack_Pos1.ome0179.tif  2023-01-25_ATeamAsters_5_MMStack_Pos1.ome0180.tif  2023-01-25_ATeamAsters_5_MMStack_Pos1.ome0183.tif  2023-01-25_ATeamAsters_5_MMStack_Pos1.ome0184.tif  2023-01-25_ATeamAsters_5_MMStack_Pos1.ome0187.tif  2023-01-25_ATeamAsters_5_MMStack_Pos1.ome0188.tif  2023-01-25_ATeamAsters_5_MMStack_Pos1.ome0191.tif  2023-01-25_ATeamAsters_5_MMStack_Pos1.ome0192.tif  2023-01-25_ATeamAsters_5_MMStack_Pos1.ome0195.tif  2023-01-25_ATeamAsters_5_MMStack_Pos1.ome0196.tif  2023-01-25_ATeamAsters_5_MMStack_Pos1.ome0199.tif  2023-01-25_ATeamAsters_5_MMStack_Pos1.ome0200.tif  2023-01-25_ATeamAsters_5_MMStack_Pos1.ome0203.tif  2023-01-25_ATeamAsters_5_MMStack_Pos1.ome0204.tif  2023-01-25_ATeamAsters_5_MMStack_Pos1.ome0207.tif  2023-01-25_ATeamAsters_5_MMStack_Pos1.ome0208.tif  2023-01-25_ATeamAsters_5_MMStack_Pos1.ome0211.tif  2023-01-25_ATeamAsters_5_MMStack_Pos1.ome0212.tif  2023-01-25_ATeamAsters_5_MMStack_Pos1.ome0215.tif  2023-01-25_ATeamAsters_5_MMStack_Pos1.ome0216.tif  2023-01-25_ATeamAsters_5_MMStack_Pos1.ome0219.tif  2023-01-25_ATeamAsters_5_MMStack_Pos1.ome0220.tif  2023-01-25_ATeamAsters_5_MMStack_Pos1.ome0223.tif  2023-01-25_ATeamAsters_5_MMStack_Pos1.ome0224.tif  2023-01-25_ATeamAsters_5_MMStack_Pos1.ome0227.tif  2023-01-25_ATeamAsters_5_MMStack_Pos1.ome0228.tif  2023-01-25_ATeamAsters_5_MMStack_Pos1.ome0231.tif  2023-01-25_ATeamAsters_5_MMStack_Pos1.ome0232.tif  2023-01-25_ATeamAsters_5_MMStack_Pos1.ome0235.tif  2023-01-25_ATeamAsters_5_MMStack_Pos1.ome0236.tif  2023-01-25_ATeamAsters_5_MMStack_Pos1.ome0239.tif  2023-01-25_ATeamAsters_5_MMStack_Pos1.ome0240.tif  2023-01-25_ATeamAsters_5_MMStack_Pos1.ome0243.tif  2023-01-25_ATeamAsters_5_MMStack_Pos1.ome0244.tif  2023-01-25_ATeamAsters_5_MMStack_Pos1.ome0247.tif  2023-01-25_ATeamAsters_5_MMStack_Pos1.ome0248.tif  2023-01-25_ATeamAsters_5_MMStack_Pos1.ome0251.tif  2023-01-25_ATeamAsters_5_MMStack_Pos1.ome0252.tif  2023-01-25_ATeamAsters_5_MMStack_Pos1.ome0255.tif  2023-01-25_ATeamAsters_5_MMStack_Pos1.ome0256.tif  2023-01-25_ATeamAsters_5_MMStack_Pos1.ome0259.tif  2023-01-25_ATeamAsters_5_MMStack_Pos1.ome0260.tif  2023-01-25_ATeamAsters_5_MMStack_Pos1.ome0263.tif  2023-01-25_ATeamAsters_5_MMStack_Pos1.ome0264.tif  2023-01-25_ATeamAsters_5_MMStack_Pos1.ome0267.tif  2023-01-25_ATeamAsters_5_MMStack_Pos1.ome0268.tif  2023-01-25_ATeamAsters_5_MMStack_Pos1.ome0271.tif  2023-01-25_ATeamAsters_5_MMStack_Pos1.ome0272.tif  2023-01-25_ATeamAsters_5_MMStack_Pos1.ome0275.tif  2023-01-25_ATeamAsters_5_MMStack_Pos1.ome0276.tif  2023-01-25_ATeamAsters_5_MMStack_Pos1.ome0279.tif  2023-01-25_ATeamAsters_5_MMStack_Pos1.ome0280.tif  2023-01-25_ATeamAsters_5_MMStack_Pos1.ome0283.tif  2023-01-25_ATeamAsters_5_MMStack_Pos1.ome0284.tif  2023-01-25_ATeamAsters_5_MMStack_Pos1.ome0287.tif  2023-01-25_ATeamAsters_5_MMStack_Pos1.ome0288.tif  2023-01-25_ATeamAsters_5_MMStack_Pos1.ome0291.tif  2023-01-25_ATeamAsters_5_MMStack_Pos1.ome0292.tif  2023-01-25_ATeamAsters_5_MMStack_Pos1.ome0295.tif  2023-01-25_ATeamAsters_5_MMStack_Pos1.ome0296.tif  2023-01-25_ATeamAsters_5_MMStack_Pos1.ome0299.tif  2023-01-25_ATeamAsters_5_MMStack_Pos1.ome0300.tif  2023-01-25_ATeamAsters_5_MMStack_Pos1.ome0303.tif  2023-01-25_ATeamAsters_5_MMStack_Pos1.ome0304.tif  2023-01-25_ATeamAsters_5_MMStack_Pos1.ome0307.tif  2023-01-25_ATeamAsters_5_MMStack_Pos1.ome0308.tif  2023-01-25_ATeamAsters_5_MMStack_Pos1.ome0311.tif  2023-01-25_ATeamAsters_5_MMStack_Pos1.ome0312.tif  2023-01-25_ATeamAsters_5_MMStack_Pos1.ome0315.tif  2023-01-25_ATeamAsters_5_MMStack_Pos1.ome0316.tif  2023-01-25_ATeamAsters_5_MMStack_Pos1.ome0319.tif  2023-01-25_ATeamAsters_5_MMStack_Pos1.ome0320.tif  2023-01-25_ATeamAsters_5_MMStack_Pos1.ome0323.tif  2023-01-25_ATeamAsters_5_MMStack_Pos1.ome0324.tif  2023-01-25_ATeamAsters_5_MMStack_Pos1.ome0327.tif  2023-01-25_ATeamAsters_5_MMStack_Pos1.ome0328.tif  2023-01-25_ATeamAsters_5_MMStack_Pos1.ome0331.tif  2023-01-25_ATeamAsters_5_MMStack_Pos1.ome0332.tif  2023-01-25_ATeamAsters_5_MMStack_Pos1.ome0335.tif  2023-01-25_ATeamAsters_5_MMStack_Pos1.ome0336.tif  2023-01-25_ATeamAsters_5_MMStack_Pos1.ome0339.tif  2023-01-25_ATeamAsters_5_MMStack_Pos1.ome0340.tif  2023-01-25_ATeamAsters_5_MMStack_Pos1.ome0343.tif  2023-01-25_ATeamAsters_5_MMStack_Pos1.ome0344.tif  2023-01-25_ATeamAsters_5_MMStack_Pos1.ome0347.tif  2023-01-25_ATeamAsters_5_MMStack_Pos1.ome0348.tif  2023-01-25_ATeamAsters_5_MMStack_Pos1.ome0351.tif  2023-01-25_ATeamAsters_5_MMStack_Pos1.ome0352.tif  2023-01-25_ATeamAsters_5_MMStack_Pos1.ome0355.tif  2023-01-25_ATeamAsters_5_MMStack_Pos1.ome0356.tif  2023-01-25_ATeamAsters_5_MMStack_Pos1.ome0359.tif  2023-01-25_ATeamAsters_5_MMStack_Pos1.ome0360.tif  2023-01-25_ATeamAsters_5_MMStack_Pos1.ome0363.tif  2023-01-25_ATeamAsters_5_MMStack_Pos1.ome0364.tif  2023-01-25_ATeamAsters_5_MMStack_Pos1.ome0367.tif  2023-01-25_ATeamAsters_5_MMStack_Pos1.ome0368.tif  2023-01-25_ATeamAsters_5_MMStack_Pos1.ome0371.tif  2023-01-25_ATeamAsters_5_MMStack_Pos1.ome0372.tif  2023-01-25_ATeamAsters_5_MMStack_Pos1.ome0375.tif  2023-01-25_ATeamAsters_5_MMStack_Pos1.ome0376.tif  2023-01-25_ATeamAsters_5_MMStack_Pos1.ome0379.tif  2023-01-25_ATeamAsters_5_MMStack_Pos1.ome0380.tif  2023-01-25_ATeamAsters_5_MMStack_Pos1.ome0383.tif  2023-01-25_ATeamAsters_5_MMStack_Pos1.ome0384.tif  2023-01-25_ATeamAsters_5_MMStack_Pos1.ome0387.tif  2023-01-25_ATeamAsters_5_MMStack_Pos1.ome0388.tif  2023-01-25_ATeamAsters_5_MMStack_Pos1.ome0391.tif  2023-01-25_ATeamAsters_5_MMStack_Pos1.ome0392.tif  2023-01-25_ATeamAsters_5_MMStack_Pos1.ome0395.tif  2023-01-25_ATeamAsters_5_MMStack_Pos1.ome0396.tif  2023-01-25_ATeamAsters_5_MMStack_Pos1.ome0399.tif  2023-01-25_ATeamAsters_5_MMStack_Pos1.ome0400.tif  2023-01-25_ATeamAsters_5_MMStack_Pos1.ome0403.tif  2023-01-25_ATeamAsters_5_MMStack_Pos1.ome0404.tif  2023-01-25_ATeamAsters_5_MMStack_Pos1.ome0407.tif  2023-01-25_ATeamAsters_5_MMStack_Pos1.ome0408.tif  2023-01-25_ATeamAsters_5_MMStack_Pos1.ome0411.tif  2023-01-25_ATeamAsters_5_MMStack_Pos1.ome0412.tif  2023-01-25_ATeamAsters_5_MMStack_Pos1.ome0415.tif  2023-01-25_ATeamAsters_5_MMStack_Pos1.ome0416.tif  2023-01-25_ATeamAsters_5_MMStack_Pos1.ome0419.tif  2023-01-25_ATeamAsters_5_MMStack_Pos1.ome0420.tif  2023-01-25_ATeamAsters_5_MMStack_Pos1.ome0423.tif  2023-01-25_ATeamAsters_5_MMStack_Pos1.ome0424.tif  2023-01-25_ATeamAsters_5_MMStack_Pos1.ome0427.tif  2023-01-25_ATeamAsters_5_MMStack_Pos1.ome0428.tif  2023-01-25_ATeamAsters_5_MMStack_Pos1.ome0431.tif  2023-01-25_ATeamAsters_5_MMStack_Pos1.ome0432.tif  2023-01-25_ATeamAsters_5_MMStack_Pos1.ome0435.tif  2023-01-25_ATeamAsters_5_MMStack_Pos1.ome0436.tif  2023-01-25_ATeamAsters_5_MMStack_Pos1.ome0439.tif  2023-01-25_ATeamAsters_5_MMStack_Pos1.ome0440.tif  2023-01-25_ATeamAsters_5_MMStack_Pos1.ome0443.tif  2023-01-25_ATeamAsters_5_MMStack_Pos1.ome0444.tif  2023-01-25_ATeamAsters_5_MMStack_Pos1.ome0447.tif  2023-01-25_ATeamAsters_5_MMStack_Pos1.ome0448.tif  2023-01-25_ATeamAsters_5_MMStack_Pos1.ome0451.tif  2023-01-25_ATeamAsters_5_MMStack_Pos1.ome0452.tif  2023-01-25_ATeamAsters_5_MMStack_Pos1.ome0455.tif  2023-01-25_ATeamAsters_5_MMStack_Pos1.ome0456.tif  2023-01-25_ATeamAsters_5_MMStack_Pos1.ome0459.tif  2023-01-25_ATeamAsters_5_MMStack_Pos1.ome0460.tif  2023-01-25_ATeamAsters_5_MMStack_Pos1.ome0463.tif  2023-01-25_ATeamAsters_5_MMStack_Pos1.ome0464.tif  2023-01-25_ATeamAsters_5_MMStack_Pos1.ome0467.tif  2023-01-25_ATeamAsters_5_MMStack_Pos1.ome0468.tif  2023-01-25_ATeamAsters_5_MMStack_Pos1.ome0471.tif  2023-01-25_ATeamAsters_5_MMStack_Pos1.ome0472.tif  2023-01-25_ATeamAsters_5_MMStack_Pos1.ome0475.tif  2023-01-25_ATeamAsters_5_MMStack_Pos1.ome0476.tif  2023-01-25_ATeamAsters_5_MMStack_Pos1.ome0479.tif  2023-01-25_ATeamAsters_5_MMStack_Pos1.ome0480.tif  2023-01-25_ATeamAsters_5_MMStack_Pos1.ome0483.tif  2023-01-25_ATeamAsters_5_MMStack_Pos1.ome0484.tif  2023-01-25_ATeamAsters_5_MMStack_Pos1.ome0487.tif  2023-01-25_ATeamAsters_5_MMStack_Pos1.ome0488.tif  2023-01-25_ATeamAsters_5_MMStack_Pos1.ome0491.tif  2023-01-25_ATeamAsters_5_MMStack_Pos1.ome0492.tif  2023-01-25_ATeamAsters_5_MMStack_Pos1.ome0495.tif  2023-01-25_ATeamAsters_5_MMStack_Pos1.ome0496.tif  2023-01-25_ATeamAsters_5_MMStack_Pos1.ome0499.tif  2023-01-25_ATeamAsters_5_MMStack_Pos1.ome0500.tif  2023-01-25_ATeamAsters_5_MMStack_Pos1.ome0503.tif  2023-01-25_ATeamAsters_5_MMStack_Pos1.ome0504.tif  2023-01-25_ATeamAsters_5_MMStack_Pos1.ome0507.tif  2023-01-25_ATeamAsters_5_MMStack_Pos1.ome0508.tif  2023-01-25_ATeamAsters_5_MMStack_Pos1.ome0511.tif  2023-01-25_ATeamAsters_5_MMStack_Pos1.ome0512.tif  2023-01-25_ATeamAsters_5_MMStack_Pos1.ome0515.tif  2023-01-25_ATeamAsters_5_MMStack_Pos1.ome0516.tif  2023-01-25_ATeamAsters_5_MMStack_Pos1.ome0519.tif  2023-01-25_ATeamAsters_5_MMStack_Pos1.ome0520.tif  2023-01-25_ATeamAsters_5_MMStack_Pos1.ome0523.tif  2023-01-25_ATeamAsters_5_MMStack_Pos1.ome0524.tif  2023-01-25_ATeamAsters_5_MMStack_Pos1.ome0527.tif  2023-01-25_ATeamAsters_5_MMStack_Pos1.ome0528.tif  2023-01-25_ATeamAsters_5_MMStack_Pos1.ome0531.tif  2023-01-25_ATeamAsters_5_MMStack_Pos1.ome0532.tif  2023-01-25_ATeamAsters_5_MMStack_Pos1.ome0535.tif  2023-01-25_ATeamAsters_5_MMStack_Pos1.ome0536.tif  2023-01-25_ATeamAsters_5_MMStack_Pos1.ome0539.tif  2023-01-25_ATeamAsters_5_MMStack_Pos1.ome0540.tif  2023-01-25_ATeamAsters_5_MMStack_Pos1.ome0543.tif  2023-01-25_ATeamAsters_5_MMStack_Pos1.ome0544.tif  2023-01-25_ATeamAsters_5_MMStack_Pos1.ome0547.tif  2023-01-25_ATeamAsters_5_MMStack_Pos1.ome0548.tif  2023-01-25_ATeamAsters_5_MMStack_Pos1.ome0551.tif  2023-01-25_ATeamAsters_5_MMStack_Pos1.ome0552.tif  2023-01-25_ATeamAsters_5_MMStack_Pos1.ome0555.tif  2023-01-25_ATeamAsters_5_MMStack_Pos1.ome0556.tif  2023-01-25_ATeamAsters_5_MMStack_Pos1.ome0559.tif  2023-01-25_ATeamAsters_5_MMStack_Pos1.ome0560.tif  2023-01-25_ATeamAsters_5_MMStack_Pos1.ome0563.tif  2023-01-25_ATeamAsters_5_MMStack_Pos1.ome0564.tif  2023-01-25_ATeamAsters_5_MMStack_Pos1.ome0567.tif  2023-01-25_ATeamAsters_5_MMStack_Pos1.ome0568.tif  2023-01-25_ATeamAsters_5_MMStack_Pos1.ome0571.tif  2023-01-25_ATeamAsters_5_MMStack_Pos1.ome0572.tif  2023-01-25_ATeamAsters_5_MMStack_Pos1.ome0575.tif  2023-01-25_ATeamAsters_5_MMStack_Pos1.ome0576.tif  2023-01-25_ATeamAsters_5_MMStack_Pos1.ome0579.tif  2023-01-25_ATeamAsters_5_MMStack_Pos1.ome0580.tif  2023-01-25_ATeamAsters_5_MMStack_Pos1.ome0583.tif  2023-01-25_ATeamAsters_5_MMStack_Pos1.ome0584.tif  2023-01-25_ATeamAsters_5_MMStack_Pos1.ome0587.tif  2023-01-25_ATeamAsters_5_MMStack_Pos1.ome0588.tif  2023-01-25_ATeamAsters_5_MMStack_Pos1.ome0591.tif  2023-01-25_ATeamAsters_5_MMStack_Pos1.ome0592.tif  2023-01-25_ATeamAsters_5_MMStack_Pos1.ome0595.tif  2023-01-25_ATeamAsters_5_MMStack_Pos1.ome0596.tif  2023-01-25_ATeamAsters_5_MMStack_Pos1.ome0599.tif  2023-01-25_ATeamAsters_5_MMStack_Pos1.ome0600.tif  2023-01-25_ATeamAsters_5_MMStack_Pos1.ome0603.tif  2023-01-25_ATeamAsters_5_MMStack_Pos1.ome0604.tif  2023-01-25_ATeamAsters_5_MMStack_Pos1.ome0607.tif  2023-01-25_ATeamAsters_5_MMStack_Pos1.ome0608.tif  2023-01-25_ATeamAsters_5_MMStack_Pos1.ome0611.tif  2023-01-25_ATeamAsters_5_MMStack_Pos1.ome0612.tif  2023-01-25_ATeamAsters_5_MMStack_Pos1.ome0615.tif  2023-01-25_ATeamAsters_5_MMStack_Pos1.ome0616.tif  2023-01-25_ATeamAsters_5_MMStack_Pos1.ome0619.tif  2023-01-25_ATeamAsters_5_MMStack_Pos1.ome0620.tif  2023-01-25_ATeamAsters_5_MMStack_Pos1.ome0623.tif  2023-01-25_ATeamAsters_5_MMStack_Pos1.ome0624.tif  2023-01-25_ATeamAsters_5_MMStack_Pos1.ome0627.tif  2023-01-25_ATeamAsters_5_MMStack_Pos1.ome0628.tif  2023-01-25_ATeamAsters_5_MMStack_Pos1.ome0631.tif  2023-01-25_ATeamAsters_5_MMStack_Pos1.ome0632.tif  2023-01-25_ATeamAsters_5_MMStack_Pos1.ome0635.tif  2023-01-25_ATeamAsters_5_MMStack_Pos1.ome0636.tif  2023-01-25_ATeamAsters_5_MMStack_Pos1.ome0639.tif  2023-01-25_ATeamAsters_5_MMStack_Pos1.ome0640.tif  2023-01-25_ATeamAsters_5_MMStack_Pos1.ome0643.tif  2023-01-25_ATeamAsters_5_MMStack_Pos1.ome0644.tif  2023-01-25_ATeamAsters_5_MMStack_Pos1.ome0647.tif  2023-01-25_ATeamAsters_5_MMStack_Pos1.ome0648.tif  2023-01-25_ATeamAsters_5_MMStack_Pos1.ome0651.tif  2023-01-25_ATeamAsters_5_MMStack_Pos1.ome0652.tif  2023-01-25_ATeamAsters_5_MMStack_Pos1.ome0655.tif  2023-01-25_ATeamAsters_5_MMStack_Pos1.ome0656.tif  2023-01-25_ATeamAsters_5_MMStack_Pos1.ome0659.tif  2023-01-25_ATeamAsters_5_MMStack_Pos1.ome0660.tif  2023-01-25_ATeamAsters_5_MMStack_Pos1.ome0663.tif  2023-01-25_ATeamAsters_5_MMStack_Pos1.ome0664.tif  2023-01-25_ATeamAsters_5_MMStack_Pos1.ome0667.tif  2023-01-25_ATeamAsters_5_MMStack_Pos1.ome0668.tif  2023-01-25_ATeamAsters_5_MMStack_Pos1.ome0671.tif  2023-01-25_ATeamAsters_5_MMStack_Pos1.ome0672.tif  2023-01-25_ATeamAsters_5_MMStack_Pos1.ome0675.tif  2023-01-25_ATeamAsters_5_MMStack_Pos1.ome0676.tif  2023-01-25_ATeamAsters_5_MMStack_Pos1.ome0679.tif  2023-01-25_ATeamAsters_5_MMStack_Pos1.ome0680.tif  2023-01-25_ATeamAsters_5_MMStack_Pos1.ome0683.tif  2023-01-25_ATeamAsters_5_MMStack_Pos1.ome0684.tif  2023-01-25_ATeamAsters_5_MMStack_Pos1.ome0687.tif  2023-01-25_ATeamAsters_5_MMStack_Pos1.ome0688.tif  2023-01-25_ATeamAsters_5_MMStack_Pos1.ome0691.tif  2023-01-25_ATeamAsters_5_MMStack_Pos1.ome0692.tif  2023-01-25_ATeamAsters_5_MMStack_Pos1.ome0695.tif  2023-01-25_ATeamAsters_5_MMStack_Pos1.ome0696.tif  2023-01-25_ATeamAsters_5_MMStack_Pos1.ome0699.tif  2023-01-25_ATeamAsters_5_MMStack_Pos1.ome0700.tif  2023-01-25_ATeamAsters_5_MMStack_Pos1.ome0703.tif  2023-01-25_ATeamAsters_5_MMStack_Pos1.ome0704.tif  2023-01-25_ATeamAsters_5_MMStack_Pos1.ome0707.tif  2023-01-25_ATeamAsters_5_MMStack_Pos1.ome0708.tif  2023-01-25_ATeamAsters_5_MMStack_Pos1.ome0711.tif  2023-01-25_ATeamAsters_5_MMStack_Pos1.ome0712.tif  2023-01-25_ATeamAsters_5_MMStack_Pos1.ome0715.tif  2023-01-25_ATeamAsters_5_MMStack_Pos1.ome0716.tif  2023-01-25_ATeamAsters_5_MMStack_Pos1.ome0719.tif  2023-01-25_ATeamAsters_5_MMStack_Pos1.ome0720.tif  2023-01-25_ATeamAsters_5_MMStack_Pos1.ome0723.tif  2023-01-25_ATeamAsters_5_MMStack_Pos1.ome0724.tif  2023-01-25_ATeamAsters_5_MMStack_Pos1.ome0727.tif  2023-01-25_ATeamAsters_5_MMStack_Pos1.ome0728.tif  2023-01-25_ATeamAsters_5_MMStack_Pos1.ome0731.tif  2023-01-25_ATeamAsters_5_MMStack_Pos1.ome0732.tif  2023-01-25_ATeamAsters_5_MMStack_Pos1.ome0735.tif  2023-01-25_ATeamAsters_5_MMStack_Pos1.ome0736.tif  2023-01-25_ATeamAsters_5_MMStack_Pos1.ome0739.tif  2023-01-25_ATeamAsters_5_MMStack_Pos1.ome0740.tif  2023-01-25_ATeamAsters_5_MMStack_Pos1.ome0743.tif  2023-01-25_ATeamAsters_5_MMStack_Pos1.ome0744.tif  2023-01-25_ATeamAsters_5_MMStack_Pos1.ome0747.tif  2023-01-25_ATeamAsters_5_MMStack_Pos1.ome0748.tif  2023-01-25_ATeamAsters_5_MMStack_Pos1.ome0751.tif  2023-01-25_ATeamAsters_5_MMStack_Pos1.ome0752.tif  2023-01-25_ATeamAsters_5_MMStack_Pos1.ome0755.tif  2023-01-25_ATeamAsters_5_MMStack_Pos1.ome0756.tif  2023-01-25_ATeamAsters_5_MMStack_Pos1.ome0759.tif  2023-01-25_ATeamAsters_5_MMStack_Pos1.ome0760.tif  2023-01-25_ATeamAsters_5_MMStack_Pos1.ome0763.tif  2023-01-25_ATeamAsters_5_MMStack_Pos1.ome0764.tif  2023-01-25_ATeamAsters_5_MMStack_Pos1.ome0767.tif  2023-01-25_ATeamAsters_5_MMStack_Pos1.ome0768.tif  2023-01-25_ATeamAsters_5_MMStack_Pos1.ome0771.tif  2023-01-25_ATeamAsters_5_MMStack_Pos1.ome0772.tif  2023-01-25_ATeamAsters_5_MMStack_Pos1.ome0775.tif  2023-01-25_ATeamAsters_5_MMStack_Pos1.ome0776.tif  2023-01-25_ATeamAsters_5_MMStack_Pos1.ome0779.tif  2023-01-25_ATeamAsters_5_MMStack_Pos1.ome0780.tif  2023-01-25_ATeamAsters_5_MMStack_Pos1.ome0783.tif  2023-01-25_ATeamAsters_5_MMStack_Pos1.ome0784.tif  2023-01-25_ATeamAsters_5_MMStack_Pos1.ome0787.tif  2023-01-25_ATeamAsters_5_MMStack_Pos1.ome0788.tif  2023-01-25_ATeamAsters_5_MMStack_Pos1.ome0791.tif  2023-01-25_ATeamAsters_5_MMStack_Pos1.ome0792.tif  2023-01-25_ATeamAsters_5_MMStack_Pos1.ome0795.tif  2023-01-25_ATeamAsters_5_MMStack_Pos1.ome0796.tif  2023-01-25_ATeamAsters_5_MMStack_Pos1.ome0799.tif  2023-01-25_ATeamAsters_5_MMStack_Pos1.ome0800.tif  2023-01-25_ATeamAsters_5_MMStack_Pos1.ome0803.tif  2023-01-25_ATeamAsters_5_MMStack_Pos1.ome0804.tif  2023-01-25_ATeamAsters_5_MMStack_Pos1.ome0807.tif  2023-01-25_ATeamAsters_5_MMStack_Pos1.ome0808.tif  2023-01-25_ATeamAsters_5_MMStack_Pos1.ome0811.tif  2023-01-25_ATeamAsters_5_MMStack_Pos1.ome0812.tif  2023-01-25_ATeamAsters_5_MMStack_Pos1.ome0815.tif  2023-01-25_ATeamAsters_5_MMStack_Pos1.ome0816.tif  2023-01-25_ATeamAsters_5_MMStack_Pos1.ome0819.tif  2023-01-25_ATeamAsters_5_MMStack_Pos1.ome0820.tif  2023-01-25_ATeamAsters_5_MMStack_Pos1.ome0823.tif  2023-01-25_ATeamAsters_5_MMStack_Pos1.ome0824.tif  2023-01-25_ATeamAsters_5_MMStack_Pos1.ome0827.tif  2023-01-25_ATeamAsters_5_MMStack_Pos1.ome0828.tif  2023-01-25_ATeamAsters_5_MMStack_Pos1.ome0831.tif  2023-01-25_ATeamAsters_5_MMStack_Pos1.ome0832.tif  2023-01-25_ATeamAsters_5_MMStack_Pos1.ome0835.tif  2023-01-25_ATeamAsters_5_MMStack_Pos1.ome0836.tif  2023-01-25_ATeamAsters_5_MMStack_Pos1.ome0839.tif  2023-01-25_ATeamAsters_5_MMStack_Pos1.ome0840.tif  2023-01-25_ATeamAsters_5_MMStack_Pos1.ome0843.tif  2023-01-25_ATeamAsters_5_MMStack_Pos1.ome0844.tif  2023-01-25_ATeamAsters_5_MMStack_Pos1.ome0847.tif  2023-01-25_ATeamAsters_5_MMStack_Pos1.ome0848.tif  2023-01-25_ATeamAsters_5_MMStack_Pos1.ome0851.tif  2023-01-25_ATeamAsters_5_MMStack_Pos1.ome0852.tif  2023-01-25_ATeamAsters_5_MMStack_Pos1.ome0855.tif  2023-01-25_ATeamAsters_5_MMStack_Pos1.ome0856.tif  2023-01-25_ATeamAsters_5_MMStack_Pos1.ome0859.tif  2023-01-25_ATeamAsters_5_MMStack_Pos1.ome0860.tif  2023-01-25_ATeamAsters_5_MMStack_Pos1.ome0863.tif  2023-01-25_ATeamAsters_5_MMStack_Pos1.ome0864.tif  2023-01-25_ATeamAsters_5_MMStack_Pos1.ome0867.tif  2023-01-25_ATeamAsters_5_MMStack_Pos1.ome0868.tif  2023-01-25_ATeamAsters_5_MMStack_Pos1.ome0871.tif  2023-01-25_ATeamAsters_5_MMStack_Pos1.ome0872.tif  2023-01-25_ATeamAsters_5_MMStack_Pos1.ome0875.tif  2023-01-25_ATeamAsters_5_MMStack_Pos1.ome0876.tif  2023-01-25_ATeamAsters_5_MMStack_Pos1.ome0879.tif  2023-01-25_ATeamAsters_5_MMStack_Pos1.ome0880.tif  2023-01-25_ATeamAsters_5_MMStack_Pos1.ome0883.tif  2023-01-25_ATeamAsters_5_MMStack_Pos1.ome0884.tif  2023-01-25_ATeamAsters_5_MMStack_Pos1.ome0887.tif  2023-01-25_ATeamAsters_5_MMStack_Pos1.ome0888.tif  2023-01-25_ATeamAsters_5_MMStack_Pos1.ome0891.tif  2023-01-25_ATeamAsters_5_MMStack_Pos1.ome0892.tif  2023-01-25_ATeamAsters_5_MMStack_Pos1.ome0895.tif  2023-01-25_ATeamAsters_5_MMStack_Pos1.ome0896.tif  2023-01-25_ATeamAsters_5_MMStack_Pos1.ome0899.tif  2023-01-25_ATeamAsters_5_MMStack_Pos1.ome0900.tif  2023-01-25_ATeamAsters_5_MMStack_Pos1.ome0903.tif  2023-01-25_ATeamAsters_5_MMStack_Pos1.ome0904.tif  2023-01-25_ATeamAsters_5_MMStack_Pos1.ome0907.tif  2023-01-25_ATeamAsters_5_MMStack_Pos1.ome0908.tif  2023-01-25_ATeamAsters_5_MMStack_Pos1.ome0911.tif  2023-01-25_ATeamAsters_5_MMStack_Pos1.ome0912.tif  2023-01-25_ATeamAsters_5_MMStack_Pos1.ome0915.tif  2023-01-25_ATeamAsters_5_MMStack_Pos1.ome0916.tif  2023-01-25_ATeamAsters_5_MMStack_Pos1.ome0919.tif  2023-01-25_ATeamAsters_5_MMStack_Pos1.ome0920.tif  2023-01-25_ATeamAsters_5_MMStack_Pos1.ome0923.tif  2023-01-25_ATeamAsters_5_MMStack_Pos1.ome0924.tif  2023-01-25_ATeamAsters_5_MMStack_Pos1.ome0927.tif Bright\n"
     ]
    }
   ],
   "source": [
    "print('mv ' + filestr4 + ' ' + folder[channelpos])"
   ]
  },
  {
   "cell_type": "code",
   "execution_count": null,
   "metadata": {},
   "outputs": [],
   "source": []
  },
  {
   "cell_type": "code",
   "execution_count": null,
   "metadata": {},
   "outputs": [],
   "source": []
  }
 ],
 "metadata": {
  "kernelspec": {
   "display_name": "Python 3 (ipykernel)",
   "language": "python",
   "name": "python3"
  },
  "language_info": {
   "codemirror_mode": {
    "name": "ipython",
    "version": 3
   },
   "file_extension": ".py",
   "mimetype": "text/x-python",
   "name": "python",
   "nbconvert_exporter": "python",
   "pygments_lexer": "ipython3",
   "version": "3.8.11"
  }
 },
 "nbformat": 4,
 "nbformat_minor": 4
}
