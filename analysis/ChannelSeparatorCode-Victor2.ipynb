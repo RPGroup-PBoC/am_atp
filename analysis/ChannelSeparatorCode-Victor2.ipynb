{
 "cells": [
  {
   "cell_type": "code",
   "execution_count": 6,
   "metadata": {},
   "outputs": [],
   "source": [
    "# import the usual \n",
    "import numpy as np\n",
    "import matplotlib.pyplot as plt\n",
    "import scipy\n",
    "from scipy import optimize\n",
    "%matplotlib inline\n",
    "from scipy.interpolate import make_interp_spline, BSpline\n",
    "\n",
    "# for nice plots\n",
    "import seaborn as sns\n",
    "rc={'lines.linewidth': 2, 'axes.labelsize': 14, 'axes.titlesize': 14, \\\n",
    "    'xtick.labelsize' : 14, 'ytick.labelsize' : 14}\n",
    "sns.set(style='ticks', rc=rc)\n",
    "\n",
    "#colors = ['#1f77b4', '#ff7f0e', '#2ca02c', '#d62728',\n",
    "          #'#9467bd', '#8c564b', '#e377c2', '#7f7f7f',\n",
    "          #'#bcbd22', '#17becf']\n",
    "#sns.set(style='whitegrid', palette=colors, rc=tuple('axes.labelsize'): 16)\n",
    "\n",
    "\n",
    "# show images in viridis by default\n",
    "plt.rcParams['image.cmap'] = 'viridis'\n",
    "\n",
    "# for extracting filenames\n",
    "import glob\n",
    "\n",
    "# skimage submodules we need\n",
    "import skimage.io\n",
    "import skimage.measure\n",
    "import skimage.filters\n",
    "import skimage.exposure\n",
    "import skimage.morphology\n",
    "\n",
    "import pandas as pd\n",
    "\n",
    "import os\n",
    "\n",
    "%config InlineBackend.figure_formats = {'png', 'retina'}"
   ]
  },
  {
   "cell_type": "code",
   "execution_count": 25,
   "metadata": {},
   "outputs": [],
   "source": [
    "#Input all the naming conventions here. \n",
    "\n",
    "#Total number of files\n",
    "n_files = 800\n",
    "#First part of the name without the frame number\n",
    "namestr = '2022-07-06_square_k401_ATEAM_7_MMStack_Pos0.ome'\n",
    "#Saving convention\n",
    "formatstr = '.tif'\n",
    "#Number of channels\n",
    "channelnum = 3\n",
    "#folder names\n",
    "folder = ['MT', 'GFP', 'CFP']\n",
    "#Which channel you want to save\n",
    "channelpos=2"
   ]
  },
  {
   "cell_type": "code",
   "execution_count": 26,
   "metadata": {},
   "outputs": [],
   "source": [
    "#A loop that reports all the files for a given channel based on the channelnum. This reports 4 digit places\n",
    "filelist = []\n",
    "for n in range(n_files):\n",
    "    if channelpos == 0 and (n%4 == 0 or n%4 == 3):\n",
    "        if(n<10):\n",
    "            filelist.append(f'{namestr}000{n}.tif')\n",
    "        elif(n<100):\n",
    "            filelist.append(f'{namestr}00{n}.tif')\n",
    "        else:\n",
    "            filelist.append(f'{namestr}0{n}.tif')\n",
    "    elif (channelpos == 1 or channelpos == 2) and n%4 == channelpos:\n",
    "        if(n<10):\n",
    "            filelist.append(f'{namestr}000{n}.tif')\n",
    "        elif(n<100):\n",
    "            filelist.append(f'{namestr}00{n}.tif')\n",
    "        else:\n",
    "            filelist.append(f'{namestr}0{n}.tif')"
   ]
  },
  {
   "cell_type": "code",
   "execution_count": 27,
   "metadata": {},
   "outputs": [],
   "source": [
    "filestr = str(filelist)\n",
    "filestr1 = filestr.replace(\"'\", \"\")\n",
    "filestr2 = filestr1.replace(\"[\", \"\")\n",
    "filestr3 = filestr2.replace(\"]\", \"\")\n",
    "filestr4 = filestr3.replace(\",\", \" \")"
   ]
  },
  {
   "cell_type": "code",
   "execution_count": 28,
   "metadata": {},
   "outputs": [
    {
     "name": "stdout",
     "output_type": "stream",
     "text": [
      "mv 2022-07-06_square_k401_ATEAM_7_MMStack_Pos0.ome0002.tif  2022-07-06_square_k401_ATEAM_7_MMStack_Pos0.ome0006.tif  2022-07-06_square_k401_ATEAM_7_MMStack_Pos0.ome0010.tif  2022-07-06_square_k401_ATEAM_7_MMStack_Pos0.ome0014.tif  2022-07-06_square_k401_ATEAM_7_MMStack_Pos0.ome0018.tif  2022-07-06_square_k401_ATEAM_7_MMStack_Pos0.ome0022.tif  2022-07-06_square_k401_ATEAM_7_MMStack_Pos0.ome0026.tif  2022-07-06_square_k401_ATEAM_7_MMStack_Pos0.ome0030.tif  2022-07-06_square_k401_ATEAM_7_MMStack_Pos0.ome0034.tif  2022-07-06_square_k401_ATEAM_7_MMStack_Pos0.ome0038.tif  2022-07-06_square_k401_ATEAM_7_MMStack_Pos0.ome0042.tif  2022-07-06_square_k401_ATEAM_7_MMStack_Pos0.ome0046.tif  2022-07-06_square_k401_ATEAM_7_MMStack_Pos0.ome0050.tif  2022-07-06_square_k401_ATEAM_7_MMStack_Pos0.ome0054.tif  2022-07-06_square_k401_ATEAM_7_MMStack_Pos0.ome0058.tif  2022-07-06_square_k401_ATEAM_7_MMStack_Pos0.ome0062.tif  2022-07-06_square_k401_ATEAM_7_MMStack_Pos0.ome0066.tif  2022-07-06_square_k401_ATEAM_7_MMStack_Pos0.ome0070.tif  2022-07-06_square_k401_ATEAM_7_MMStack_Pos0.ome0074.tif  2022-07-06_square_k401_ATEAM_7_MMStack_Pos0.ome0078.tif  2022-07-06_square_k401_ATEAM_7_MMStack_Pos0.ome0082.tif  2022-07-06_square_k401_ATEAM_7_MMStack_Pos0.ome0086.tif  2022-07-06_square_k401_ATEAM_7_MMStack_Pos0.ome0090.tif  2022-07-06_square_k401_ATEAM_7_MMStack_Pos0.ome0094.tif  2022-07-06_square_k401_ATEAM_7_MMStack_Pos0.ome0098.tif  2022-07-06_square_k401_ATEAM_7_MMStack_Pos0.ome0102.tif  2022-07-06_square_k401_ATEAM_7_MMStack_Pos0.ome0106.tif  2022-07-06_square_k401_ATEAM_7_MMStack_Pos0.ome0110.tif  2022-07-06_square_k401_ATEAM_7_MMStack_Pos0.ome0114.tif  2022-07-06_square_k401_ATEAM_7_MMStack_Pos0.ome0118.tif  2022-07-06_square_k401_ATEAM_7_MMStack_Pos0.ome0122.tif  2022-07-06_square_k401_ATEAM_7_MMStack_Pos0.ome0126.tif  2022-07-06_square_k401_ATEAM_7_MMStack_Pos0.ome0130.tif  2022-07-06_square_k401_ATEAM_7_MMStack_Pos0.ome0134.tif  2022-07-06_square_k401_ATEAM_7_MMStack_Pos0.ome0138.tif  2022-07-06_square_k401_ATEAM_7_MMStack_Pos0.ome0142.tif  2022-07-06_square_k401_ATEAM_7_MMStack_Pos0.ome0146.tif  2022-07-06_square_k401_ATEAM_7_MMStack_Pos0.ome0150.tif  2022-07-06_square_k401_ATEAM_7_MMStack_Pos0.ome0154.tif  2022-07-06_square_k401_ATEAM_7_MMStack_Pos0.ome0158.tif  2022-07-06_square_k401_ATEAM_7_MMStack_Pos0.ome0162.tif  2022-07-06_square_k401_ATEAM_7_MMStack_Pos0.ome0166.tif  2022-07-06_square_k401_ATEAM_7_MMStack_Pos0.ome0170.tif  2022-07-06_square_k401_ATEAM_7_MMStack_Pos0.ome0174.tif  2022-07-06_square_k401_ATEAM_7_MMStack_Pos0.ome0178.tif  2022-07-06_square_k401_ATEAM_7_MMStack_Pos0.ome0182.tif  2022-07-06_square_k401_ATEAM_7_MMStack_Pos0.ome0186.tif  2022-07-06_square_k401_ATEAM_7_MMStack_Pos0.ome0190.tif  2022-07-06_square_k401_ATEAM_7_MMStack_Pos0.ome0194.tif  2022-07-06_square_k401_ATEAM_7_MMStack_Pos0.ome0198.tif  2022-07-06_square_k401_ATEAM_7_MMStack_Pos0.ome0202.tif  2022-07-06_square_k401_ATEAM_7_MMStack_Pos0.ome0206.tif  2022-07-06_square_k401_ATEAM_7_MMStack_Pos0.ome0210.tif  2022-07-06_square_k401_ATEAM_7_MMStack_Pos0.ome0214.tif  2022-07-06_square_k401_ATEAM_7_MMStack_Pos0.ome0218.tif  2022-07-06_square_k401_ATEAM_7_MMStack_Pos0.ome0222.tif  2022-07-06_square_k401_ATEAM_7_MMStack_Pos0.ome0226.tif  2022-07-06_square_k401_ATEAM_7_MMStack_Pos0.ome0230.tif  2022-07-06_square_k401_ATEAM_7_MMStack_Pos0.ome0234.tif  2022-07-06_square_k401_ATEAM_7_MMStack_Pos0.ome0238.tif  2022-07-06_square_k401_ATEAM_7_MMStack_Pos0.ome0242.tif  2022-07-06_square_k401_ATEAM_7_MMStack_Pos0.ome0246.tif  2022-07-06_square_k401_ATEAM_7_MMStack_Pos0.ome0250.tif  2022-07-06_square_k401_ATEAM_7_MMStack_Pos0.ome0254.tif  2022-07-06_square_k401_ATEAM_7_MMStack_Pos0.ome0258.tif  2022-07-06_square_k401_ATEAM_7_MMStack_Pos0.ome0262.tif  2022-07-06_square_k401_ATEAM_7_MMStack_Pos0.ome0266.tif  2022-07-06_square_k401_ATEAM_7_MMStack_Pos0.ome0270.tif  2022-07-06_square_k401_ATEAM_7_MMStack_Pos0.ome0274.tif  2022-07-06_square_k401_ATEAM_7_MMStack_Pos0.ome0278.tif  2022-07-06_square_k401_ATEAM_7_MMStack_Pos0.ome0282.tif  2022-07-06_square_k401_ATEAM_7_MMStack_Pos0.ome0286.tif  2022-07-06_square_k401_ATEAM_7_MMStack_Pos0.ome0290.tif  2022-07-06_square_k401_ATEAM_7_MMStack_Pos0.ome0294.tif  2022-07-06_square_k401_ATEAM_7_MMStack_Pos0.ome0298.tif  2022-07-06_square_k401_ATEAM_7_MMStack_Pos0.ome0302.tif  2022-07-06_square_k401_ATEAM_7_MMStack_Pos0.ome0306.tif  2022-07-06_square_k401_ATEAM_7_MMStack_Pos0.ome0310.tif  2022-07-06_square_k401_ATEAM_7_MMStack_Pos0.ome0314.tif  2022-07-06_square_k401_ATEAM_7_MMStack_Pos0.ome0318.tif  2022-07-06_square_k401_ATEAM_7_MMStack_Pos0.ome0322.tif  2022-07-06_square_k401_ATEAM_7_MMStack_Pos0.ome0326.tif  2022-07-06_square_k401_ATEAM_7_MMStack_Pos0.ome0330.tif  2022-07-06_square_k401_ATEAM_7_MMStack_Pos0.ome0334.tif  2022-07-06_square_k401_ATEAM_7_MMStack_Pos0.ome0338.tif  2022-07-06_square_k401_ATEAM_7_MMStack_Pos0.ome0342.tif  2022-07-06_square_k401_ATEAM_7_MMStack_Pos0.ome0346.tif  2022-07-06_square_k401_ATEAM_7_MMStack_Pos0.ome0350.tif  2022-07-06_square_k401_ATEAM_7_MMStack_Pos0.ome0354.tif  2022-07-06_square_k401_ATEAM_7_MMStack_Pos0.ome0358.tif  2022-07-06_square_k401_ATEAM_7_MMStack_Pos0.ome0362.tif  2022-07-06_square_k401_ATEAM_7_MMStack_Pos0.ome0366.tif  2022-07-06_square_k401_ATEAM_7_MMStack_Pos0.ome0370.tif  2022-07-06_square_k401_ATEAM_7_MMStack_Pos0.ome0374.tif  2022-07-06_square_k401_ATEAM_7_MMStack_Pos0.ome0378.tif  2022-07-06_square_k401_ATEAM_7_MMStack_Pos0.ome0382.tif  2022-07-06_square_k401_ATEAM_7_MMStack_Pos0.ome0386.tif  2022-07-06_square_k401_ATEAM_7_MMStack_Pos0.ome0390.tif  2022-07-06_square_k401_ATEAM_7_MMStack_Pos0.ome0394.tif  2022-07-06_square_k401_ATEAM_7_MMStack_Pos0.ome0398.tif  2022-07-06_square_k401_ATEAM_7_MMStack_Pos0.ome0402.tif  2022-07-06_square_k401_ATEAM_7_MMStack_Pos0.ome0406.tif  2022-07-06_square_k401_ATEAM_7_MMStack_Pos0.ome0410.tif  2022-07-06_square_k401_ATEAM_7_MMStack_Pos0.ome0414.tif  2022-07-06_square_k401_ATEAM_7_MMStack_Pos0.ome0418.tif  2022-07-06_square_k401_ATEAM_7_MMStack_Pos0.ome0422.tif  2022-07-06_square_k401_ATEAM_7_MMStack_Pos0.ome0426.tif  2022-07-06_square_k401_ATEAM_7_MMStack_Pos0.ome0430.tif  2022-07-06_square_k401_ATEAM_7_MMStack_Pos0.ome0434.tif  2022-07-06_square_k401_ATEAM_7_MMStack_Pos0.ome0438.tif  2022-07-06_square_k401_ATEAM_7_MMStack_Pos0.ome0442.tif  2022-07-06_square_k401_ATEAM_7_MMStack_Pos0.ome0446.tif  2022-07-06_square_k401_ATEAM_7_MMStack_Pos0.ome0450.tif  2022-07-06_square_k401_ATEAM_7_MMStack_Pos0.ome0454.tif  2022-07-06_square_k401_ATEAM_7_MMStack_Pos0.ome0458.tif  2022-07-06_square_k401_ATEAM_7_MMStack_Pos0.ome0462.tif  2022-07-06_square_k401_ATEAM_7_MMStack_Pos0.ome0466.tif  2022-07-06_square_k401_ATEAM_7_MMStack_Pos0.ome0470.tif  2022-07-06_square_k401_ATEAM_7_MMStack_Pos0.ome0474.tif  2022-07-06_square_k401_ATEAM_7_MMStack_Pos0.ome0478.tif  2022-07-06_square_k401_ATEAM_7_MMStack_Pos0.ome0482.tif  2022-07-06_square_k401_ATEAM_7_MMStack_Pos0.ome0486.tif  2022-07-06_square_k401_ATEAM_7_MMStack_Pos0.ome0490.tif  2022-07-06_square_k401_ATEAM_7_MMStack_Pos0.ome0494.tif  2022-07-06_square_k401_ATEAM_7_MMStack_Pos0.ome0498.tif  2022-07-06_square_k401_ATEAM_7_MMStack_Pos0.ome0502.tif  2022-07-06_square_k401_ATEAM_7_MMStack_Pos0.ome0506.tif  2022-07-06_square_k401_ATEAM_7_MMStack_Pos0.ome0510.tif  2022-07-06_square_k401_ATEAM_7_MMStack_Pos0.ome0514.tif  2022-07-06_square_k401_ATEAM_7_MMStack_Pos0.ome0518.tif  2022-07-06_square_k401_ATEAM_7_MMStack_Pos0.ome0522.tif  2022-07-06_square_k401_ATEAM_7_MMStack_Pos0.ome0526.tif  2022-07-06_square_k401_ATEAM_7_MMStack_Pos0.ome0530.tif  2022-07-06_square_k401_ATEAM_7_MMStack_Pos0.ome0534.tif  2022-07-06_square_k401_ATEAM_7_MMStack_Pos0.ome0538.tif  2022-07-06_square_k401_ATEAM_7_MMStack_Pos0.ome0542.tif  2022-07-06_square_k401_ATEAM_7_MMStack_Pos0.ome0546.tif  2022-07-06_square_k401_ATEAM_7_MMStack_Pos0.ome0550.tif  2022-07-06_square_k401_ATEAM_7_MMStack_Pos0.ome0554.tif  2022-07-06_square_k401_ATEAM_7_MMStack_Pos0.ome0558.tif  2022-07-06_square_k401_ATEAM_7_MMStack_Pos0.ome0562.tif  2022-07-06_square_k401_ATEAM_7_MMStack_Pos0.ome0566.tif  2022-07-06_square_k401_ATEAM_7_MMStack_Pos0.ome0570.tif  2022-07-06_square_k401_ATEAM_7_MMStack_Pos0.ome0574.tif  2022-07-06_square_k401_ATEAM_7_MMStack_Pos0.ome0578.tif  2022-07-06_square_k401_ATEAM_7_MMStack_Pos0.ome0582.tif  2022-07-06_square_k401_ATEAM_7_MMStack_Pos0.ome0586.tif  2022-07-06_square_k401_ATEAM_7_MMStack_Pos0.ome0590.tif  2022-07-06_square_k401_ATEAM_7_MMStack_Pos0.ome0594.tif  2022-07-06_square_k401_ATEAM_7_MMStack_Pos0.ome0598.tif  2022-07-06_square_k401_ATEAM_7_MMStack_Pos0.ome0602.tif  2022-07-06_square_k401_ATEAM_7_MMStack_Pos0.ome0606.tif  2022-07-06_square_k401_ATEAM_7_MMStack_Pos0.ome0610.tif  2022-07-06_square_k401_ATEAM_7_MMStack_Pos0.ome0614.tif  2022-07-06_square_k401_ATEAM_7_MMStack_Pos0.ome0618.tif  2022-07-06_square_k401_ATEAM_7_MMStack_Pos0.ome0622.tif  2022-07-06_square_k401_ATEAM_7_MMStack_Pos0.ome0626.tif  2022-07-06_square_k401_ATEAM_7_MMStack_Pos0.ome0630.tif  2022-07-06_square_k401_ATEAM_7_MMStack_Pos0.ome0634.tif  2022-07-06_square_k401_ATEAM_7_MMStack_Pos0.ome0638.tif  2022-07-06_square_k401_ATEAM_7_MMStack_Pos0.ome0642.tif  2022-07-06_square_k401_ATEAM_7_MMStack_Pos0.ome0646.tif  2022-07-06_square_k401_ATEAM_7_MMStack_Pos0.ome0650.tif  2022-07-06_square_k401_ATEAM_7_MMStack_Pos0.ome0654.tif  2022-07-06_square_k401_ATEAM_7_MMStack_Pos0.ome0658.tif  2022-07-06_square_k401_ATEAM_7_MMStack_Pos0.ome0662.tif  2022-07-06_square_k401_ATEAM_7_MMStack_Pos0.ome0666.tif  2022-07-06_square_k401_ATEAM_7_MMStack_Pos0.ome0670.tif  2022-07-06_square_k401_ATEAM_7_MMStack_Pos0.ome0674.tif  2022-07-06_square_k401_ATEAM_7_MMStack_Pos0.ome0678.tif  2022-07-06_square_k401_ATEAM_7_MMStack_Pos0.ome0682.tif  2022-07-06_square_k401_ATEAM_7_MMStack_Pos0.ome0686.tif  2022-07-06_square_k401_ATEAM_7_MMStack_Pos0.ome0690.tif  2022-07-06_square_k401_ATEAM_7_MMStack_Pos0.ome0694.tif  2022-07-06_square_k401_ATEAM_7_MMStack_Pos0.ome0698.tif  2022-07-06_square_k401_ATEAM_7_MMStack_Pos0.ome0702.tif  2022-07-06_square_k401_ATEAM_7_MMStack_Pos0.ome0706.tif  2022-07-06_square_k401_ATEAM_7_MMStack_Pos0.ome0710.tif  2022-07-06_square_k401_ATEAM_7_MMStack_Pos0.ome0714.tif  2022-07-06_square_k401_ATEAM_7_MMStack_Pos0.ome0718.tif  2022-07-06_square_k401_ATEAM_7_MMStack_Pos0.ome0722.tif  2022-07-06_square_k401_ATEAM_7_MMStack_Pos0.ome0726.tif  2022-07-06_square_k401_ATEAM_7_MMStack_Pos0.ome0730.tif  2022-07-06_square_k401_ATEAM_7_MMStack_Pos0.ome0734.tif  2022-07-06_square_k401_ATEAM_7_MMStack_Pos0.ome0738.tif  2022-07-06_square_k401_ATEAM_7_MMStack_Pos0.ome0742.tif  2022-07-06_square_k401_ATEAM_7_MMStack_Pos0.ome0746.tif  2022-07-06_square_k401_ATEAM_7_MMStack_Pos0.ome0750.tif  2022-07-06_square_k401_ATEAM_7_MMStack_Pos0.ome0754.tif  2022-07-06_square_k401_ATEAM_7_MMStack_Pos0.ome0758.tif  2022-07-06_square_k401_ATEAM_7_MMStack_Pos0.ome0762.tif  2022-07-06_square_k401_ATEAM_7_MMStack_Pos0.ome0766.tif  2022-07-06_square_k401_ATEAM_7_MMStack_Pos0.ome0770.tif  2022-07-06_square_k401_ATEAM_7_MMStack_Pos0.ome0774.tif  2022-07-06_square_k401_ATEAM_7_MMStack_Pos0.ome0778.tif  2022-07-06_square_k401_ATEAM_7_MMStack_Pos0.ome0782.tif  2022-07-06_square_k401_ATEAM_7_MMStack_Pos0.ome0786.tif  2022-07-06_square_k401_ATEAM_7_MMStack_Pos0.ome0790.tif  2022-07-06_square_k401_ATEAM_7_MMStack_Pos0.ome0794.tif  2022-07-06_square_k401_ATEAM_7_MMStack_Pos0.ome0798.tif CFP\n"
     ]
    }
   ],
   "source": [
    "print('mv ' + filestr4 + ' ' + folder[channelpos])"
   ]
  },
  {
   "cell_type": "code",
   "execution_count": null,
   "metadata": {},
   "outputs": [],
   "source": []
  },
  {
   "cell_type": "code",
   "execution_count": null,
   "metadata": {},
   "outputs": [],
   "source": []
  }
 ],
 "metadata": {
  "kernelspec": {
   "display_name": "Python 3 (ipykernel)",
   "language": "python",
   "name": "python3"
  },
  "language_info": {
   "codemirror_mode": {
    "name": "ipython",
    "version": 3
   },
   "file_extension": ".py",
   "mimetype": "text/x-python",
   "name": "python",
   "nbconvert_exporter": "python",
   "pygments_lexer": "ipython3",
   "version": "3.9.7"
  }
 },
 "nbformat": 4,
 "nbformat_minor": 4
}
