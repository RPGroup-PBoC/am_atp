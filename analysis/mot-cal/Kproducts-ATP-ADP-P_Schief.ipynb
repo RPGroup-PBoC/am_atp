{
 "cells": [
  {
   "cell_type": "markdown",
   "id": "60d80c9d-750d-4515-a66d-7a93092bf56a",
   "metadata": {},
   "source": []
  },
  {
   "cell_type": "code",
   "execution_count": 1,
   "id": "d8a50e41-9af2-4791-b0b8-aadfd183329a",
   "metadata": {},
   "outputs": [],
   "source": [
    "# # Packages to locally download data into the notebook:\n",
    "# import requests\n",
    "# import zipfile\n",
    "import glob\n",
    "\n",
    "#Numpy\n",
    "import numpy as np\n",
    "\n",
    "#For image plotting\n",
    "import skimage.io\n",
    "\n",
    "#Matplotlib plotting packages\n",
    "import matplotlib.pyplot as plt\n",
    "from matplotlib.colors import Normalize\n",
    "import matplotlib.colors as mcolors\n",
    "import matplotlib.cm as cm\n",
    "from mpl_toolkits.axes_grid1 import make_axes_locatable\n",
    "\n",
    "#scipy\n",
    "import scipy\n",
    "from scipy import optimize\n",
    "from scipy.optimize import curve_fit\n",
    "\n",
    "# For loading bars\n",
    "from tqdm.notebook import tqdm as tqdm\n",
    "\n",
    "import pandas as pd"
   ]
  },
  {
   "cell_type": "markdown",
   "id": "cd8a8215-f64d-4610-83a1-202c00e772f8",
   "metadata": {},
   "source": [
    "Import Images, Background Subtract, Flatten, Intensity Values"
   ]
  },
  {
   "cell_type": "markdown",
   "id": "ee027bb8-41ad-444a-8525-b79daf47112b",
   "metadata": {},
   "source": [
    "steps:\n",
    "1) convert fig 2 to table - used https://apps.automeris.io/wpd/\n",
    "2) use eqn in paper to fit\n",
    "3) see if i get matching K\n",
    "\n",
    "Also... figure out how to get a speed read out - possibly gliding assay pipeline from rachel or soichi"
   ]
  },
  {
   "cell_type": "markdown",
   "id": "7d079595-08d9-4a0b-ba0c-5c986a0e63be",
   "metadata": {},
   "source": [
    "## Data Import\n",
    "Read in digitized data and turn into a dataframe:"
   ]
  },
  {
   "cell_type": "code",
   "execution_count": 2,
   "id": "609e2f7b-07d1-4d52-9673-4b68a2d7c181",
   "metadata": {},
   "outputs": [],
   "source": [
    "file_path = '../../data/mot-cal/'\n",
    "file_type = '.csv'\n",
    "comment = '%'\n",
    "\n",
    "#-----------------------------------------------------------------------------------------------------------------#\n",
    "### Fgure 2 Data ###\n",
    "#-----------------------------------------------------------------------------------------------------------------#\n",
    "file_name = 'Schief2003PNAS_Fig2'\n",
    "schief2_df = pd.read_csv(file_path + file_name + file_type, comment=comment, names=[\"kx\", \"ky\", #black\n",
    "                                                                                     \"yx\", \"yy\", #yellow\n",
    "                                                                                     \"gx\", \"gy\", #green\n",
    "                                                                                     \"bx\", \"by\", #blue\n",
    "                                                                                     \"rx\", \"ry\"]) #red\n",
    "schief2_df=schief2_df[2:]\n",
    "schief2_df.index = schief2_df.index - 2\n",
    "schief2_df = schief2_df.astype(float)\n",
    "\n",
    "#-----------------------------------------------------------------------------------------------------------------#\n",
    "### Figure 4A Data (Phosphate concentration vs speed for difference ATP concentrations) ###\n",
    "#-----------------------------------------------------------------------------------------------------------------#\n",
    "file_name = 'Schief2003PNAS_Fig4A'\n",
    "schief4A_df = pd.read_csv(file_path + file_name + file_type, comment=comment, names=[\"cx\", \"cy\", #cyan (light blue)\n",
    "                                                                                     \"yx\", \"yy\", #yellow\n",
    "                                                                                     \"kx\", \"ky\", #black\n",
    "                                                                                     \"rx\", \"ry\", #red\n",
    "                                                                                     \"gx\", \"gy\", #green\n",
    "                                                                                     \"bx\", \"by\"]) #blue\n",
    "schief4A_df=schief4A_df[2:]\n",
    "schief4A_df.index = schief4A_df.index - 2\n",
    "schief4A_df = schief4A_df.astype(float)\n",
    "\n",
    "#-----------------------------------------------------------------------------------------------------------------#\n",
    "### Figure 4B Data (ADP concentration vs speed for difference ATP concentrations) ###\n",
    "#-----------------------------------------------------------------------------------------------------------------#\n",
    "file_name = 'Schief2003PNAS_Fig4B'\n",
    "schief4B_df = pd.read_csv(file_path + file_name + file_type, comment=comment, names=[\"yx\", \"yy\", #yellow\n",
    "                                                                                     \"kx\", \"ky\", #black\n",
    "                                                                                     \"rx\", \"ry\", #red\n",
    "                                                                                     \"gx\", \"gy\", #green\n",
    "                                                                                     \"bx\", \"by\"]) #blue\n",
    "schief4B_df=schief4B_df[2:]\n",
    "schief4B_df.index = schief4B_df.index - 2\n",
    "schief4B_df = schief4B_df.astype(float)"
   ]
  },
  {
   "cell_type": "markdown",
   "id": "81933885-703d-4b00-9db6-8ffe642a524f",
   "metadata": {},
   "source": [
    "Make data frames for each color line and drop all nans"
   ]
  },
  {
   "cell_type": "code",
   "execution_count": 3,
   "id": "8e9e3c57-823d-4417-9f37-d4818b1736b3",
   "metadata": {},
   "outputs": [],
   "source": [
    "#Figure 2 (Speed vs ATP Conc)\n",
    "schief2_df_k = schief2_df[['kx', 'ky']].dropna()\n",
    "schief2_df_y = schief2_df[['yx', 'yy']].dropna()\n",
    "schief2_df_g = schief2_df[['gx', 'gy']].dropna()\n",
    "schief2_df_b = schief2_df[['bx', 'by']].dropna()\n",
    "schief2_df_r = schief2_df[['rx', 'ry']].dropna()\n",
    "#------------------------------------------------#\n",
    "#Figure 4A (Speed vs P Conc)\n",
    "schief4A_df_k = schief4A_df[['kx', 'ky']].dropna()\n",
    "schief4A_df_y = schief4A_df[['yx', 'yy']].dropna()\n",
    "schief4A_df_g = schief4A_df[['gx', 'gy']].dropna()\n",
    "schief4A_df_b = schief4A_df[['bx', 'by']].dropna()\n",
    "schief4A_df_r = schief4A_df[['rx', 'ry']].dropna()\n",
    "schief4A_df_c = schief4A_df[['cx', 'cy']].dropna()\n",
    "#------------------------------------------------#\n",
    "#Figure 4B (Speed vs ADP Conc)\n",
    "schief4B_df_k = schief4B_df[['kx', 'ky']].dropna()\n",
    "schief4B_df_y = schief4B_df[['yx', 'yy']].dropna()\n",
    "schief4B_df_g = schief4B_df[['gx', 'gy']].dropna()\n",
    "schief4B_df_b = schief4B_df[['bx', 'by']].dropna()\n",
    "schief4B_df_r = schief4B_df[['rx', 'ry']].dropna()"
   ]
  },
  {
   "cell_type": "markdown",
   "id": "f852baff-bb36-4dc0-9f50-c4ec2266872c",
   "metadata": {},
   "source": [
    "Plot each data set:\n",
    "Figure 2:"
   ]
  },
  {
   "cell_type": "code",
   "execution_count": 4,
   "id": "55cffc32-f6ed-4557-877b-b0f967c29963",
   "metadata": {},
   "outputs": [
    {
     "data": {
      "text/plain": [
       "<matplotlib.legend.Legend at 0x7ff2208c90d0>"
      ]
     },
     "execution_count": 4,
     "metadata": {},
     "output_type": "execute_result"
    },
    {
     "data": {
      "image/png": "[encoded data removed]",
      "text/plain": [
       "<Figure size 432x288 with 1 Axes>"
      ]
     },
     "metadata": {
      "needs_background": "light"
     },
     "output_type": "display_data"
    }
   ],
   "source": [
    "#plt.scatter(schief_blacky, schief_blackx, color='k')\n",
    "plt.scatter(schief2_df_k['kx'], schief2_df_k['ky'], color='k', label = 'ADP=0mM, P=0mM')\n",
    "plt.scatter(schief2_df_y['yx'], schief2_df_y['yy'], color='y', label = 'ADP=0mM, P=10mM')\n",
    "plt.scatter(schief2_df_g['gx'], schief2_df_g['gy'], color='g', label = 'ADP=1mM, P=5mM')\n",
    "plt.scatter(schief2_df_b['bx'], schief2_df_b['by'], color='b', label = 'ADP=1mM, P=0mM')\n",
    "plt.scatter(schief2_df_r['rx'], schief2_df_r['ry'], color='r', label = 'ADP=5mM, P=0mM')\n",
    "plt.xscale('log')\n",
    "plt.yscale('log')\n",
    "plt.xlabel('[ATP] (µM)')\n",
    "plt.ylabel('Speed (nm/s)')\n",
    "plt.title ('Motor Speed vs ATP Conc')\n",
    "plt.legend(title = 'Products', framealpha=0, bbox_to_anchor=(1, 1.05))"
   ]
  },
  {
   "cell_type": "markdown",
   "id": "2337e528-01a1-405e-a47b-57cb9dbb210a",
   "metadata": {},
   "source": [
    "Figure 4A"
   ]
  },
  {
   "cell_type": "code",
   "execution_count": 5,
   "id": "4808b3f3-4894-4644-ad15-d7efb57c616c",
   "metadata": {},
   "outputs": [
    {
     "data": {
      "text/plain": [
       "<matplotlib.legend.Legend at 0x7ff220ac98b0>"
      ]
     },
     "execution_count": 5,
     "metadata": {},
     "output_type": "execute_result"
    },
    {
     "data": {
      "image/png": "[encoded data removed]",
      "text/plain": [
       "<Figure size 432x288 with 1 Axes>"
      ]
     },
     "metadata": {
      "needs_background": "light"
     },
     "output_type": "display_data"
    }
   ],
   "source": [
    "#plt.scatter(schief_blacky, schief_blackx, color='k')\n",
    "plt.scatter(schief4A_df_c['cx'], schief4A_df_c['cy'], color='c', label = '1000')\n",
    "plt.scatter(schief4A_df_y['yx'], schief4A_df_y['yy'], color='y', label = '300')\n",
    "plt.scatter(schief4A_df_k['kx'], schief4A_df_k['ky'], color='k', label = '100')\n",
    "plt.scatter(schief4A_df_r['rx'], schief4A_df_r['ry'], color='r', label = '30')\n",
    "plt.scatter(schief4A_df_g['gx'], schief4A_df_g['gy'], color='g', label = '10')\n",
    "plt.scatter(schief4A_df_b['bx'], schief4A_df_b['by'], color='b', label = '5')\n",
    "\n",
    "\n",
    "plt.yscale('log')\n",
    "plt.xlabel('[Pi] (µM)')\n",
    "plt.ylabel('Speed (nm/s)')\n",
    "plt.title ('Motor Speed vs ATP Conc')\n",
    "plt.title ('Motor Speed vs Phodphate Conc')\n",
    "plt.legend(title = 'ATP ($\\mu$M)', framealpha=0, bbox_to_anchor=(1, 1.05))"
   ]
  },
  {
   "cell_type": "markdown",
   "id": "e9cfc231-13b5-43ac-98ad-0ea15ee368e1",
   "metadata": {},
   "source": [
    "Figure 4B"
   ]
  },
  {
   "cell_type": "code",
   "execution_count": 6,
   "id": "2fb2f693-2107-4d55-84fe-578eda47f3e8",
   "metadata": {},
   "outputs": [
    {
     "data": {
      "text/plain": [
       "<matplotlib.legend.Legend at 0x7ff23070bc70>"
      ]
     },
     "execution_count": 6,
     "metadata": {},
     "output_type": "execute_result"
    },
    {
     "data": {
      "image/png": "[encoded data removed]",
      "text/plain": [
       "<Figure size 432x288 with 1 Axes>"
      ]
     },
     "metadata": {
      "needs_background": "light"
     },
     "output_type": "display_data"
    }
   ],
   "source": [
    "#plt.scatter(schief_blacky, schief_blackx, color='k')\n",
    "plt.scatter(schief4B_df_y['yx'], schief4B_df_y['yy'], color='y', label = '20000')\n",
    "plt.scatter(schief4B_df_k['kx'], schief4B_df_k['ky'], color='k', label = '10000')\n",
    "plt.scatter(schief4B_df_r['rx'], schief4B_df_r['ry'], color='r', label = '3000')\n",
    "plt.scatter(schief4B_df_g['gx'], schief4B_df_g['gy'], color='g', label = '1000')\n",
    "plt.scatter(schief4B_df_b['bx'], schief4B_df_b['by'], color='b', label = '300')\n",
    "\n",
    "plt.yscale('log')\n",
    "plt.xlabel('[ADP] (µM)')\n",
    "plt.ylabel('Speed (nm/s)')\n",
    "plt.title ('Motor Speed vs ADP Conc')\n",
    "plt.legend(title = 'ATP ($\\mu$M)', framealpha=0, bbox_to_anchor=(1, 1.05))"
   ]
  },
  {
   "cell_type": "markdown",
   "id": "bbc3e19f-e75f-4e5e-b989-8c1b55506183",
   "metadata": {},
   "source": [
    "## Fit Data\n",
    "### Fits for Speed vs ATP plot (Figure 2)\n",
    "Write function for fitting Speed to ATP concnetration based on paper eqn1. Drop the second term in the numerator because Keq is way larger than [ADP]*[P] - Here, fit the black curve which is the data with no products"
   ]
  },
  {
   "cell_type": "code",
   "execution_count": 7,
   "id": "ca2f0d6d-285e-4376-b54d-573434e915d7",
   "metadata": {},
   "outputs": [],
   "source": [
    "#Speed ATP fit\n",
    "def Speed_ATP_eqn(conc, kcat, Km):\n",
    "    \"\"\"\n",
    "    Given a concentration value in uM, this function returns motor speeds in nm/s\n",
    "    \n",
    "    Parameters:\n",
    "    conc = 1D array of ATP concentrations in uM units\n",
    "    kcat = maximum hydrolysis rate at saturating ATP units 1/s\n",
    "    Km = concnetration at which motors walk at half max speed in units uM\n",
    "    \n",
    "    Returns:\n",
    "    A 1D array of motor speeds corresponding to the given concentrations\n",
    "    \"\"\"\n",
    "    \n",
    "    return (kcat*conc)/(Km +conc)\n",
    "\n",
    "\n",
    "\n",
    "#Curve-fit to the Langmuir curve\n",
    "def Speed_ATP_curve_fit(conc, speeds, maxconc, d, p0):\n",
    "    \"\"\"\n",
    "    Performs a curve fitting using scipy.optimize.curve_fit to fit data\n",
    "    \n",
    "    Parameters\n",
    "    conc = 1D array of ATP concentrations in uM units\n",
    "    speeds = 1D array of measured motor speeds in 1/s units\n",
    "    maxconc = maximum concentration of data taken in uM units\n",
    "    p0 = 1D list with 2 entries of parameter guesses for kcat and Km\n",
    "    \n",
    "    Returns\n",
    "    param = 1D list with fit values of each parameter (kcat and Km)\n",
    "    curve = 1D array of motor speeds for every concentration value in xvals\n",
    "    xvals = 1D array from 0 to maxconc with step size 1\n",
    "    \"\"\"\n",
    "    \n",
    "    \n",
    "    #Curve fits and returns parameter values as well as the covarience\n",
    "    param, param_cov = curve_fit(Speed_ATP_eqn, \n",
    "                                 conc, \n",
    "                                 speeds/d,\n",
    "                                 p0, \n",
    "                                 bounds = (np.zeros(2), np.ones([2])*np.inf))\n",
    "\n",
    "    #stores the new function information according to the coefficients given by curve-fit() function \n",
    "    xvals=np.linspace(0, int(maxconc+1), int(maxconc+1))\n",
    "    curve = d*Speed_ATP_eqn(xvals, param[0], param[1])\n",
    "    \n",
    "    return param, curve, xvals\n"
   ]
  },
  {
   "cell_type": "markdown",
   "id": "0ca7a329-ddd4-4de3-8545-1aaf33b1254f",
   "metadata": {},
   "source": [
    "Fit data for no products, fit kcat ($\\gamma$) and Kt"
   ]
  },
  {
   "cell_type": "code",
   "execution_count": 8,
   "id": "850b958f-1132-45b9-8f54-104b6bb6bb1c",
   "metadata": {},
   "outputs": [],
   "source": [
    "param2_k, speeds2_k, atpconc2 = Speed_ATP_curve_fit(schief2_df_k['kx'], \n",
    "                                                    schief2_df_k['ky'], \n",
    "                                                    np.max(schief2_df_k['kx']), \n",
    "                                                    8, \n",
    "                                                    [113, 28.1])\n",
    "# param2_y, speeds2_y, atpconc2 = Speed_ATP_curve_fit(schief2_df_y['yx'], \n",
    "#                                                     schief2_df_y['yy'], \n",
    "#                                                     np.max(schief2_df_k['kx']), \n",
    "#                                                     8, \n",
    "#                                                     [113, 28.1])\n",
    "# param2_g, speeds2_g, atpconc2 = Speed_ATP_curve_fit(schief2_df_g['gx'], \n",
    "#                                                     schief2_df_g['gy'], \n",
    "#                                                     np.max(schief2_df_k['kx']), \n",
    "#                                                     8, \n",
    "#                                                     [113, 28.1])\n",
    "# param2_b, speeds2_b, atpconc2 = Speed_ATP_curve_fit(schief2_df_b['bx'], \n",
    "#                                                     schief2_df_b['by'], \n",
    "#                                                     np.max(schief2_df_k['kx']), \n",
    "#                                                     8, \n",
    "#                                                     [113, 28.1])\n",
    "# param2_r, speeds2_r, atpconc2 = Speed_ATP_curve_fit(schief2_df_r['rx'], \n",
    "#                                                     schief2_df_r['ry'], \n",
    "#                                                     np.max(schief2_df_k['kx']), \n",
    "#                                                     8, \n",
    "#                                                     [113, 28.1])\n"
   ]
  },
  {
   "cell_type": "markdown",
   "id": "7bc32e98-5d10-42c3-96fd-5e2941d01fd7",
   "metadata": {},
   "source": [
    "Plot the measured and fit data - yay it looks like the paper"
   ]
  },
  {
   "cell_type": "raw",
   "id": "9b85290c-8025-4b78-b73a-1a3e705f9ea4",
   "metadata": {},
   "source": [
    "plt.scatter(schief2_df_k['kx'], schief2_df_k['ky'], color='k', label = 'ADP=0mM, P=0mM')\n",
    "plt.scatter(schief2_df_y['yx'], schief2_df_y['yy'], color='y', label = 'ADP=0mM, P=10mM')\n",
    "plt.scatter(schief2_df_g['gx'], schief2_df_g['gy'], color='g', label = 'ADP=1mM, P=5mM')\n",
    "plt.scatter(schief2_df_b['bx'], schief2_df_b['by'], color='b', label = 'ADP=1mM, P=0mM')\n",
    "plt.scatter(schief2_df_r['rx'], schief2_df_r['ry'], color='r', label = 'ADP=5mM, P=0mM')\n",
    "plt.plot(atpconc2, speeds2_k, color='k')\n",
    "plt.plot(atpconc2, speeds2_y, color='y')\n",
    "plt.plot(atpconc2, speeds2_g, color='g')\n",
    "plt.plot(atpconc2, speeds2_b, color='b')\n",
    "plt.plot(atpconc2, speeds2_r, color='r')\n",
    "\n",
    "plt.plot(atpconc2, (8*114.5/2)*np.ones(len(atpconc2)), color='grey')\n",
    "\n",
    "plt.xscale('log')\n",
    "plt.yscale('log')\n",
    "plt.xlabel('[ATP] (µM)')\n",
    "plt.ylabel('Speed (nm/s)')\n",
    "plt.ylim(20, 1100)\n",
    "plt.title ('Motor Speed vs ADP Conc')\n",
    "plt.legend(title = 'Products', framealpha=0, bbox_to_anchor=(1, 1.05))"
   ]
  },
  {
   "cell_type": "markdown",
   "id": "d9f21bb8-2ffc-4415-a946-7557febe116f",
   "metadata": {},
   "source": [
    "List the kcat and Km values for each experimental parameter"
   ]
  },
  {
   "cell_type": "code",
   "execution_count": 9,
   "id": "56b9d95f-0d39-4b2b-87d2-18bb3e3132b7",
   "metadata": {},
   "outputs": [
    {
     "name": "stdout",
     "output_type": "stream",
     "text": [
      "black: kcat = 114.5, Km = 26.2\n"
     ]
    }
   ],
   "source": [
    "print('black: kcat = ' + str(round(param2_k[0], 1)) + ', Km = ' + str(round(param2_k[1], 1)))\n",
    "# print('yellow: kcat = ' + str(round(param2_y[0], 1)) + ', Km = ' + str(round(param2_y[1], 1)))\n",
    "# print('green: kcat = ' + str(round(param2_g[0], 1)) + ', Km = ' + str(round(param2_g[1], 1)))\n",
    "# print('blue: kcat = ' + str(round(param2_b[0], 1)) + ', Km = ' + str(round(param2_b[1], 1)))\n",
    "# print('red: kcat = ' + str(round(param2_r[0], 1)) + ', Km = ' + str(round(param2_r[1], 1)))"
   ]
  },
  {
   "cell_type": "markdown",
   "id": "42cc77c0-f7fd-4696-9a2a-5f7eaa1cb497",
   "metadata": {},
   "source": [
    "Function to fit data with products. Use kcat from no product data, fit Km values - one parameter speed fits"
   ]
  },
  {
   "cell_type": "code",
   "execution_count": null,
   "id": "23b6611e-4a20-4f5c-adbb-942b44918d28",
   "metadata": {},
   "outputs": [],
   "source": [
    "#Speed ATP fit\n",
    "def Speed_ATP_eqn(conc, Km):\n",
    "    \"\"\"\n",
    "    Given a concentration value in uM, this function returns motor speeds in nm/s\n",
    "    \n",
    "    Parameters:\n",
    "    conc = 1D array of ATP concentrations in uM units\n",
    "    kcat = maximum hydrolysis rate at saturating ATP units 1/s\n",
    "    Km = concnetration at which motors walk at half max speed in units uM\n",
    "    \n",
    "    Returns:\n",
    "    A 1D array of motor speeds corresponding to the given concentrations\n",
    "    \"\"\"\n",
    "    \n",
    "    return (conc)/(Km +conc)\n",
    "\n",
    "\n",
    "\n",
    "#Curve-fit to the Langmuir curve\n",
    "def Speed_ATP_curve_fit(conc, speeds, maxconc, d, kcat, p0):\n",
    "    \"\"\"\n",
    "    Performs a curve fitting using scipy.optimize.curve_fit to fit data\n",
    "    \n",
    "    Parameters\n",
    "    conc = 1D array of ATP concentrations in uM units\n",
    "    speeds = 1D array of measured motor speeds in 1/s units\n",
    "    maxconc = maximum concentration of data taken in uM units\n",
    "    p0 = 1D list with 2 entries of parameter guesses for kcat and Km\n",
    "    \n",
    "    Returns\n",
    "    param = 1D list with fit values of each parameter (kcat and Km)\n",
    "    curve = 1D array of motor speeds for every concentration value in xvals\n",
    "    xvals = 1D array from 0 to maxconc with step size 1\n",
    "    \"\"\"\n",
    "    \n",
    "    \n",
    "    #Curve fits and returns parameter values as well as the covarience\n",
    "    param, param_cov = curve_fit(Speed_ATP_eqn, \n",
    "                                 conc, \n",
    "                                 speeds/(d*kcat),\n",
    "                                 p0, \n",
    "                                 bounds = (np.zeros(1), np.ones([1])*np.inf))\n",
    "\n",
    "    #stores the new function information according to the coefficients given by curve-fit() function \n",
    "    xvals=np.linspace(0, int(maxconc+1), int(maxconc+1))\n",
    "    curve = d*kcat*Speed_ATP_eqn(xvals, param[0])\n",
    "    \n",
    "    return param, curve, xvals\n"
   ]
  },
  {
   "cell_type": "markdown",
   "id": "8a0e86fe-07b7-4832-91f5-0db3a860e26a",
   "metadata": {},
   "source": [
    "Fit data with products"
   ]
  },
  {
   "cell_type": "code",
   "execution_count": 11,
   "id": "fb09c3f1-82b7-424a-9dfb-adb61c88873e",
   "metadata": {},
   "outputs": [],
   "source": [
    "param2_y, speeds2_y, atpconc2 = Speed_ATP_curve_fit(schief2_df_y['yx'], \n",
    "                                                    schief2_df_y['yy'], \n",
    "                                                    np.max(schief2_df_k['kx']), \n",
    "                                                    8, \n",
    "                                                    param2_k[0], \n",
    "                                                    [28.1])\n",
    "param2_g, speeds2_g, atpconc2 = Speed_ATP_curve_fit(schief2_df_g['gx'], \n",
    "                                                    schief2_df_g['gy'], \n",
    "                                                    np.max(schief2_df_k['kx']), \n",
    "                                                    8, \n",
    "                                                    param2_k[0], \n",
    "                                                    [28.1])\n",
    "param2_b, speeds2_b, atpconc2 = Speed_ATP_curve_fit(schief2_df_b['bx'], \n",
    "                                                    schief2_df_b['by'], \n",
    "                                                    np.max(schief2_df_k['kx']), \n",
    "                                                    8, \n",
    "                                                    param2_k[0], \n",
    "                                                    [28.1])\n",
    "param2_r, speeds2_r, atpconc2 = Speed_ATP_curve_fit(schief2_df_r['rx'], \n",
    "                                                    schief2_df_r['ry'], \n",
    "                                                    np.max(schief2_df_k['kx']), \n",
    "                                                    8, \n",
    "                                                    param2_k[0], \n",
    "                                                    [28.1])\n"
   ]
  },
  {
   "cell_type": "markdown",
   "id": "af3d7e44-6881-40fc-a200-a8ea863cfd3a",
   "metadata": {},
   "source": [
    "Plot"
   ]
  },
  {
   "cell_type": "code",
   "execution_count": 12,
   "id": "adf246cf-9f41-4579-8547-a9261da80e8e",
   "metadata": {},
   "outputs": [
    {
     "data": {
      "text/plain": [
       "<matplotlib.legend.Legend at 0x7ff220d00370>"
      ]
     },
     "execution_count": 12,
     "metadata": {},
     "output_type": "execute_result"
    },
    {
     "data": {
      "image/png": "[encoded data removed]",
      "text/plain": [
       "<Figure size 432x288 with 1 Axes>"
      ]
     },
     "metadata": {
      "needs_background": "light"
     },
     "output_type": "display_data"
    }
   ],
   "source": [
    "plt.scatter(schief2_df_k['kx'], schief2_df_k['ky'], color='k', label = 'ADP=0mM, P=0mM')\n",
    "plt.scatter(schief2_df_y['yx'], schief2_df_y['yy'], color='y', label = 'ADP=0mM, P=10mM')\n",
    "plt.scatter(schief2_df_g['gx'], schief2_df_g['gy'], color='g', label = 'ADP=1mM, P=5mM')\n",
    "plt.scatter(schief2_df_b['bx'], schief2_df_b['by'], color='b', label = 'ADP=1mM, P=0mM')\n",
    "plt.scatter(schief2_df_r['rx'], schief2_df_r['ry'], color='r', label = 'ADP=5mM, P=0mM')\n",
    "plt.plot(atpconc2, speeds2_k, color='k')\n",
    "plt.plot(atpconc2, speeds2_y, color='y')\n",
    "plt.plot(atpconc2, speeds2_g, color='g')\n",
    "plt.plot(atpconc2, speeds2_b, color='b')\n",
    "plt.plot(atpconc2, speeds2_r, color='r')\n",
    "plt.xscale('log')\n",
    "plt.yscale('log')\n",
    "plt.xlabel('[ATP] (µM)')\n",
    "plt.ylabel('Speed (nm/s)')\n",
    "plt.ylim(20, 1100)\n",
    "plt.title ('Motor Speed vs ADP Conc')\n",
    "plt.legend(title = 'Products', framealpha=0, bbox_to_anchor=(1, 1.05))\n",
    "\n",
    "#fig.savefig('../../figures/Motor_ATP_Traces')"
   ]
  },
  {
   "cell_type": "markdown",
   "id": "2aaef9a4-a0c5-4acb-8212-95a4afe6f4f4",
   "metadata": {},
   "source": [
    "Print Km values"
   ]
  },
  {
   "cell_type": "code",
   "execution_count": 13,
   "id": "00c67a89-fa49-4ba6-a48c-ef6903121c96",
   "metadata": {},
   "outputs": [
    {
     "name": "stdout",
     "output_type": "stream",
     "text": [
      "black: kcat = 114.5, Km = 26.2\n",
      "yellow: Km = 55.8\n",
      "green: Km = 926.9\n",
      "blue: Km = 1224.5\n",
      "red: Km = 4852.1\n"
     ]
    }
   ],
   "source": [
    "print('black: kcat = ' + str(round(param2_k[0], 1)) + ', Km = ' + str(round(param2_k[1], 1)))\n",
    "print('yellow: Km = ' + str(round(param2_y[0], 1)))\n",
    "print('green: Km = ' + str(round(param2_g[0], 1)))\n",
    "print('blue: Km = ' + str(round(param2_b[0], 1)))\n",
    "print('red: Km = ' + str(round(param2_r[0], 1)))"
   ]
  },
  {
   "cell_type": "markdown",
   "id": "0351d4f8-527d-4971-bb2c-74f75c556973",
   "metadata": {},
   "source": [
    "Find Kprod"
   ]
  },
  {
   "cell_type": "code",
   "execution_count": 14,
   "id": "a2e5f3b8-75bb-4aa0-8b58-20d526fb613d",
   "metadata": {},
   "outputs": [
    {
     "name": "stdout",
     "output_type": "stream",
     "text": [
      "yellow Kp = 9241.37931034483\n",
      "blue Kd = 22.37622109042331\n",
      "red Kd = 27.77029407497979\n",
      "green Kdp = 1376277.1417997144\n"
     ]
    }
   ],
   "source": [
    "print('yellow Kp = ' + str(10000/((55.8/26.8) -1)))\n",
    "print('blue Kd = ' + str(1000/((1224.5/26.8) -1)))\n",
    "print('red Kd = ' + str(5000/((4852.1/26.8) -1)))\n",
    "print('green Kdp = ' + str(1000*5000/((926.9/26.8) - 1 - (1000/34) - (5000/9241))))"
   ]
  },
  {
   "cell_type": "code",
   "execution_count": 15,
   "id": "83de32e7-d0e8-4e4a-bff5-f7e3ad9d49d7",
   "metadata": {},
   "outputs": [
    {
     "data": {
      "text/plain": [
       "1655.4141543123037"
      ]
     },
     "execution_count": 15,
     "metadata": {},
     "output_type": "execute_result"
    }
   ],
   "source": [
    "26.2*(1 + (1000/25) + (5000/9241) + (1000*5000/(25*9241)))"
   ]
  },
  {
   "cell_type": "code",
   "execution_count": null,
   "id": "a158ea6d-6fb2-4429-83c0-751c06985a95",
   "metadata": {},
   "outputs": [],
   "source": []
  },
  {
   "cell_type": "raw",
   "id": "ac53fa95-7ec3-42f3-b803-00b9dd86760c",
   "metadata": {},
   "source": [
    "#Speed ATP fit\n",
    "def Speed_ATP_prodinput_eqn(prodconc, kcat, Kprod, ATPconc=1000, Kt=26.2):\n",
    "    \"\"\"\n",
    "    Given a concentration value in uM, this function returns motor speeds in nm/s\n",
    "    \n",
    "    Parameters:\n",
    "    conc = 1D array of ATP concentrations in uM units\n",
    "    kcat = maximum hydrolysis rate at saturating ATP units 1/s\n",
    "    Km = concnetration at which motors walk at half max speed in units uM\n",
    "    \n",
    "    Returns:\n",
    "    A 1D array of motor speeds corresponding to the given concentrations\n",
    "    \"\"\"\n",
    "    \n",
    "    return (kcat*ATPconc)/(Kt*(1 + prodconc/Kprod) + ATPconc)\n",
    "\n",
    "\n",
    "\n",
    "#Curve-fit to the Langmuir curve\n",
    "def Speed_ATP_prodinput_curve_fit(prodconc, speeds, maxconc, d, p0):\n",
    "    \"\"\"\n",
    "    Performs a curve fitting using scipy.optimize.curve_fit to fit data\n",
    "    \n",
    "    Parameters\n",
    "    conc = 1D array of ATP concentrations in uM units\n",
    "    speeds = 1D array of measured motor speeds in 1/s units\n",
    "    maxconc = maximum concentration of data taken in uM units\n",
    "    p0 = 1D list with 2 entries of parameter guesses for kcat and Km\n",
    "    \n",
    "    Returns\n",
    "    param = 1D list with fit values of each parameter (kcat and Km)\n",
    "    curve = 1D array of motor speeds for every concentration value in xvals\n",
    "    xvals = 1D array from 0 to maxconc with step size 1\n",
    "    \"\"\"\n",
    "    \n",
    "    \n",
    "    #Curve fits and returns parameter values as well as the covarience\n",
    "    param, param_cov = curve_fit(Speed_ATP_prodinput_eqn, \n",
    "                                 prodconc,\n",
    "                                 #ATPconc,\n",
    "                                 speeds/d,\n",
    "                                 #Kt,\n",
    "                                 p0, \n",
    "                                 bounds = (np.zeros(2), np.ones([2])*np.inf))\n",
    "\n",
    "    #stores the new function information according to the coefficients given by curve-fit() function \n",
    "    xvals=np.linspace(0, int(maxconc+1), int(maxconc+1))\n",
    "    curve = d*Speed_ATP_prodinput_eqn(xvals, param[0], param[1])\n",
    "    \n",
    "    return param, curve, xvals\n"
   ]
  },
  {
   "cell_type": "markdown",
   "id": "ef0e8518-b644-44c4-82f5-f60f8837707d",
   "metadata": {},
   "source": [
    "### Fits for Speed vs Products plots (Figure 4)\n",
    "\n",
    "Write a function that again uses equation 1 but instead fits products."
   ]
  },
  {
   "cell_type": "markdown",
   "id": "5453edef-55af-4c69-bfa3-dcfc9fe1cfe2",
   "metadata": {},
   "source": [
    "This function fits both kcat and Kprod"
   ]
  },
  {
   "cell_type": "code",
   "execution_count": 16,
   "id": "136d3489-09db-4fbc-818d-2cb87979e1f0",
   "metadata": {},
   "outputs": [],
   "source": [
    "#Curve-fit to the Langmuir curve\n",
    "def Speed_ATP_prodinput_curve_fit(prodconc, speeds, ATPconc, Kt, maxconc, d, p0):\n",
    "    \"\"\"\n",
    "    Performs a curve fitting using scipy.optimize.curve_fit to fit data\n",
    "    \n",
    "    Parameters\n",
    "    conc = 1D array of ATP concentrations in uM units\n",
    "    speeds = 1D array of measured motor speeds in 1/s units\n",
    "    maxconc = maximum concentration of data taken in uM units\n",
    "    p0 = 1D list with 2 entries of parameter guesses for kcat and Km\n",
    "    \n",
    "    Returns\n",
    "    param = 1D list with fit values of each parameter (kcat and Km)\n",
    "    curve = 1D array of motor speeds for every concentration value in xvals\n",
    "    xvals = 1D array from 0 to maxconc with step size 1\n",
    "    \"\"\"\n",
    "    \n",
    "    def Speed_ATP_prodinput_eqn(prodconc, kcat, Kprod, ATPconc=ATPconc, Kt=Kt):\n",
    "        \"\"\"\n",
    "        Given a concentration value in uM, this function returns motor speeds in nm/s\n",
    "\n",
    "        Parameters:\n",
    "        conc = 1D array of ATP concentrations in uM units\n",
    "        kcat = maximum hydrolysis rate at saturating ATP units 1/s\n",
    "        Km = concnetration at which motors walk at half max speed in units uM\n",
    "\n",
    "        Returns:\n",
    "        A 1D array of motor speeds corresponding to the given concentrations\n",
    "        \"\"\"\n",
    "        return (kcat*ATPconc)/(Kt*(1 + prodconc/Kprod) + ATPconc)\n",
    "\n",
    "    #Curve fits and returns parameter values as well as the covarience\n",
    "    param, param_cov = curve_fit(Speed_ATP_prodinput_eqn, \n",
    "                                 prodconc,\n",
    "                                 speeds/d,\n",
    "                                 p0, \n",
    "                                 bounds = (np.zeros(2), np.ones([2])*np.inf))\n",
    "\n",
    "    #stores the new function information according to the coefficients given by curve-fit() function \n",
    "    xvals=np.linspace(0, int(maxconc+1), int(maxconc+1))\n",
    "    curve = d*Speed_ATP_prodinput_eqn(xvals, param[0], param[1])\n",
    "    \n",
    "    return param, curve, xvals\n"
   ]
  },
  {
   "cell_type": "markdown",
   "id": "f6fa61c5-c36e-4820-8d06-c11cf88d2cc8",
   "metadata": {},
   "source": [
    "Fit the data for each experimental condition"
   ]
  },
  {
   "cell_type": "code",
   "execution_count": 39,
   "id": "245c9e81-7bc0-47e5-8fc6-b59e7d8f9711",
   "metadata": {},
   "outputs": [],
   "source": [
    "param4A_k, speeds4A_k, atpconc4A = Speed_ATP_prodinput_curve_fit(schief4A_df_k['kx'], \n",
    "                                                                 schief4A_df_k['ky'], \n",
    "                                                                 100,\n",
    "                                                                 #kcat,\n",
    "                                                                 Kt,\n",
    "                                                                 np.max(schief4A_df_k['kx']),\n",
    "                                                                 8, \n",
    "                                                                 #[28.1])\n",
    "                                                                 [113, 28.1])\n",
    "param4A_y, speeds4A_y, atpconc4A = Speed_ATP_prodinput_curve_fit(schief4A_df_y['yx'], \n",
    "                                                                 schief4A_df_y['yy'],\n",
    "                                                                 300,\n",
    "                                                                 #kcat,\n",
    "                                                                 Kt,\n",
    "                                                                 np.max(schief4A_df_k['kx']), \n",
    "                                                                 8, \n",
    "                                                                 #[28.1])\n",
    "                                                                 [113, 28.1])\n",
    "param4A_g, speeds4A_g, atpconc4A = Speed_ATP_prodinput_curve_fit(schief4A_df_g['gx'], \n",
    "                                                                 schief4A_df_g['gy'],\n",
    "                                                                 10,\n",
    "                                                                 #kcat,\n",
    "                                                                 Kt,\n",
    "                                                                 np.max(schief4A_df_k['kx']), \n",
    "                                                                 8,\n",
    "                                                                 #[28.1])\n",
    "                                                                 [113, 28.1])\n",
    "param4A_b, speeds4A_b, atpconc4A = Speed_ATP_prodinput_curve_fit(schief4A_df_b['bx'], \n",
    "                                                                 schief4A_df_b['by'], \n",
    "                                                                 5,\n",
    "                                                                 #kcat,\n",
    "                                                                 Kt,\n",
    "                                                                 np.max(schief4A_df_k['kx']), \n",
    "                                                                 8, \n",
    "                                                                 #[28.1])\n",
    "                                                                 [113, 28.1])\n",
    "param4A_r, speeds4A_r, atpconc4A = Speed_ATP_prodinput_curve_fit(schief4A_df_r['rx'], \n",
    "                                                                 schief4A_df_r['ry'], \n",
    "                                                                 30,\n",
    "                                                                 #kcat,\n",
    "                                                                 Kt,\n",
    "                                                                 np.max(schief4A_df_k['kx']), \n",
    "                                                                 8, \n",
    "                                                                 #[28.1])\n",
    "                                                                 [113, 28.1])\n",
    "param4A_c, speeds4A_c, atpconc4A = Speed_ATP_prodinput_curve_fit(schief4A_df_c['cx'], \n",
    "                                                                 schief4A_df_c['cy'], \n",
    "                                                                 1000,\n",
    "                                                                 #kcat,\n",
    "                                                                 Kt,\n",
    "                                                                 np.max(schief4A_df_k['kx']), \n",
    "                                                                 8, \n",
    "                                                                 #[28.1])\n",
    "                                                                 [113, 28.1])\n"
   ]
  },
  {
   "cell_type": "code",
   "execution_count": 40,
   "id": "76c12e80-1612-49c7-ba8f-37d5a7328638",
   "metadata": {},
   "outputs": [
    {
     "data": {
      "text/plain": [
       "<matplotlib.legend.Legend at 0x7f8f03a0ecd0>"
      ]
     },
     "execution_count": 40,
     "metadata": {},
     "output_type": "execute_result"
    },
    {
     "data": {
      "image/png": "[encoded data removed]",
      "text/plain": [
       "<Figure size 432x288 with 1 Axes>"
      ]
     },
     "metadata": {
      "needs_background": "light"
     },
     "output_type": "display_data"
    }
   ],
   "source": [
    "plt.scatter(schief4A_df_c['cx'], schief4A_df_c['cy'], color='c', label = '1000')\n",
    "plt.scatter(schief4A_df_y['yx'], schief4A_df_y['yy'], color='y', label = '300')\n",
    "plt.scatter(schief4A_df_k['kx'], schief4A_df_k['ky'], color='k', label = '100')\n",
    "plt.scatter(schief4A_df_r['rx'], schief4A_df_r['ry'], color='r', label = '30')\n",
    "plt.scatter(schief4A_df_g['gx'], schief4A_df_g['gy'], color='g', label = '10')\n",
    "plt.scatter(schief4A_df_b['bx'], schief4A_df_b['by'], color='b', label = '5')\n",
    "\n",
    "plt.plot(atpconc4A, speeds4A_k, color='k')\n",
    "plt.plot(atpconc4A, speeds4A_y, color='y')\n",
    "plt.plot(atpconc4A, speeds4A_g, color='g')\n",
    "plt.plot(atpconc4A, speeds4A_b, color='b')\n",
    "plt.plot(atpconc4A, speeds4A_r, color='r')\n",
    "plt.plot(atpconc4A, speeds4A_c, color='c')\n",
    "\n",
    "plt.yscale('log')\n",
    "plt.xlabel('[Pi] (µM)')\n",
    "plt.ylabel('Speed (nm/s)')\n",
    "plt.title ('Motor Speed vs Phosphate Conc')\n",
    "plt.legend(title = 'ATP ($\\mu$M)', framealpha=0, bbox_to_anchor=(1, 1.05))"
   ]
  },
  {
   "cell_type": "code",
   "execution_count": 42,
   "id": "206c4ba9-9b62-4cfe-8af0-58741aa25bc8",
   "metadata": {},
   "outputs": [
    {
     "name": "stdout",
     "output_type": "stream",
     "text": [
      "cyan: kcat = 113.9, Km = 17515.2\n",
      "black: kcat = 122.4, Km = 7847.4\n",
      "yellow: kcat = 118.1, Km = 12271.0\n",
      "green: kcat = 108.6, Km = 11749.3\n",
      "blue: kcat = 95.7, Km = 14069.6\n",
      "red: kcat = 111.5, Km = 7314.1\n"
     ]
    }
   ],
   "source": [
    "print('cyan: kcat = ' + str(round(param4A_c[0], 1)) + ', Km = ' + str(round(param4A_c[1], 1)))\n",
    "print('black: kcat = ' + str(round(param4A_k[0], 1)) + ', Km = ' + str(round(param4A_k[1], 1)))\n",
    "print('yellow: kcat = ' + str(round(param4A_y[0], 1)) + ', Km = ' + str(round(param4A_y[1], 1)))\n",
    "print('green: kcat = ' + str(round(param4A_g[0], 1)) + ', Km = ' + str(round(param4A_g[1], 1)))\n",
    "print('blue: kcat = ' + str(round(param4A_b[0], 1)) + ', Km = ' + str(round(param4A_b[1], 1)))\n",
    "print('red: kcat = ' + str(round(param4A_r[0], 1)) + ', Km = ' + str(round(param4A_r[1], 1)))"
   ]
  },
  {
   "cell_type": "code",
   "execution_count": 17,
   "id": "626857e0-9595-4689-9df1-4d7b9782df68",
   "metadata": {},
   "outputs": [
    {
     "name": "stdout",
     "output_type": "stream",
     "text": [
      "Kd average: 7740.730420029469 µM\n",
      "kadp average: 120.18221403662669 µM\n"
     ]
    }
   ],
   "source": [
    "print('Kp average: ' + str(np.average((param4A_k[1], param4A_k[1], param4A_k[1], param4A_k[1], param4A_r[1]))) + ' µM')\n",
    "print('kp average: ' + str(np.average((param4A_k[0], param4A_k[0], param4A_k[0], param4A_k[0], param4A_r[0]))) + ' µM')"
   ]
  },
  {
   "cell_type": "code",
   "execution_count": 43,
   "id": "db8f99dd-4e45-4022-b1e4-107a251bdfbf",
   "metadata": {},
   "outputs": [
    {
     "name": "stderr",
     "output_type": "stream",
     "text": [
      "/Users/anaduarte/opt/anaconda3/lib/python3.8/site-packages/scipy/optimize/minpack.py:833: OptimizeWarning: Covariance of the parameters could not be estimated\n",
      "  warnings.warn('Covariance of the parameters could not be estimated',\n"
     ]
    }
   ],
   "source": [
    "param4B_k, speeds4B_k, atpconc4B = Speed_ATP_prodinput_curve_fit(schief4B_df_k['kx'], \n",
    "                                                                 schief4B_df_k['ky'], \n",
    "                                                                 10000,\n",
    "                                                                 Kt,\n",
    "                                                                 np.max(schief4B_df_k['kx']),\n",
    "                                                                 8, \n",
    "                                                                 [113, 28.1])\n",
    "param4B_y, speeds4B_y, atpconc4B = Speed_ATP_prodinput_curve_fit(schief4B_df_y['yx'], \n",
    "                                                                 schief4B_df_y['yy'],\n",
    "                                                                 20000,\n",
    "                                                                 Kt,\n",
    "                                                                 np.max(schief4B_df_k['kx']), \n",
    "                                                                 8, \n",
    "                                                                 [113, 28.1])\n",
    "param4B_g, speeds4B_g, atpconc4B = Speed_ATP_prodinput_curve_fit(schief4B_df_g['gx'], \n",
    "                                                                 schief4B_df_g['gy'],\n",
    "                                                                 1000,\n",
    "                                                                 Kt,\n",
    "                                                                 np.max(schief4B_df_k['kx']), \n",
    "                                                                 8, \n",
    "                                                                 [113, 28.1])\n",
    "param4B_b, speeds4B_b, atpconc4B = Speed_ATP_prodinput_curve_fit(schief4B_df_b['bx'], \n",
    "                                                                 schief4B_df_b['by'], \n",
    "                                                                 300,\n",
    "                                                                 Kt,\n",
    "                                                                 np.max(schief4B_df_k['kx']), \n",
    "                                                                 8, \n",
    "                                                                 [113, 28.1])\n",
    "param4B_r, speeds4B_r, atpconc4B = Speed_ATP_prodinput_curve_fit(schief4B_df_r['rx'], \n",
    "                                                                 schief4B_df_r['ry'], \n",
    "                                                                 3000,\n",
    "                                                                 Kt,\n",
    "                                                                 np.max(schief4B_df_k['kx']), \n",
    "                                                                 8, \n",
    "                                                                 [113, 28.1])"
   ]
  },
  {
   "cell_type": "code",
   "execution_count": 44,
   "id": "1f2deb11-4b52-472f-af0f-e5851a32a112",
   "metadata": {},
   "outputs": [
    {
     "data": {
      "text/plain": [
       "<matplotlib.legend.Legend at 0x7f8ef0771fd0>"
      ]
     },
     "execution_count": 44,
     "metadata": {},
     "output_type": "execute_result"
    },
    {
     "data": {
      "image/png": "[encoded data removed]",
      "text/plain": [
       "<Figure size 432x288 with 1 Axes>"
      ]
     },
     "metadata": {
      "needs_background": "light"
     },
     "output_type": "display_data"
    }
   ],
   "source": [
    "plt.scatter(schief4B_df_y['yx'], schief4B_df_y['yy'], color='y', label = '20000')\n",
    "plt.scatter(schief4B_df_k['kx'], schief4B_df_k['ky'], color='k', label = '10000')\n",
    "plt.scatter(schief4B_df_r['rx'], schief4B_df_r['ry'], color='r', label = '3000')\n",
    "plt.scatter(schief4B_df_g['gx'], schief4B_df_g['gy'], color='g', label = '1000')\n",
    "plt.scatter(schief4B_df_b['bx'], schief4B_df_b['by'], color='b', label = '300')\n",
    "\n",
    "plt.plot(atpconc4B, speeds4B_k, color='k')\n",
    "plt.plot(atpconc4B, speeds4B_y, color='y')\n",
    "plt.plot(atpconc4B, speeds4B_g, color='g')\n",
    "plt.plot(atpconc4B, speeds4B_b, color='b')\n",
    "plt.plot(atpconc4B, speeds4B_r, color='r')\n",
    "\n",
    "plt.yscale('log')\n",
    "plt.xlabel('[ADP] (µM)')\n",
    "plt.ylabel('Speed (nm/s)')\n",
    "plt.title ('Motor Speed vs Phosphate Conc')\n",
    "plt.legend(title = 'ATP ($\\mu$M)', framealpha=0, bbox_to_anchor=(1, 1.05))"
   ]
  },
  {
   "cell_type": "code",
   "execution_count": 45,
   "id": "a034a0a8-0ac6-4f07-8019-fd5672c93178",
   "metadata": {},
   "outputs": [
    {
     "name": "stdout",
     "output_type": "stream",
     "text": [
      "black: kcat = 118.0, Km = 21.1\n",
      "yellow: kcat = 109.8, Km = 21.9\n",
      "green: kcat = 102.6, Km = 34.7\n",
      "blue: kcat = 120.6, Km = 23.5\n",
      "red: kcat = 105.9, Km = 29.9\n"
     ]
    }
   ],
   "source": [
    "print('black: kcat = ' + str(round(param4B_k[0], 1)) + ', Km = ' + str(round(param4B_k[1], 1)))\n",
    "print('yellow: kcat = ' + str(round(param4B_y[0], 1)) + ', Km = ' + str(round(param4B_y[1], 1)))\n",
    "print('green: kcat = ' + str(round(param4B_g[0], 1)) + ', Km = ' + str(round(param4B_g[1], 1)))\n",
    "print('blue: kcat = ' + str(round(param4B_b[0], 1)) + ', Km = ' + str(round(param4B_b[1], 1)))\n",
    "print('red: kcat = ' + str(round(param4B_r[0], 1)) + ', Km = ' + str(round(param4B_r[1], 1)))"
   ]
  },
  {
   "cell_type": "code",
   "execution_count": 46,
   "id": "4221e9d4-ac3e-4dc5-a00d-79ee5b052136",
   "metadata": {},
   "outputs": [
    {
     "name": "stdout",
     "output_type": "stream",
     "text": [
      "Kd average: 22.830824291157636 µM\n",
      "kadp average: 115.5995395705911 µM\n"
     ]
    }
   ],
   "source": [
    "print('Kd average: ' + str(np.average((param4B_k[1], param4B_k[1], param4B_k[1], param4B_k[1], param4B_r[1]))) + ' µM')\n",
    "print('kadp average: ' + str(np.average((param4B_k[0], param4B_k[0], param4B_k[0], param4B_k[0], param4B_r[0]))) + ' µM')"
   ]
  },
  {
   "cell_type": "markdown",
   "id": "ac4a6675-c132-4804-93f9-3bbef99828fc",
   "metadata": {},
   "source": [
    "## Fit only Km and keep gamma or kcat fixed"
   ]
  },
  {
   "cell_type": "markdown",
   "id": "e2e6c02f-d1a4-4403-9e04-8abc53046d88",
   "metadata": {},
   "source": [
    "This function only fits Kprod. It is assumed that kcat is taken to be the value from the no product curve fit"
   ]
  },
  {
   "cell_type": "code",
   "execution_count": 17,
   "id": "86394167-041e-46a8-bb92-81b02b538c68",
   "metadata": {},
   "outputs": [],
   "source": [
    "#Curve-fit to the Langmuir curve\n",
    "def Speed_ATP_prodinput_curve_fit(prodconc, speeds, ATPconc, kcat, Kt, maxconc, d, p0):\n",
    "    \"\"\"\n",
    "    Performs a curve fitting using scipy.optimize.curve_fit to fit data\n",
    "    \n",
    "    Parameters\n",
    "    conc = 1D array of ATP concentrations in uM units\n",
    "    speeds = 1D array of measured motor speeds in 1/s units\n",
    "    maxconc = maximum concentration of data taken in uM units\n",
    "    p0 = 1D list with 2 entries of parameter guesses for kcat and Km\n",
    "    \n",
    "    Returns\n",
    "    param = 1D list with fit values of each parameter (kcat and Km)\n",
    "    curve = 1D array of motor speeds for every concentration value in xvals\n",
    "    xvals = 1D array from 0 to maxconc with step size 1\n",
    "    \"\"\"\n",
    "    \n",
    "    def Speed_ATP_prodinput_eqn(prodconc, Kprod, ATPconc=ATPconc, Kt=Kt):\n",
    "        \"\"\"\n",
    "        Given a concentration value in uM, this function returns motor speeds in nm/s\n",
    "\n",
    "        Parameters:\n",
    "        conc = 1D array of ATP concentrations in uM units\n",
    "        kcat = maximum hydrolysis rate at saturating ATP units 1/s\n",
    "        Km = concnetration at which motors walk at half max speed in units uM\n",
    "\n",
    "        Returns:\n",
    "        A 1D array of motor speeds corresponding to the given concentrations\n",
    "        \"\"\"\n",
    "        return (ATPconc)/(Kt*(1 + prodconc/Kprod) + ATPconc)\n",
    "\n",
    "    #Curve fits and returns parameter values as well as the covarience\n",
    "    param, param_cov = curve_fit(Speed_ATP_prodinput_eqn, \n",
    "                                 prodconc,\n",
    "                                 speeds/(d*kcat),\n",
    "                                 p0, \n",
    "                                 bounds = (np.zeros(1), np.ones([1])*np.inf))\n",
    "\n",
    "    #stores the new function information according to the coefficients given by curve-fit() function \n",
    "    xvals=np.linspace(0, int(maxconc+1), int(maxconc+1))\n",
    "    curve = d*kcat*Speed_ATP_prodinput_eqn(xvals, param[0])\n",
    "    \n",
    "    return param, curve, xvals\n"
   ]
  },
  {
   "cell_type": "markdown",
   "id": "e8db7516-0ffb-4bb0-aafb-0af279d8f8dc",
   "metadata": {},
   "source": [
    "### Phosphate"
   ]
  },
  {
   "cell_type": "code",
   "execution_count": 20,
   "id": "5138e17e-6613-433f-a1f6-e615789b7394",
   "metadata": {},
   "outputs": [],
   "source": [
    "kcat=round(param2_k[0], 1)\n",
    "Kt = round(param2_k[1], 1)"
   ]
  },
  {
   "cell_type": "code",
   "execution_count": 21,
   "id": "b584eeae-fda9-4c40-9a8c-7638f32f3e1c",
   "metadata": {},
   "outputs": [],
   "source": [
    "param4A_k, speeds4A_k, atpconc4A = Speed_ATP_prodinput_curve_fit(schief4A_df_k['kx'], \n",
    "                                                                 schief4A_df_k['ky'], \n",
    "                                                                 100,\n",
    "                                                                 kcat,\n",
    "                                                                 Kt,\n",
    "                                                                 np.max(schief4A_df_k['kx']),\n",
    "                                                                 8, \n",
    "                                                                 [28.1])\n",
    "                                                        \n",
    "param4A_y, speeds4A_y, atpconc4A = Speed_ATP_prodinput_curve_fit(schief4A_df_y['yx'], \n",
    "                                                                 schief4A_df_y['yy'],\n",
    "                                                                 300,\n",
    "                                                                 kcat,\n",
    "                                                                 Kt,\n",
    "                                                                 np.max(schief4A_df_k['kx']), \n",
    "                                                                 8, \n",
    "                                                                 [28.1])\n",
    "                                                                 \n",
    "param4A_g, speeds4A_g, atpconc4A = Speed_ATP_prodinput_curve_fit(schief4A_df_g['gx'], \n",
    "                                                                 schief4A_df_g['gy'],\n",
    "                                                                 10,\n",
    "                                                                 kcat,\n",
    "                                                                 Kt,\n",
    "                                                                 np.max(schief4A_df_k['kx']), \n",
    "                                                                 8,\n",
    "                                                                 [28.1])\n",
    "                                                                 \n",
    "param4A_b, speeds4A_b, atpconc4A = Speed_ATP_prodinput_curve_fit(schief4A_df_b['bx'], \n",
    "                                                                 schief4A_df_b['by'], \n",
    "                                                                 5,\n",
    "                                                                 kcat,\n",
    "                                                                 Kt,\n",
    "                                                                 np.max(schief4A_df_k['kx']), \n",
    "                                                                 8, \n",
    "                                                                 [28.1])\n",
    "                                                                 \n",
    "param4A_r, speeds4A_r, atpconc4A = Speed_ATP_prodinput_curve_fit(schief4A_df_r['rx'], \n",
    "                                                                 schief4A_df_r['ry'], \n",
    "                                                                 30,\n",
    "                                                                 kcat,\n",
    "                                                                 Kt,\n",
    "                                                                 np.max(schief4A_df_k['kx']), \n",
    "                                                                 8, \n",
    "                                                                 [28.1])\n",
    "                                                                 \n",
    "param4A_c, speeds4A_c, atpconc4A = Speed_ATP_prodinput_curve_fit(schief4A_df_c['cx'], \n",
    "                                                                 schief4A_df_c['cy'], \n",
    "                                                                 1000,\n",
    "                                                                 kcat,\n",
    "                                                                 Kt,\n",
    "                                                                 np.max(schief4A_df_k['kx']), \n",
    "                                                                 8, \n",
    "                                                                 [28.1])\n",
    "                                                                 \n"
   ]
  },
  {
   "cell_type": "code",
   "execution_count": 22,
   "id": "354abbcc-cdf9-44ed-8228-81a9fd9f581e",
   "metadata": {},
   "outputs": [
    {
     "data": {
      "text/plain": [
       "<matplotlib.legend.Legend at 0x7ff210034400>"
      ]
     },
     "execution_count": 22,
     "metadata": {},
     "output_type": "execute_result"
    },
    {
     "data": {
      "image/png": "[encoded data removed]",
      "text/plain": [
       "<Figure size 432x288 with 1 Axes>"
      ]
     },
     "metadata": {
      "needs_background": "light"
     },
     "output_type": "display_data"
    }
   ],
   "source": [
    "plt.scatter(schief4A_df_c['cx'], schief4A_df_c['cy'], color='c', label = '1000')\n",
    "plt.scatter(schief4A_df_y['yx'], schief4A_df_y['yy'], color='y', label = '300')\n",
    "plt.scatter(schief4A_df_k['kx'], schief4A_df_k['ky'], color='k', label = '100')\n",
    "plt.scatter(schief4A_df_r['rx'], schief4A_df_r['ry'], color='r', label = '30')\n",
    "plt.scatter(schief4A_df_g['gx'], schief4A_df_g['gy'], color='g', label = '10')\n",
    "plt.scatter(schief4A_df_b['bx'], schief4A_df_b['by'], color='b', label = '5')\n",
    "\n",
    "plt.plot(atpconc4A, speeds4A_k, color='k')\n",
    "plt.plot(atpconc4A, speeds4A_y, color='y')\n",
    "plt.plot(atpconc4A, speeds4A_g, color='g')\n",
    "plt.plot(atpconc4A, speeds4A_b, color='b')\n",
    "plt.plot(atpconc4A, speeds4A_r, color='r')\n",
    "plt.plot(atpconc4A, speeds4A_c, color='c')\n",
    "\n",
    "plt.yscale('log')\n",
    "plt.xlabel('[Pi] (µM)')\n",
    "plt.ylabel('Speed (nm/s)')\n",
    "plt.title ('Motor Speed vs Phosphate Conc')\n",
    "plt.legend(title = 'ATP ($\\mu$M)', framealpha=0, bbox_to_anchor=(1, 1.05))"
   ]
  },
  {
   "cell_type": "code",
   "execution_count": 23,
   "id": "5001a06e-fcb6-4d87-8031-7591b81e25b2",
   "metadata": {},
   "outputs": [
    {
     "name": "stdout",
     "output_type": "stream",
     "text": [
      "cyan: Kprod = 12233.5\n",
      "black: Kprod = 12457.9\n",
      "yellow: Kprod = 27825.4\n",
      "green: Kprod = 10104.9\n",
      "blue: Kprod = 7395.4\n",
      "red: Kprod = 6756.9\n"
     ]
    }
   ],
   "source": [
    "print('cyan: Kprod = ' + str(round(param4A_c[0], 1)))\n",
    "print('black: Kprod = ' + str(round(param4A_k[0], 1)))\n",
    "print('yellow: Kprod = ' + str(round(param4A_y[0], 1)))\n",
    "print('green: Kprod = ' + str(round(param4A_g[0], 1)))\n",
    "print('blue: Kprod = ' + str(round(param4A_b[0], 1)))\n",
    "print('red: Kprod = ' + str(round(param4A_r[0], 1)))"
   ]
  },
  {
   "cell_type": "code",
   "execution_count": 24,
   "id": "9f256994-c953-4c72-b9df-6aefdc768715",
   "metadata": {},
   "outputs": [
    {
     "name": "stdout",
     "output_type": "stream",
     "text": [
      "Kp average: 11317.681496430312 µM\n"
     ]
    }
   ],
   "source": [
    "print('Kp average: ' + str(np.average((param4A_k[0], param4A_k[0], param4A_k[0], param4A_k[0], param4A_r[0]))) + ' µM')"
   ]
  },
  {
   "cell_type": "markdown",
   "id": "33d1a5b1-639c-496f-be55-d6f14dc46f04",
   "metadata": {},
   "source": [
    "### ADP"
   ]
  },
  {
   "cell_type": "code",
   "execution_count": 25,
   "id": "db51e86f-3092-4350-911b-0f2d3191d966",
   "metadata": {},
   "outputs": [],
   "source": [
    "param4B_k, speeds4B_k, atpconc4B = Speed_ATP_prodinput_curve_fit(schief4B_df_k['kx'], \n",
    "                                                                 schief4B_df_k['ky'], \n",
    "                                                                 10000,\n",
    "                                                                 kcat,\n",
    "                                                                 Kt,\n",
    "                                                                 np.max(schief4B_df_k['kx']),\n",
    "                                                                 8, \n",
    "                                                                 [28.1])\n",
    "param4B_y, speeds4B_y, atpconc4B = Speed_ATP_prodinput_curve_fit(schief4B_df_y['yx'], \n",
    "                                                                 schief4B_df_y['yy'],\n",
    "                                                                 20000,\n",
    "                                                                 kcat,\n",
    "                                                                 Kt,\n",
    "                                                                 np.max(schief4B_df_k['kx']), \n",
    "                                                                 8, \n",
    "                                                                 [28.1])\n",
    "param4B_g, speeds4B_g, atpconc4B = Speed_ATP_prodinput_curve_fit(schief4B_df_g['gx'], \n",
    "                                                                 schief4B_df_g['gy'],\n",
    "                                                                 1000,\n",
    "                                                                 kcat,\n",
    "                                                                 Kt,\n",
    "                                                                 np.max(schief4B_df_k['kx']), \n",
    "                                                                 8, \n",
    "                                                                 [28.1])\n",
    "param4B_b, speeds4B_b, atpconc4B = Speed_ATP_prodinput_curve_fit(schief4B_df_b['bx'], \n",
    "                                                                 schief4B_df_b['by'], \n",
    "                                                                 300,\n",
    "                                                                 kcat,\n",
    "                                                                 Kt,\n",
    "                                                                 np.max(schief4B_df_k['kx']), \n",
    "                                                                 8, \n",
    "                                                                 [28.1])\n",
    "param4B_r, speeds4B_r, atpconc4B = Speed_ATP_prodinput_curve_fit(schief4B_df_r['rx'], \n",
    "                                                                 schief4B_df_r['ry'], \n",
    "                                                                 3000,\n",
    "                                                                 kcat,\n",
    "                                                                 Kt,\n",
    "                                                                 np.max(schief4B_df_k['kx']), \n",
    "                                                                 8, \n",
    "                                                                 [28.1])"
   ]
  },
  {
   "cell_type": "code",
   "execution_count": 26,
   "id": "26eb6934-74eb-4038-8907-9764aad381f0",
   "metadata": {},
   "outputs": [
    {
     "data": {
      "text/plain": [
       "<matplotlib.legend.Legend at 0x7ff2307301c0>"
      ]
     },
     "execution_count": 26,
     "metadata": {},
     "output_type": "execute_result"
    },
    {
     "data": {
      "image/png": "[encoded data removed]",
      "text/plain": [
       "<Figure size 432x288 with 1 Axes>"
      ]
     },
     "metadata": {
      "needs_background": "light"
     },
     "output_type": "display_data"
    }
   ],
   "source": [
    "plt.scatter(schief4B_df_y['yx'], schief4B_df_y['yy'], color='y', label = '20000')\n",
    "plt.scatter(schief4B_df_k['kx'], schief4B_df_k['ky'], color='k', label = '10000')\n",
    "plt.scatter(schief4B_df_r['rx'], schief4B_df_r['ry'], color='r', label = '3000')\n",
    "plt.scatter(schief4B_df_g['gx'], schief4B_df_g['gy'], color='g', label = '1000')\n",
    "plt.scatter(schief4B_df_b['bx'], schief4B_df_b['by'], color='b', label = '300')\n",
    "\n",
    "plt.plot(atpconc4B, speeds4B_k, color='k')\n",
    "plt.plot(atpconc4B, speeds4B_y, color='y')\n",
    "plt.plot(atpconc4B, speeds4B_g, color='g')\n",
    "plt.plot(atpconc4B, speeds4B_b, color='b')\n",
    "plt.plot(atpconc4B, speeds4B_r, color='r')\n",
    "\n",
    "plt.yscale('log')\n",
    "plt.xlabel('[ADP] (µM)')\n",
    "plt.ylabel('Speed (nm/s)')\n",
    "plt.title ('Motor Speed vs Phosphate Conc')\n",
    "plt.legend(title = 'ATP ($\\mu$M)', framealpha=0, bbox_to_anchor=(1, 1.05))"
   ]
  },
  {
   "cell_type": "code",
   "execution_count": 27,
   "id": "477534fb-4803-41aa-9fda-9894a0bba222",
   "metadata": {},
   "outputs": [
    {
     "name": "stdout",
     "output_type": "stream",
     "text": [
      "black: kcat = 23.8\n",
      "yellow: kcat = 14.7\n",
      "green: kcat = 26.7\n",
      "blue: kcat = 25.4\n",
      "red: kcat = 23.0\n"
     ]
    }
   ],
   "source": [
    "print('black: kcat = ' + str(round(param4B_k[0], 1)))\n",
    "print('yellow: kcat = ' + str(round(param4B_y[0], 1)))\n",
    "print('green: kcat = ' + str(round(param4B_g[0], 1)))\n",
    "print('blue: kcat = ' + str(round(param4B_b[0], 1)))\n",
    "print('red: kcat = ' + str(round(param4B_r[0], 1)))"
   ]
  },
  {
   "cell_type": "code",
   "execution_count": 28,
   "id": "d163762c-0632-4314-b09e-90da27135d30",
   "metadata": {},
   "outputs": [
    {
     "name": "stdout",
     "output_type": "stream",
     "text": [
      "Kadp average: 23.603423057191037 µM\n"
     ]
    }
   ],
   "source": [
    "print('Kadp average: ' + str(np.average((param4B_k[0], param4B_k[0], param4B_k[0], param4B_k[0], param4B_r[0]))) + ' µM')"
   ]
  },
  {
   "cell_type": "markdown",
   "id": "377e7a77-e2b2-47d6-8a24-e6a037b3f153",
   "metadata": {},
   "source": [
    "## Check how the different methods fit the data"
   ]
  },
  {
   "cell_type": "code",
   "execution_count": null,
   "id": "3bcb90d3-7171-4bfb-a912-b98697a28940",
   "metadata": {},
   "outputs": [],
   "source": [
    "d=8\n",
    "\n",
    "plt.plot(atpconc, d*(114.5*atpconc)/(26.2 +atpconc), color = 'k')\n",
    "plt.plot(atpconc, d*(107.80952380952381*atpconc)/(56.4973544973545 +atpconc), color = 'y')\n",
    "plt.plot(atpconc, d*(108.48333333333333*atpconc)/(805.228781310212 +atpconc), color = 'g')\n",
    "plt.plot(atpconc, d*(92.98571428571428*atpconc)/(3358.651919900908 +atpconc), color = 'b')\n",
    "plt.plot(atpconc, d*(0.6748734741839815*atpconc)/(13.919546847886444 +atpconc), color = 'r')"
   ]
  },
  {
   "cell_type": "code",
   "execution_count": 160,
   "id": "2eec8e7c-9178-497e-b58d-5ed555a06707",
   "metadata": {},
   "outputs": [
    {
     "data": {
      "text/plain": [
       "<matplotlib.legend.Legend at 0x7f8ee73f1eb0>"
      ]
     },
     "execution_count": 160,
     "metadata": {},
     "output_type": "execute_result"
    },
    {
     "data": {
      "image/png": "[encoded data removed]",
      "text/plain": [
       "<Figure size 432x288 with 1 Axes>"
      ]
     },
     "metadata": {
      "needs_background": "light"
     },
     "output_type": "display_data"
    }
   ],
   "source": [
    "color = ['k', 'y', 'g', 'b', 'r']\n",
    "pconc = [0, 10000, 5000, 0, 0,]\n",
    "adpconc = [0, 0, 1000, 1000, 5000]\n",
    "for i, color in enumerate(color):\n",
    "    #plt.plot(atpconc2, 8*114.5*(atpconc2/26.2)/(1 + (atpconc2/26.2) + (pconc[i]/11318) + (adpconc[i]/23.6) ), color = color)\n",
    "    plt.plot(atpconc2, 8*114.5*(atpconc2/26.2)/(1 + (atpconc2/26.2) + (pconc[i]/9241) + (adpconc[i]/25.1) ), color = color)\n",
    "    \n",
    "#+ (pconc[i]*adpconc[i]/(11318*23.6))\n",
    "\n",
    "plt.scatter(schief2_df_k['kx'], schief2_df_k['ky'], color='k', label = 'ADP=0mM, P=0mM')\n",
    "plt.scatter(schief2_df_y['yx'], schief2_df_y['yy'], color='y', label = 'ADP=0mM, P=10mM')\n",
    "plt.scatter(schief2_df_g['gx'], schief2_df_g['gy'], color='g', label = 'ADP=1mM, P=5mM')\n",
    "plt.scatter(schief2_df_b['bx'], schief2_df_b['by'], color='b', label = 'ADP=1mM, P=0mM')\n",
    "plt.scatter(schief2_df_r['rx'], schief2_df_r['ry'], color='r', label = 'ADP=5mM, P=0mM')\n",
    "plt.plot(atpconc2, (114.5*8/2)*np.ones(len(atpconc2)), color ='grey')\n",
    "#plt.plot(Kdp*np.ones(2), [1, 1000] ,color = 'grey')\n",
    "plt.xscale('log')\n",
    "plt.yscale('log')\n",
    "plt.xlabel('[ATP] (µM)')\n",
    "plt.ylabel('Speed (nm/s)')\n",
    "plt.ylim(20, 1100)\n",
    "plt.title ('Motor Speed vs ADP Conc')\n",
    "plt.legend(title = 'Products', framealpha=0, bbox_to_anchor=(1, 1.05))"
   ]
  },
  {
   "cell_type": "code",
   "execution_count": 108,
   "id": "cadd5e3f-b279-48b5-8df3-152b1fb94f18",
   "metadata": {},
   "outputs": [
    {
     "data": {
      "text/plain": [
       "(20, 1000)"
      ]
     },
     "execution_count": 108,
     "metadata": {},
     "output_type": "execute_result"
    },
    {
     "data": {
      "image/png": "[encoded data removed]",
      "text/plain": [
       "<Figure size 432x288 with 1 Axes>"
      ]
     },
     "metadata": {
      "needs_background": "light"
     },
     "output_type": "display_data"
    }
   ],
   "source": [
    "plt.plot(atpconc2, 8*114.5*(atpconc2/26.2)/(1 + (atpconc2/26.2) + (pconc[2]/11318) + (adpconc[2]/23.6)), color = 'g')\n",
    "plt.xscale('log')\n",
    "plt.yscale('log')\n",
    "plt.ylim(20, 1000)"
   ]
  },
  {
   "cell_type": "code",
   "execution_count": null,
   "id": "2b1bc73e-a3a0-4698-8719-91b7290bbeba",
   "metadata": {},
   "outputs": [],
   "source": []
  },
  {
   "cell_type": "code",
   "execution_count": null,
   "id": "d16df312-2a9a-479d-958d-e522c3be47c0",
   "metadata": {},
   "outputs": [],
   "source": []
  },
  {
   "cell_type": "markdown",
   "id": "90960d35-a1a8-463e-a195-e7ed5d410740",
   "metadata": {},
   "source": [
    "Define variables for the measured parameters from the paper (Table 1)"
   ]
  },
  {
   "cell_type": "code",
   "execution_count": 10,
   "id": "f428902f-a75b-47ea-8838-18f24df18402",
   "metadata": {},
   "outputs": [],
   "source": [
    "kcat00 = 113.2 #1/s\n",
    "Km00 = 28.1 # uM\n",
    "KiP = 9000 #uM\n",
    "KiiP = 200000 #uM\n",
    "KiADP = 34.6 #uM\n",
    "KiiADP = 23000 #uM\n",
    "KiADPP = 95000 #uM\n",
    "KiiADPP = 30000 #uM"
   ]
  },
  {
   "cell_type": "markdown",
   "id": "4a1e5095-559d-43bc-ace3-9ca3500d53f4",
   "metadata": {},
   "source": [
    "Make a data frame for the experimental conditions"
   ]
  },
  {
   "cell_type": "code",
   "execution_count": 11,
   "id": "6575afa9-ac7a-4721-bfee-e5b49b05da10",
   "metadata": {},
   "outputs": [
    {
     "data": {
      "text/html": [
       "<div>\n",
       "<style scoped>\n",
       "    .dataframe tbody tr th:only-of-type {\n",
       "        vertical-align: middle;\n",
       "    }\n",
       "\n",
       "    .dataframe tbody tr th {\n",
       "        vertical-align: top;\n",
       "    }\n",
       "\n",
       "    .dataframe thead th {\n",
       "        text-align: right;\n",
       "    }\n",
       "</style>\n",
       "<table border=\"1\" class=\"dataframe\">\n",
       "  <thead>\n",
       "    <tr style=\"text-align: right;\">\n",
       "      <th></th>\n",
       "      <th>k</th>\n",
       "      <th>y</th>\n",
       "      <th>g</th>\n",
       "      <th>b</th>\n",
       "      <th>r</th>\n",
       "    </tr>\n",
       "  </thead>\n",
       "  <tbody>\n",
       "    <tr>\n",
       "      <th>[ADP] (mM)</th>\n",
       "      <td>0</td>\n",
       "      <td>0</td>\n",
       "      <td>1000</td>\n",
       "      <td>5000</td>\n",
       "      <td>1000</td>\n",
       "    </tr>\n",
       "    <tr>\n",
       "      <th>[Pi] (mM)</th>\n",
       "      <td>0</td>\n",
       "      <td>10000</td>\n",
       "      <td>0</td>\n",
       "      <td>0</td>\n",
       "      <td>5000</td>\n",
       "    </tr>\n",
       "  </tbody>\n",
       "</table>\n",
       "</div>"
      ],
      "text/plain": [
       "            k      y     g     b     r\n",
       "[ADP] (mM)  0      0  1000  5000  1000\n",
       "[Pi] (mM)   0  10000     0     0  5000"
      ]
     },
     "execution_count": 11,
     "metadata": {},
     "output_type": "execute_result"
    }
   ],
   "source": [
    "exp_condit = pd.DataFrame([[0, 0, 1000, 5000, 1000], [0, 10000, 0, 0, 5000]], \n",
    "                          index = ['[ADP] (mM)', '[Pi] (mM)'], \n",
    "                          columns = ['k', 'y', 'g', 'b', 'r'])\n",
    "exp_condit\n"
   ]
  },
  {
   "cell_type": "markdown",
   "id": "4bfec187-d5cb-443a-b2ec-aab285ac5237",
   "metadata": {},
   "source": [
    "use equations 2 and 3 from the paper and the measured parameters from table 1 to see what the kcat and Km values should be for all the experimental conditions"
   ]
  },
  {
   "cell_type": "code",
   "execution_count": 12,
   "id": "fad2fb84-d1a6-4059-8585-3ef62dcdc27a",
   "metadata": {},
   "outputs": [
    {
     "name": "stdout",
     "output_type": "stream",
     "text": [
      "k\n",
      "1.0\n",
      "1.0\n",
      "kcat = 113.2,  Km = 28.1\n",
      "y\n",
      "1.05\n",
      "2.111111111111111\n",
      "kcat = 107.80952380952381,  Km = 56.4973544973545\n",
      "g\n",
      "1.0434782608695652\n",
      "29.90173410404624\n",
      "kcat = 108.48333333333333,  Km = 805.228781310212\n",
      "b\n",
      "1.2173913043478262\n",
      "145.50867052023122\n",
      "kcat = 92.98571428571428,  Km = 3358.651919900908\n",
      "r\n",
      "167.73514492753623\n",
      "83.08886860697021\n",
      "kcat = 0.6748734741839815,  Km = 13.919546847886444\n"
     ]
    }
   ],
   "source": [
    "for color in ['k', 'y', 'g', 'b', 'r']:\n",
    "    ADP = exp_condit[color]['[ADP] (mM)']\n",
    "    Pi = exp_condit[color]['[Pi] (mM)']\n",
    "    print(color)\n",
    "    kcat = kcat00/(1 + (ADP/KiiADP) + (Pi/KiiP) + (ADP*Pi/KiiADPP))\n",
    "    Km = (kcat*Km00/kcat00)*(1 + (ADP/KiADP) + (Pi/KiP) + (ADP*Pi/KiADPP))\n",
    "    print(1 + (ADP/KiiADP) + (Pi/KiiP) + (ADP*Pi/KiiADPP))\n",
    "    print(1 + (ADP/KiADP) + (Pi/KiP) + (ADP*Pi/KiADPP))\n",
    "    print('kcat = ' + str(kcat) + ',  Km = ' + str(Km))"
   ]
  },
  {
   "cell_type": "markdown",
   "id": "d0844d92-ba25-4e67-a416-558ab85f96d0",
   "metadata": {},
   "source": [
    "Welp these really don't match the values from the fitted curves. Some thoughts:\n",
    "- the trends don't make sense in the lsited parameters above. kcat should go lowest - red, blue, green, black, yellow - highest based on Fig 2 and Km should go lowest - black, yellow, green, blue, red - highest basded on Fig 2\n",
    "- Something else must be measured - between eqns 2 and 3 there are at ≥2 unknowns for 2 equations. Not sure how to fit Ki, Kii, for ADP and P when both are present. I.e. if we take kcat, Km, kcat00, and Km00 to be fit in Fig 2, then we can solve for Ki and Kii if only one species is present. maybe doing this lets us figure out the values for ADP and Pi independently and then use these values for ADPxP together. But, this still doesn't make the measured paper parameters match the fitted Fig 2 parameters\n",
    "- Is there a regeneration system here?\n",
    "- What is an experiment for figures 3, 4, 5. Are these experimentally measured or gathered from figure 2. How is kcat in fig 3 measured or infered?"
   ]
  },
  {
   "cell_type": "code",
   "execution_count": 13,
   "id": "8b5b953c-bf78-406c-96bd-427dafecd1e7",
   "metadata": {},
   "outputs": [
    {
     "data": {
      "text/plain": [
       "[<matplotlib.lines.Line2D at 0x7fef00afedc0>]"
      ]
     },
     "execution_count": 13,
     "metadata": {},
     "output_type": "execute_result"
    },
    {
     "data": {
      "image/png": "[encoded data removed]",
      "text/plain": [
       "<Figure size 432x288 with 1 Axes>"
      ]
     },
     "metadata": {
      "needs_background": "light"
     },
     "output_type": "display_data"
    }
   ],
   "source": [
    "d=8\n",
    "\n",
    "plt.plot(atpconc, d*(113.2*atpconc)/(28.1 +atpconc), color = 'k')\n",
    "plt.plot(atpconc, d*(107.80952380952381*atpconc)/(56.4973544973545 +atpconc), color = 'y')\n",
    "plt.plot(atpconc, d*(108.48333333333333*atpconc)/(805.228781310212 +atpconc), color = 'g')\n",
    "plt.plot(atpconc, d*(92.98571428571428*atpconc)/(3358.651919900908 +atpconc), color = 'b')\n",
    "plt.plot(atpconc, d*(0.6748734741839815*atpconc)/(13.919546847886444 +atpconc), color = 'r')"
   ]
  },
  {
   "cell_type": "code",
   "execution_count": null,
   "id": "7de80683-1d66-405f-82b8-24574d9d5940",
   "metadata": {},
   "outputs": [],
   "source": []
  }
 ],
 "metadata": {
  "kernelspec": {
   "display_name": "Python 3 (ipykernel)",
   "language": "python",
   "name": "python3"
  },
  "language_info": {
   "codemirror_mode": {
    "name": "ipython",
    "version": 3
   },
   "file_extension": ".py",
   "mimetype": "text/x-python",
   "name": "python",
   "nbconvert_exporter": "python",
   "pygments_lexer": "ipython3",
   "version": "3.8.11"
  }
 },
 "nbformat": 4,
 "nbformat_minor": 5
}
