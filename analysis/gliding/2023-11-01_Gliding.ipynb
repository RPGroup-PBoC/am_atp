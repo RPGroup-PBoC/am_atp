{
 "cells": [
  {
   "cell_type": "code",
   "execution_count": 3,
   "id": "12d031c9-d497-4690-b283-e5f617a4a201",
   "metadata": {},
   "outputs": [],
   "source": [
    "# #Numpy - for scientific computing\n",
    "import numpy as np\n",
    "# import scipy\n",
    "\n",
    "# #For image reading and analysis\n",
    "import glob\n",
    "# import skimage.io\n",
    "# import skimage.filters as sf\n",
    "# from skimage import io, measure, filters, transform, morphology\n",
    "\n",
    "# #Matplotlib plotting packages\n",
    "import matplotlib as mpl\n",
    "import matplotlib.pyplot as plt\n",
    "\n",
    "\n",
    "# For loading bars\n",
    "from tqdm.notebook import tqdm as tqdm\n",
    "\n",
    "# # For creating DataFrames\n",
    "import pandas as pd"
   ]
  },
  {
   "cell_type": "code",
   "execution_count": 4,
   "id": "a1313f24-a4f7-4dc3-bfe7-c61f15308a39",
   "metadata": {},
   "outputs": [],
   "source": [
    "import gliding_pkg.gliding_anal as gpkg"
   ]
  },
  {
   "cell_type": "code",
   "execution_count": 5,
   "id": "394eeecc-24a4-4ed5-8d3d-5483f48f3f21",
   "metadata": {},
   "outputs": [],
   "source": [
    "def expparam_adder(df_good, param_df):\n",
    "    zeros = np.zeros(len(df_good))\n",
    "    df_good['Motor Type'] = [param_df.loc['Motor_Type']['Value']]*len(df_good)\n",
    "    df_good['Motor_Conc_uM'] = zeros + float(param_df.loc['Motor_Conc_uM']['Value'])\n",
    "    df_good['MT_Conc_uM'] = zeros + float(param_df.loc['MT_Conc_uM']['Value'])\n",
    "    df_good['ATP_Conc_uM'] = zeros + float(param_df.loc['ATP_Conc_uM']['Value'])\n",
    "    df_good['ADP_Conc_uM'] = zeros + float(param_df.loc['ADP_Conc_uM']['Value'])\n",
    "    df_good['P_Conc_uM'] = zeros + float(param_df.loc['P_Conc_uM']['Value'])\n",
    "    df_good['Flag_Conc_mg-ml'] = zeros + float(param_df.loc['Flag_Conc_mg-ml']['Value'])\n",
    "    df_good['BSA_Caesin_Both'] = [param_df.loc['BSA_Caesin_Both']['Value']]*len(df_good)\n",
    "    df_good['Acq_Time_s'] = zeros + float(param_df.loc['Acq_Time_s']['Value'])\n",
    "    df_good['Time_Interval_s'] = zeros + float(param_df.loc['Time_Interval_s']['Value'])\n",
    "    df_good['Cy5_exptime_ms'] = zeros + float(param_df.loc['Cy5_exptime_ms']['Value'])\n",
    "    df_good['Cy5_gain'] = zeros + float(param_df.loc['Cy5_gain']['Value'])\n",
    "    df_good['YFP_exptime_ms'] = zeros + float(param_df.loc['YFP_exptime_ms']['Value'])\n",
    "    df_good['YFP_gain'] = zeros + float(param_df.loc['YFP_gain']['Value'])\n",
    "    df_good['Temperature'] = zeros + float(param_df.loc['Temperature']['Value'])\n",
    "    \n",
    "    return df_good"
   ]
  },
  {
   "cell_type": "code",
   "execution_count": 594,
   "id": "3501ae32-094b-464f-97e8-fecb637e6fbd",
   "metadata": {},
   "outputs": [],
   "source": [
    "file_path = '../../data/gliding/'\n",
    "file_folder = '2023-11-01_Gliding/1_Changing_ADP_at_40uMATP/500uM_ADP'"
   ]
  },
  {
   "cell_type": "code",
   "execution_count": 595,
   "id": "dce734ef-6dd8-4585-a385-14880c6d3790",
   "metadata": {},
   "outputs": [],
   "source": [
    "param_df = pd.read_excel(file_path + file_folder + '/Exp_Params_Template.xlsx', names=['Param', 'Value']).set_index('Param')"
   ]
  },
  {
   "cell_type": "code",
   "execution_count": 596,
   "id": "6ef2f204-c97f-499f-8e59-776d069ef520",
   "metadata": {},
   "outputs": [],
   "source": [
    "files = np.sort(glob.glob(file_path + file_folder + '/TIRF*'))"
   ]
  },
  {
   "cell_type": "code",
   "execution_count": 597,
   "id": "b11320fc-648f-4430-b810-3bc8559bcc8d",
   "metadata": {},
   "outputs": [],
   "source": [
    "# Params\n",
    "acqu_interval = 1 #s acquisition intervals\n",
    "umperpixel=0.161"
   ]
  },
  {
   "cell_type": "code",
   "execution_count": 598,
   "id": "a3ebbebb-7357-4a58-b02a-0c21f7eacb5f",
   "metadata": {},
   "outputs": [
    {
     "data": {
      "application/vnd.jupyter.widget-view+json": {
       "model_id": "450be30d02854f6f8c9634edb812368f",
       "version_major": 2,
       "version_minor": 0
      },
      "text/plain": [
       "  0%|          | 0/2 [00:00<?, ?it/s]"
      ]
     },
     "metadata": {},
     "output_type": "display_data"
    },
    {
     "name": "stderr",
     "output_type": "stream",
     "text": [
      "/Users/anaduarte/RPgroup/am_atp/analysis/gliding/gliding_pkg/gliding_anal.py:245: RuntimeWarning: invalid value encountered in long_scalars\n",
      "  com = np.sum(row_vals*xindex)/np.sum(row_vals)\n",
      "/Users/anaduarte/RPgroup/am_atp/analysis/gliding/gliding_pkg/gliding_anal.py:289: RankWarning: Polyfit may be poorly conditioned\n",
      "  skele_xvals, skele_yvals, skele_params, skele_speed, skele_rsqrd = skeletonfit(kymo_thresh, pixel_size)\n",
      "/Users/anaduarte/RPgroup/am_atp/analysis/gliding/gliding_pkg/gliding_anal.py:233: RuntimeWarning: divide by zero encountered in double_scalars\n",
      "  rsqrd = 1-(ss_res/ss_tot)\n",
      "/Users/anaduarte/RPgroup/am_atp/analysis/gliding/gliding_pkg/gliding_anal.py:289: RankWarning: Polyfit may be poorly conditioned\n",
      "  skele_xvals, skele_yvals, skele_params, skele_speed, skele_rsqrd = skeletonfit(kymo_thresh, pixel_size)\n",
      "/Users/anaduarte/RPgroup/am_atp/analysis/gliding/gliding_pkg/gliding_anal.py:289: RankWarning: Polyfit may be poorly conditioned\n",
      "  skele_xvals, skele_yvals, skele_params, skele_speed, skele_rsqrd = skeletonfit(kymo_thresh, pixel_size)\n",
      "/Users/anaduarte/RPgroup/am_atp/analysis/gliding/gliding_pkg/gliding_anal.py:353: UserWarning: Boolean Series key will be reindexed to match DataFrame index.\n",
      "  df_good = df[df['r^2']>r2thresh][df['skele r^2']>skelethresh]\n",
      "/Users/anaduarte/RPgroup/am_atp/analysis/gliding/gliding_pkg/gliding_anal.py:384: RuntimeWarning: divide by zero encountered in true_divide\n",
      "  checkvals = (((x-x0)*np.cos(orientation) + (y-y0)*np.sin(orientation))**2 / major_len**2) + (((x-x0)*np.sin(orientation) - (y-y0)*np.cos(orientation))**2 / minor_len**2)\n",
      "/Users/anaduarte/RPgroup/am_atp/analysis/gliding/gliding_pkg/gliding_anal.py:245: RuntimeWarning: invalid value encountered in long_scalars\n",
      "  com = np.sum(row_vals*xindex)/np.sum(row_vals)\n",
      "/Users/anaduarte/RPgroup/am_atp/analysis/gliding/gliding_pkg/gliding_anal.py:289: RankWarning: Polyfit may be poorly conditioned\n",
      "  skele_xvals, skele_yvals, skele_params, skele_speed, skele_rsqrd = skeletonfit(kymo_thresh, pixel_size)\n",
      "/Users/anaduarte/RPgroup/am_atp/analysis/gliding/gliding_pkg/gliding_anal.py:233: RuntimeWarning: divide by zero encountered in double_scalars\n",
      "  rsqrd = 1-(ss_res/ss_tot)\n",
      "/Users/anaduarte/RPgroup/am_atp/analysis/gliding/gliding_pkg/gliding_anal.py:353: UserWarning: Boolean Series key will be reindexed to match DataFrame index.\n",
      "  df_good = df[df['r^2']>r2thresh][df['skele r^2']>skelethresh]\n",
      "/Users/anaduarte/RPgroup/am_atp/analysis/gliding/gliding_pkg/gliding_anal.py:384: RuntimeWarning: divide by zero encountered in true_divide\n",
      "  checkvals = (((x-x0)*np.cos(orientation) + (y-y0)*np.sin(orientation))**2 / major_len**2) + (((x-x0)*np.sin(orientation) - (y-y0)*np.cos(orientation))**2 / minor_len**2)\n"
     ]
    }
   ],
   "source": [
    "#Lets pick 50 frames\n",
    "start=0\n",
    "stop=51\n",
    "\n",
    "for file in tqdm(files):\n",
    "    im_stack = gpkg.stackimport(file+'/Pos0/img*')\n",
    "    im_max = np.amax(im_stack[start:stop], axis=0)\n",
    "    im_thresh = gpkg.thresh_processing(im_max)\n",
    "    im_label, unique_regions, region_counts = gpkg.MTregions(im_thresh) \n",
    "    im_internal = gpkg.edgeremove(im_label)\n",
    "    im_sized = gpkg.smallremove(im_internal, unique_regions, region_counts)\n",
    "    im_relabel = gpkg.makeskele(im_sized)\n",
    "    im_cleaned = gpkg.onlylines(im_relabel)\n",
    "    df = gpkg.makedf(im_cleaned, im_stack, start, stop)\n",
    "    df = gpkg.speedcalculator(df, im_stack, start, stop)\n",
    "    df_good = gpkg.goodtracks(df)\n",
    "    df_good_MTlen = gpkg.MTlenths(df_good, im_stack, start, stop, umperpixel)\n",
    "    df_final = expparam_adder(df_good_MTlen, param_df)\n",
    "    #print(df_final['speed (nm/s)'][0:10])\n",
    "    df_final.to_csv('../../analyzed_data/gliding/' + file.split('/')[4] + '/' +'--'.join(file.split('/')[5:]) + '_start' + str(start) + '_stop' + str(stop) + '.csv', sep=',')"
   ]
  },
  {
   "cell_type": "code",
   "execution_count": 599,
   "id": "d2363b23-5d83-4f49-bce8-7e9d94738ba8",
   "metadata": {},
   "outputs": [
    {
     "data": {
      "application/vnd.jupyter.widget-view+json": {
       "model_id": "516e82e7d68240a0b668ee5f81d571d9",
       "version_major": 2,
       "version_minor": 0
      },
      "text/plain": [
       "  0%|          | 0/2 [00:00<?, ?it/s]"
      ]
     },
     "metadata": {},
     "output_type": "display_data"
    },
    {
     "name": "stderr",
     "output_type": "stream",
     "text": [
      "/Users/anaduarte/RPgroup/am_atp/analysis/gliding/gliding_pkg/gliding_anal.py:245: RuntimeWarning: invalid value encountered in long_scalars\n",
      "  com = np.sum(row_vals*xindex)/np.sum(row_vals)\n",
      "/Users/anaduarte/RPgroup/am_atp/analysis/gliding/gliding_pkg/gliding_anal.py:289: RankWarning: Polyfit may be poorly conditioned\n",
      "  skele_xvals, skele_yvals, skele_params, skele_speed, skele_rsqrd = skeletonfit(kymo_thresh, pixel_size)\n",
      "/Users/anaduarte/RPgroup/am_atp/analysis/gliding/gliding_pkg/gliding_anal.py:233: RuntimeWarning: divide by zero encountered in double_scalars\n",
      "  rsqrd = 1-(ss_res/ss_tot)\n",
      "/Users/anaduarte/RPgroup/am_atp/analysis/gliding/gliding_pkg/gliding_anal.py:289: RankWarning: Polyfit may be poorly conditioned\n",
      "  skele_xvals, skele_yvals, skele_params, skele_speed, skele_rsqrd = skeletonfit(kymo_thresh, pixel_size)\n",
      "/Users/anaduarte/RPgroup/am_atp/analysis/gliding/gliding_pkg/gliding_anal.py:353: UserWarning: Boolean Series key will be reindexed to match DataFrame index.\n",
      "  df_good = df[df['r^2']>r2thresh][df['skele r^2']>skelethresh]\n",
      "/Users/anaduarte/RPgroup/am_atp/analysis/gliding/gliding_pkg/gliding_anal.py:384: RuntimeWarning: divide by zero encountered in true_divide\n",
      "  checkvals = (((x-x0)*np.cos(orientation) + (y-y0)*np.sin(orientation))**2 / major_len**2) + (((x-x0)*np.sin(orientation) - (y-y0)*np.cos(orientation))**2 / minor_len**2)\n",
      "/Users/anaduarte/opt/anaconda3/lib/python3.8/site-packages/numpy/lib/function_base.py:380: RuntimeWarning: Mean of empty slice.\n",
      "  avg = a.mean(axis)\n",
      "/Users/anaduarte/opt/anaconda3/lib/python3.8/site-packages/numpy/core/_methods.py:189: RuntimeWarning: invalid value encountered in double_scalars\n",
      "  ret = ret.dtype.type(ret / rcount)\n",
      "/Users/anaduarte/RPgroup/am_atp/analysis/gliding/gliding_pkg/gliding_anal.py:245: RuntimeWarning: invalid value encountered in long_scalars\n",
      "  com = np.sum(row_vals*xindex)/np.sum(row_vals)\n",
      "/Users/anaduarte/RPgroup/am_atp/analysis/gliding/gliding_pkg/gliding_anal.py:289: RankWarning: Polyfit may be poorly conditioned\n",
      "  skele_xvals, skele_yvals, skele_params, skele_speed, skele_rsqrd = skeletonfit(kymo_thresh, pixel_size)\n",
      "/Users/anaduarte/RPgroup/am_atp/analysis/gliding/gliding_pkg/gliding_anal.py:233: RuntimeWarning: divide by zero encountered in double_scalars\n",
      "  rsqrd = 1-(ss_res/ss_tot)\n",
      "/Users/anaduarte/RPgroup/am_atp/analysis/gliding/gliding_pkg/gliding_anal.py:353: UserWarning: Boolean Series key will be reindexed to match DataFrame index.\n",
      "  df_good = df[df['r^2']>r2thresh][df['skele r^2']>skelethresh]\n",
      "/Users/anaduarte/RPgroup/am_atp/analysis/gliding/gliding_pkg/gliding_anal.py:384: RuntimeWarning: divide by zero encountered in true_divide\n",
      "  checkvals = (((x-x0)*np.cos(orientation) + (y-y0)*np.sin(orientation))**2 / major_len**2) + (((x-x0)*np.sin(orientation) - (y-y0)*np.cos(orientation))**2 / minor_len**2)\n"
     ]
    }
   ],
   "source": [
    "start=50\n",
    "stop=100\n",
    "\n",
    "for file in tqdm(files):\n",
    "    im_stack = gpkg.stackimport(file+'/Pos0/img*')\n",
    "    im_max = np.amax(im_stack[start:stop], axis=0)\n",
    "    im_thresh = gpkg.thresh_processing(im_max)\n",
    "    im_label, unique_regions, region_counts = gpkg.MTregions(im_thresh) \n",
    "    im_internal = gpkg.edgeremove(im_label)\n",
    "    im_sized = gpkg.smallremove(im_internal, unique_regions, region_counts)\n",
    "    im_relabel = gpkg.makeskele(im_sized)\n",
    "    im_cleaned = gpkg.onlylines(im_relabel)\n",
    "    df = gpkg.makedf(im_cleaned, im_stack, start, stop)\n",
    "    df = gpkg.speedcalculator(df, im_stack, start, stop)\n",
    "    df_good = gpkg.goodtracks(df)\n",
    "    df_good_MTlen = gpkg.MTlenths(df_good, im_stack, start, stop, umperpixel)\n",
    "    df_final = expparam_adder(df_good_MTlen, param_df)\n",
    "    df_final.to_csv('../../analyzed_data/gliding/' + file.split('/')[4] + '/' +'--'.join(file.split('/')[5:]) + '_start' + str(start) + '_stop' + str(stop) + '.csv', sep=',')"
   ]
  },
  {
   "cell_type": "code",
   "execution_count": 515,
   "id": "e8f58e1f-1f05-4b14-9987-61fda84024af",
   "metadata": {},
   "outputs": [
    {
     "data": {
      "text/plain": [
       "'2023-10-23_Gliding/Titrating_ATP_conc--5uM--TIRF_100x_1sInterval_1nMNCD_5uMATP_1to50Antiflag_ilid_3'"
      ]
     },
     "execution_count": 515,
     "metadata": {},
     "output_type": "execute_result"
    }
   ],
   "source": [
    "file.split('/')[4] + '/' +'--'.join(file.split('/')[5:])"
   ]
  },
  {
   "cell_type": "code",
   "execution_count": null,
   "id": "73f0ad53-d39d-41c9-91e4-3c3e245c81b2",
   "metadata": {},
   "outputs": [],
   "source": []
  },
  {
   "cell_type": "code",
   "execution_count": null,
   "id": "adacf284-c58b-4e96-ba6d-a6baef8286e6",
   "metadata": {},
   "outputs": [],
   "source": []
  }
 ],
 "metadata": {
  "kernelspec": {
   "display_name": "Python 3 (ipykernel)",
   "language": "python",
   "name": "python3"
  },
  "language_info": {
   "codemirror_mode": {
    "name": "ipython",
    "version": 3
   },
   "file_extension": ".py",
   "mimetype": "text/x-python",
   "name": "python",
   "nbconvert_exporter": "python",
   "pygments_lexer": "ipython3",
   "version": "3.8.11"
  }
 },
 "nbformat": 4,
 "nbformat_minor": 5
}
