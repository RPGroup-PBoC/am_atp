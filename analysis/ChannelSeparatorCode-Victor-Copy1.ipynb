{
 "cells": [
  {
   "cell_type": "code",
   "execution_count": 1,
   "metadata": {},
   "outputs": [],
   "source": [
    "# import the usual \n",
    "import numpy as np\n",
    "import matplotlib.pyplot as plt\n",
    "import scipy\n",
    "from scipy import optimize\n",
    "%matplotlib inline\n",
    "from scipy.interpolate import make_interp_spline, BSpline\n",
    "\n",
    "# for nice plots\n",
    "import seaborn as sns\n",
    "rc={'lines.linewidth': 2, 'axes.labelsize': 14, 'axes.titlesize': 14, \\\n",
    "    'xtick.labelsize' : 14, 'ytick.labelsize' : 14}\n",
    "sns.set(style='ticks', rc=rc)\n",
    "\n",
    "#colors = ['#1f77b4', '#ff7f0e', '#2ca02c', '#d62728',\n",
    "          #'#9467bd', '#8c564b', '#e377c2', '#7f7f7f',\n",
    "          #'#bcbd22', '#17becf']\n",
    "#sns.set(style='whitegrid', palette=colors, rc=tuple('axes.labelsize'): 16)\n",
    "\n",
    "\n",
    "# show images in viridis by default\n",
    "plt.rcParams['image.cmap'] = 'viridis'\n",
    "\n",
    "# for extracting filenames\n",
    "import glob\n",
    "\n",
    "# skimage submodules we need\n",
    "import skimage.io\n",
    "import skimage.measure\n",
    "import skimage.filters\n",
    "import skimage.exposure\n",
    "import skimage.morphology\n",
    "\n",
    "import pandas as pd\n",
    "\n",
    "import os\n",
    "\n",
    "%config InlineBackend.figure_formats = {'png', 'retina'}"
   ]
  },
  {
   "cell_type": "code",
   "execution_count": 48,
   "metadata": {},
   "outputs": [],
   "source": [
    "#Input all the naming conventions here. \n",
    "\n",
    "#Total number of files\n",
    "timesteps = 165\n",
    "#First part of the name without the frame number\n",
    "namestr = '2022-08-04_rectangle_R1Ncd_1_MMStack_Pos1.ome'\n",
    "#Saving convention\n",
    "formatstr = '.tif'\n",
    "#Number of channels\n",
    "channelnum = 3\n",
    "#folder names\n",
    "folder = ['YFP', 'Bright', 'CFP']\n",
    "#Which channel you want to save\n",
    "channelpos=0"
   ]
  },
  {
   "cell_type": "code",
   "execution_count": 49,
   "metadata": {},
   "outputs": [],
   "source": [
    "#A loop that reports all the files for a given channel based on the channelnum. This reports 4 digit places\n",
    "filelist = []\n",
    "for t in range(timesteps):\n",
    "    if(t+1<10):\n",
    "            filelist.append(f'{namestr}_t00{t+1}_c00{channelpos+1}.tif')\n",
    "    elif(t+1<100):\n",
    "        filelist.append(f'{namestr}_t0{t+1}_c00{channelpos+1}.tif')\n",
    "    else:\n",
    "        filelist.append(f'{namestr}_t{t+1}_c00{channelpos+1}.tif')"
   ]
  },
  {
   "cell_type": "code",
   "execution_count": 50,
   "metadata": {},
   "outputs": [],
   "source": [
    "filestr = str(filelist)\n",
    "filestr1 = filestr.replace(\"'\", \"\")\n",
    "filestr2 = filestr1.replace(\"[\", \"\")\n",
    "filestr3 = filestr2.replace(\"]\", \"\")\n",
    "filestr4 = filestr3.replace(\",\", \" \")"
   ]
  },
  {
   "cell_type": "code",
   "execution_count": 51,
   "metadata": {},
   "outputs": [
    {
     "name": "stdout",
     "output_type": "stream",
     "text": [
      "mv 2022-08-04_rectangle_R1Ncd_1_MMStack_Pos1.ome_t001_c001.tif  2022-08-04_rectangle_R1Ncd_1_MMStack_Pos1.ome_t002_c001.tif  2022-08-04_rectangle_R1Ncd_1_MMStack_Pos1.ome_t003_c001.tif  2022-08-04_rectangle_R1Ncd_1_MMStack_Pos1.ome_t004_c001.tif  2022-08-04_rectangle_R1Ncd_1_MMStack_Pos1.ome_t005_c001.tif  2022-08-04_rectangle_R1Ncd_1_MMStack_Pos1.ome_t006_c001.tif  2022-08-04_rectangle_R1Ncd_1_MMStack_Pos1.ome_t007_c001.tif  2022-08-04_rectangle_R1Ncd_1_MMStack_Pos1.ome_t008_c001.tif  2022-08-04_rectangle_R1Ncd_1_MMStack_Pos1.ome_t009_c001.tif  2022-08-04_rectangle_R1Ncd_1_MMStack_Pos1.ome_t010_c001.tif  2022-08-04_rectangle_R1Ncd_1_MMStack_Pos1.ome_t011_c001.tif  2022-08-04_rectangle_R1Ncd_1_MMStack_Pos1.ome_t012_c001.tif  2022-08-04_rectangle_R1Ncd_1_MMStack_Pos1.ome_t013_c001.tif  2022-08-04_rectangle_R1Ncd_1_MMStack_Pos1.ome_t014_c001.tif  2022-08-04_rectangle_R1Ncd_1_MMStack_Pos1.ome_t015_c001.tif  2022-08-04_rectangle_R1Ncd_1_MMStack_Pos1.ome_t016_c001.tif  2022-08-04_rectangle_R1Ncd_1_MMStack_Pos1.ome_t017_c001.tif  2022-08-04_rectangle_R1Ncd_1_MMStack_Pos1.ome_t018_c001.tif  2022-08-04_rectangle_R1Ncd_1_MMStack_Pos1.ome_t019_c001.tif  2022-08-04_rectangle_R1Ncd_1_MMStack_Pos1.ome_t020_c001.tif  2022-08-04_rectangle_R1Ncd_1_MMStack_Pos1.ome_t021_c001.tif  2022-08-04_rectangle_R1Ncd_1_MMStack_Pos1.ome_t022_c001.tif  2022-08-04_rectangle_R1Ncd_1_MMStack_Pos1.ome_t023_c001.tif  2022-08-04_rectangle_R1Ncd_1_MMStack_Pos1.ome_t024_c001.tif  2022-08-04_rectangle_R1Ncd_1_MMStack_Pos1.ome_t025_c001.tif  2022-08-04_rectangle_R1Ncd_1_MMStack_Pos1.ome_t026_c001.tif  2022-08-04_rectangle_R1Ncd_1_MMStack_Pos1.ome_t027_c001.tif  2022-08-04_rectangle_R1Ncd_1_MMStack_Pos1.ome_t028_c001.tif  2022-08-04_rectangle_R1Ncd_1_MMStack_Pos1.ome_t029_c001.tif  2022-08-04_rectangle_R1Ncd_1_MMStack_Pos1.ome_t030_c001.tif  2022-08-04_rectangle_R1Ncd_1_MMStack_Pos1.ome_t031_c001.tif  2022-08-04_rectangle_R1Ncd_1_MMStack_Pos1.ome_t032_c001.tif  2022-08-04_rectangle_R1Ncd_1_MMStack_Pos1.ome_t033_c001.tif  2022-08-04_rectangle_R1Ncd_1_MMStack_Pos1.ome_t034_c001.tif  2022-08-04_rectangle_R1Ncd_1_MMStack_Pos1.ome_t035_c001.tif  2022-08-04_rectangle_R1Ncd_1_MMStack_Pos1.ome_t036_c001.tif  2022-08-04_rectangle_R1Ncd_1_MMStack_Pos1.ome_t037_c001.tif  2022-08-04_rectangle_R1Ncd_1_MMStack_Pos1.ome_t038_c001.tif  2022-08-04_rectangle_R1Ncd_1_MMStack_Pos1.ome_t039_c001.tif  2022-08-04_rectangle_R1Ncd_1_MMStack_Pos1.ome_t040_c001.tif  2022-08-04_rectangle_R1Ncd_1_MMStack_Pos1.ome_t041_c001.tif  2022-08-04_rectangle_R1Ncd_1_MMStack_Pos1.ome_t042_c001.tif  2022-08-04_rectangle_R1Ncd_1_MMStack_Pos1.ome_t043_c001.tif  2022-08-04_rectangle_R1Ncd_1_MMStack_Pos1.ome_t044_c001.tif  2022-08-04_rectangle_R1Ncd_1_MMStack_Pos1.ome_t045_c001.tif  2022-08-04_rectangle_R1Ncd_1_MMStack_Pos1.ome_t046_c001.tif  2022-08-04_rectangle_R1Ncd_1_MMStack_Pos1.ome_t047_c001.tif  2022-08-04_rectangle_R1Ncd_1_MMStack_Pos1.ome_t048_c001.tif  2022-08-04_rectangle_R1Ncd_1_MMStack_Pos1.ome_t049_c001.tif  2022-08-04_rectangle_R1Ncd_1_MMStack_Pos1.ome_t050_c001.tif  2022-08-04_rectangle_R1Ncd_1_MMStack_Pos1.ome_t051_c001.tif  2022-08-04_rectangle_R1Ncd_1_MMStack_Pos1.ome_t052_c001.tif  2022-08-04_rectangle_R1Ncd_1_MMStack_Pos1.ome_t053_c001.tif  2022-08-04_rectangle_R1Ncd_1_MMStack_Pos1.ome_t054_c001.tif  2022-08-04_rectangle_R1Ncd_1_MMStack_Pos1.ome_t055_c001.tif  2022-08-04_rectangle_R1Ncd_1_MMStack_Pos1.ome_t056_c001.tif  2022-08-04_rectangle_R1Ncd_1_MMStack_Pos1.ome_t057_c001.tif  2022-08-04_rectangle_R1Ncd_1_MMStack_Pos1.ome_t058_c001.tif  2022-08-04_rectangle_R1Ncd_1_MMStack_Pos1.ome_t059_c001.tif  2022-08-04_rectangle_R1Ncd_1_MMStack_Pos1.ome_t060_c001.tif  2022-08-04_rectangle_R1Ncd_1_MMStack_Pos1.ome_t061_c001.tif  2022-08-04_rectangle_R1Ncd_1_MMStack_Pos1.ome_t062_c001.tif  2022-08-04_rectangle_R1Ncd_1_MMStack_Pos1.ome_t063_c001.tif  2022-08-04_rectangle_R1Ncd_1_MMStack_Pos1.ome_t064_c001.tif  2022-08-04_rectangle_R1Ncd_1_MMStack_Pos1.ome_t065_c001.tif  2022-08-04_rectangle_R1Ncd_1_MMStack_Pos1.ome_t066_c001.tif  2022-08-04_rectangle_R1Ncd_1_MMStack_Pos1.ome_t067_c001.tif  2022-08-04_rectangle_R1Ncd_1_MMStack_Pos1.ome_t068_c001.tif  2022-08-04_rectangle_R1Ncd_1_MMStack_Pos1.ome_t069_c001.tif  2022-08-04_rectangle_R1Ncd_1_MMStack_Pos1.ome_t070_c001.tif  2022-08-04_rectangle_R1Ncd_1_MMStack_Pos1.ome_t071_c001.tif  2022-08-04_rectangle_R1Ncd_1_MMStack_Pos1.ome_t072_c001.tif  2022-08-04_rectangle_R1Ncd_1_MMStack_Pos1.ome_t073_c001.tif  2022-08-04_rectangle_R1Ncd_1_MMStack_Pos1.ome_t074_c001.tif  2022-08-04_rectangle_R1Ncd_1_MMStack_Pos1.ome_t075_c001.tif  2022-08-04_rectangle_R1Ncd_1_MMStack_Pos1.ome_t076_c001.tif  2022-08-04_rectangle_R1Ncd_1_MMStack_Pos1.ome_t077_c001.tif  2022-08-04_rectangle_R1Ncd_1_MMStack_Pos1.ome_t078_c001.tif  2022-08-04_rectangle_R1Ncd_1_MMStack_Pos1.ome_t079_c001.tif  2022-08-04_rectangle_R1Ncd_1_MMStack_Pos1.ome_t080_c001.tif  2022-08-04_rectangle_R1Ncd_1_MMStack_Pos1.ome_t081_c001.tif  2022-08-04_rectangle_R1Ncd_1_MMStack_Pos1.ome_t082_c001.tif  2022-08-04_rectangle_R1Ncd_1_MMStack_Pos1.ome_t083_c001.tif  2022-08-04_rectangle_R1Ncd_1_MMStack_Pos1.ome_t084_c001.tif  2022-08-04_rectangle_R1Ncd_1_MMStack_Pos1.ome_t085_c001.tif  2022-08-04_rectangle_R1Ncd_1_MMStack_Pos1.ome_t086_c001.tif  2022-08-04_rectangle_R1Ncd_1_MMStack_Pos1.ome_t087_c001.tif  2022-08-04_rectangle_R1Ncd_1_MMStack_Pos1.ome_t088_c001.tif  2022-08-04_rectangle_R1Ncd_1_MMStack_Pos1.ome_t089_c001.tif  2022-08-04_rectangle_R1Ncd_1_MMStack_Pos1.ome_t090_c001.tif  2022-08-04_rectangle_R1Ncd_1_MMStack_Pos1.ome_t091_c001.tif  2022-08-04_rectangle_R1Ncd_1_MMStack_Pos1.ome_t092_c001.tif  2022-08-04_rectangle_R1Ncd_1_MMStack_Pos1.ome_t093_c001.tif  2022-08-04_rectangle_R1Ncd_1_MMStack_Pos1.ome_t094_c001.tif  2022-08-04_rectangle_R1Ncd_1_MMStack_Pos1.ome_t095_c001.tif  2022-08-04_rectangle_R1Ncd_1_MMStack_Pos1.ome_t096_c001.tif  2022-08-04_rectangle_R1Ncd_1_MMStack_Pos1.ome_t097_c001.tif  2022-08-04_rectangle_R1Ncd_1_MMStack_Pos1.ome_t098_c001.tif  2022-08-04_rectangle_R1Ncd_1_MMStack_Pos1.ome_t099_c001.tif  2022-08-04_rectangle_R1Ncd_1_MMStack_Pos1.ome_t100_c001.tif  2022-08-04_rectangle_R1Ncd_1_MMStack_Pos1.ome_t101_c001.tif  2022-08-04_rectangle_R1Ncd_1_MMStack_Pos1.ome_t102_c001.tif  2022-08-04_rectangle_R1Ncd_1_MMStack_Pos1.ome_t103_c001.tif  2022-08-04_rectangle_R1Ncd_1_MMStack_Pos1.ome_t104_c001.tif  2022-08-04_rectangle_R1Ncd_1_MMStack_Pos1.ome_t105_c001.tif  2022-08-04_rectangle_R1Ncd_1_MMStack_Pos1.ome_t106_c001.tif  2022-08-04_rectangle_R1Ncd_1_MMStack_Pos1.ome_t107_c001.tif  2022-08-04_rectangle_R1Ncd_1_MMStack_Pos1.ome_t108_c001.tif  2022-08-04_rectangle_R1Ncd_1_MMStack_Pos1.ome_t109_c001.tif  2022-08-04_rectangle_R1Ncd_1_MMStack_Pos1.ome_t110_c001.tif  2022-08-04_rectangle_R1Ncd_1_MMStack_Pos1.ome_t111_c001.tif  2022-08-04_rectangle_R1Ncd_1_MMStack_Pos1.ome_t112_c001.tif  2022-08-04_rectangle_R1Ncd_1_MMStack_Pos1.ome_t113_c001.tif  2022-08-04_rectangle_R1Ncd_1_MMStack_Pos1.ome_t114_c001.tif  2022-08-04_rectangle_R1Ncd_1_MMStack_Pos1.ome_t115_c001.tif  2022-08-04_rectangle_R1Ncd_1_MMStack_Pos1.ome_t116_c001.tif  2022-08-04_rectangle_R1Ncd_1_MMStack_Pos1.ome_t117_c001.tif  2022-08-04_rectangle_R1Ncd_1_MMStack_Pos1.ome_t118_c001.tif  2022-08-04_rectangle_R1Ncd_1_MMStack_Pos1.ome_t119_c001.tif  2022-08-04_rectangle_R1Ncd_1_MMStack_Pos1.ome_t120_c001.tif  2022-08-04_rectangle_R1Ncd_1_MMStack_Pos1.ome_t121_c001.tif  2022-08-04_rectangle_R1Ncd_1_MMStack_Pos1.ome_t122_c001.tif  2022-08-04_rectangle_R1Ncd_1_MMStack_Pos1.ome_t123_c001.tif  2022-08-04_rectangle_R1Ncd_1_MMStack_Pos1.ome_t124_c001.tif  2022-08-04_rectangle_R1Ncd_1_MMStack_Pos1.ome_t125_c001.tif  2022-08-04_rectangle_R1Ncd_1_MMStack_Pos1.ome_t126_c001.tif  2022-08-04_rectangle_R1Ncd_1_MMStack_Pos1.ome_t127_c001.tif  2022-08-04_rectangle_R1Ncd_1_MMStack_Pos1.ome_t128_c001.tif  2022-08-04_rectangle_R1Ncd_1_MMStack_Pos1.ome_t129_c001.tif  2022-08-04_rectangle_R1Ncd_1_MMStack_Pos1.ome_t130_c001.tif  2022-08-04_rectangle_R1Ncd_1_MMStack_Pos1.ome_t131_c001.tif  2022-08-04_rectangle_R1Ncd_1_MMStack_Pos1.ome_t132_c001.tif  2022-08-04_rectangle_R1Ncd_1_MMStack_Pos1.ome_t133_c001.tif  2022-08-04_rectangle_R1Ncd_1_MMStack_Pos1.ome_t134_c001.tif  2022-08-04_rectangle_R1Ncd_1_MMStack_Pos1.ome_t135_c001.tif  2022-08-04_rectangle_R1Ncd_1_MMStack_Pos1.ome_t136_c001.tif  2022-08-04_rectangle_R1Ncd_1_MMStack_Pos1.ome_t137_c001.tif  2022-08-04_rectangle_R1Ncd_1_MMStack_Pos1.ome_t138_c001.tif  2022-08-04_rectangle_R1Ncd_1_MMStack_Pos1.ome_t139_c001.tif  2022-08-04_rectangle_R1Ncd_1_MMStack_Pos1.ome_t140_c001.tif  2022-08-04_rectangle_R1Ncd_1_MMStack_Pos1.ome_t141_c001.tif  2022-08-04_rectangle_R1Ncd_1_MMStack_Pos1.ome_t142_c001.tif  2022-08-04_rectangle_R1Ncd_1_MMStack_Pos1.ome_t143_c001.tif  2022-08-04_rectangle_R1Ncd_1_MMStack_Pos1.ome_t144_c001.tif  2022-08-04_rectangle_R1Ncd_1_MMStack_Pos1.ome_t145_c001.tif  2022-08-04_rectangle_R1Ncd_1_MMStack_Pos1.ome_t146_c001.tif  2022-08-04_rectangle_R1Ncd_1_MMStack_Pos1.ome_t147_c001.tif  2022-08-04_rectangle_R1Ncd_1_MMStack_Pos1.ome_t148_c001.tif  2022-08-04_rectangle_R1Ncd_1_MMStack_Pos1.ome_t149_c001.tif  2022-08-04_rectangle_R1Ncd_1_MMStack_Pos1.ome_t150_c001.tif  2022-08-04_rectangle_R1Ncd_1_MMStack_Pos1.ome_t151_c001.tif  2022-08-04_rectangle_R1Ncd_1_MMStack_Pos1.ome_t152_c001.tif  2022-08-04_rectangle_R1Ncd_1_MMStack_Pos1.ome_t153_c001.tif  2022-08-04_rectangle_R1Ncd_1_MMStack_Pos1.ome_t154_c001.tif  2022-08-04_rectangle_R1Ncd_1_MMStack_Pos1.ome_t155_c001.tif  2022-08-04_rectangle_R1Ncd_1_MMStack_Pos1.ome_t156_c001.tif  2022-08-04_rectangle_R1Ncd_1_MMStack_Pos1.ome_t157_c001.tif  2022-08-04_rectangle_R1Ncd_1_MMStack_Pos1.ome_t158_c001.tif  2022-08-04_rectangle_R1Ncd_1_MMStack_Pos1.ome_t159_c001.tif  2022-08-04_rectangle_R1Ncd_1_MMStack_Pos1.ome_t160_c001.tif  2022-08-04_rectangle_R1Ncd_1_MMStack_Pos1.ome_t161_c001.tif  2022-08-04_rectangle_R1Ncd_1_MMStack_Pos1.ome_t162_c001.tif  2022-08-04_rectangle_R1Ncd_1_MMStack_Pos1.ome_t163_c001.tif  2022-08-04_rectangle_R1Ncd_1_MMStack_Pos1.ome_t164_c001.tif  2022-08-04_rectangle_R1Ncd_1_MMStack_Pos1.ome_t165_c001.tif YFP\n"
     ]
    }
   ],
   "source": [
    "print('mv ' + filestr4 + ' ' + folder[channelpos])"
   ]
  },
  {
   "cell_type": "code",
   "execution_count": null,
   "metadata": {},
   "outputs": [],
   "source": []
  },
  {
   "cell_type": "code",
   "execution_count": null,
   "metadata": {},
   "outputs": [],
   "source": []
  }
 ],
 "metadata": {
  "kernelspec": {
   "display_name": "Python 3 (ipykernel)",
   "language": "python",
   "name": "python3"
  },
  "language_info": {
   "codemirror_mode": {
    "name": "ipython",
    "version": 3
   },
   "file_extension": ".py",
   "mimetype": "text/x-python",
   "name": "python",
   "nbconvert_exporter": "python",
   "pygments_lexer": "ipython3",
   "version": "3.9.7"
  }
 },
 "nbformat": 4,
 "nbformat_minor": 4
}
