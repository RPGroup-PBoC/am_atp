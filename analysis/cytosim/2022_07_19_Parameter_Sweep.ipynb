{
 "cells": [
  {
   "cell_type": "markdown",
   "id": "dae233cb",
   "metadata": {},
   "source": [
    "# Pkg"
   ]
  },
  {
   "cell_type": "code",
   "execution_count": 145,
   "id": "00b8f94e-a210-4cbb-8e22-0f4d065d163e",
   "metadata": {},
   "outputs": [],
   "source": [
    "import numpy as np\n",
    "import matplotlib.pyplot as plt\n",
    "from skimage.filters import threshold_otsu, gaussian\n",
    "from tqdm.notebook import tqdm as tqdm\n",
    "import glob\n",
    "import skimage.io\n",
    "\n",
    "import cv2\n",
    "import celluloid as cell\n",
    "import matplotlib.cm as cm\n",
    "from matplotlib.colors import Normalize\n",
    "import pandas as pd\n",
    "import math"
   ]
  },
  {
   "cell_type": "markdown",
   "id": "d51fb37f",
   "metadata": {},
   "source": [
    "# Generating data"
   ]
  },
  {
   "cell_type": "markdown",
   "id": "a1cded88",
   "metadata": {},
   "source": [
    "## tested params"
   ]
  },
  {
   "cell_type": "code",
   "execution_count": null,
   "id": "db82322d",
   "metadata": {
    "code_folding": [
     0
    ]
   },
   "outputs": [],
   "source": [
    "## THIS IS THE CURRENT SET OF PARAMS TESTED ##\n",
    "\n",
    "# [[x = range(3)]]\n",
    "# [[y = int((x+4)/3 * 2)]]\n",
    "\n",
    "# [[z = range(3)]]\n",
    "# [[zz = (z+4)/3 * 0.77]]\n",
    "\n",
    "# set hand kinesin\n",
    "# {\n",
    "#     binding_rate = 10 % #/sec\n",
    "#     binding_range = 0.1 % max distance from which can bind\n",
    "#     bind_also_end = 1\n",
    "\n",
    "#     unbinding_rate = [[zz]]\n",
    "#     unbinding_force = 3\n",
    "\n",
    "#     activity = move\n",
    "#     unloaded_speed = [[y]] % 800 nm/s, for K401 \\approx 400-500 nm/s\n",
    "#                          % more velocity than speed\n",
    "#     stall_force = 6\n",
    "\n",
    "#     display = (\n",
    "#         size=8;\n",
    "#         color=blue;\n",
    "#         width=7;\n",
    "#     )\n",
    "# }\n"
   ]
  },
  {
   "cell_type": "code",
   "execution_count": 200,
   "id": "b77cb1a6",
   "metadata": {},
   "outputs": [
    {
     "name": "stdout",
     "output_type": "stream",
     "text": [
      "4 files generated: test_template0000.cym ... test_template0003.cym\n",
      "test_template0000.cym\n",
      "test_template0001.cym\n",
      "test_template0002.cym\n",
      "test_template0003.cym\n"
     ]
    }
   ],
   "source": [
    "%%bash\n",
    "python3 preconfig.py test_template.cym.tpl\n",
    "ls *0*.cym"
   ]
  },
  {
   "cell_type": "code",
   "execution_count": 201,
   "id": "624569fd",
   "metadata": {},
   "outputs": [
    {
     "name": "stdout",
     "output_type": "stream",
     "text": [
      "Completed run `test_template0000.cym` in run0000\n",
      "Completed run `test_template0001.cym` in run0001\n",
      "Completed run `test_template0002.cym` in run0002\n",
      "Completed run `test_template0003.cym` in run0003\n"
     ]
    }
   ],
   "source": [
    "%%bash\n",
    "python3 go_sim.py test_template0*.cym"
   ]
  },
  {
   "cell_type": "code",
   "execution_count": 191,
   "id": "e130613f",
   "metadata": {},
   "outputs": [
    {
     "name": "stdout",
     "output_type": "stream",
     "text": [
      "Process is interrupted.\n"
     ]
    }
   ],
   "source": [
    "%%bash\n",
    "python3 scan.py '../play movie period=100 size=256 label={}' run*\n",
    "python3 make_page.py run*"
   ]
  },
  {
   "cell_type": "markdown",
   "id": "5e7ee2cf",
   "metadata": {},
   "source": [
    "# Data pipeline"
   ]
  },
  {
   "cell_type": "markdown",
   "id": "b243382d",
   "metadata": {},
   "source": [
    "## txt files"
   ]
  },
  {
   "cell_type": "code",
   "execution_count": 208,
   "id": "715a51d0",
   "metadata": {},
   "outputs": [],
   "source": [
    "base_string = '000'\n",
    "folder_list = glob.glob('run' + base_string + '*/')\n",
    "\n",
    "text_files = [f + 'report.txt' for f in folder_list]"
   ]
  },
  {
   "cell_type": "code",
   "execution_count": 210,
   "id": "b098b1f7",
   "metadata": {},
   "outputs": [],
   "source": [
    "df = pd.read_csv(text_files[0],\n",
    "                 sep=\"\\n\",\n",
    "                 header=None)\n",
    "rows = len(df.index)"
   ]
  },
  {
   "cell_type": "markdown",
   "id": "4be1189b",
   "metadata": {},
   "source": [
    "## helper fxns"
   ]
  },
  {
   "cell_type": "code",
   "execution_count": 211,
   "id": "9ce64f48",
   "metadata": {},
   "outputs": [],
   "source": [
    "def make_hists(bin_num, pos_x, pos_y, im_nums):\n",
    "\n",
    "    fig, ax = plt.subplots(dpi = 300)\n",
    "    # hists = np.zeros(range(np.shape(pos_x)[0]), )\n",
    "\n",
    "    ind = 0\n",
    "    temp_pos_x = pos_x[ind]\n",
    "    temp_pos_y = pos_y[ind]\n",
    "    hist, xbins, ybins, im = ax.hist2d(temp_pos_x, temp_pos_y, bins = bin_num)\n",
    "\n",
    "    hists = np.zeros((im_nums, len(xbins)-1,len(ybins)-1))\n",
    "\n",
    "    for i in tqdm(range(im_nums)):\n",
    "        ind = i\n",
    "        temp_pos_x = pos_x[ind]\n",
    "        temp_pos_y = pos_y[ind]\n",
    "\n",
    "        hist, xbins, ybins, im = ax.hist2d(temp_pos_x, temp_pos_y, bins = bin_num);\n",
    "        ax.set_aspect('equal', 'box')\n",
    "        ax.get_xaxis().set_visible(False)\n",
    "        ax.get_yaxis().set_visible(False)\n",
    "\n",
    "\n",
    "    #     fig.savefig('./heatmaps/heatmap' + str(i) + '.tiff', bbox_inches = 'tight')\n",
    "        hists[i,:,:] = hist\n",
    "        plt.close(fig)\n",
    "    \n",
    "    return hists"
   ]
  },
  {
   "cell_type": "code",
   "execution_count": 215,
   "id": "8bfc94dc",
   "metadata": {},
   "outputs": [],
   "source": [
    "def read_result(file_name):\n",
    "    data = []\n",
    "    time = []\n",
    "    count = 0\n",
    "    \n",
    "    df = pd.read_csv(file_name,\n",
    "                 sep=\"\\n\",\n",
    "                 header=None)\n",
    "    rows = len(df.index)\n",
    "    \n",
    "    with open(file_name) as fp:\n",
    "\n",
    "        new_data = False\n",
    "        temp_data = []\n",
    "\n",
    "        for x in range(rows):\n",
    "            count += 1\n",
    "            line = fp.readline()[:-1]\n",
    "            lst = line.split(\" \")\n",
    "            lst = [val for val in lst if val != '' and val != '%']\n",
    "\n",
    "            if len(lst) == 10:\n",
    "                temp_data.append(lst)\n",
    "\n",
    "            if lst and lst[0] == 'time':\n",
    "                time.append(lst[1])\n",
    "\n",
    "            if lst and lst[0] == 'end':\n",
    "                if temp_data[1:]:\n",
    "                    data.append(temp_data[1:])\n",
    "                else:\n",
    "                    time = time[:-1]\n",
    "                temp_data = []\n",
    "\n",
    "    data = np.array(data, dtype = 'float')\n",
    "    return data"
   ]
  },
  {
   "cell_type": "code",
   "execution_count": 213,
   "id": "5c5ab7a1",
   "metadata": {},
   "outputs": [],
   "source": [
    "def find_centers(im_nums, hists):\n",
    "    centers_tc = []\n",
    "    radii = []\n",
    "    frame_num = []\n",
    "    contours_plot = []\n",
    "\n",
    "    area_thresh = 1\n",
    "    past_center = None\n",
    "    areas = []\n",
    "\n",
    "    #for loop thru MT images\n",
    "    for i in tqdm(range(im_nums)):\n",
    "        #crop image for center identification\n",
    "\n",
    "        im = hists[i,:,:]\n",
    "\n",
    "        #gaussian blur\n",
    "        dst = im\n",
    "        thresh = np.percentile(dst, 83)\n",
    "\n",
    "        binary = (dst>thresh).astype(np.uint8)\n",
    "\n",
    "        #create a contour\n",
    "        contours, hierarchy = cv2.findContours(binary, 1, 2)\n",
    "\n",
    "        #iterate through contours (for most connected region)\n",
    "        max_area = 0\n",
    "        max_index = None\n",
    "\n",
    "        for j, contour in enumerate(contours):\n",
    "            area = cv2.contourArea(contour)\n",
    "            if area > max_area:\n",
    "                max_area = area\n",
    "                max_index = j\n",
    "\n",
    "        if max_area >= area_thresh:\n",
    "            cnt = contours[max_index]\n",
    "            (x, y), radius = cv2.minEnclosingCircle(cnt)\n",
    "            centers_tc.append([x, y])\n",
    "            radii.append(radius)\n",
    "            frame_num.append(i)\n",
    "\n",
    "            cnt = np.array(cnt)\n",
    "            cnt = np.squeeze(cnt)\n",
    "            contours_plot.append(cnt)\n",
    "\n",
    "        else:\n",
    "            print(\"**CENTER NOT FOUND**\")\n",
    "            cnt = contours[max_index]\n",
    "            (x, y), radius = cv2.minEnclosingCircle(cnt)\n",
    "            centers_tc.append([x, y])\n",
    "            radii.append(radius)\n",
    "\n",
    "            cnt = np.array(cnt)\n",
    "            cnt = np.squeeze(cnt)\n",
    "            contours_plot.append(cnt)\n",
    "\n",
    "        areas.append(max_area)\n",
    "\n",
    "    centers_tc = np.array(centers_tc)\n",
    "    radii = np.array(radii)\n",
    "    frame_num = np.array(frame_num)\n",
    "    areas = np.array(areas)\n",
    "    \n",
    "    return centers_tc, radii, frame_num, areas"
   ]
  },
  {
   "cell_type": "markdown",
   "id": "f3be4174",
   "metadata": {},
   "source": [
    "## Runn"
   ]
  },
  {
   "cell_type": "code",
   "execution_count": 216,
   "id": "1d6cd922",
   "metadata": {},
   "outputs": [
    {
     "data": {
      "application/vnd.jupyter.widget-view+json": {
       "model_id": "9ceedb12d53b4029adfff59420eba6b5",
       "version_major": 2,
       "version_minor": 0
      },
      "text/plain": [
       "  0%|          | 0/9 [00:00<?, ?it/s]"
      ]
     },
     "metadata": {},
     "output_type": "display_data"
    },
    {
     "data": {
      "application/vnd.jupyter.widget-view+json": {
       "model_id": "e842a3b9b0dc47b89b5a7dd6039de5cd",
       "version_major": 2,
       "version_minor": 0
      },
      "text/plain": [
       "  0%|          | 0/9 [00:00<?, ?it/s]"
      ]
     },
     "metadata": {},
     "output_type": "display_data"
    }
   ],
   "source": [
    "temp_data = read_result(text_files[0])\n",
    "temp_pos_x = temp_data[:,:,3]\n",
    "temp_pos_y = temp_data[:,:,4]\n",
    "\n",
    "row_num = np.shape(temp_pos_x)[0]\n",
    "temp_bin_numb = 40\n",
    "\n",
    "temp_hists = make_hists(temp_bin_numb, temp_pos_x, temp_pos_y, row_num)\n",
    "temp_centers, temp_radii, temp_frame_num, temp_areas = find_centers(row_num, temp_hists)"
   ]
  },
  {
   "cell_type": "code",
   "execution_count": 217,
   "id": "b3e6cb09",
   "metadata": {},
   "outputs": [
    {
     "data": {
      "application/vnd.jupyter.widget-view+json": {
       "model_id": "b9a115396aad45c29565a9ef145613b8",
       "version_major": 2,
       "version_minor": 0
      },
      "text/plain": [
       "  0%|          | 0/9 [00:00<?, ?it/s]"
      ]
     },
     "metadata": {},
     "output_type": "display_data"
    },
    {
     "data": {
      "application/vnd.jupyter.widget-view+json": {
       "model_id": "2f0c77d27f344a5bbc157ec7b281a5a9",
       "version_major": 2,
       "version_minor": 0
      },
      "text/plain": [
       "  0%|          | 0/9 [00:00<?, ?it/s]"
      ]
     },
     "metadata": {},
     "output_type": "display_data"
    }
   ],
   "source": [
    "temp1_data = read_result(text_files[1])\n",
    "temp1_pos_x = temp1_data[:,:,3]\n",
    "temp1_pos_y = temp1_data[:,:,4]\n",
    "\n",
    "row_num = np.shape(pos_x)[0]\n",
    "temp1_bin_numb = 40\n",
    "\n",
    "temp1_hists = make_hists(temp1_bin_numb, temp1_pos_x, temp1_pos_y, row_num)\n",
    "temp1_centers, temp1_radii, temp1_frame_num, temp1_areas = find_centers(row_num, temp1_hists)"
   ]
  },
  {
   "cell_type": "code",
   "execution_count": 218,
   "id": "f9619462",
   "metadata": {},
   "outputs": [],
   "source": [
    "def data_stack(list_of_files):\n",
    "\n",
    "    frames = []\n",
    "    centers = []\n",
    "    radii = []\n",
    "    areas = []\n",
    "    hists_final = []\n",
    "    \n",
    "    for i in range(len(list_of_files)):\n",
    "        temp_data = read_result(list_of_files[i])\n",
    "        temp_pos_x = temp_data[:,:,3]\n",
    "        temp_pos_y = temp_data[:,:,4]\n",
    "\n",
    "        temp_hists = make_hists(temp_bin_numb, temp_pos_x, temp_pos_y, row_num)\n",
    "        temp_centers, temp_radii, temp_frame_num, temp_areas = find_centers(row_num, temp_hists)\n",
    "        \n",
    "        centers.append(temp_centers)\n",
    "        radii.append(temp_radii)\n",
    "        frames.append(temp_frame_num)\n",
    "        areas.append(temp_areas)\n",
    "        hists_final.append(temp_hists)\n",
    "\n",
    "    final_centers = np.stack(centers)\n",
    "    final_radii = np.stack(radii)\n",
    "    final_frames = np.stack(frames)\n",
    "    final_areas = np.stack(areas)\n",
    "    final_hists = np.stack(hists_final)\n",
    "    \n",
    "    return final_centers, final_radii, final_frames, final_areas, final_hists\n",
    "        "
   ]
  },
  {
   "cell_type": "code",
   "execution_count": 219,
   "id": "3c02648b",
   "metadata": {},
   "outputs": [
    {
     "data": {
      "application/vnd.jupyter.widget-view+json": {
       "model_id": "b8ff95d05cfc45f589c44aca8f631e3b",
       "version_major": 2,
       "version_minor": 0
      },
      "text/plain": [
       "  0%|          | 0/9 [00:00<?, ?it/s]"
      ]
     },
     "metadata": {},
     "output_type": "display_data"
    },
    {
     "data": {
      "application/vnd.jupyter.widget-view+json": {
       "model_id": "5bda2a3807bc4f2aadf99468073709f3",
       "version_major": 2,
       "version_minor": 0
      },
      "text/plain": [
       "  0%|          | 0/9 [00:00<?, ?it/s]"
      ]
     },
     "metadata": {},
     "output_type": "display_data"
    },
    {
     "data": {
      "application/vnd.jupyter.widget-view+json": {
       "model_id": "055839eeb63f44cbb0a79b3988eef104",
       "version_major": 2,
       "version_minor": 0
      },
      "text/plain": [
       "  0%|          | 0/9 [00:00<?, ?it/s]"
      ]
     },
     "metadata": {},
     "output_type": "display_data"
    },
    {
     "data": {
      "application/vnd.jupyter.widget-view+json": {
       "model_id": "737a0680c0c049ca841703c612260dc5",
       "version_major": 2,
       "version_minor": 0
      },
      "text/plain": [
       "  0%|          | 0/9 [00:00<?, ?it/s]"
      ]
     },
     "metadata": {},
     "output_type": "display_data"
    },
    {
     "data": {
      "application/vnd.jupyter.widget-view+json": {
       "model_id": "75fd5f5035cd43ea81ebb78a04c23f66",
       "version_major": 2,
       "version_minor": 0
      },
      "text/plain": [
       "  0%|          | 0/9 [00:00<?, ?it/s]"
      ]
     },
     "metadata": {},
     "output_type": "display_data"
    },
    {
     "data": {
      "application/vnd.jupyter.widget-view+json": {
       "model_id": "c4188a1cca524dd6970533ee29be0758",
       "version_major": 2,
       "version_minor": 0
      },
      "text/plain": [
       "  0%|          | 0/9 [00:00<?, ?it/s]"
      ]
     },
     "metadata": {},
     "output_type": "display_data"
    },
    {
     "data": {
      "application/vnd.jupyter.widget-view+json": {
       "model_id": "7594a7d3ed6e4b849b0c4bca5eb88f1f",
       "version_major": 2,
       "version_minor": 0
      },
      "text/plain": [
       "  0%|          | 0/9 [00:00<?, ?it/s]"
      ]
     },
     "metadata": {},
     "output_type": "display_data"
    },
    {
     "data": {
      "application/vnd.jupyter.widget-view+json": {
       "model_id": "3438a80359874ebf91e0bc5d4f8aaf23",
       "version_major": 2,
       "version_minor": 0
      },
      "text/plain": [
       "  0%|          | 0/9 [00:00<?, ?it/s]"
      ]
     },
     "metadata": {},
     "output_type": "display_data"
    }
   ],
   "source": [
    "text_files = np.sort(text_files)\n",
    "c, r, f, a, h = data_stack(text_files)"
   ]
  },
  {
   "cell_type": "code",
   "execution_count": 220,
   "id": "5902d750",
   "metadata": {},
   "outputs": [
    {
     "data": {
      "image/png": "[encoded data removed]",
      "text/plain": [
       "<Figure size 2400x1600 with 12 Axes>"
      ]
     },
     "metadata": {
      "needs_background": "light"
     },
     "output_type": "display_data"
    }
   ],
   "source": [
    "num_files = len(text_files)\n",
    "num_steps = 3\n",
    "\n",
    "param = a\n",
    "\n",
    "fig, ax = plt.subplots(\n",
    "    num_files,\n",
    "    num_steps,\n",
    "    dpi=400,\n",
    ")\n",
    "fig.tight_layout()\n",
    "\n",
    "for i in range(num_files):\n",
    "    for j in range(num_steps):\n",
    "        ax_temp = ax[i, j]\n",
    "\n",
    "        if (j == 0):\n",
    "            ax_temp.set_ylabel('run ' + str(i), size='large')\n",
    "\n",
    "        temp_frame_num = math.floor(row_num / num_steps * j)\n",
    "\n",
    "        if (i == 0):\n",
    "            ax_temp.set_title('frame ' + str(temp_frame_num), size='large')\n",
    "\n",
    "        ax_temp.set_aspect('equal', 'box')\n",
    "        ax_temp.imshow(h[i, temp_frame_num, :, :])"
   ]
  },
  {
   "cell_type": "code",
   "execution_count": 222,
   "id": "d44bd0dc",
   "metadata": {},
   "outputs": [],
   "source": [
    "num_frames = np.shape(h)[1]"
   ]
  },
  {
   "cell_type": "code",
   "execution_count": 223,
   "id": "640b9cf4",
   "metadata": {},
   "outputs": [],
   "source": [
    "#plotting params\n",
    "\n",
    "num_files = len(text_files)\n",
    "num_steps = 3\n",
    "height = 2\n",
    "width = 2\n",
    "\n",
    "labels_base_x = \"unbinding rate \"\n",
    "labels_base_y = \"motor speed \" \n",
    "\n",
    "labels_vals_x = [0.38, 0.77]\n",
    "labels_vals_y = [1, 2]"
   ]
  },
  {
   "cell_type": "code",
   "execution_count": 225,
   "id": "4480b344",
   "metadata": {
    "scrolled": false
   },
   "outputs": [
    {
     "data": {
      "application/vnd.jupyter.widget-view+json": {
       "model_id": "588c2b5e2ccf4049b5c299280ae60a3e",
       "version_major": 2,
       "version_minor": 0
      },
      "text/plain": [
       "  0%|          | 0/9 [00:00<?, ?it/s]"
      ]
     },
     "metadata": {},
     "output_type": "display_data"
    },
    {
     "data": {
      "application/vnd.jupyter.widget-view+json": {
       "model_id": "da8a61c1ba834a2ba520f3ef46de8ae5",
       "version_major": 2,
       "version_minor": 0
      },
      "text/plain": [
       "0it [00:00, ?it/s]"
      ]
     },
     "metadata": {},
     "output_type": "display_data"
    },
    {
     "data": {
      "text/plain": [
       "<tqdm.notebook.tqdm_notebook at 0x7fc9b085a610>"
      ]
     },
     "execution_count": 225,
     "metadata": {},
     "output_type": "execute_result"
    },
    {
     "data": {
      "image/png": "[encoded data removed]",
      "text/plain": [
       "<Figure size 2400x1600 with 4 Axes>"
      ]
     },
     "metadata": {
      "needs_background": "light"
     },
     "output_type": "display_data"
    }
   ],
   "source": [
    "#animating\n",
    "\n",
    "fig, ax = plt.subplots(\n",
    "    height,\n",
    "    width,\n",
    "    dpi=400,\n",
    ")\n",
    "fig.tight_layout()\n",
    "camera = cell.Camera(fig)\n",
    "\n",
    "for j in tqdm(range(num_frames)):\n",
    "    for i in range(num_files): \n",
    "        col = (i%height)\n",
    "        row = math.floor((i - (i%width))/height)\n",
    "\n",
    "        ax_temp = ax[row, col]\n",
    "\n",
    "        if (row == 0):\n",
    "            ax_temp.set_title(labels_base_y + str(labels_vals_y[col]), size='large')\n",
    "\n",
    "        if (col == 0):\n",
    "            ax_temp.set_ylabel(labels_base_x + str(labels_vals_x[row]), size='large')\n",
    "\n",
    "        ax_temp.set_aspect('equal', 'box')\n",
    "        ax_temp.imshow(h[i, j, :, :])\n",
    "    \n",
    "    camera.snap()\n",
    "\n",
    "animation = camera.animate()\n",
    "tqdm(animation.save(\"movie_2.mp4\"))"
   ]
  },
  {
   "cell_type": "markdown",
   "id": "0bff6a01",
   "metadata": {},
   "source": [
    "# Parameters"
   ]
  },
  {
   "cell_type": "code",
   "execution_count": 251,
   "id": "9eadc11d",
   "metadata": {},
   "outputs": [
    {
     "data": {
      "application/vnd.jupyter.widget-view+json": {
       "model_id": "2b3172f44215425e8292635634e1c05c",
       "version_major": 2,
       "version_minor": 0
      },
      "text/plain": [
       "  0%|          | 0/9 [00:00<?, ?it/s]"
      ]
     },
     "metadata": {},
     "output_type": "display_data"
    },
    {
     "data": {
      "application/vnd.jupyter.widget-view+json": {
       "model_id": "be6b97978c354acc934755daa91b89d0",
       "version_major": 2,
       "version_minor": 0
      },
      "text/plain": [
       "0it [00:00, ?it/s]"
      ]
     },
     "metadata": {},
     "output_type": "display_data"
    },
    {
     "data": {
      "text/plain": [
       "<tqdm.notebook.tqdm_notebook at 0x7fc9916b08b0>"
      ]
     },
     "execution_count": 251,
     "metadata": {},
     "output_type": "execute_result"
    },
    {
     "data": {
      "image/png": "[encoded data removed]",
      "text/plain": [
       "<Figure size 2400x1600 with 4 Axes>"
      ]
     },
     "metadata": {
      "needs_background": "light"
     },
     "output_type": "display_data"
    }
   ],
   "source": [
    "param_of_interest = a\n",
    "\n",
    "#plotting params\n",
    "\n",
    "num_files = len(text_files)\n",
    "num_steps = 3\n",
    "height = 2\n",
    "width = 2\n",
    "\n",
    "labels_base_x = \"unbinding rate \"\n",
    "labels_base_y = \"motor speed \" \n",
    "\n",
    "labels_vals_x = [0.38, 0.77]\n",
    "labels_vals_y = [1, 2]\n",
    "\n",
    "xlim_min = 0\n",
    "xlim_max = np.shape(param_of_interest[0])[0] - 2\n",
    "\n",
    "ylim_min = np.min(param_of_interest)\n",
    "ylim_max = np.max(param_of_interest)\n",
    "\n",
    "#animating\n",
    "\n",
    "fig, ax = plt.subplots(\n",
    "    height,\n",
    "    width,\n",
    "    dpi=400,\n",
    ")\n",
    "fig.tight_layout()\n",
    "camera = cell.Camera(fig)\n",
    "\n",
    "for j in tqdm(range(num_frames)):\n",
    "    for i in range(num_files): \n",
    "        col = (i%height)\n",
    "        row = math.floor((i - (i%width))/height)\n",
    "\n",
    "        param_array = None\n",
    "        num_indices = 2\n",
    "        \n",
    "        if (num_indices == 2):\n",
    "            param_array = param_of_interest[i,:j]\n",
    "            \n",
    "        ax_temp = ax[row, col]\n",
    "\n",
    "        if (row == 0):\n",
    "            ax_temp.set_title(labels_base_y + str(labels_vals_y[col]), size='large')\n",
    "\n",
    "        if (col == 0):\n",
    "            ax_temp.set_ylabel(labels_base_x + str(labels_vals_x[row]), size='large')\n",
    "\n",
    "        ax_temp.set_xlim(xlim_min, xlim_max)\n",
    "        ax_temp.set_ylim(ylim_min, ylim_max)\n",
    "        ax_temp.plot(param_array, linewidth = 1)\n",
    "    \n",
    "    camera.snap()\n",
    "\n",
    "animation = camera.animate()\n",
    "tqdm(animation.save(\"movie_2.mp4\"))"
   ]
  },
  {
   "cell_type": "code",
   "execution_count": 240,
   "id": "b887b4e7",
   "metadata": {},
   "outputs": [
    {
     "data": {
      "text/plain": [
       "3.0"
      ]
     },
     "execution_count": 240,
     "metadata": {},
     "output_type": "execute_result"
    }
   ],
   "source": []
  },
  {
   "cell_type": "code",
   "execution_count": 237,
   "id": "4c9f6856",
   "metadata": {},
   "outputs": [
    {
     "data": {
      "text/plain": [
       "0"
      ]
     },
     "execution_count": 237,
     "metadata": {},
     "output_type": "execute_result"
    }
   ],
   "source": [
    "min(np.array([0,1,2]))"
   ]
  },
  {
   "cell_type": "code",
   "execution_count": 235,
   "id": "6451824d",
   "metadata": {},
   "outputs": [
    {
     "ename": "ValueError",
     "evalue": "invalid number of arguments",
     "output_type": "error",
     "traceback": [
      "\u001b[0;31m---------------------------------------------------------------------------\u001b[0m",
      "\u001b[0;31mValueError\u001b[0m                                Traceback (most recent call last)",
      "\u001b[0;32m<ipython-input-235-6b5dd286b997>\u001b[0m in \u001b[0;36m<module>\u001b[0;34m\u001b[0m\n\u001b[0;32m----> 1\u001b[0;31m \u001b[0mnp\u001b[0m\u001b[0;34m.\u001b[0m\u001b[0mmaximum\u001b[0m\u001b[0;34m(\u001b[0m\u001b[0mnp\u001b[0m\u001b[0;34m.\u001b[0m\u001b[0marray\u001b[0m\u001b[0;34m(\u001b[0m\u001b[0;34m[\u001b[0m\u001b[0;36m0\u001b[0m\u001b[0;34m,\u001b[0m\u001b[0;36m1\u001b[0m\u001b[0;34m,\u001b[0m\u001b[0;36m2\u001b[0m\u001b[0;34m]\u001b[0m\u001b[0;34m)\u001b[0m\u001b[0;34m)\u001b[0m\u001b[0;34m\u001b[0m\u001b[0;34m\u001b[0m\u001b[0m\n\u001b[0m",
      "\u001b[0;31mValueError\u001b[0m: invalid number of arguments"
     ]
    }
   ],
   "source": [
    "np.maximum(np.array([0,1,2]))"
   ]
  },
  {
   "cell_type": "markdown",
   "id": "3eeb527c",
   "metadata": {},
   "source": [
    "# Commands to remove files"
   ]
  },
  {
   "cell_type": "code",
   "execution_count": 226,
   "id": "0d253869",
   "metadata": {},
   "outputs": [],
   "source": [
    "%%bash\n",
    "rm -r run0*/"
   ]
  },
  {
   "cell_type": "code",
   "execution_count": 227,
   "id": "d14bbf8f",
   "metadata": {},
   "outputs": [],
   "source": [
    "%%bash\n",
    "rm -r *template0*.cym"
   ]
  },
  {
   "cell_type": "code",
   "execution_count": null,
   "id": "53477b6a",
   "metadata": {},
   "outputs": [],
   "source": []
  }
 ],
 "metadata": {
  "kernelspec": {
   "display_name": "Python 3",
   "language": "python",
   "name": "python3"
  },
  "language_info": {
   "codemirror_mode": {
    "name": "ipython",
    "version": 3
   },
   "file_extension": ".py",
   "mimetype": "text/x-python",
   "name": "python",
   "nbconvert_exporter": "python",
   "pygments_lexer": "ipython3",
   "version": "3.8.8"
  },
  "latex_envs": {
   "LaTeX_envs_menu_present": true,
   "autoclose": false,
   "autocomplete": true,
   "bibliofile": "biblio.bib",
   "cite_by": "apalike",
   "current_citInitial": 1,
   "eqLabelWithNumbers": true,
   "eqNumInitial": 1,
   "hotkeys": {
    "equation": "Ctrl-E",
    "itemize": "Ctrl-I"
   },
   "labels_anchors": false,
   "latex_user_defs": false,
   "report_style_numbering": false,
   "user_envs_cfg": false
  },
  "toc": {
   "base_numbering": 1,
   "nav_menu": {},
   "number_sections": true,
   "sideBar": true,
   "skip_h1_title": false,
   "title_cell": "Table of Contents",
   "title_sidebar": "Contents",
   "toc_cell": false,
   "toc_position": {},
   "toc_section_display": true,
   "toc_window_display": true
  },
  "widgets": {
   "application/vnd.jupyter.widget-state+json": {
    "state": {
     "005ca63795d14c6cbf7bc5ab5616de4a": {
      "model_module": "@jupyter-widgets/controls",
      "model_module_version": "1.5.0",
      "model_name": "HTMLModel",
      "state": {
       "layout": "IPY_MODEL_16990494bc6747f68e3a8ff3dd6f57c4",
       "style": "IPY_MODEL_04197e9a25ac45f1bafe98b6a646a619",
       "value": "100%"
      }
     },
     "012be92eaf014dff9e1081e425b4631d": {
      "model_module": "@jupyter-widgets/controls",
      "model_module_version": "1.5.0",
      "model_name": "HBoxModel",
      "state": {
       "children": [
        "IPY_MODEL_a9ec763965254c689f0a9bf4e7b95095",
        "IPY_MODEL_e5f704e64a3d4793b441303ff14e9a1b",
        "IPY_MODEL_75b6e322243348a6becf506d16ef67a2"
       ],
       "layout": "IPY_MODEL_44c9dcfe403d48d5a8cb52d1ca998710"
      }
     },
     "01769b5913cb43d88568e54bc893e562": {
      "model_module": "@jupyter-widgets/controls",
      "model_module_version": "1.5.0",
      "model_name": "ProgressStyleModel",
      "state": {
       "description_width": ""
      }
     },
     "0308a846a7674164a97ef66103f97f86": {
      "model_module": "@jupyter-widgets/controls",
      "model_module_version": "1.5.0",
      "model_name": "DescriptionStyleModel",
      "state": {
       "description_width": ""
      }
     },
     "0398c5c6fd8340a8a025c3dca53a9913": {
      "model_module": "@jupyter-widgets/base",
      "model_module_version": "1.2.0",
      "model_name": "LayoutModel",
      "state": {}
     },
     "04197e9a25ac45f1bafe98b6a646a619": {
      "model_module": "@jupyter-widgets/controls",
      "model_module_version": "1.5.0",
      "model_name": "DescriptionStyleModel",
      "state": {
       "description_width": ""
      }
     },
     "043d5025b950469fb7e33cddf288344d": {
      "model_module": "@jupyter-widgets/base",
      "model_module_version": "1.2.0",
      "model_name": "LayoutModel",
      "state": {}
     },
     "051d6657eae841608d1438a09587a490": {
      "model_module": "@jupyter-widgets/controls",
      "model_module_version": "1.5.0",
      "model_name": "HTMLModel",
      "state": {
       "layout": "IPY_MODEL_5b2f5e82470d41c58131a6643fa58c1b",
       "style": "IPY_MODEL_2bc8f4264fe64c4fb86bda365f4a7ff4",
       "value": " 9/9 [00:00&lt;00:00, 293.66it/s]"
      }
     },
     "05b4a3aa69ad4d0daa10dee8271fa47c": {
      "model_module": "@jupyter-widgets/base",
      "model_module_version": "1.2.0",
      "model_name": "LayoutModel",
      "state": {}
     },
     "064c33483a9448079007d9f53342932a": {
      "model_module": "@jupyter-widgets/controls",
      "model_module_version": "1.5.0",
      "model_name": "HTMLModel",
      "state": {
       "layout": "IPY_MODEL_0dd9808678fc4d469dcadefd40d42d4f",
       "style": "IPY_MODEL_9cb32f9a0fac4748a1e9c43654b1ba25",
       "value": "100%"
      }
     },
     "0741b8a2561849c891497a01fbb5ea01": {
      "model_module": "@jupyter-widgets/controls",
      "model_module_version": "1.5.0",
      "model_name": "DescriptionStyleModel",
      "state": {
       "description_width": ""
      }
     },
     "07ad54a0f3f5469d86afc45a467e927f": {
      "model_module": "@jupyter-widgets/base",
      "model_module_version": "1.2.0",
      "model_name": "LayoutModel",
      "state": {}
     },
     "093c0da1732f4a3788091cb0a7d786f3": {
      "model_module": "@jupyter-widgets/base",
      "model_module_version": "1.2.0",
      "model_name": "LayoutModel",
      "state": {}
     },
     "09c124efb09142f39f0eefcf9fdce11a": {
      "model_module": "@jupyter-widgets/controls",
      "model_module_version": "1.5.0",
      "model_name": "FloatProgressModel",
      "state": {
       "bar_style": "success",
       "layout": "IPY_MODEL_e12545094db04ce48e19b2737f9d70c6",
       "max": 9,
       "style": "IPY_MODEL_ef3751fb89f346fc96848439166bc557",
       "value": 9
      }
     },
     "09deeb2491c44686891597a04b16f3d2": {
      "model_module": "@jupyter-widgets/controls",
      "model_module_version": "1.5.0",
      "model_name": "HTMLModel",
      "state": {
       "layout": "IPY_MODEL_4b78d2f2957f4aae899c32f48b6ab97a",
       "style": "IPY_MODEL_deaf6cd687cf4d58a46383d0feb7eb95",
       "value": "100%"
      }
     },
     "09f23bf170b242589f7bb2cd8a9fb4a9": {
      "model_module": "@jupyter-widgets/base",
      "model_module_version": "1.2.0",
      "model_name": "LayoutModel",
      "state": {}
     },
     "0a0c80f4ccac4b779bb390a93ff971cf": {
      "model_module": "@jupyter-widgets/base",
      "model_module_version": "1.2.0",
      "model_name": "LayoutModel",
      "state": {}
     },
     "0a2baab19f8043c39b41def7245ce091": {
      "model_module": "@jupyter-widgets/controls",
      "model_module_version": "1.5.0",
      "model_name": "HTMLModel",
      "state": {
       "layout": "IPY_MODEL_7cc589bd41c34c2da9af9298e32bf027",
       "style": "IPY_MODEL_491b025ed05e44d2ba3471686c9a42d1",
       "value": " 9/9 [00:00&lt;00:00, 163.06it/s]"
      }
     },
     "0ad0ee127be340ff9bc041c792e3c829": {
      "model_module": "@jupyter-widgets/controls",
      "model_module_version": "1.5.0",
      "model_name": "DescriptionStyleModel",
      "state": {
       "description_width": ""
      }
     },
     "0b821891492f40708bd14a71d4eb267a": {
      "model_module": "@jupyter-widgets/controls",
      "model_module_version": "1.5.0",
      "model_name": "DescriptionStyleModel",
      "state": {
       "description_width": ""
      }
     },
     "0c3512cffa7f42e3beb205e92dbe0bce": {
      "model_module": "@jupyter-widgets/controls",
      "model_module_version": "1.5.0",
      "model_name": "HTMLModel",
      "state": {
       "layout": "IPY_MODEL_f8b76fed143740cab1c3843955f9d8a4",
       "style": "IPY_MODEL_a8bab1d5b9a54b26919eb01a77360ec3",
       "value": " 9/9 [00:00&lt;00:00, 153.22it/s]"
      }
     },
     "0ce8dd7294b54ce4be2cd77593d028d0": {
      "model_module": "@jupyter-widgets/base",
      "model_module_version": "1.2.0",
      "model_name": "LayoutModel",
      "state": {}
     },
     "0d359ed8f37342e68362ec8e2b75ec98": {
      "model_module": "@jupyter-widgets/base",
      "model_module_version": "1.2.0",
      "model_name": "LayoutModel",
      "state": {}
     },
     "0d3f13d0053341eb8097218459a8fd82": {
      "model_module": "@jupyter-widgets/controls",
      "model_module_version": "1.5.0",
      "model_name": "DescriptionStyleModel",
      "state": {
       "description_width": ""
      }
     },
     "0d7e6ae4e6404f008c3038c8c4e8ae22": {
      "model_module": "@jupyter-widgets/controls",
      "model_module_version": "1.5.0",
      "model_name": "DescriptionStyleModel",
      "state": {
       "description_width": ""
      }
     },
     "0d8f5dc8b72f45908e89a41a633b7f4a": {
      "model_module": "@jupyter-widgets/controls",
      "model_module_version": "1.5.0",
      "model_name": "DescriptionStyleModel",
      "state": {
       "description_width": ""
      }
     },
     "0dd9808678fc4d469dcadefd40d42d4f": {
      "model_module": "@jupyter-widgets/base",
      "model_module_version": "1.2.0",
      "model_name": "LayoutModel",
      "state": {}
     },
     "0de9975511104792bb9d7eaf8bf8b11b": {
      "model_module": "@jupyter-widgets/controls",
      "model_module_version": "1.5.0",
      "model_name": "HTMLModel",
      "state": {
       "layout": "IPY_MODEL_b3c6b4ccf4e341fd8c7f259eeab3095a",
       "style": "IPY_MODEL_2ae16f52d42a40e7bfa71056bf51a107",
       "value": " 9/9 [00:00&lt;00:00, 291.71it/s]"
      }
     },
     "0df026fea9614f368dafe4feb5499dcb": {
      "model_module": "@jupyter-widgets/controls",
      "model_module_version": "1.5.0",
      "model_name": "ProgressStyleModel",
      "state": {
       "description_width": ""
      }
     },
     "0e4c623351204814a41d0c03712287d9": {
      "model_module": "@jupyter-widgets/controls",
      "model_module_version": "1.5.0",
      "model_name": "HTMLModel",
      "state": {
       "layout": "IPY_MODEL_78a80b25a986453db9efd40a7493d5c9",
       "style": "IPY_MODEL_280e97e88c384d2bb037a44ecec5ed85",
       "value": "100%"
      }
     },
     "0fd80d4bba12404dbc0179a99f90f1d0": {
      "model_module": "@jupyter-widgets/controls",
      "model_module_version": "1.5.0",
      "model_name": "HTMLModel",
      "state": {
       "layout": "IPY_MODEL_d31dc869ead24d1ab733f9cdffcc9eea",
       "style": "IPY_MODEL_3484e9610e2c43b3aae3053b502be9e3",
       "value": "100%"
      }
     },
     "1079c93320fb4c3eb52587651c25018a": {
      "model_module": "@jupyter-widgets/controls",
      "model_module_version": "1.5.0",
      "model_name": "HBoxModel",
      "state": {
       "children": [
        "IPY_MODEL_61a6dfc8ffa34bfd9cd2a647d3199179",
        "IPY_MODEL_fa5c4a1eec3c41b99ff617b6297e9d35",
        "IPY_MODEL_a9a2f397599f49df9568cb2c92cadb83"
       ],
       "layout": "IPY_MODEL_5c5648a4e14541b493ba791f784c47ea"
      }
     },
     "12732e0e0c80415d93399e140ae10c2e": {
      "model_module": "@jupyter-widgets/base",
      "model_module_version": "1.2.0",
      "model_name": "LayoutModel",
      "state": {}
     },
     "136c758bc6db4c92ab2fde911d167b05": {
      "model_module": "@jupyter-widgets/controls",
      "model_module_version": "1.5.0",
      "model_name": "HBoxModel",
      "state": {
       "children": [
        "IPY_MODEL_9df7d81f157c4567bb8dbcce3fa5827e",
        "IPY_MODEL_ae89d98c3ade481d8ad24b0ea7ac87c3",
        "IPY_MODEL_cb28596b578349338435eea227da993f"
       ],
       "layout": "IPY_MODEL_b0639d06b1b14be6a48db2dec3ca1cf5"
      }
     },
     "15f63141fa99497eb99e9255bbc68929": {
      "model_module": "@jupyter-widgets/base",
      "model_module_version": "1.2.0",
      "model_name": "LayoutModel",
      "state": {}
     },
     "16990494bc6747f68e3a8ff3dd6f57c4": {
      "model_module": "@jupyter-widgets/base",
      "model_module_version": "1.2.0",
      "model_name": "LayoutModel",
      "state": {}
     },
     "16a62958c9784ccf899e6bf8c015cf5f": {
      "model_module": "@jupyter-widgets/controls",
      "model_module_version": "1.5.0",
      "model_name": "HBoxModel",
      "state": {
       "children": [
        "IPY_MODEL_b18ac679490f48119e201d7b02e5ef7d",
        "IPY_MODEL_a6adf75ca2014c8b9df29f481d0c89d5",
        "IPY_MODEL_5b5f2752d91c4681bcde307c98ee416b"
       ],
       "layout": "IPY_MODEL_72fe6ee467f044d78e40322d6e56ee6b"
      }
     },
     "177efa948bb142b8a55801d0b1f9ecaa": {
      "model_module": "@jupyter-widgets/controls",
      "model_module_version": "1.5.0",
      "model_name": "DescriptionStyleModel",
      "state": {
       "description_width": ""
      }
     },
     "178e3fa09dc54ffaa04587314d7da767": {
      "model_module": "@jupyter-widgets/controls",
      "model_module_version": "1.5.0",
      "model_name": "ProgressStyleModel",
      "state": {
       "description_width": ""
      }
     },
     "193e1079d69949959737529c69950ef5": {
      "model_module": "@jupyter-widgets/controls",
      "model_module_version": "1.5.0",
      "model_name": "HBoxModel",
      "state": {
       "children": [
        "IPY_MODEL_32c6230850c7432b93ca8790bea57eb4",
        "IPY_MODEL_d89b8d2b29fb4434b29b708148d11890",
        "IPY_MODEL_42f36a4108504941bafd9caa7ae17aa9"
       ],
       "layout": "IPY_MODEL_d7d2a47357d94498b5806d2d65a68729"
      }
     },
     "19e34df2d61c4205afa0137be090a8c6": {
      "model_module": "@jupyter-widgets/base",
      "model_module_version": "1.2.0",
      "model_name": "LayoutModel",
      "state": {}
     },
     "1af55e96cd19442897a7d467581869be": {
      "model_module": "@jupyter-widgets/controls",
      "model_module_version": "1.5.0",
      "model_name": "HBoxModel",
      "state": {
       "children": [
        "IPY_MODEL_c5923ceda44b4935b4daaaf5b73210b9",
        "IPY_MODEL_399dff351b8b46508423f434dd553d0d",
        "IPY_MODEL_2dcd2597859a464f91f3ab432a58cf7d"
       ],
       "layout": "IPY_MODEL_c17fdc150f0745838e76858feba3f9a4"
      }
     },
     "22586342afbd47628d6f710206530444": {
      "model_module": "@jupyter-widgets/base",
      "model_module_version": "1.2.0",
      "model_name": "LayoutModel",
      "state": {}
     },
     "2382b59463a54fb0ba3a568392964311": {
      "model_module": "@jupyter-widgets/base",
      "model_module_version": "1.2.0",
      "model_name": "LayoutModel",
      "state": {}
     },
     "23e2a98fb48947aabe830d283a09d4d0": {
      "model_module": "@jupyter-widgets/controls",
      "model_module_version": "1.5.0",
      "model_name": "HTMLModel",
      "state": {
       "layout": "IPY_MODEL_3e4b43cd3f2c45ea8128dc5b46e90764",
       "style": "IPY_MODEL_8f535d9adda64b4691cd494270b71a1d",
       "value": " 9/9 [00:00&lt;00:00, 177.07it/s]"
      }
     },
     "24874c2ba582408d8a0f8b0f79fb96c3": {
      "model_module": "@jupyter-widgets/controls",
      "model_module_version": "1.5.0",
      "model_name": "ProgressStyleModel",
      "state": {
       "description_width": ""
      }
     },
     "259e8f34ea674ff1b3326bae19b0e836": {
      "model_module": "@jupyter-widgets/controls",
      "model_module_version": "1.5.0",
      "model_name": "HBoxModel",
      "state": {
       "children": [
        "IPY_MODEL_ee824a055a544885945988eedfe89ada",
        "IPY_MODEL_d589b24a6fb0410fa79b0cfcd816ca92",
        "IPY_MODEL_a9588149000049c9b71a37b4c02207cf"
       ],
       "layout": "IPY_MODEL_5e909edf46ae46278af4961df821e29e"
      }
     },
     "26d950841dbd4182a1c5653391fcfe1c": {
      "model_module": "@jupyter-widgets/controls",
      "model_module_version": "1.5.0",
      "model_name": "HTMLModel",
      "state": {
       "layout": "IPY_MODEL_877aa6da88534f06b5c4650bcaa89e6e",
       "style": "IPY_MODEL_4ca5345ffcf94430a1cea9970370086b",
       "value": "100%"
      }
     },
     "280e97e88c384d2bb037a44ecec5ed85": {
      "model_module": "@jupyter-widgets/controls",
      "model_module_version": "1.5.0",
      "model_name": "DescriptionStyleModel",
      "state": {
       "description_width": ""
      }
     },
     "2ae16f52d42a40e7bfa71056bf51a107": {
      "model_module": "@jupyter-widgets/controls",
      "model_module_version": "1.5.0",
      "model_name": "DescriptionStyleModel",
      "state": {
       "description_width": ""
      }
     },
     "2bc3f6f3582f416a8fe522d017df59b4": {
      "model_module": "@jupyter-widgets/base",
      "model_module_version": "1.2.0",
      "model_name": "LayoutModel",
      "state": {}
     },
     "2bc8f4264fe64c4fb86bda365f4a7ff4": {
      "model_module": "@jupyter-widgets/controls",
      "model_module_version": "1.5.0",
      "model_name": "DescriptionStyleModel",
      "state": {
       "description_width": ""
      }
     },
     "2ca3ae3a261a4c08b064e7c9d260e3c8": {
      "model_module": "@jupyter-widgets/base",
      "model_module_version": "1.2.0",
      "model_name": "LayoutModel",
      "state": {}
     },
     "2dcd2597859a464f91f3ab432a58cf7d": {
      "model_module": "@jupyter-widgets/controls",
      "model_module_version": "1.5.0",
      "model_name": "HTMLModel",
      "state": {
       "layout": "IPY_MODEL_d27f4d400a8e49809fd3015dc445a5f7",
       "style": "IPY_MODEL_607ffc74aaff40739ca685cb5777714b",
       "value": " 9/9 [00:00&lt;00:00, 280.97it/s]"
      }
     },
     "303b5a2c8f2a417494965b8307706263": {
      "model_module": "@jupyter-widgets/controls",
      "model_module_version": "1.5.0",
      "model_name": "DescriptionStyleModel",
      "state": {
       "description_width": ""
      }
     },
     "31aab9fb057a40faa3b9e62619b1bd9b": {
      "model_module": "@jupyter-widgets/controls",
      "model_module_version": "1.5.0",
      "model_name": "ProgressStyleModel",
      "state": {
       "description_width": ""
      }
     },
     "31c3c19f3d8b49dc9e2637c91c10cbf4": {
      "model_module": "@jupyter-widgets/base",
      "model_module_version": "1.2.0",
      "model_name": "LayoutModel",
      "state": {}
     },
     "3267d2c5dcc74daab0e7e212112a1532": {
      "model_module": "@jupyter-widgets/base",
      "model_module_version": "1.2.0",
      "model_name": "LayoutModel",
      "state": {}
     },
     "32c6230850c7432b93ca8790bea57eb4": {
      "model_module": "@jupyter-widgets/controls",
      "model_module_version": "1.5.0",
      "model_name": "HTMLModel",
      "state": {
       "layout": "IPY_MODEL_67a98a5d64564b8a96222ac50788e4cf",
       "style": "IPY_MODEL_fe56e12b750e410bad5e5ff1b2d44a69",
       "value": "100%"
      }
     },
     "32f4a79aa3244a2d92528ec4f6a07bc6": {
      "model_module": "@jupyter-widgets/controls",
      "model_module_version": "1.5.0",
      "model_name": "DescriptionStyleModel",
      "state": {
       "description_width": ""
      }
     },
     "3438cca5700c4d04a18d14b1fef530cc": {
      "model_module": "@jupyter-widgets/controls",
      "model_module_version": "1.5.0",
      "model_name": "HBoxModel",
      "state": {
       "children": [
        "IPY_MODEL_38e78ce4c690482db8ae40e780c89cc5",
        "IPY_MODEL_bf9d8aef8b094343bca72b4c753825c7",
        "IPY_MODEL_7263376a11f6438f9aa1d1f271124aa4"
       ],
       "layout": "IPY_MODEL_8f06295298fc4273840ac72417a7320d"
      }
     },
     "3484e9610e2c43b3aae3053b502be9e3": {
      "model_module": "@jupyter-widgets/controls",
      "model_module_version": "1.5.0",
      "model_name": "DescriptionStyleModel",
      "state": {
       "description_width": ""
      }
     },
     "34b85ffcb6724322a983b17afbde1d6a": {
      "model_module": "@jupyter-widgets/controls",
      "model_module_version": "1.5.0",
      "model_name": "ProgressStyleModel",
      "state": {
       "description_width": ""
      }
     },
     "34fa216effc747bd9f0c6427811bbc45": {
      "model_module": "@jupyter-widgets/controls",
      "model_module_version": "1.5.0",
      "model_name": "DescriptionStyleModel",
      "state": {
       "description_width": ""
      }
     },
     "35574d622cbd4632a6eae67cedd123aa": {
      "model_module": "@jupyter-widgets/controls",
      "model_module_version": "1.5.0",
      "model_name": "ProgressStyleModel",
      "state": {
       "description_width": ""
      }
     },
     "35f98b258d074671a4ec923e88fdd626": {
      "model_module": "@jupyter-widgets/controls",
      "model_module_version": "1.5.0",
      "model_name": "ProgressStyleModel",
      "state": {
       "description_width": ""
      }
     },
     "366137b976d749debc320f2e557b1069": {
      "model_module": "@jupyter-widgets/controls",
      "model_module_version": "1.5.0",
      "model_name": "FloatProgressModel",
      "state": {
       "bar_style": "success",
       "layout": "IPY_MODEL_da0af47259d345488628b68919828b8a",
       "max": 9,
       "style": "IPY_MODEL_24874c2ba582408d8a0f8b0f79fb96c3",
       "value": 9
      }
     },
     "37d966ad3ec0417bb3e8d424bee708e7": {
      "model_module": "@jupyter-widgets/base",
      "model_module_version": "1.2.0",
      "model_name": "LayoutModel",
      "state": {}
     },
     "37ec4636386242ff8e9143a5b9e01567": {
      "model_module": "@jupyter-widgets/base",
      "model_module_version": "1.2.0",
      "model_name": "LayoutModel",
      "state": {}
     },
     "385b4a160bae4e9886dbb30020cbde04": {
      "model_module": "@jupyter-widgets/base",
      "model_module_version": "1.2.0",
      "model_name": "LayoutModel",
      "state": {}
     },
     "38c5c7767cdc4086a002a6e47bc34adf": {
      "model_module": "@jupyter-widgets/controls",
      "model_module_version": "1.5.0",
      "model_name": "HBoxModel",
      "state": {
       "children": [
        "IPY_MODEL_a162313f1b12457bb61905d75f71004f",
        "IPY_MODEL_8bf322db94544aa8bc386c2539443401",
        "IPY_MODEL_b35253ea69d04fa5873b82ebe9421d77"
       ],
       "layout": "IPY_MODEL_9f561695f9de410091f67529c537e12f"
      }
     },
     "38e78ce4c690482db8ae40e780c89cc5": {
      "model_module": "@jupyter-widgets/controls",
      "model_module_version": "1.5.0",
      "model_name": "HTMLModel",
      "state": {
       "layout": "IPY_MODEL_73ccd9adb135448e8ef5b80bc2a079aa",
       "style": "IPY_MODEL_e52399553c8347a0a5f0d87b3f1a3a03",
       "value": "100%"
      }
     },
     "399dff351b8b46508423f434dd553d0d": {
      "model_module": "@jupyter-widgets/controls",
      "model_module_version": "1.5.0",
      "model_name": "FloatProgressModel",
      "state": {
       "bar_style": "success",
       "layout": "IPY_MODEL_85e9b4f83c9c4dc6b8bebaf214cc0ff8",
       "max": 9,
       "style": "IPY_MODEL_5fbc6c5a168b44bd8ca779a02c9551d0",
       "value": 9
      }
     },
     "3a5299a295e843ae9d8f937bf90b8227": {
      "model_module": "@jupyter-widgets/base",
      "model_module_version": "1.2.0",
      "model_name": "LayoutModel",
      "state": {}
     },
     "3ac72d98b2b644f9abe7c4c5fce79f89": {
      "model_module": "@jupyter-widgets/controls",
      "model_module_version": "1.5.0",
      "model_name": "DescriptionStyleModel",
      "state": {
       "description_width": ""
      }
     },
     "3affd9648cbd42a895557bfd8d6da558": {
      "model_module": "@jupyter-widgets/base",
      "model_module_version": "1.2.0",
      "model_name": "LayoutModel",
      "state": {}
     },
     "3b5288ec62bd44b78b6db120699101b9": {
      "model_module": "@jupyter-widgets/base",
      "model_module_version": "1.2.0",
      "model_name": "LayoutModel",
      "state": {}
     },
     "3b8ace6741404400ab793da588ff67ed": {
      "model_module": "@jupyter-widgets/base",
      "model_module_version": "1.2.0",
      "model_name": "LayoutModel",
      "state": {}
     },
     "3c7e01fe35234063b01a643199af9544": {
      "model_module": "@jupyter-widgets/controls",
      "model_module_version": "1.5.0",
      "model_name": "HTMLModel",
      "state": {
       "layout": "IPY_MODEL_8fc192fd2977455f808ec737e0638619",
       "style": "IPY_MODEL_715f3f9448d74cce82af93aa1ce75d15",
       "value": " 9/9 [00:00&lt;00:00, 278.52it/s]"
      }
     },
     "3d944a8dc7d34ad18ad91e00eb002740": {
      "model_module": "@jupyter-widgets/controls",
      "model_module_version": "1.5.0",
      "model_name": "FloatProgressModel",
      "state": {
       "bar_style": "success",
       "layout": "IPY_MODEL_3a5299a295e843ae9d8f937bf90b8227",
       "max": 9,
       "style": "IPY_MODEL_ff46299311f444c2ab1d570a3abafc78",
       "value": 9
      }
     },
     "3e4b43cd3f2c45ea8128dc5b46e90764": {
      "model_module": "@jupyter-widgets/base",
      "model_module_version": "1.2.0",
      "model_name": "LayoutModel",
      "state": {}
     },
     "3ea22f3bbc6147729361bcc0036572f5": {
      "model_module": "@jupyter-widgets/controls",
      "model_module_version": "1.5.0",
      "model_name": "HBoxModel",
      "state": {
       "children": [
        "IPY_MODEL_005ca63795d14c6cbf7bc5ab5616de4a",
        "IPY_MODEL_d5808326d91e401d8618ac2b13f74ea6",
        "IPY_MODEL_23e2a98fb48947aabe830d283a09d4d0"
       ],
       "layout": "IPY_MODEL_a573df1f4636440684d13aa9666d39b7"
      }
     },
     "4109e77319794fe684538a354172cb61": {
      "model_module": "@jupyter-widgets/base",
      "model_module_version": "1.2.0",
      "model_name": "LayoutModel",
      "state": {}
     },
     "42f36a4108504941bafd9caa7ae17aa9": {
      "model_module": "@jupyter-widgets/controls",
      "model_module_version": "1.5.0",
      "model_name": "HTMLModel",
      "state": {
       "layout": "IPY_MODEL_d5a347c909c54478a3b603999acdee2c",
       "style": "IPY_MODEL_b8280271467847c4bcadde15189f0be1",
       "value": " 9/9 [00:00&lt;00:00, 275.49it/s]"
      }
     },
     "44c9dcfe403d48d5a8cb52d1ca998710": {
      "model_module": "@jupyter-widgets/base",
      "model_module_version": "1.2.0",
      "model_name": "LayoutModel",
      "state": {}
     },
     "4561dd8ad30f4c1ca8b4277d537135c0": {
      "model_module": "@jupyter-widgets/controls",
      "model_module_version": "1.5.0",
      "model_name": "DescriptionStyleModel",
      "state": {
       "description_width": ""
      }
     },
     "463fe36b56884c6b87033232314dae47": {
      "model_module": "@jupyter-widgets/controls",
      "model_module_version": "1.5.0",
      "model_name": "DescriptionStyleModel",
      "state": {
       "description_width": ""
      }
     },
     "470c4354d5724528962ea2e1c2eb962c": {
      "model_module": "@jupyter-widgets/controls",
      "model_module_version": "1.5.0",
      "model_name": "HBoxModel",
      "state": {
       "children": [
        "IPY_MODEL_09deeb2491c44686891597a04b16f3d2",
        "IPY_MODEL_4ebf1408207f47bb9b5bd3e50cbd449a",
        "IPY_MODEL_0c3512cffa7f42e3beb205e92dbe0bce"
       ],
       "layout": "IPY_MODEL_609e489174e6419b84d247d13035d71b"
      }
     },
     "491b025ed05e44d2ba3471686c9a42d1": {
      "model_module": "@jupyter-widgets/controls",
      "model_module_version": "1.5.0",
      "model_name": "DescriptionStyleModel",
      "state": {
       "description_width": ""
      }
     },
     "491efd29a3714556b529eb37c2f7f5f2": {
      "model_module": "@jupyter-widgets/controls",
      "model_module_version": "1.5.0",
      "model_name": "DescriptionStyleModel",
      "state": {
       "description_width": ""
      }
     },
     "4a89886d38394abfa852e8a5d5e27639": {
      "model_module": "@jupyter-widgets/controls",
      "model_module_version": "1.5.0",
      "model_name": "HBoxModel",
      "state": {
       "children": [
        "IPY_MODEL_5ceeb3fcbfaf44d991957f025db87ae2",
        "IPY_MODEL_d3cd34d9f50e4643989051909b74451c",
        "IPY_MODEL_f4bc77b82f214648bd416fe9d70682d4"
       ],
       "layout": "IPY_MODEL_dfe51a83f44845ba9fe804f7d2f3c8b3"
      }
     },
     "4ae9204a5c174e8fbc6dcee855053ef6": {
      "model_module": "@jupyter-widgets/controls",
      "model_module_version": "1.5.0",
      "model_name": "ProgressStyleModel",
      "state": {
       "description_width": ""
      }
     },
     "4b547d1b1a984d46a79da756830fefbd": {
      "model_module": "@jupyter-widgets/base",
      "model_module_version": "1.2.0",
      "model_name": "LayoutModel",
      "state": {}
     },
     "4b78d2f2957f4aae899c32f48b6ab97a": {
      "model_module": "@jupyter-widgets/base",
      "model_module_version": "1.2.0",
      "model_name": "LayoutModel",
      "state": {}
     },
     "4bda397f57c04704b7f85cf24492f7d5": {
      "model_module": "@jupyter-widgets/controls",
      "model_module_version": "1.5.0",
      "model_name": "HTMLModel",
      "state": {
       "layout": "IPY_MODEL_ecbc737a32644a30b09366b41a5166da",
       "style": "IPY_MODEL_0308a846a7674164a97ef66103f97f86",
       "value": "100%"
      }
     },
     "4ca5345ffcf94430a1cea9970370086b": {
      "model_module": "@jupyter-widgets/controls",
      "model_module_version": "1.5.0",
      "model_name": "DescriptionStyleModel",
      "state": {
       "description_width": ""
      }
     },
     "4d76866f2154410c92450d0334e7b2f3": {
      "model_module": "@jupyter-widgets/base",
      "model_module_version": "1.2.0",
      "model_name": "LayoutModel",
      "state": {}
     },
     "4ebf1408207f47bb9b5bd3e50cbd449a": {
      "model_module": "@jupyter-widgets/controls",
      "model_module_version": "1.5.0",
      "model_name": "FloatProgressModel",
      "state": {
       "bar_style": "success",
       "layout": "IPY_MODEL_d5b2ce2e726b4f36b7f9f8e16e28ab3b",
       "max": 9,
       "style": "IPY_MODEL_35574d622cbd4632a6eae67cedd123aa",
       "value": 9
      }
     },
     "4f5313ce90fd464aaaa15590ab83609f": {
      "model_module": "@jupyter-widgets/controls",
      "model_module_version": "1.5.0",
      "model_name": "DescriptionStyleModel",
      "state": {
       "description_width": ""
      }
     },
     "50aeef6dd0d34b859126a168e6afad1b": {
      "model_module": "@jupyter-widgets/controls",
      "model_module_version": "1.5.0",
      "model_name": "HTMLModel",
      "state": {
       "layout": "IPY_MODEL_385b4a160bae4e9886dbb30020cbde04",
       "style": "IPY_MODEL_59b8fe693add4372a915540256dd2146",
       "value": "100%"
      }
     },
     "51fce61079244f3d9023a9aa568ad902": {
      "model_module": "@jupyter-widgets/controls",
      "model_module_version": "1.5.0",
      "model_name": "ProgressStyleModel",
      "state": {
       "description_width": ""
      }
     },
     "523a90f6c73844938cbca0c6119ecd4a": {
      "model_module": "@jupyter-widgets/base",
      "model_module_version": "1.2.0",
      "model_name": "LayoutModel",
      "state": {}
     },
     "53bed4253c0847a48f9b1b3e9d8ce558": {
      "model_module": "@jupyter-widgets/controls",
      "model_module_version": "1.5.0",
      "model_name": "DescriptionStyleModel",
      "state": {
       "description_width": ""
      }
     },
     "557c55948bbf42a59445e0cb3205a279": {
      "model_module": "@jupyter-widgets/base",
      "model_module_version": "1.2.0",
      "model_name": "LayoutModel",
      "state": {}
     },
     "5598959f13b24202a42fe745380ac067": {
      "model_module": "@jupyter-widgets/controls",
      "model_module_version": "1.5.0",
      "model_name": "HBoxModel",
      "state": {
       "children": [
        "IPY_MODEL_6eb3775a10cf4ac6862e2af8386a04b3",
        "IPY_MODEL_bf421400b5314f498221b6d337037092",
        "IPY_MODEL_bef25de5cdf34cba94b8894629cb42d2"
       ],
       "layout": "IPY_MODEL_3affd9648cbd42a895557bfd8d6da558"
      }
     },
     "55b9df00aa324bd8b2d2ccccb0463fdc": {
      "model_module": "@jupyter-widgets/controls",
      "model_module_version": "1.5.0",
      "model_name": "ProgressStyleModel",
      "state": {
       "description_width": ""
      }
     },
     "574d5ad716e041ab93665248dc0788a2": {
      "model_module": "@jupyter-widgets/controls",
      "model_module_version": "1.5.0",
      "model_name": "HBoxModel",
      "state": {
       "children": [
        "IPY_MODEL_b98c87cc1ce845b59dea5768682616b5",
        "IPY_MODEL_d11bfd3c90384e9a80276c51c4143d0e",
        "IPY_MODEL_051d6657eae841608d1438a09587a490"
       ],
       "layout": "IPY_MODEL_a400198e60974491bc1ddc0791d88e29"
      }
     },
     "57bde4f164b147bca9d8d0939e5c13db": {
      "model_module": "@jupyter-widgets/controls",
      "model_module_version": "1.5.0",
      "model_name": "DescriptionStyleModel",
      "state": {
       "description_width": ""
      }
     },
     "57fb611dea284d439d1e7a8217a9c336": {
      "model_module": "@jupyter-widgets/base",
      "model_module_version": "1.2.0",
      "model_name": "LayoutModel",
      "state": {}
     },
     "5950267469424543a013e22e5118de85": {
      "model_module": "@jupyter-widgets/base",
      "model_module_version": "1.2.0",
      "model_name": "LayoutModel",
      "state": {}
     },
     "59b8fe693add4372a915540256dd2146": {
      "model_module": "@jupyter-widgets/controls",
      "model_module_version": "1.5.0",
      "model_name": "DescriptionStyleModel",
      "state": {
       "description_width": ""
      }
     },
     "5b1be2aa1419442ca0f5f823608f85e1": {
      "model_module": "@jupyter-widgets/controls",
      "model_module_version": "1.5.0",
      "model_name": "ProgressStyleModel",
      "state": {
       "description_width": ""
      }
     },
     "5b2f5e82470d41c58131a6643fa58c1b": {
      "model_module": "@jupyter-widgets/base",
      "model_module_version": "1.2.0",
      "model_name": "LayoutModel",
      "state": {}
     },
     "5b4a0447e5a749d08b4ab18cfa066b39": {
      "model_module": "@jupyter-widgets/controls",
      "model_module_version": "1.5.0",
      "model_name": "ProgressStyleModel",
      "state": {
       "description_width": ""
      }
     },
     "5b5f2752d91c4681bcde307c98ee416b": {
      "model_module": "@jupyter-widgets/controls",
      "model_module_version": "1.5.0",
      "model_name": "HTMLModel",
      "state": {
       "layout": "IPY_MODEL_cd598f43d10e46c28041878bc300767e",
       "style": "IPY_MODEL_8a092b98c54a41afbef7caa553202c56",
       "value": " 9/9 [00:00&lt;00:00, 163.32it/s]"
      }
     },
     "5c5648a4e14541b493ba791f784c47ea": {
      "model_module": "@jupyter-widgets/base",
      "model_module_version": "1.2.0",
      "model_name": "LayoutModel",
      "state": {}
     },
     "5c983d3cd1e1472da85a2d302fd9bd3e": {
      "model_module": "@jupyter-widgets/base",
      "model_module_version": "1.2.0",
      "model_name": "LayoutModel",
      "state": {}
     },
     "5cc7f66a538e421f8ee18c20f5fd1603": {
      "model_module": "@jupyter-widgets/base",
      "model_module_version": "1.2.0",
      "model_name": "LayoutModel",
      "state": {}
     },
     "5ceeb3fcbfaf44d991957f025db87ae2": {
      "model_module": "@jupyter-widgets/controls",
      "model_module_version": "1.5.0",
      "model_name": "HTMLModel",
      "state": {
       "layout": "IPY_MODEL_f882cdc2e6cd46069f81af108b0b8e55",
       "style": "IPY_MODEL_70a261c27c034a6698b110c25bc37d64",
       "value": "100%"
      }
     },
     "5e2193272eff4a5091d39d0d15d9922f": {
      "model_module": "@jupyter-widgets/controls",
      "model_module_version": "1.5.0",
      "model_name": "HTMLModel",
      "state": {
       "layout": "IPY_MODEL_37d966ad3ec0417bb3e8d424bee708e7",
       "style": "IPY_MODEL_c971f55312d345c0baa93fdccc6bd37e",
       "value": " 9/9 [00:00&lt;00:00,  9.40it/s]"
      }
     },
     "5e2856db2eaa4dc5adc80aaddfa7baba": {
      "model_module": "@jupyter-widgets/controls",
      "model_module_version": "1.5.0",
      "model_name": "HBoxModel",
      "state": {
       "children": [
        "IPY_MODEL_0fd80d4bba12404dbc0179a99f90f1d0",
        "IPY_MODEL_a0e9621fbf2847c2bcaee8834bfb94e4",
        "IPY_MODEL_a2892f96e22a473b9e2e49251a1a79ee"
       ],
       "layout": "IPY_MODEL_ffdf367963cb422d9b6a71df1ac1b008"
      }
     },
     "5e909edf46ae46278af4961df821e29e": {
      "model_module": "@jupyter-widgets/base",
      "model_module_version": "1.2.0",
      "model_name": "LayoutModel",
      "state": {}
     },
     "5fbc6c5a168b44bd8ca779a02c9551d0": {
      "model_module": "@jupyter-widgets/controls",
      "model_module_version": "1.5.0",
      "model_name": "ProgressStyleModel",
      "state": {
       "description_width": ""
      }
     },
     "60062ffd7281469fb63a53418ff05c73": {
      "model_module": "@jupyter-widgets/controls",
      "model_module_version": "1.5.0",
      "model_name": "HTMLModel",
      "state": {
       "layout": "IPY_MODEL_37ec4636386242ff8e9143a5b9e01567",
       "style": "IPY_MODEL_0741b8a2561849c891497a01fbb5ea01",
       "value": "100%"
      }
     },
     "607ffc74aaff40739ca685cb5777714b": {
      "model_module": "@jupyter-widgets/controls",
      "model_module_version": "1.5.0",
      "model_name": "DescriptionStyleModel",
      "state": {
       "description_width": ""
      }
     },
     "609e489174e6419b84d247d13035d71b": {
      "model_module": "@jupyter-widgets/base",
      "model_module_version": "1.2.0",
      "model_name": "LayoutModel",
      "state": {}
     },
     "60e9780c4c774823b1e3d8dd029558bb": {
      "model_module": "@jupyter-widgets/base",
      "model_module_version": "1.2.0",
      "model_name": "LayoutModel",
      "state": {}
     },
     "614e50013fd24a09b47002a3e0e41fa4": {
      "model_module": "@jupyter-widgets/controls",
      "model_module_version": "1.5.0",
      "model_name": "FloatProgressModel",
      "state": {
       "bar_style": "success",
       "layout": "IPY_MODEL_6a1b1959b68745fb8bb2970f306a4f5d",
       "max": 9,
       "style": "IPY_MODEL_01769b5913cb43d88568e54bc893e562",
       "value": 9
      }
     },
     "61a6dfc8ffa34bfd9cd2a647d3199179": {
      "model_module": "@jupyter-widgets/controls",
      "model_module_version": "1.5.0",
      "model_name": "HTMLModel",
      "state": {
       "layout": "IPY_MODEL_d41fe67800804a46914eafd02cf9cce0",
       "style": "IPY_MODEL_4f5313ce90fd464aaaa15590ab83609f",
       "value": "100%"
      }
     },
     "630b4ebda0b74eae93fc9d54574a6699": {
      "model_module": "@jupyter-widgets/controls",
      "model_module_version": "1.5.0",
      "model_name": "DescriptionStyleModel",
      "state": {
       "description_width": ""
      }
     },
     "63d1849d4f814eef90051cbd1ae8b89d": {
      "model_module": "@jupyter-widgets/controls",
      "model_module_version": "1.5.0",
      "model_name": "FloatProgressModel",
      "state": {
       "bar_style": "success",
       "layout": "IPY_MODEL_f9a8f5b6b61e4e388aee57176c825977",
       "max": 9,
       "style": "IPY_MODEL_7ff52bdddb3d42b99f5d0c482ee29c32",
       "value": 9
      }
     },
     "644f6f0c8f8445d59e7a1fb99f77ff53": {
      "model_module": "@jupyter-widgets/controls",
      "model_module_version": "1.5.0",
      "model_name": "DescriptionStyleModel",
      "state": {
       "description_width": ""
      }
     },
     "67a98a5d64564b8a96222ac50788e4cf": {
      "model_module": "@jupyter-widgets/base",
      "model_module_version": "1.2.0",
      "model_name": "LayoutModel",
      "state": {}
     },
     "683df5b306c54899aa16383f8f4c4331": {
      "model_module": "@jupyter-widgets/controls",
      "model_module_version": "1.5.0",
      "model_name": "HTMLModel",
      "state": {
       "layout": "IPY_MODEL_2bc3f6f3582f416a8fe522d017df59b4",
       "style": "IPY_MODEL_a31a9cd89eec499a855b9d036f711f79",
       "value": "100%"
      }
     },
     "6a1b1959b68745fb8bb2970f306a4f5d": {
      "model_module": "@jupyter-widgets/base",
      "model_module_version": "1.2.0",
      "model_name": "LayoutModel",
      "state": {}
     },
     "6a47b120af6d47cb9451b4d5e30d64be": {
      "model_module": "@jupyter-widgets/controls",
      "model_module_version": "1.5.0",
      "model_name": "DescriptionStyleModel",
      "state": {
       "description_width": ""
      }
     },
     "6a8a58e1930a4fd193ac97a8db7163f2": {
      "model_module": "@jupyter-widgets/controls",
      "model_module_version": "1.5.0",
      "model_name": "FloatProgressModel",
      "state": {
       "bar_style": "success",
       "layout": "IPY_MODEL_7636b6dd53f640b9a614c7d1fc9c4b2c",
       "max": 9,
       "style": "IPY_MODEL_51fce61079244f3d9023a9aa568ad902",
       "value": 9
      }
     },
     "6b30c69243eb46b094935cb70a08f9f5": {
      "model_module": "@jupyter-widgets/controls",
      "model_module_version": "1.5.0",
      "model_name": "HBoxModel",
      "state": {
       "children": [
        "IPY_MODEL_60062ffd7281469fb63a53418ff05c73",
        "IPY_MODEL_c2b764ab2cfb4554b3f4c1dace328007",
        "IPY_MODEL_aacb9a69a36e4658b6106ca396c15ee8"
       ],
       "layout": "IPY_MODEL_7f6ebd67ee004159be7b7390b1fb3682"
      }
     },
     "6b75b60ece5c4fafab9501f51c4c9da8": {
      "model_module": "@jupyter-widgets/base",
      "model_module_version": "1.2.0",
      "model_name": "LayoutModel",
      "state": {}
     },
     "6c4681c236b8434fa2d5cf4c65b68029": {
      "model_module": "@jupyter-widgets/controls",
      "model_module_version": "1.5.0",
      "model_name": "DescriptionStyleModel",
      "state": {
       "description_width": ""
      }
     },
     "6dc99ccb4da440dd94a523f63e34d047": {
      "model_module": "@jupyter-widgets/controls",
      "model_module_version": "1.5.0",
      "model_name": "HBoxModel",
      "state": {
       "children": [
        "IPY_MODEL_26d950841dbd4182a1c5653391fcfe1c",
        "IPY_MODEL_d2eb51eef94642a58baf2c88f5ec84c6",
        "IPY_MODEL_95b8300e555245a0af2c57853a6cc811"
       ],
       "layout": "IPY_MODEL_a531dd869ad54b5d8b278349a1988ed6"
      }
     },
     "6eb3775a10cf4ac6862e2af8386a04b3": {
      "model_module": "@jupyter-widgets/controls",
      "model_module_version": "1.5.0",
      "model_name": "HTMLModel",
      "state": {
       "layout": "IPY_MODEL_3b5288ec62bd44b78b6db120699101b9",
       "style": "IPY_MODEL_303b5a2c8f2a417494965b8307706263",
       "value": "100%"
      }
     },
     "6ff9199212a148a2a4e3e1e976baa894": {
      "model_module": "@jupyter-widgets/base",
      "model_module_version": "1.2.0",
      "model_name": "LayoutModel",
      "state": {}
     },
     "70a261c27c034a6698b110c25bc37d64": {
      "model_module": "@jupyter-widgets/controls",
      "model_module_version": "1.5.0",
      "model_name": "DescriptionStyleModel",
      "state": {
       "description_width": ""
      }
     },
     "70e5a12be8fe463c8843b715375ffcf3": {
      "model_module": "@jupyter-widgets/base",
      "model_module_version": "1.2.0",
      "model_name": "LayoutModel",
      "state": {}
     },
     "70f3756cd5894d928e91414b292e55dc": {
      "model_module": "@jupyter-widgets/base",
      "model_module_version": "1.2.0",
      "model_name": "LayoutModel",
      "state": {}
     },
     "715f3f9448d74cce82af93aa1ce75d15": {
      "model_module": "@jupyter-widgets/controls",
      "model_module_version": "1.5.0",
      "model_name": "DescriptionStyleModel",
      "state": {
       "description_width": ""
      }
     },
     "718159ba630748feaec37749d94775ab": {
      "model_module": "@jupyter-widgets/controls",
      "model_module_version": "1.5.0",
      "model_name": "ProgressStyleModel",
      "state": {
       "description_width": ""
      }
     },
     "7261f070a39f48daa53249610f0d6a3d": {
      "model_module": "@jupyter-widgets/controls",
      "model_module_version": "1.5.0",
      "model_name": "HBoxModel",
      "state": {
       "children": [
        "IPY_MODEL_b39b73d0a3bd4f02ace0df04360779e4",
        "IPY_MODEL_d77fe5cf33ab411b8cbb5d9cbfc0fd44",
        "IPY_MODEL_0de9975511104792bb9d7eaf8bf8b11b"
       ],
       "layout": "IPY_MODEL_85b4a83f5d3b414fa58e3f0e001e844e"
      }
     },
     "7263376a11f6438f9aa1d1f271124aa4": {
      "model_module": "@jupyter-widgets/controls",
      "model_module_version": "1.5.0",
      "model_name": "HTMLModel",
      "state": {
       "layout": "IPY_MODEL_3b8ace6741404400ab793da588ff67ed",
       "style": "IPY_MODEL_0b821891492f40708bd14a71d4eb267a",
       "value": " 9/9 [00:00&lt;00:00, 284.60it/s]"
      }
     },
     "72fe6ee467f044d78e40322d6e56ee6b": {
      "model_module": "@jupyter-widgets/base",
      "model_module_version": "1.2.0",
      "model_name": "LayoutModel",
      "state": {}
     },
     "73ccd9adb135448e8ef5b80bc2a079aa": {
      "model_module": "@jupyter-widgets/base",
      "model_module_version": "1.2.0",
      "model_name": "LayoutModel",
      "state": {}
     },
     "75b6e322243348a6becf506d16ef67a2": {
      "model_module": "@jupyter-widgets/controls",
      "model_module_version": "1.5.0",
      "model_name": "HTMLModel",
      "state": {
       "layout": "IPY_MODEL_ce391e717f7d4be6b6597834ced1455d",
       "style": "IPY_MODEL_491efd29a3714556b529eb37c2f7f5f2",
       "value": " 9/9 [00:00&lt;00:00, 302.28it/s]"
      }
     },
     "762c5c32c03d4607b7929de2ec192a7a": {
      "model_module": "@jupyter-widgets/base",
      "model_module_version": "1.2.0",
      "model_name": "LayoutModel",
      "state": {}
     },
     "7636b6dd53f640b9a614c7d1fc9c4b2c": {
      "model_module": "@jupyter-widgets/base",
      "model_module_version": "1.2.0",
      "model_name": "LayoutModel",
      "state": {}
     },
     "76518556d1714190ae91cbd2c777d470": {
      "model_module": "@jupyter-widgets/base",
      "model_module_version": "1.2.0",
      "model_name": "LayoutModel",
      "state": {}
     },
     "767d4c477fb84fe2bae6b2ddf5827955": {
      "model_module": "@jupyter-widgets/controls",
      "model_module_version": "1.5.0",
      "model_name": "HTMLModel",
      "state": {
       "layout": "IPY_MODEL_15f63141fa99497eb99e9255bbc68929",
       "style": "IPY_MODEL_858a09b4daff4e89902d35feec7c6db6",
       "value": " 9/9 [00:00&lt;00:00, 265.33it/s]"
      }
     },
     "78a80b25a986453db9efd40a7493d5c9": {
      "model_module": "@jupyter-widgets/base",
      "model_module_version": "1.2.0",
      "model_name": "LayoutModel",
      "state": {}
     },
     "7956fe4ef83944cfbc07cc340c1d6d7c": {
      "model_module": "@jupyter-widgets/controls",
      "model_module_version": "1.5.0",
      "model_name": "HBoxModel",
      "state": {
       "children": [
        "IPY_MODEL_683df5b306c54899aa16383f8f4c4331",
        "IPY_MODEL_ac4d302274124184974180117f9f3bf7",
        "IPY_MODEL_963e68ecde054e9aa71c57d8de532b00"
       ],
       "layout": "IPY_MODEL_57fb611dea284d439d1e7a8217a9c336"
      }
     },
     "799a08c33aeb4ea68e29bcd97e325fd9": {
      "model_module": "@jupyter-widgets/controls",
      "model_module_version": "1.5.0",
      "model_name": "HTMLModel",
      "state": {
       "layout": "IPY_MODEL_ac6f84f390a444a7a7ada40210ce8793",
       "style": "IPY_MODEL_6a47b120af6d47cb9451b4d5e30d64be",
       "value": " 0/9 [00:00&lt;?, ?it/s]"
      }
     },
     "79bd64761eec47e58b54f43898b35b9d": {
      "model_module": "@jupyter-widgets/controls",
      "model_module_version": "1.5.0",
      "model_name": "HTMLModel",
      "state": {
       "layout": "IPY_MODEL_76518556d1714190ae91cbd2c777d470",
       "style": "IPY_MODEL_e93c505caa994532a4ecc1e225335cff",
       "value": " 9/9 [00:00&lt;00:00, 153.02it/s]"
      }
     },
     "7ab482823ae4480fa414b7c90e1c54b6": {
      "model_module": "@jupyter-widgets/controls",
      "model_module_version": "1.5.0",
      "model_name": "DescriptionStyleModel",
      "state": {
       "description_width": ""
      }
     },
     "7b52beb16b9b4a4195a111175957a4cf": {
      "model_module": "@jupyter-widgets/controls",
      "model_module_version": "1.5.0",
      "model_name": "DescriptionStyleModel",
      "state": {
       "description_width": ""
      }
     },
     "7b5b0c49650d48bebcb7bf9629161e59": {
      "model_module": "@jupyter-widgets/base",
      "model_module_version": "1.2.0",
      "model_name": "LayoutModel",
      "state": {}
     },
     "7bfc76cf4ad44614934abf8d347e3413": {
      "model_module": "@jupyter-widgets/base",
      "model_module_version": "1.2.0",
      "model_name": "LayoutModel",
      "state": {}
     },
     "7c727100085c4e4ba61360bef24bffeb": {
      "model_module": "@jupyter-widgets/controls",
      "model_module_version": "1.5.0",
      "model_name": "ProgressStyleModel",
      "state": {
       "description_width": ""
      }
     },
     "7cb733363229491c83d27304d80e64c3": {
      "model_module": "@jupyter-widgets/base",
      "model_module_version": "1.2.0",
      "model_name": "LayoutModel",
      "state": {}
     },
     "7cc589bd41c34c2da9af9298e32bf027": {
      "model_module": "@jupyter-widgets/base",
      "model_module_version": "1.2.0",
      "model_name": "LayoutModel",
      "state": {}
     },
     "7df0893c5e1e479d9ddf3b43d1971b4d": {
      "model_module": "@jupyter-widgets/controls",
      "model_module_version": "1.5.0",
      "model_name": "HBoxModel",
      "state": {
       "children": [
        "IPY_MODEL_50aeef6dd0d34b859126a168e6afad1b",
        "IPY_MODEL_874e3a14c0c34866b484812acfc5d8c1",
        "IPY_MODEL_5e2193272eff4a5091d39d0d15d9922f"
       ],
       "layout": "IPY_MODEL_0ce8dd7294b54ce4be2cd77593d028d0"
      }
     },
     "7f6ebd67ee004159be7b7390b1fb3682": {
      "model_module": "@jupyter-widgets/base",
      "model_module_version": "1.2.0",
      "model_name": "LayoutModel",
      "state": {}
     },
     "7ff52bdddb3d42b99f5d0c482ee29c32": {
      "model_module": "@jupyter-widgets/controls",
      "model_module_version": "1.5.0",
      "model_name": "ProgressStyleModel",
      "state": {
       "description_width": ""
      }
     },
     "810cf9392cce4c6e84d1b691aee59e13": {
      "model_module": "@jupyter-widgets/controls",
      "model_module_version": "1.5.0",
      "model_name": "HTMLModel",
      "state": {
       "layout": "IPY_MODEL_7bfc76cf4ad44614934abf8d347e3413",
       "style": "IPY_MODEL_b788b5b244c740b882ae5ad297b3a4b3",
       "value": "100%"
      }
     },
     "816639dde7d44b44815612406d15f083": {
      "model_module": "@jupyter-widgets/controls",
      "model_module_version": "1.5.0",
      "model_name": "HBoxModel",
      "state": {
       "children": [
        "IPY_MODEL_0e4c623351204814a41d0c03712287d9",
        "IPY_MODEL_8d4259f3e55341b8a3a37d86b5ac309a",
        "IPY_MODEL_e9ec13dac78944f0ac49580b2552f0b9"
       ],
       "layout": "IPY_MODEL_f93ec5a731ac46cd81731af61b3884ae"
      }
     },
     "835eff17f07a43d2a3da8c070221df97": {
      "model_module": "@jupyter-widgets/base",
      "model_module_version": "1.2.0",
      "model_name": "LayoutModel",
      "state": {}
     },
     "856de468d9734117afc81c15c4053178": {
      "model_module": "@jupyter-widgets/controls",
      "model_module_version": "1.5.0",
      "model_name": "ProgressStyleModel",
      "state": {
       "description_width": ""
      }
     },
     "858a09b4daff4e89902d35feec7c6db6": {
      "model_module": "@jupyter-widgets/controls",
      "model_module_version": "1.5.0",
      "model_name": "DescriptionStyleModel",
      "state": {
       "description_width": ""
      }
     },
     "85b4a83f5d3b414fa58e3f0e001e844e": {
      "model_module": "@jupyter-widgets/base",
      "model_module_version": "1.2.0",
      "model_name": "LayoutModel",
      "state": {}
     },
     "85e9b4f83c9c4dc6b8bebaf214cc0ff8": {
      "model_module": "@jupyter-widgets/base",
      "model_module_version": "1.2.0",
      "model_name": "LayoutModel",
      "state": {}
     },
     "861d107ad87b4ec88cc5ea074ef691d4": {
      "model_module": "@jupyter-widgets/base",
      "model_module_version": "1.2.0",
      "model_name": "LayoutModel",
      "state": {}
     },
     "86933c4a725a400296f55bd5bd2c0fc4": {
      "model_module": "@jupyter-widgets/base",
      "model_module_version": "1.2.0",
      "model_name": "LayoutModel",
      "state": {}
     },
     "874e3a14c0c34866b484812acfc5d8c1": {
      "model_module": "@jupyter-widgets/controls",
      "model_module_version": "1.5.0",
      "model_name": "FloatProgressModel",
      "state": {
       "bar_style": "success",
       "layout": "IPY_MODEL_093c0da1732f4a3788091cb0a7d786f3",
       "max": 9,
       "style": "IPY_MODEL_4ae9204a5c174e8fbc6dcee855053ef6",
       "value": 9
      }
     },
     "877aa6da88534f06b5c4650bcaa89e6e": {
      "model_module": "@jupyter-widgets/base",
      "model_module_version": "1.2.0",
      "model_name": "LayoutModel",
      "state": {}
     },
     "884d1ad0204d456a92a2612f4cc7c781": {
      "model_module": "@jupyter-widgets/controls",
      "model_module_version": "1.5.0",
      "model_name": "HTMLModel",
      "state": {
       "layout": "IPY_MODEL_fc794fdb3a9f483485ca861e89a3a853",
       "style": "IPY_MODEL_9ffa66fe8dd046caab48788b5c0b6a48",
       "value": "100%"
      }
     },
     "8853fe02be4c4c159451677e7dc904fd": {
      "model_module": "@jupyter-widgets/controls",
      "model_module_version": "1.5.0",
      "model_name": "HBoxModel",
      "state": {
       "children": [
        "IPY_MODEL_dd4a3e98d2834a0eb378ad1d226407d4",
        "IPY_MODEL_8af6b090ba164d85a96056cb8ace2c4d",
        "IPY_MODEL_799a08c33aeb4ea68e29bcd97e325fd9"
       ],
       "layout": "IPY_MODEL_7cb733363229491c83d27304d80e64c3"
      }
     },
     "89a34ac3891b4d8abd5347474e86d367": {
      "model_module": "@jupyter-widgets/controls",
      "model_module_version": "1.5.0",
      "model_name": "DescriptionStyleModel",
      "state": {
       "description_width": ""
      }
     },
     "8a092b98c54a41afbef7caa553202c56": {
      "model_module": "@jupyter-widgets/controls",
      "model_module_version": "1.5.0",
      "model_name": "DescriptionStyleModel",
      "state": {
       "description_width": ""
      }
     },
     "8a311fda90de48768a92f7098ccc2827": {
      "model_module": "@jupyter-widgets/controls",
      "model_module_version": "1.5.0",
      "model_name": "ProgressStyleModel",
      "state": {
       "description_width": ""
      }
     },
     "8af6b090ba164d85a96056cb8ace2c4d": {
      "model_module": "@jupyter-widgets/controls",
      "model_module_version": "1.5.0",
      "model_name": "FloatProgressModel",
      "state": {
       "bar_style": "danger",
       "layout": "IPY_MODEL_c77491d63e774c11ab1d00db47241570",
       "max": 9,
       "style": "IPY_MODEL_8e159c7205a14f8ea6200a673e9a32c7"
      }
     },
     "8b8dec3cd5bf44788b6f33db5c2be2a2": {
      "model_module": "@jupyter-widgets/controls",
      "model_module_version": "1.5.0",
      "model_name": "ProgressStyleModel",
      "state": {
       "description_width": ""
      }
     },
     "8be8967ef4104d65aea73af498eecc10": {
      "model_module": "@jupyter-widgets/base",
      "model_module_version": "1.2.0",
      "model_name": "LayoutModel",
      "state": {}
     },
     "8bf322db94544aa8bc386c2539443401": {
      "model_module": "@jupyter-widgets/controls",
      "model_module_version": "1.5.0",
      "model_name": "FloatProgressModel",
      "state": {
       "bar_style": "success",
       "layout": "IPY_MODEL_9f97ed8c93c04d388dd3f1d66ca1a43c",
       "max": 9,
       "style": "IPY_MODEL_ab2b6ea889244800b895f4cd53dc89bc",
       "value": 9
      }
     },
     "8d4259f3e55341b8a3a37d86b5ac309a": {
      "model_module": "@jupyter-widgets/controls",
      "model_module_version": "1.5.0",
      "model_name": "FloatProgressModel",
      "state": {
       "bar_style": "success",
       "layout": "IPY_MODEL_2ca3ae3a261a4c08b064e7c9d260e3c8",
       "max": 9,
       "style": "IPY_MODEL_a7a4f75d528a413c9d44e982ea5a8816",
       "value": 9
      }
     },
     "8e159c7205a14f8ea6200a673e9a32c7": {
      "model_module": "@jupyter-widgets/controls",
      "model_module_version": "1.5.0",
      "model_name": "ProgressStyleModel",
      "state": {
       "description_width": ""
      }
     },
     "8f06295298fc4273840ac72417a7320d": {
      "model_module": "@jupyter-widgets/base",
      "model_module_version": "1.2.0",
      "model_name": "LayoutModel",
      "state": {}
     },
     "8f535d9adda64b4691cd494270b71a1d": {
      "model_module": "@jupyter-widgets/controls",
      "model_module_version": "1.5.0",
      "model_name": "DescriptionStyleModel",
      "state": {
       "description_width": ""
      }
     },
     "8f712c46fc7d46f69295f634d7170f93": {
      "model_module": "@jupyter-widgets/controls",
      "model_module_version": "1.5.0",
      "model_name": "DescriptionStyleModel",
      "state": {
       "description_width": ""
      }
     },
     "8fc192fd2977455f808ec737e0638619": {
      "model_module": "@jupyter-widgets/base",
      "model_module_version": "1.2.0",
      "model_name": "LayoutModel",
      "state": {}
     },
     "9306d8f79d3b453789054e1e69cbef53": {
      "model_module": "@jupyter-widgets/base",
      "model_module_version": "1.2.0",
      "model_name": "LayoutModel",
      "state": {}
     },
     "9317acb790e8457b943263a3b31bfb11": {
      "model_module": "@jupyter-widgets/base",
      "model_module_version": "1.2.0",
      "model_name": "LayoutModel",
      "state": {}
     },
     "95b8300e555245a0af2c57853a6cc811": {
      "model_module": "@jupyter-widgets/controls",
      "model_module_version": "1.5.0",
      "model_name": "HTMLModel",
      "state": {
       "layout": "IPY_MODEL_4d76866f2154410c92450d0334e7b2f3",
       "style": "IPY_MODEL_c7ed31a39f3344c6a4be5a0b69d516f1",
       "value": " 9/9 [00:00&lt;00:00, 287.96it/s]"
      }
     },
     "96209b98d54b443eb68e3dc1a8ecc291": {
      "model_module": "@jupyter-widgets/controls",
      "model_module_version": "1.5.0",
      "model_name": "HTMLModel",
      "state": {
       "layout": "IPY_MODEL_8be8967ef4104d65aea73af498eecc10",
       "style": "IPY_MODEL_c38d48f41ec44eaeb991db9766bb2112",
       "value": "100%"
      }
     },
     "963e68ecde054e9aa71c57d8de532b00": {
      "model_module": "@jupyter-widgets/controls",
      "model_module_version": "1.5.0",
      "model_name": "HTMLModel",
      "state": {
       "layout": "IPY_MODEL_9ed5a04cfa854c51814cb2ec3536e25e",
       "style": "IPY_MODEL_32f4a79aa3244a2d92528ec4f6a07bc6",
       "value": " 9/9 [00:00&lt;00:00, 169.29it/s]"
      }
     },
     "975f76b296344c83900399589cd62403": {
      "model_module": "@jupyter-widgets/controls",
      "model_module_version": "1.5.0",
      "model_name": "HBoxModel",
      "state": {
       "children": [
        "IPY_MODEL_810cf9392cce4c6e84d1b691aee59e13",
        "IPY_MODEL_614e50013fd24a09b47002a3e0e41fa4",
        "IPY_MODEL_d35a530e18a74a65802e46441479a702"
       ],
       "layout": "IPY_MODEL_19e34df2d61c4205afa0137be090a8c6"
      }
     },
     "989c721971b64dca901972250ce8b8ea": {
      "model_module": "@jupyter-widgets/controls",
      "model_module_version": "1.5.0",
      "model_name": "ProgressStyleModel",
      "state": {
       "description_width": ""
      }
     },
     "9a61304fe2ee496cac57fe5e5baa9265": {
      "model_module": "@jupyter-widgets/base",
      "model_module_version": "1.2.0",
      "model_name": "LayoutModel",
      "state": {}
     },
     "9ab9916711db483a9e93ac6842176b8f": {
      "model_module": "@jupyter-widgets/controls",
      "model_module_version": "1.5.0",
      "model_name": "HBoxModel",
      "state": {
       "children": [
        "IPY_MODEL_4bda397f57c04704b7f85cf24492f7d5",
        "IPY_MODEL_09c124efb09142f39f0eefcf9fdce11a",
        "IPY_MODEL_767d4c477fb84fe2bae6b2ddf5827955"
       ],
       "layout": "IPY_MODEL_ff36bd498ca448c491a73dc3455281e6"
      }
     },
     "9c18360b03d345b48d7b88edf5897b4c": {
      "model_module": "@jupyter-widgets/controls",
      "model_module_version": "1.5.0",
      "model_name": "HBoxModel",
      "state": {
       "children": [
        "IPY_MODEL_a57822305be54c078a46bb7801af1306",
        "IPY_MODEL_63d1849d4f814eef90051cbd1ae8b89d",
        "IPY_MODEL_0a2baab19f8043c39b41def7245ce091"
       ],
       "layout": "IPY_MODEL_2382b59463a54fb0ba3a568392964311"
      }
     },
     "9cb32f9a0fac4748a1e9c43654b1ba25": {
      "model_module": "@jupyter-widgets/controls",
      "model_module_version": "1.5.0",
      "model_name": "DescriptionStyleModel",
      "state": {
       "description_width": ""
      }
     },
     "9df7d81f157c4567bb8dbcce3fa5827e": {
      "model_module": "@jupyter-widgets/controls",
      "model_module_version": "1.5.0",
      "model_name": "HTMLModel",
      "state": {
       "layout": "IPY_MODEL_f6e6221b6df140e59e54e9f8f9bc18b4",
       "style": "IPY_MODEL_4561dd8ad30f4c1ca8b4277d537135c0",
       "value": "100%"
      }
     },
     "9ed5a04cfa854c51814cb2ec3536e25e": {
      "model_module": "@jupyter-widgets/base",
      "model_module_version": "1.2.0",
      "model_name": "LayoutModel",
      "state": {}
     },
     "9f561695f9de410091f67529c537e12f": {
      "model_module": "@jupyter-widgets/base",
      "model_module_version": "1.2.0",
      "model_name": "LayoutModel",
      "state": {}
     },
     "9f97ed8c93c04d388dd3f1d66ca1a43c": {
      "model_module": "@jupyter-widgets/base",
      "model_module_version": "1.2.0",
      "model_name": "LayoutModel",
      "state": {}
     },
     "9fd3c765bbe547bda471c7d6bfecda44": {
      "model_module": "@jupyter-widgets/controls",
      "model_module_version": "1.5.0",
      "model_name": "FloatProgressModel",
      "state": {
       "bar_style": "success",
       "layout": "IPY_MODEL_05b4a3aa69ad4d0daa10dee8271fa47c",
       "max": 9,
       "style": "IPY_MODEL_e0f64df0fd754b768a0013d205999d34",
       "value": 9
      }
     },
     "9ffa66fe8dd046caab48788b5c0b6a48": {
      "model_module": "@jupyter-widgets/controls",
      "model_module_version": "1.5.0",
      "model_name": "DescriptionStyleModel",
      "state": {
       "description_width": ""
      }
     },
     "a0e9621fbf2847c2bcaee8834bfb94e4": {
      "model_module": "@jupyter-widgets/controls",
      "model_module_version": "1.5.0",
      "model_name": "FloatProgressModel",
      "state": {
       "bar_style": "success",
       "layout": "IPY_MODEL_c5f49bc681b44f9087e3db57840bd5e5",
       "max": 9,
       "style": "IPY_MODEL_989c721971b64dca901972250ce8b8ea",
       "value": 9
      }
     },
     "a162313f1b12457bb61905d75f71004f": {
      "model_module": "@jupyter-widgets/controls",
      "model_module_version": "1.5.0",
      "model_name": "HTMLModel",
      "state": {
       "layout": "IPY_MODEL_9a61304fe2ee496cac57fe5e5baa9265",
       "style": "IPY_MODEL_89a34ac3891b4d8abd5347474e86d367",
       "value": "100%"
      }
     },
     "a2892f96e22a473b9e2e49251a1a79ee": {
      "model_module": "@jupyter-widgets/controls",
      "model_module_version": "1.5.0",
      "model_name": "HTMLModel",
      "state": {
       "layout": "IPY_MODEL_c39099dc85774f2286121a88b5d06750",
       "style": "IPY_MODEL_fbe3e9af083a49b3907da2db8ebb98fc",
       "value": " 9/9 [00:00&lt;00:00, 256.55it/s]"
      }
     },
     "a2ca4c6b9d34435d9a8ef775db58bf80": {
      "model_module": "@jupyter-widgets/base",
      "model_module_version": "1.2.0",
      "model_name": "LayoutModel",
      "state": {}
     },
     "a31a9cd89eec499a855b9d036f711f79": {
      "model_module": "@jupyter-widgets/controls",
      "model_module_version": "1.5.0",
      "model_name": "DescriptionStyleModel",
      "state": {
       "description_width": ""
      }
     },
     "a400198e60974491bc1ddc0791d88e29": {
      "model_module": "@jupyter-widgets/base",
      "model_module_version": "1.2.0",
      "model_name": "LayoutModel",
      "state": {}
     },
     "a50f0c01354a45b383efffc2513045bf": {
      "model_module": "@jupyter-widgets/base",
      "model_module_version": "1.2.0",
      "model_name": "LayoutModel",
      "state": {}
     },
     "a531dd869ad54b5d8b278349a1988ed6": {
      "model_module": "@jupyter-widgets/base",
      "model_module_version": "1.2.0",
      "model_name": "LayoutModel",
      "state": {}
     },
     "a573df1f4636440684d13aa9666d39b7": {
      "model_module": "@jupyter-widgets/base",
      "model_module_version": "1.2.0",
      "model_name": "LayoutModel",
      "state": {}
     },
     "a57822305be54c078a46bb7801af1306": {
      "model_module": "@jupyter-widgets/controls",
      "model_module_version": "1.5.0",
      "model_name": "HTMLModel",
      "state": {
       "layout": "IPY_MODEL_70e5a12be8fe463c8843b715375ffcf3",
       "style": "IPY_MODEL_0d3f13d0053341eb8097218459a8fd82",
       "value": "100%"
      }
     },
     "a6adf75ca2014c8b9df29f481d0c89d5": {
      "model_module": "@jupyter-widgets/controls",
      "model_module_version": "1.5.0",
      "model_name": "FloatProgressModel",
      "state": {
       "bar_style": "success",
       "layout": "IPY_MODEL_762c5c32c03d4607b7929de2ec192a7a",
       "max": 9,
       "style": "IPY_MODEL_5b4a0447e5a749d08b4ab18cfa066b39",
       "value": 9
      }
     },
     "a7a4f75d528a413c9d44e982ea5a8816": {
      "model_module": "@jupyter-widgets/controls",
      "model_module_version": "1.5.0",
      "model_name": "ProgressStyleModel",
      "state": {
       "description_width": ""
      }
     },
     "a7dd835603f045df82fde3191d06fae4": {
      "model_module": "@jupyter-widgets/controls",
      "model_module_version": "1.5.0",
      "model_name": "DescriptionStyleModel",
      "state": {
       "description_width": ""
      }
     },
     "a8bab1d5b9a54b26919eb01a77360ec3": {
      "model_module": "@jupyter-widgets/controls",
      "model_module_version": "1.5.0",
      "model_name": "DescriptionStyleModel",
      "state": {
       "description_width": ""
      }
     },
     "a9588149000049c9b71a37b4c02207cf": {
      "model_module": "@jupyter-widgets/controls",
      "model_module_version": "1.5.0",
      "model_name": "HTMLModel",
      "state": {
       "layout": "IPY_MODEL_31c3c19f3d8b49dc9e2637c91c10cbf4",
       "style": "IPY_MODEL_630b4ebda0b74eae93fc9d54574a6699",
       "value": " 9/9 [00:00&lt;00:00, 268.85it/s]"
      }
     },
     "a9a2f397599f49df9568cb2c92cadb83": {
      "model_module": "@jupyter-widgets/controls",
      "model_module_version": "1.5.0",
      "model_name": "HTMLModel",
      "state": {
       "layout": "IPY_MODEL_afe93e320e004541a9ea77d03d622448",
       "style": "IPY_MODEL_bd0e7244abe0474c987e60480aa8710a",
       "value": " 9/9 [00:00&lt;00:00, 174.28it/s]"
      }
     },
     "a9ec763965254c689f0a9bf4e7b95095": {
      "model_module": "@jupyter-widgets/controls",
      "model_module_version": "1.5.0",
      "model_name": "HTMLModel",
      "state": {
       "layout": "IPY_MODEL_bb37092ef56b4d79a7931bbdc86dc88d",
       "style": "IPY_MODEL_0d8f5dc8b72f45908e89a41a633b7f4a",
       "value": "100%"
      }
     },
     "aacb9a69a36e4658b6106ca396c15ee8": {
      "model_module": "@jupyter-widgets/controls",
      "model_module_version": "1.5.0",
      "model_name": "HTMLModel",
      "state": {
       "layout": "IPY_MODEL_523a90f6c73844938cbca0c6119ecd4a",
       "style": "IPY_MODEL_7ab482823ae4480fa414b7c90e1c54b6",
       "value": " 9/9 [00:00&lt;00:00, 276.68it/s]"
      }
     },
     "ab1384437b034decadef88fd9c3ee12a": {
      "model_module": "@jupyter-widgets/base",
      "model_module_version": "1.2.0",
      "model_name": "LayoutModel",
      "state": {}
     },
     "ab2b6ea889244800b895f4cd53dc89bc": {
      "model_module": "@jupyter-widgets/controls",
      "model_module_version": "1.5.0",
      "model_name": "ProgressStyleModel",
      "state": {
       "description_width": ""
      }
     },
     "ac4d302274124184974180117f9f3bf7": {
      "model_module": "@jupyter-widgets/controls",
      "model_module_version": "1.5.0",
      "model_name": "FloatProgressModel",
      "state": {
       "bar_style": "success",
       "layout": "IPY_MODEL_a2ca4c6b9d34435d9a8ef775db58bf80",
       "max": 9,
       "style": "IPY_MODEL_718159ba630748feaec37749d94775ab",
       "value": 9
      }
     },
     "ac6f84f390a444a7a7ada40210ce8793": {
      "model_module": "@jupyter-widgets/base",
      "model_module_version": "1.2.0",
      "model_name": "LayoutModel",
      "state": {}
     },
     "ae89d98c3ade481d8ad24b0ea7ac87c3": {
      "model_module": "@jupyter-widgets/controls",
      "model_module_version": "1.5.0",
      "model_name": "FloatProgressModel",
      "state": {
       "bar_style": "success",
       "layout": "IPY_MODEL_bd9bb6e257a343aa822fbc4332b0cb58",
       "max": 9,
       "style": "IPY_MODEL_55b9df00aa324bd8b2d2ccccb0463fdc",
       "value": 9
      }
     },
     "afe93e320e004541a9ea77d03d622448": {
      "model_module": "@jupyter-widgets/base",
      "model_module_version": "1.2.0",
      "model_name": "LayoutModel",
      "state": {}
     },
     "b0639d06b1b14be6a48db2dec3ca1cf5": {
      "model_module": "@jupyter-widgets/base",
      "model_module_version": "1.2.0",
      "model_name": "LayoutModel",
      "state": {}
     },
     "b18ac679490f48119e201d7b02e5ef7d": {
      "model_module": "@jupyter-widgets/controls",
      "model_module_version": "1.5.0",
      "model_name": "HTMLModel",
      "state": {
       "layout": "IPY_MODEL_b3ca139dc9784967ab3a4d090cf666b6",
       "style": "IPY_MODEL_57bde4f164b147bca9d8d0939e5c13db",
       "value": "100%"
      }
     },
     "b35253ea69d04fa5873b82ebe9421d77": {
      "model_module": "@jupyter-widgets/controls",
      "model_module_version": "1.5.0",
      "model_name": "HTMLModel",
      "state": {
       "layout": "IPY_MODEL_f5b05a8b5e9f498a88644f8eecfdc7d6",
       "style": "IPY_MODEL_decea497b5ed489292d6c8a24742e114",
       "value": " 9/9 [00:00&lt;00:00, 176.22it/s]"
      }
     },
     "b39b73d0a3bd4f02ace0df04360779e4": {
      "model_module": "@jupyter-widgets/controls",
      "model_module_version": "1.5.0",
      "model_name": "HTMLModel",
      "state": {
       "layout": "IPY_MODEL_86933c4a725a400296f55bd5bd2c0fc4",
       "style": "IPY_MODEL_644f6f0c8f8445d59e7a1fb99f77ff53",
       "value": "100%"
      }
     },
     "b3c6b4ccf4e341fd8c7f259eeab3095a": {
      "model_module": "@jupyter-widgets/base",
      "model_module_version": "1.2.0",
      "model_name": "LayoutModel",
      "state": {}
     },
     "b3ca139dc9784967ab3a4d090cf666b6": {
      "model_module": "@jupyter-widgets/base",
      "model_module_version": "1.2.0",
      "model_name": "LayoutModel",
      "state": {}
     },
     "b788b5b244c740b882ae5ad297b3a4b3": {
      "model_module": "@jupyter-widgets/controls",
      "model_module_version": "1.5.0",
      "model_name": "DescriptionStyleModel",
      "state": {
       "description_width": ""
      }
     },
     "b8280271467847c4bcadde15189f0be1": {
      "model_module": "@jupyter-widgets/controls",
      "model_module_version": "1.5.0",
      "model_name": "DescriptionStyleModel",
      "state": {
       "description_width": ""
      }
     },
     "b98c87cc1ce845b59dea5768682616b5": {
      "model_module": "@jupyter-widgets/controls",
      "model_module_version": "1.5.0",
      "model_name": "HTMLModel",
      "state": {
       "layout": "IPY_MODEL_e4492e25211842bc8ec574172b791601",
       "style": "IPY_MODEL_e677f2bae4184f5190eb3e7970f82dc7",
       "value": "100%"
      }
     },
     "bb37092ef56b4d79a7931bbdc86dc88d": {
      "model_module": "@jupyter-widgets/base",
      "model_module_version": "1.2.0",
      "model_name": "LayoutModel",
      "state": {}
     },
     "bb463f4aaffd4d0cadc8c34229554f15": {
      "model_module": "@jupyter-widgets/controls",
      "model_module_version": "1.5.0",
      "model_name": "HBoxModel",
      "state": {
       "children": [
        "IPY_MODEL_bb938004d9564874bd5a838b50d25340",
        "IPY_MODEL_366137b976d749debc320f2e557b1069",
        "IPY_MODEL_3c7e01fe35234063b01a643199af9544"
       ],
       "layout": "IPY_MODEL_22586342afbd47628d6f710206530444"
      }
     },
     "bb938004d9564874bd5a838b50d25340": {
      "model_module": "@jupyter-widgets/controls",
      "model_module_version": "1.5.0",
      "model_name": "HTMLModel",
      "state": {
       "layout": "IPY_MODEL_043d5025b950469fb7e33cddf288344d",
       "style": "IPY_MODEL_177efa948bb142b8a55801d0b1f9ecaa",
       "value": "100%"
      }
     },
     "bce69a391e6a44dc89e1cd94047c9294": {
      "model_module": "@jupyter-widgets/controls",
      "model_module_version": "1.5.0",
      "model_name": "ProgressStyleModel",
      "state": {
       "description_width": ""
      }
     },
     "bd0e7244abe0474c987e60480aa8710a": {
      "model_module": "@jupyter-widgets/controls",
      "model_module_version": "1.5.0",
      "model_name": "DescriptionStyleModel",
      "state": {
       "description_width": ""
      }
     },
     "bd9bb6e257a343aa822fbc4332b0cb58": {
      "model_module": "@jupyter-widgets/base",
      "model_module_version": "1.2.0",
      "model_name": "LayoutModel",
      "state": {}
     },
     "bef25de5cdf34cba94b8894629cb42d2": {
      "model_module": "@jupyter-widgets/controls",
      "model_module_version": "1.5.0",
      "model_name": "HTMLModel",
      "state": {
       "layout": "IPY_MODEL_ab1384437b034decadef88fd9c3ee12a",
       "style": "IPY_MODEL_ef2a530f148f441699740923044d118a",
       "value": " 9/9 [00:00&lt;00:00, 174.33it/s]"
      }
     },
     "bf421400b5314f498221b6d337037092": {
      "model_module": "@jupyter-widgets/controls",
      "model_module_version": "1.5.0",
      "model_name": "FloatProgressModel",
      "state": {
       "bar_style": "success",
       "layout": "IPY_MODEL_a50f0c01354a45b383efffc2513045bf",
       "max": 9,
       "style": "IPY_MODEL_8b8dec3cd5bf44788b6f33db5c2be2a2",
       "value": 9
      }
     },
     "bf9d8aef8b094343bca72b4c753825c7": {
      "model_module": "@jupyter-widgets/controls",
      "model_module_version": "1.5.0",
      "model_name": "FloatProgressModel",
      "state": {
       "bar_style": "success",
       "layout": "IPY_MODEL_60e9780c4c774823b1e3d8dd029558bb",
       "max": 9,
       "style": "IPY_MODEL_bce69a391e6a44dc89e1cd94047c9294",
       "value": 9
      }
     },
     "c17fdc150f0745838e76858feba3f9a4": {
      "model_module": "@jupyter-widgets/base",
      "model_module_version": "1.2.0",
      "model_name": "LayoutModel",
      "state": {}
     },
     "c2113bc308314e12bc4f7a48501c96a5": {
      "model_module": "@jupyter-widgets/base",
      "model_module_version": "1.2.0",
      "model_name": "LayoutModel",
      "state": {}
     },
     "c2b764ab2cfb4554b3f4c1dace328007": {
      "model_module": "@jupyter-widgets/controls",
      "model_module_version": "1.5.0",
      "model_name": "FloatProgressModel",
      "state": {
       "bar_style": "success",
       "layout": "IPY_MODEL_fca41484a69448e8a0497c42be7961a3",
       "max": 9,
       "style": "IPY_MODEL_35f98b258d074671a4ec923e88fdd626",
       "value": 9
      }
     },
     "c38d48f41ec44eaeb991db9766bb2112": {
      "model_module": "@jupyter-widgets/controls",
      "model_module_version": "1.5.0",
      "model_name": "DescriptionStyleModel",
      "state": {
       "description_width": ""
      }
     },
     "c39099dc85774f2286121a88b5d06750": {
      "model_module": "@jupyter-widgets/base",
      "model_module_version": "1.2.0",
      "model_name": "LayoutModel",
      "state": {}
     },
     "c5923ceda44b4935b4daaaf5b73210b9": {
      "model_module": "@jupyter-widgets/controls",
      "model_module_version": "1.5.0",
      "model_name": "HTMLModel",
      "state": {
       "layout": "IPY_MODEL_09f23bf170b242589f7bb2cd8a9fb4a9",
       "style": "IPY_MODEL_ca20c32366154c3d96fe3a45e9c2bc6f",
       "value": "100%"
      }
     },
     "c5f49bc681b44f9087e3db57840bd5e5": {
      "model_module": "@jupyter-widgets/base",
      "model_module_version": "1.2.0",
      "model_name": "LayoutModel",
      "state": {}
     },
     "c77491d63e774c11ab1d00db47241570": {
      "model_module": "@jupyter-widgets/base",
      "model_module_version": "1.2.0",
      "model_name": "LayoutModel",
      "state": {}
     },
     "c7ed31a39f3344c6a4be5a0b69d516f1": {
      "model_module": "@jupyter-widgets/controls",
      "model_module_version": "1.5.0",
      "model_name": "DescriptionStyleModel",
      "state": {
       "description_width": ""
      }
     },
     "c971f55312d345c0baa93fdccc6bd37e": {
      "model_module": "@jupyter-widgets/controls",
      "model_module_version": "1.5.0",
      "model_name": "DescriptionStyleModel",
      "state": {
       "description_width": ""
      }
     },
     "c9e397e5d5d74b92b24486b9d88c4687": {
      "model_module": "@jupyter-widgets/controls",
      "model_module_version": "1.5.0",
      "model_name": "HTMLModel",
      "state": {
       "layout": "IPY_MODEL_0398c5c6fd8340a8a025c3dca53a9913",
       "style": "IPY_MODEL_0d7e6ae4e6404f008c3038c8c4e8ae22",
       "value": " 9/9 [00:00&lt;00:00, 176.73it/s]"
      }
     },
     "ca00f5ca9083414c8f04388e201284fc": {
      "model_module": "@jupyter-widgets/controls",
      "model_module_version": "1.5.0",
      "model_name": "HTMLModel",
      "state": {
       "layout": "IPY_MODEL_de4ff85afc614f7399e3bdf4a4d67c00",
       "style": "IPY_MODEL_34fa216effc747bd9f0c6427811bbc45",
       "value": " 9/9 [00:00&lt;00:00, 180.64it/s]"
      }
     },
     "ca20c32366154c3d96fe3a45e9c2bc6f": {
      "model_module": "@jupyter-widgets/controls",
      "model_module_version": "1.5.0",
      "model_name": "DescriptionStyleModel",
      "state": {
       "description_width": ""
      }
     },
     "cb28596b578349338435eea227da993f": {
      "model_module": "@jupyter-widgets/controls",
      "model_module_version": "1.5.0",
      "model_name": "HTMLModel",
      "state": {
       "layout": "IPY_MODEL_4b547d1b1a984d46a79da756830fefbd",
       "style": "IPY_MODEL_8f712c46fc7d46f69295f634d7170f93",
       "value": " 9/9 [00:00&lt;00:00, 178.69it/s]"
      }
     },
     "cd598f43d10e46c28041878bc300767e": {
      "model_module": "@jupyter-widgets/base",
      "model_module_version": "1.2.0",
      "model_name": "LayoutModel",
      "state": {}
     },
     "ce391e717f7d4be6b6597834ced1455d": {
      "model_module": "@jupyter-widgets/base",
      "model_module_version": "1.2.0",
      "model_name": "LayoutModel",
      "state": {}
     },
     "d052bde555be421e89e876bba46e6788": {
      "model_module": "@jupyter-widgets/controls",
      "model_module_version": "1.5.0",
      "model_name": "HTMLModel",
      "state": {
       "layout": "IPY_MODEL_d8c397e05edc4fb48b0b7d0f03ec44f8",
       "style": "IPY_MODEL_7b52beb16b9b4a4195a111175957a4cf",
       "value": " 9/9 [00:00&lt;00:00, 164.21it/s]"
      }
     },
     "d11bfd3c90384e9a80276c51c4143d0e": {
      "model_module": "@jupyter-widgets/controls",
      "model_module_version": "1.5.0",
      "model_name": "FloatProgressModel",
      "state": {
       "bar_style": "success",
       "layout": "IPY_MODEL_6b75b60ece5c4fafab9501f51c4c9da8",
       "max": 9,
       "style": "IPY_MODEL_5b1be2aa1419442ca0f5f823608f85e1",
       "value": 9
      }
     },
     "d25c9074a5b545eaa4d8c6640b81e01c": {
      "model_module": "@jupyter-widgets/controls",
      "model_module_version": "1.5.0",
      "model_name": "FloatProgressModel",
      "state": {
       "bar_style": "success",
       "layout": "IPY_MODEL_7b5b0c49650d48bebcb7bf9629161e59",
       "max": 9,
       "style": "IPY_MODEL_178e3fa09dc54ffaa04587314d7da767",
       "value": 9
      }
     },
     "d27f4d400a8e49809fd3015dc445a5f7": {
      "model_module": "@jupyter-widgets/base",
      "model_module_version": "1.2.0",
      "model_name": "LayoutModel",
      "state": {}
     },
     "d2eb51eef94642a58baf2c88f5ec84c6": {
      "model_module": "@jupyter-widgets/controls",
      "model_module_version": "1.5.0",
      "model_name": "FloatProgressModel",
      "state": {
       "bar_style": "success",
       "layout": "IPY_MODEL_3267d2c5dcc74daab0e7e212112a1532",
       "max": 9,
       "style": "IPY_MODEL_31aab9fb057a40faa3b9e62619b1bd9b",
       "value": 9
      }
     },
     "d31dc869ead24d1ab733f9cdffcc9eea": {
      "model_module": "@jupyter-widgets/base",
      "model_module_version": "1.2.0",
      "model_name": "LayoutModel",
      "state": {}
     },
     "d35a530e18a74a65802e46441479a702": {
      "model_module": "@jupyter-widgets/controls",
      "model_module_version": "1.5.0",
      "model_name": "HTMLModel",
      "state": {
       "layout": "IPY_MODEL_6ff9199212a148a2a4e3e1e976baa894",
       "style": "IPY_MODEL_f3564118f9cd47cfad07729f87938667",
       "value": " 9/9 [00:00&lt;00:00, 167.15it/s]"
      }
     },
     "d3cd34d9f50e4643989051909b74451c": {
      "model_module": "@jupyter-widgets/controls",
      "model_module_version": "1.5.0",
      "model_name": "FloatProgressModel",
      "state": {
       "bar_style": "success",
       "layout": "IPY_MODEL_07ad54a0f3f5469d86afc45a467e927f",
       "max": 9,
       "style": "IPY_MODEL_e40af75be4f34cdeb94d26402ff58e8e",
       "value": 9
      }
     },
     "d41fe67800804a46914eafd02cf9cce0": {
      "model_module": "@jupyter-widgets/base",
      "model_module_version": "1.2.0",
      "model_name": "LayoutModel",
      "state": {}
     },
     "d513ba710e884fa2b36df416867cf88d": {
      "model_module": "@jupyter-widgets/controls",
      "model_module_version": "1.5.0",
      "model_name": "HBoxModel",
      "state": {
       "children": [
        "IPY_MODEL_064c33483a9448079007d9f53342932a",
        "IPY_MODEL_9fd3c765bbe547bda471c7d6bfecda44",
        "IPY_MODEL_ca00f5ca9083414c8f04388e201284fc"
       ],
       "layout": "IPY_MODEL_9317acb790e8457b943263a3b31bfb11"
      }
     },
     "d5808326d91e401d8618ac2b13f74ea6": {
      "model_module": "@jupyter-widgets/controls",
      "model_module_version": "1.5.0",
      "model_name": "FloatProgressModel",
      "state": {
       "bar_style": "success",
       "layout": "IPY_MODEL_70f3756cd5894d928e91414b292e55dc",
       "max": 9,
       "style": "IPY_MODEL_fef8d08570884366bd9a5d70ecc61302",
       "value": 9
      }
     },
     "d589b24a6fb0410fa79b0cfcd816ca92": {
      "model_module": "@jupyter-widgets/controls",
      "model_module_version": "1.5.0",
      "model_name": "FloatProgressModel",
      "state": {
       "bar_style": "success",
       "layout": "IPY_MODEL_5cc7f66a538e421f8ee18c20f5fd1603",
       "max": 9,
       "style": "IPY_MODEL_0df026fea9614f368dafe4feb5499dcb",
       "value": 9
      }
     },
     "d5a347c909c54478a3b603999acdee2c": {
      "model_module": "@jupyter-widgets/base",
      "model_module_version": "1.2.0",
      "model_name": "LayoutModel",
      "state": {}
     },
     "d5b2ce2e726b4f36b7f9f8e16e28ab3b": {
      "model_module": "@jupyter-widgets/base",
      "model_module_version": "1.2.0",
      "model_name": "LayoutModel",
      "state": {}
     },
     "d77fe5cf33ab411b8cbb5d9cbfc0fd44": {
      "model_module": "@jupyter-widgets/controls",
      "model_module_version": "1.5.0",
      "model_name": "FloatProgressModel",
      "state": {
       "bar_style": "success",
       "layout": "IPY_MODEL_c2113bc308314e12bc4f7a48501c96a5",
       "max": 9,
       "style": "IPY_MODEL_7c727100085c4e4ba61360bef24bffeb",
       "value": 9
      }
     },
     "d7d2a47357d94498b5806d2d65a68729": {
      "model_module": "@jupyter-widgets/base",
      "model_module_version": "1.2.0",
      "model_name": "LayoutModel",
      "state": {}
     },
     "d89b8d2b29fb4434b29b708148d11890": {
      "model_module": "@jupyter-widgets/controls",
      "model_module_version": "1.5.0",
      "model_name": "FloatProgressModel",
      "state": {
       "bar_style": "success",
       "layout": "IPY_MODEL_0a0c80f4ccac4b779bb390a93ff971cf",
       "max": 9,
       "style": "IPY_MODEL_856de468d9734117afc81c15c4053178",
       "value": 9
      }
     },
     "d8c397e05edc4fb48b0b7d0f03ec44f8": {
      "model_module": "@jupyter-widgets/base",
      "model_module_version": "1.2.0",
      "model_name": "LayoutModel",
      "state": {}
     },
     "da0af47259d345488628b68919828b8a": {
      "model_module": "@jupyter-widgets/base",
      "model_module_version": "1.2.0",
      "model_name": "LayoutModel",
      "state": {}
     },
     "db71d3f840304aa6a02bd07b0fb6aa2c": {
      "model_module": "@jupyter-widgets/base",
      "model_module_version": "1.2.0",
      "model_name": "LayoutModel",
      "state": {}
     },
     "dd4a3e98d2834a0eb378ad1d226407d4": {
      "model_module": "@jupyter-widgets/controls",
      "model_module_version": "1.5.0",
      "model_name": "HTMLModel",
      "state": {
       "layout": "IPY_MODEL_9306d8f79d3b453789054e1e69cbef53",
       "style": "IPY_MODEL_463fe36b56884c6b87033232314dae47",
       "value": "  0%"
      }
     },
     "de4ff85afc614f7399e3bdf4a4d67c00": {
      "model_module": "@jupyter-widgets/base",
      "model_module_version": "1.2.0",
      "model_name": "LayoutModel",
      "state": {}
     },
     "deaf6cd687cf4d58a46383d0feb7eb95": {
      "model_module": "@jupyter-widgets/controls",
      "model_module_version": "1.5.0",
      "model_name": "DescriptionStyleModel",
      "state": {
       "description_width": ""
      }
     },
     "decea497b5ed489292d6c8a24742e114": {
      "model_module": "@jupyter-widgets/controls",
      "model_module_version": "1.5.0",
      "model_name": "DescriptionStyleModel",
      "state": {
       "description_width": ""
      }
     },
     "dfe51a83f44845ba9fe804f7d2f3c8b3": {
      "model_module": "@jupyter-widgets/base",
      "model_module_version": "1.2.0",
      "model_name": "LayoutModel",
      "state": {}
     },
     "e0f64df0fd754b768a0013d205999d34": {
      "model_module": "@jupyter-widgets/controls",
      "model_module_version": "1.5.0",
      "model_name": "ProgressStyleModel",
      "state": {
       "description_width": ""
      }
     },
     "e12545094db04ce48e19b2737f9d70c6": {
      "model_module": "@jupyter-widgets/base",
      "model_module_version": "1.2.0",
      "model_name": "LayoutModel",
      "state": {}
     },
     "e399abe257524d18b15311a10e1071de": {
      "model_module": "@jupyter-widgets/base",
      "model_module_version": "1.2.0",
      "model_name": "LayoutModel",
      "state": {}
     },
     "e40af75be4f34cdeb94d26402ff58e8e": {
      "model_module": "@jupyter-widgets/controls",
      "model_module_version": "1.5.0",
      "model_name": "ProgressStyleModel",
      "state": {
       "description_width": ""
      }
     },
     "e4492e25211842bc8ec574172b791601": {
      "model_module": "@jupyter-widgets/base",
      "model_module_version": "1.2.0",
      "model_name": "LayoutModel",
      "state": {}
     },
     "e4d9b06db46f468fb2831b2d1b47c046": {
      "model_module": "@jupyter-widgets/controls",
      "model_module_version": "1.5.0",
      "model_name": "HTMLModel",
      "state": {
       "layout": "IPY_MODEL_835eff17f07a43d2a3da8c070221df97",
       "style": "IPY_MODEL_f49b179bffac446cb41de3f7cf3bdb6a",
       "value": "100%"
      }
     },
     "e4f913fd1fbf48f6a8ba933e4979dc5b": {
      "model_module": "@jupyter-widgets/controls",
      "model_module_version": "1.5.0",
      "model_name": "HBoxModel",
      "state": {
       "children": [
        "IPY_MODEL_e4d9b06db46f468fb2831b2d1b47c046",
        "IPY_MODEL_3d944a8dc7d34ad18ad91e00eb002740",
        "IPY_MODEL_79bd64761eec47e58b54f43898b35b9d"
       ],
       "layout": "IPY_MODEL_e399abe257524d18b15311a10e1071de"
      }
     },
     "e52399553c8347a0a5f0d87b3f1a3a03": {
      "model_module": "@jupyter-widgets/controls",
      "model_module_version": "1.5.0",
      "model_name": "DescriptionStyleModel",
      "state": {
       "description_width": ""
      }
     },
     "e5f704e64a3d4793b441303ff14e9a1b": {
      "model_module": "@jupyter-widgets/controls",
      "model_module_version": "1.5.0",
      "model_name": "FloatProgressModel",
      "state": {
       "bar_style": "success",
       "layout": "IPY_MODEL_4109e77319794fe684538a354172cb61",
       "max": 9,
       "style": "IPY_MODEL_34b85ffcb6724322a983b17afbde1d6a",
       "value": 9
      }
     },
     "e677f2bae4184f5190eb3e7970f82dc7": {
      "model_module": "@jupyter-widgets/controls",
      "model_module_version": "1.5.0",
      "model_name": "DescriptionStyleModel",
      "state": {
       "description_width": ""
      }
     },
     "e6a34db3dfcc402a89e97f311553dd2f": {
      "model_module": "@jupyter-widgets/base",
      "model_module_version": "1.2.0",
      "model_name": "LayoutModel",
      "state": {}
     },
     "e91757079583484fa0a55a991447ca87": {
      "model_module": "@jupyter-widgets/controls",
      "model_module_version": "1.5.0",
      "model_name": "HTMLModel",
      "state": {
       "layout": "IPY_MODEL_861d107ad87b4ec88cc5ea074ef691d4",
       "style": "IPY_MODEL_a7dd835603f045df82fde3191d06fae4",
       "value": " 9/9 [00:00&lt;00:00, 275.58it/s]"
      }
     },
     "e93c505caa994532a4ecc1e225335cff": {
      "model_module": "@jupyter-widgets/controls",
      "model_module_version": "1.5.0",
      "model_name": "DescriptionStyleModel",
      "state": {
       "description_width": ""
      }
     },
     "e9ec13dac78944f0ac49580b2552f0b9": {
      "model_module": "@jupyter-widgets/controls",
      "model_module_version": "1.5.0",
      "model_name": "HTMLModel",
      "state": {
       "layout": "IPY_MODEL_5c983d3cd1e1472da85a2d302fd9bd3e",
       "style": "IPY_MODEL_0ad0ee127be340ff9bc041c792e3c829",
       "value": " 9/9 [00:00&lt;00:00, 177.33it/s]"
      }
     },
     "ecbc737a32644a30b09366b41a5166da": {
      "model_module": "@jupyter-widgets/base",
      "model_module_version": "1.2.0",
      "model_name": "LayoutModel",
      "state": {}
     },
     "ee824a055a544885945988eedfe89ada": {
      "model_module": "@jupyter-widgets/controls",
      "model_module_version": "1.5.0",
      "model_name": "HTMLModel",
      "state": {
       "layout": "IPY_MODEL_12732e0e0c80415d93399e140ae10c2e",
       "style": "IPY_MODEL_6c4681c236b8434fa2d5cf4c65b68029",
       "value": "100%"
      }
     },
     "ef2a530f148f441699740923044d118a": {
      "model_module": "@jupyter-widgets/controls",
      "model_module_version": "1.5.0",
      "model_name": "DescriptionStyleModel",
      "state": {
       "description_width": ""
      }
     },
     "ef3751fb89f346fc96848439166bc557": {
      "model_module": "@jupyter-widgets/controls",
      "model_module_version": "1.5.0",
      "model_name": "ProgressStyleModel",
      "state": {
       "description_width": ""
      }
     },
     "f03ab7100f274d5387cd39c6ea9782aa": {
      "model_module": "@jupyter-widgets/controls",
      "model_module_version": "1.5.0",
      "model_name": "FloatProgressModel",
      "state": {
       "bar_style": "success",
       "layout": "IPY_MODEL_db71d3f840304aa6a02bd07b0fb6aa2c",
       "max": 9,
       "style": "IPY_MODEL_f68edf8fd4b147748842923ffb0eac27",
       "value": 9
      }
     },
     "f3564118f9cd47cfad07729f87938667": {
      "model_module": "@jupyter-widgets/controls",
      "model_module_version": "1.5.0",
      "model_name": "DescriptionStyleModel",
      "state": {
       "description_width": ""
      }
     },
     "f49b179bffac446cb41de3f7cf3bdb6a": {
      "model_module": "@jupyter-widgets/controls",
      "model_module_version": "1.5.0",
      "model_name": "DescriptionStyleModel",
      "state": {
       "description_width": ""
      }
     },
     "f4bc77b82f214648bd416fe9d70682d4": {
      "model_module": "@jupyter-widgets/controls",
      "model_module_version": "1.5.0",
      "model_name": "HTMLModel",
      "state": {
       "layout": "IPY_MODEL_5950267469424543a013e22e5118de85",
       "style": "IPY_MODEL_53bed4253c0847a48f9b1b3e9d8ce558",
       "value": " 9/9 [00:00&lt;00:00, 170.50it/s]"
      }
     },
     "f5b05a8b5e9f498a88644f8eecfdc7d6": {
      "model_module": "@jupyter-widgets/base",
      "model_module_version": "1.2.0",
      "model_name": "LayoutModel",
      "state": {}
     },
     "f5ed92e95efb40789b607493bc38b15e": {
      "model_module": "@jupyter-widgets/controls",
      "model_module_version": "1.5.0",
      "model_name": "HBoxModel",
      "state": {
       "children": [
        "IPY_MODEL_f787d03505ba4252a6f2c430b6990de9",
        "IPY_MODEL_d25c9074a5b545eaa4d8c6640b81e01c",
        "IPY_MODEL_e91757079583484fa0a55a991447ca87"
       ],
       "layout": "IPY_MODEL_e6a34db3dfcc402a89e97f311553dd2f"
      }
     },
     "f68edf8fd4b147748842923ffb0eac27": {
      "model_module": "@jupyter-widgets/controls",
      "model_module_version": "1.5.0",
      "model_name": "ProgressStyleModel",
      "state": {
       "description_width": ""
      }
     },
     "f6e6221b6df140e59e54e9f8f9bc18b4": {
      "model_module": "@jupyter-widgets/base",
      "model_module_version": "1.2.0",
      "model_name": "LayoutModel",
      "state": {}
     },
     "f787d03505ba4252a6f2c430b6990de9": {
      "model_module": "@jupyter-widgets/controls",
      "model_module_version": "1.5.0",
      "model_name": "HTMLModel",
      "state": {
       "layout": "IPY_MODEL_0d359ed8f37342e68362ec8e2b75ec98",
       "style": "IPY_MODEL_3ac72d98b2b644f9abe7c4c5fce79f89",
       "value": "100%"
      }
     },
     "f882cdc2e6cd46069f81af108b0b8e55": {
      "model_module": "@jupyter-widgets/base",
      "model_module_version": "1.2.0",
      "model_name": "LayoutModel",
      "state": {}
     },
     "f8b76fed143740cab1c3843955f9d8a4": {
      "model_module": "@jupyter-widgets/base",
      "model_module_version": "1.2.0",
      "model_name": "LayoutModel",
      "state": {}
     },
     "f9292ee2c5954fbdb3a0d60080c29aa3": {
      "model_module": "@jupyter-widgets/controls",
      "model_module_version": "1.5.0",
      "model_name": "HBoxModel",
      "state": {
       "children": [
        "IPY_MODEL_884d1ad0204d456a92a2612f4cc7c781",
        "IPY_MODEL_f03ab7100f274d5387cd39c6ea9782aa",
        "IPY_MODEL_c9e397e5d5d74b92b24486b9d88c4687"
       ],
       "layout": "IPY_MODEL_557c55948bbf42a59445e0cb3205a279"
      }
     },
     "f93ec5a731ac46cd81731af61b3884ae": {
      "model_module": "@jupyter-widgets/base",
      "model_module_version": "1.2.0",
      "model_name": "LayoutModel",
      "state": {}
     },
     "f9a8f5b6b61e4e388aee57176c825977": {
      "model_module": "@jupyter-widgets/base",
      "model_module_version": "1.2.0",
      "model_name": "LayoutModel",
      "state": {}
     },
     "fa0c872331f048c3ba1cd1577fbe0aaf": {
      "model_module": "@jupyter-widgets/base",
      "model_module_version": "1.2.0",
      "model_name": "LayoutModel",
      "state": {}
     },
     "fa5c4a1eec3c41b99ff617b6297e9d35": {
      "model_module": "@jupyter-widgets/controls",
      "model_module_version": "1.5.0",
      "model_name": "FloatProgressModel",
      "state": {
       "bar_style": "success",
       "layout": "IPY_MODEL_ffa9f8e60cbc4f5ba6a4a5bd834a14c7",
       "max": 9,
       "style": "IPY_MODEL_8a311fda90de48768a92f7098ccc2827",
       "value": 9
      }
     },
     "fbe3e9af083a49b3907da2db8ebb98fc": {
      "model_module": "@jupyter-widgets/controls",
      "model_module_version": "1.5.0",
      "model_name": "DescriptionStyleModel",
      "state": {
       "description_width": ""
      }
     },
     "fc794fdb3a9f483485ca861e89a3a853": {
      "model_module": "@jupyter-widgets/base",
      "model_module_version": "1.2.0",
      "model_name": "LayoutModel",
      "state": {}
     },
     "fca41484a69448e8a0497c42be7961a3": {
      "model_module": "@jupyter-widgets/base",
      "model_module_version": "1.2.0",
      "model_name": "LayoutModel",
      "state": {}
     },
     "fdc5a126647e4b14b0f8259a77d4c239": {
      "model_module": "@jupyter-widgets/controls",
      "model_module_version": "1.5.0",
      "model_name": "HBoxModel",
      "state": {
       "children": [
        "IPY_MODEL_96209b98d54b443eb68e3dc1a8ecc291",
        "IPY_MODEL_6a8a58e1930a4fd193ac97a8db7163f2",
        "IPY_MODEL_d052bde555be421e89e876bba46e6788"
       ],
       "layout": "IPY_MODEL_fa0c872331f048c3ba1cd1577fbe0aaf"
      }
     },
     "fe56e12b750e410bad5e5ff1b2d44a69": {
      "model_module": "@jupyter-widgets/controls",
      "model_module_version": "1.5.0",
      "model_name": "DescriptionStyleModel",
      "state": {
       "description_width": ""
      }
     },
     "fef8d08570884366bd9a5d70ecc61302": {
      "model_module": "@jupyter-widgets/controls",
      "model_module_version": "1.5.0",
      "model_name": "ProgressStyleModel",
      "state": {
       "description_width": ""
      }
     },
     "ff36bd498ca448c491a73dc3455281e6": {
      "model_module": "@jupyter-widgets/base",
      "model_module_version": "1.2.0",
      "model_name": "LayoutModel",
      "state": {}
     },
     "ff46299311f444c2ab1d570a3abafc78": {
      "model_module": "@jupyter-widgets/controls",
      "model_module_version": "1.5.0",
      "model_name": "ProgressStyleModel",
      "state": {
       "description_width": ""
      }
     },
     "ffa9f8e60cbc4f5ba6a4a5bd834a14c7": {
      "model_module": "@jupyter-widgets/base",
      "model_module_version": "1.2.0",
      "model_name": "LayoutModel",
      "state": {}
     },
     "ffdf367963cb422d9b6a71df1ac1b008": {
      "model_module": "@jupyter-widgets/base",
      "model_module_version": "1.2.0",
      "model_name": "LayoutModel",
      "state": {}
     }
    },
    "version_major": 2,
    "version_minor": 0
   }
  }
 },
 "nbformat": 4,
 "nbformat_minor": 5
}
