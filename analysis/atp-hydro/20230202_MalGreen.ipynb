{
 "cells": [
  {
   "cell_type": "markdown",
   "id": "0be00596-3fe4-40ee-8028-487764435936",
   "metadata": {},
   "source": [
    "$$\n",
    "\\begin{table}[]\n",
    "\\begin{tabular}{llllllllllll}\n",
    " &  &  & 0.228 & 0.320 & 0.419 & 0.553 &  &  &  &  &  \\\\\n",
    " &  &  & 0.357 & 2.013 & 2.305 & 0.575 &  &  &  &  &  \\\\\n",
    " &  &  & 0.469 & 0.341 & 0.484 & 2.269 &  &  &  &  &  \\\\\n",
    " &  &  & 0.546 & 0.348 & 0.403 &       &  &  &  &  &  \\\\\n",
    " &  &  & 0.572 & 0.737 &       &       &  &  &  &  &  \\\\\n",
    " &  &  & 0.630 & 0.742 & 0.496 &       &  &  &  &  &  \\\\\n",
    " &  &  &       & 0.601 &       &       &  &  &  &  &  \\\\\n",
    " &  &  &       & 0.558 & 0.408 &       &  &  &  &  & \n",
    "\\end{tabular}\n",
    "\\end{table}\n",
    "$$"
   ]
  },
  {
   "cell_type": "code",
   "execution_count": 1,
   "id": "f8f40e6a-2327-416f-a509-8a31c998057e",
   "metadata": {},
   "outputs": [],
   "source": [
    "# Numpy imports:\n",
    "import numpy as np\n",
    "\n",
    "#Scipy imports\n",
    "import scipy\n",
    "from scipy import optimize\n",
    "from scipy.optimize import curve_fit\n",
    "\n",
    "# for extracting filenames\n",
    "import glob\n",
    "\n",
    "# skimage submodules we need\n",
    "import skimage.io\n",
    "import skimage.measure\n",
    "import skimage.filters\n",
    "import skimage.exposure\n",
    "import skimage.morphology\n",
    "from skimage.registration import phase_cross_correlation\n",
    "\n",
    "#For identifying aster center\n",
    "from skimage.filters import threshold_otsu, gaussian\n",
    "from skimage.measure import regionprops\n",
    "import cv2\n",
    "\n",
    "#Matplotlib imports\n",
    "import matplotlib.pyplot as plt\n",
    "%matplotlib inline\n",
    "%config InlineBackend.figure_formats = {'png', 'retina'}\n",
    "from matplotlib.colors import Normalize\n",
    "import matplotlib.cm as cm\n",
    "import matplotlib.colors as mcolors\n",
    "from mpl_toolkits.axes_grid1 import make_axes_locatable\n",
    "\n",
    "# # Seaborn imports (stylistic for nice plots)\n",
    "# import seaborn as sns\n",
    "# rc={'lines.linewidth': 2, 'axes.labelsize': 14, 'axes.titlesize': 14, \\\n",
    "#     'xtick.labelsize' : 14, 'ytick.labelsize' : 14}\n",
    "# sns.set(style='ticks', rc=rc)\n",
    "\n",
    "#for DataFrames\n",
    "import pandas as pd\n",
    "\n",
    "#To interact with the operating system\n",
    "import os\n",
    "\n",
    "#For status bar \n",
    "from tqdm.notebook import tqdm as tqdm"
   ]
  },
  {
   "cell_type": "code",
   "execution_count": 33,
   "id": "9b73d19c-5fff-471e-bffb-3c4c84f1facf",
   "metadata": {},
   "outputs": [],
   "source": [
    "path = '../../data/atp_hydro/MalachiteGreen/20230202_MalGreen/'\n",
    "MalGreen_quench30 = pd.read_csv(path+'20230131_MalGreen_quench-30min.txt', header = None) # 30 min after quench samples had Malachite green added\n",
    "MalGreen_standexp30 = pd.read_csv(path+'20230131_MalGreen_stand-Exp-30min.txt', header = None) # 30 min after standards and regular samples had Malachite green added"
   ]
  },
  {
   "cell_type": "code",
   "execution_count": 36,
   "id": "7cf98dbe-87af-454c-b06f-ec8017dde50f",
   "metadata": {},
   "outputs": [
    {
     "data": {
      "text/html": [
       "<div>\n",
       "<style scoped>\n",
       "    .dataframe tbody tr th:only-of-type {\n",
       "        vertical-align: middle;\n",
       "    }\n",
       "\n",
       "    .dataframe tbody tr th {\n",
       "        vertical-align: top;\n",
       "    }\n",
       "\n",
       "    .dataframe thead th {\n",
       "        text-align: right;\n",
       "    }\n",
       "</style>\n",
       "<table border=\"1\" class=\"dataframe\">\n",
       "  <thead>\n",
       "    <tr style=\"text-align: right;\">\n",
       "      <th></th>\n",
       "      <th>0</th>\n",
       "      <th>1</th>\n",
       "      <th>2</th>\n",
       "      <th>3</th>\n",
       "      <th>4</th>\n",
       "      <th>5</th>\n",
       "      <th>6</th>\n",
       "      <th>7</th>\n",
       "      <th>8</th>\n",
       "      <th>9</th>\n",
       "      <th>10</th>\n",
       "      <th>11</th>\n",
       "    </tr>\n",
       "  </thead>\n",
       "  <tbody>\n",
       "    <tr>\n",
       "      <th>0</th>\n",
       "      <td>0.182</td>\n",
       "      <td>0.046</td>\n",
       "      <td>2.396</td>\n",
       "      <td>0.228</td>\n",
       "      <td>0.320</td>\n",
       "      <td>0.459</td>\n",
       "      <td>0.553</td>\n",
       "      <td>0.060</td>\n",
       "      <td>0.033</td>\n",
       "      <td>0.047</td>\n",
       "      <td>0.052</td>\n",
       "      <td>0.048</td>\n",
       "    </tr>\n",
       "    <tr>\n",
       "      <th>1</th>\n",
       "      <td>0.266</td>\n",
       "      <td>0.046</td>\n",
       "      <td>3.054</td>\n",
       "      <td>0.357</td>\n",
       "      <td>2.013</td>\n",
       "      <td>2.663</td>\n",
       "      <td>0.575</td>\n",
       "      <td>0.069</td>\n",
       "      <td>0.036</td>\n",
       "      <td>0.046</td>\n",
       "      <td>0.055</td>\n",
       "      <td>0.051</td>\n",
       "    </tr>\n",
       "    <tr>\n",
       "      <th>2</th>\n",
       "      <td>0.358</td>\n",
       "      <td>0.047</td>\n",
       "      <td>2.698</td>\n",
       "      <td>0.469</td>\n",
       "      <td>0.341</td>\n",
       "      <td>0.512</td>\n",
       "      <td>2.269</td>\n",
       "      <td>0.103</td>\n",
       "      <td>0.037</td>\n",
       "      <td>0.046</td>\n",
       "      <td>0.046</td>\n",
       "      <td>0.047</td>\n",
       "    </tr>\n",
       "    <tr>\n",
       "      <th>3</th>\n",
       "      <td>0.431</td>\n",
       "      <td>0.047</td>\n",
       "      <td>2.587</td>\n",
       "      <td>0.546</td>\n",
       "      <td>0.348</td>\n",
       "      <td>0.421</td>\n",
       "      <td>0.057</td>\n",
       "      <td>0.065</td>\n",
       "      <td>0.036</td>\n",
       "      <td>0.046</td>\n",
       "      <td>0.035</td>\n",
       "      <td>0.060</td>\n",
       "    </tr>\n",
       "    <tr>\n",
       "      <th>4</th>\n",
       "      <td>0.458</td>\n",
       "      <td>0.049</td>\n",
       "      <td>2.634</td>\n",
       "      <td>0.572</td>\n",
       "      <td>0.737</td>\n",
       "      <td>0.047</td>\n",
       "      <td>0.046</td>\n",
       "      <td>0.047</td>\n",
       "      <td>0.039</td>\n",
       "      <td>0.047</td>\n",
       "      <td>0.038</td>\n",
       "      <td>0.055</td>\n",
       "    </tr>\n",
       "    <tr>\n",
       "      <th>5</th>\n",
       "      <td>0.467</td>\n",
       "      <td>0.047</td>\n",
       "      <td>2.692</td>\n",
       "      <td>0.630</td>\n",
       "      <td>0.742</td>\n",
       "      <td>0.523</td>\n",
       "      <td>0.053</td>\n",
       "      <td>0.039</td>\n",
       "      <td>0.037</td>\n",
       "      <td>0.048</td>\n",
       "      <td>0.048</td>\n",
       "      <td>0.047</td>\n",
       "    </tr>\n",
       "    <tr>\n",
       "      <th>6</th>\n",
       "      <td>0.048</td>\n",
       "      <td>0.048</td>\n",
       "      <td>2.010</td>\n",
       "      <td>0.046</td>\n",
       "      <td>0.601</td>\n",
       "      <td>0.049</td>\n",
       "      <td>0.041</td>\n",
       "      <td>0.037</td>\n",
       "      <td>0.038</td>\n",
       "      <td>0.046</td>\n",
       "      <td>0.043</td>\n",
       "      <td>0.047</td>\n",
       "    </tr>\n",
       "    <tr>\n",
       "      <th>7</th>\n",
       "      <td>0.047</td>\n",
       "      <td>0.049</td>\n",
       "      <td>2.114</td>\n",
       "      <td>0.046</td>\n",
       "      <td>0.558</td>\n",
       "      <td>0.424</td>\n",
       "      <td>0.040</td>\n",
       "      <td>0.070</td>\n",
       "      <td>0.047</td>\n",
       "      <td>0.045</td>\n",
       "      <td>0.047</td>\n",
       "      <td>0.048</td>\n",
       "    </tr>\n",
       "  </tbody>\n",
       "</table>\n",
       "</div>"
      ],
      "text/plain": [
       "      0      1      2      3      4      5      6      7      8      9   \\\n",
       "0  0.182  0.046  2.396  0.228  0.320  0.459  0.553  0.060  0.033  0.047   \n",
       "1  0.266  0.046  3.054  0.357  2.013  2.663  0.575  0.069  0.036  0.046   \n",
       "2  0.358  0.047  2.698  0.469  0.341  0.512  2.269  0.103  0.037  0.046   \n",
       "3  0.431  0.047  2.587  0.546  0.348  0.421  0.057  0.065  0.036  0.046   \n",
       "4  0.458  0.049  2.634  0.572  0.737  0.047  0.046  0.047  0.039  0.047   \n",
       "5  0.467  0.047  2.692  0.630  0.742  0.523  0.053  0.039  0.037  0.048   \n",
       "6  0.048  0.048  2.010  0.046  0.601  0.049  0.041  0.037  0.038  0.046   \n",
       "7  0.047  0.049  2.114  0.046  0.558  0.424  0.040  0.070  0.047  0.045   \n",
       "\n",
       "      10     11  \n",
       "0  0.052  0.048  \n",
       "1  0.055  0.051  \n",
       "2  0.046  0.047  \n",
       "3  0.035  0.060  \n",
       "4  0.038  0.055  \n",
       "5  0.048  0.047  \n",
       "6  0.043  0.047  \n",
       "7  0.047  0.048  "
      ]
     },
     "execution_count": 36,
     "metadata": {},
     "output_type": "execute_result"
    }
   ],
   "source": [
    "MalGreen_quench30"
   ]
  },
  {
   "cell_type": "code",
   "execution_count": 37,
   "id": "e76ff777-e55d-4e24-8f11-69c716f30ced",
   "metadata": {},
   "outputs": [
    {
     "data": {
      "text/html": [
       "<div>\n",
       "<style scoped>\n",
       "    .dataframe tbody tr th:only-of-type {\n",
       "        vertical-align: middle;\n",
       "    }\n",
       "\n",
       "    .dataframe tbody tr th {\n",
       "        vertical-align: top;\n",
       "    }\n",
       "\n",
       "    .dataframe thead th {\n",
       "        text-align: right;\n",
       "    }\n",
       "</style>\n",
       "<table border=\"1\" class=\"dataframe\">\n",
       "  <thead>\n",
       "    <tr style=\"text-align: right;\">\n",
       "      <th></th>\n",
       "      <th>0</th>\n",
       "      <th>1</th>\n",
       "      <th>2</th>\n",
       "      <th>3</th>\n",
       "      <th>4</th>\n",
       "      <th>5</th>\n",
       "      <th>6</th>\n",
       "      <th>7</th>\n",
       "      <th>8</th>\n",
       "      <th>9</th>\n",
       "      <th>10</th>\n",
       "      <th>11</th>\n",
       "    </tr>\n",
       "  </thead>\n",
       "  <tbody>\n",
       "    <tr>\n",
       "      <th>0</th>\n",
       "      <td>0.182</td>\n",
       "      <td>0.046</td>\n",
       "      <td>2.328</td>\n",
       "      <td>0.228</td>\n",
       "      <td>0.323</td>\n",
       "      <td>0.460</td>\n",
       "      <td>0.563</td>\n",
       "      <td>0.057</td>\n",
       "      <td>0.042</td>\n",
       "      <td>0.047</td>\n",
       "      <td>0.052</td>\n",
       "      <td>0.048</td>\n",
       "    </tr>\n",
       "    <tr>\n",
       "      <th>1</th>\n",
       "      <td>0.266</td>\n",
       "      <td>0.046</td>\n",
       "      <td>3.050</td>\n",
       "      <td>0.356</td>\n",
       "      <td>2.036</td>\n",
       "      <td>2.691</td>\n",
       "      <td>0.577</td>\n",
       "      <td>0.068</td>\n",
       "      <td>0.037</td>\n",
       "      <td>0.046</td>\n",
       "      <td>0.055</td>\n",
       "      <td>0.051</td>\n",
       "    </tr>\n",
       "    <tr>\n",
       "      <th>2</th>\n",
       "      <td>0.357</td>\n",
       "      <td>0.047</td>\n",
       "      <td>2.682</td>\n",
       "      <td>0.468</td>\n",
       "      <td>0.337</td>\n",
       "      <td>0.509</td>\n",
       "      <td>2.328</td>\n",
       "      <td>0.105</td>\n",
       "      <td>0.037</td>\n",
       "      <td>0.046</td>\n",
       "      <td>0.046</td>\n",
       "      <td>0.046</td>\n",
       "    </tr>\n",
       "    <tr>\n",
       "      <th>3</th>\n",
       "      <td>0.432</td>\n",
       "      <td>0.046</td>\n",
       "      <td>2.580</td>\n",
       "      <td>0.543</td>\n",
       "      <td>0.343</td>\n",
       "      <td>0.433</td>\n",
       "      <td>0.057</td>\n",
       "      <td>0.064</td>\n",
       "      <td>0.036</td>\n",
       "      <td>0.046</td>\n",
       "      <td>0.035</td>\n",
       "      <td>0.060</td>\n",
       "    </tr>\n",
       "    <tr>\n",
       "      <th>4</th>\n",
       "      <td>0.456</td>\n",
       "      <td>0.049</td>\n",
       "      <td>2.640</td>\n",
       "      <td>0.567</td>\n",
       "      <td>0.725</td>\n",
       "      <td>0.047</td>\n",
       "      <td>0.046</td>\n",
       "      <td>0.047</td>\n",
       "      <td>0.034</td>\n",
       "      <td>0.047</td>\n",
       "      <td>0.038</td>\n",
       "      <td>0.055</td>\n",
       "    </tr>\n",
       "    <tr>\n",
       "      <th>5</th>\n",
       "      <td>0.466</td>\n",
       "      <td>0.047</td>\n",
       "      <td>2.675</td>\n",
       "      <td>0.628</td>\n",
       "      <td>0.753</td>\n",
       "      <td>0.511</td>\n",
       "      <td>0.053</td>\n",
       "      <td>0.039</td>\n",
       "      <td>0.037</td>\n",
       "      <td>0.048</td>\n",
       "      <td>0.048</td>\n",
       "      <td>0.047</td>\n",
       "    </tr>\n",
       "    <tr>\n",
       "      <th>6</th>\n",
       "      <td>0.048</td>\n",
       "      <td>0.048</td>\n",
       "      <td>2.005</td>\n",
       "      <td>0.046</td>\n",
       "      <td>0.609</td>\n",
       "      <td>0.049</td>\n",
       "      <td>0.041</td>\n",
       "      <td>0.037</td>\n",
       "      <td>0.038</td>\n",
       "      <td>0.046</td>\n",
       "      <td>0.043</td>\n",
       "      <td>0.047</td>\n",
       "    </tr>\n",
       "    <tr>\n",
       "      <th>7</th>\n",
       "      <td>0.047</td>\n",
       "      <td>0.049</td>\n",
       "      <td>2.105</td>\n",
       "      <td>0.046</td>\n",
       "      <td>0.545</td>\n",
       "      <td>0.433</td>\n",
       "      <td>0.040</td>\n",
       "      <td>0.068</td>\n",
       "      <td>0.047</td>\n",
       "      <td>0.045</td>\n",
       "      <td>0.048</td>\n",
       "      <td>0.048</td>\n",
       "    </tr>\n",
       "  </tbody>\n",
       "</table>\n",
       "</div>"
      ],
      "text/plain": [
       "      0      1      2      3      4      5      6      7      8      9   \\\n",
       "0  0.182  0.046  2.328  0.228  0.323  0.460  0.563  0.057  0.042  0.047   \n",
       "1  0.266  0.046  3.050  0.356  2.036  2.691  0.577  0.068  0.037  0.046   \n",
       "2  0.357  0.047  2.682  0.468  0.337  0.509  2.328  0.105  0.037  0.046   \n",
       "3  0.432  0.046  2.580  0.543  0.343  0.433  0.057  0.064  0.036  0.046   \n",
       "4  0.456  0.049  2.640  0.567  0.725  0.047  0.046  0.047  0.034  0.047   \n",
       "5  0.466  0.047  2.675  0.628  0.753  0.511  0.053  0.039  0.037  0.048   \n",
       "6  0.048  0.048  2.005  0.046  0.609  0.049  0.041  0.037  0.038  0.046   \n",
       "7  0.047  0.049  2.105  0.046  0.545  0.433  0.040  0.068  0.047  0.045   \n",
       "\n",
       "      10     11  \n",
       "0  0.052  0.048  \n",
       "1  0.055  0.051  \n",
       "2  0.046  0.046  \n",
       "3  0.035  0.060  \n",
       "4  0.038  0.055  \n",
       "5  0.048  0.047  \n",
       "6  0.043  0.047  \n",
       "7  0.048  0.048  "
      ]
     },
     "execution_count": 37,
     "metadata": {},
     "output_type": "execute_result"
    }
   ],
   "source": [
    "MalGreen_standexp30"
   ]
  },
  {
   "cell_type": "code",
   "execution_count": 58,
   "id": "53b94ee8-3e77-4c5a-bb6f-9f1f5d8f8d4f",
   "metadata": {},
   "outputs": [
    {
     "data": {
      "text/html": [
       "<div>\n",
       "<style scoped>\n",
       "    .dataframe tbody tr th:only-of-type {\n",
       "        vertical-align: middle;\n",
       "    }\n",
       "\n",
       "    .dataframe tbody tr th {\n",
       "        vertical-align: top;\n",
       "    }\n",
       "\n",
       "    .dataframe thead th {\n",
       "        text-align: right;\n",
       "    }\n",
       "</style>\n",
       "<table border=\"1\" class=\"dataframe\">\n",
       "  <thead>\n",
       "    <tr style=\"text-align: right;\">\n",
       "      <th></th>\n",
       "      <th>0</th>\n",
       "      <th>1</th>\n",
       "      <th>2</th>\n",
       "      <th>3</th>\n",
       "      <th>4</th>\n",
       "      <th>5</th>\n",
       "      <th>6</th>\n",
       "      <th>7</th>\n",
       "      <th>8</th>\n",
       "      <th>9</th>\n",
       "      <th>10</th>\n",
       "      <th>11</th>\n",
       "    </tr>\n",
       "  </thead>\n",
       "  <tbody>\n",
       "    <tr>\n",
       "      <th>0</th>\n",
       "      <td>0.0</td>\n",
       "      <td>0.0</td>\n",
       "      <td>0.0</td>\n",
       "      <td>0.228</td>\n",
       "      <td>0.323</td>\n",
       "      <td>0.459</td>\n",
       "      <td>0.563</td>\n",
       "      <td>0.0</td>\n",
       "      <td>0.0</td>\n",
       "      <td>0.0</td>\n",
       "      <td>0.0</td>\n",
       "      <td>0.0</td>\n",
       "    </tr>\n",
       "    <tr>\n",
       "      <th>1</th>\n",
       "      <td>0.0</td>\n",
       "      <td>0.0</td>\n",
       "      <td>0.0</td>\n",
       "      <td>0.356</td>\n",
       "      <td>2.036</td>\n",
       "      <td>2.663</td>\n",
       "      <td>0.575</td>\n",
       "      <td>0.0</td>\n",
       "      <td>0.0</td>\n",
       "      <td>0.0</td>\n",
       "      <td>0.0</td>\n",
       "      <td>0.0</td>\n",
       "    </tr>\n",
       "    <tr>\n",
       "      <th>2</th>\n",
       "      <td>0.0</td>\n",
       "      <td>0.0</td>\n",
       "      <td>0.0</td>\n",
       "      <td>0.468</td>\n",
       "      <td>0.337</td>\n",
       "      <td>0.512</td>\n",
       "      <td>2.328</td>\n",
       "      <td>0.0</td>\n",
       "      <td>0.0</td>\n",
       "      <td>0.0</td>\n",
       "      <td>0.0</td>\n",
       "      <td>0.0</td>\n",
       "    </tr>\n",
       "    <tr>\n",
       "      <th>3</th>\n",
       "      <td>0.0</td>\n",
       "      <td>0.0</td>\n",
       "      <td>0.0</td>\n",
       "      <td>0.543</td>\n",
       "      <td>0.343</td>\n",
       "      <td>0.421</td>\n",
       "      <td>0.000</td>\n",
       "      <td>0.0</td>\n",
       "      <td>0.0</td>\n",
       "      <td>0.0</td>\n",
       "      <td>0.0</td>\n",
       "      <td>0.0</td>\n",
       "    </tr>\n",
       "    <tr>\n",
       "      <th>4</th>\n",
       "      <td>0.0</td>\n",
       "      <td>0.0</td>\n",
       "      <td>0.0</td>\n",
       "      <td>0.567</td>\n",
       "      <td>0.725</td>\n",
       "      <td>0.047</td>\n",
       "      <td>0.000</td>\n",
       "      <td>0.0</td>\n",
       "      <td>0.0</td>\n",
       "      <td>0.0</td>\n",
       "      <td>0.0</td>\n",
       "      <td>0.0</td>\n",
       "    </tr>\n",
       "    <tr>\n",
       "      <th>5</th>\n",
       "      <td>0.0</td>\n",
       "      <td>0.0</td>\n",
       "      <td>0.0</td>\n",
       "      <td>0.628</td>\n",
       "      <td>0.753</td>\n",
       "      <td>0.523</td>\n",
       "      <td>0.000</td>\n",
       "      <td>0.0</td>\n",
       "      <td>0.0</td>\n",
       "      <td>0.0</td>\n",
       "      <td>0.0</td>\n",
       "      <td>0.0</td>\n",
       "    </tr>\n",
       "    <tr>\n",
       "      <th>6</th>\n",
       "      <td>0.0</td>\n",
       "      <td>0.0</td>\n",
       "      <td>0.0</td>\n",
       "      <td>0.000</td>\n",
       "      <td>0.609</td>\n",
       "      <td>0.049</td>\n",
       "      <td>0.000</td>\n",
       "      <td>0.0</td>\n",
       "      <td>0.0</td>\n",
       "      <td>0.0</td>\n",
       "      <td>0.0</td>\n",
       "      <td>0.0</td>\n",
       "    </tr>\n",
       "    <tr>\n",
       "      <th>7</th>\n",
       "      <td>0.0</td>\n",
       "      <td>0.0</td>\n",
       "      <td>0.0</td>\n",
       "      <td>0.000</td>\n",
       "      <td>0.545</td>\n",
       "      <td>0.424</td>\n",
       "      <td>0.000</td>\n",
       "      <td>0.0</td>\n",
       "      <td>0.0</td>\n",
       "      <td>0.0</td>\n",
       "      <td>0.0</td>\n",
       "      <td>0.0</td>\n",
       "    </tr>\n",
       "  </tbody>\n",
       "</table>\n",
       "</div>"
      ],
      "text/plain": [
       "    0    1    2      3      4      5      6    7    8    9    10   11\n",
       "0  0.0  0.0  0.0  0.228  0.323  0.459  0.563  0.0  0.0  0.0  0.0  0.0\n",
       "1  0.0  0.0  0.0  0.356  2.036  2.663  0.575  0.0  0.0  0.0  0.0  0.0\n",
       "2  0.0  0.0  0.0  0.468  0.337  0.512  2.328  0.0  0.0  0.0  0.0  0.0\n",
       "3  0.0  0.0  0.0  0.543  0.343  0.421  0.000  0.0  0.0  0.0  0.0  0.0\n",
       "4  0.0  0.0  0.0  0.567  0.725  0.047  0.000  0.0  0.0  0.0  0.0  0.0\n",
       "5  0.0  0.0  0.0  0.628  0.753  0.523  0.000  0.0  0.0  0.0  0.0  0.0\n",
       "6  0.0  0.0  0.0  0.000  0.609  0.049  0.000  0.0  0.0  0.0  0.0  0.0\n",
       "7  0.0  0.0  0.0  0.000  0.545  0.424  0.000  0.0  0.0  0.0  0.0  0.0"
      ]
     },
     "execution_count": 58,
     "metadata": {},
     "output_type": "execute_result"
    }
   ],
   "source": [
    "MalGreen = np.zeros(np.shape(MalGreen_quench30))\n",
    "for i, val in enumerate(MalGreen_standexp30[3][:6]):\n",
    "    MalGreen[i][3] += val\n",
    "for i, val in enumerate(MalGreen_standexp30[4]):\n",
    "    MalGreen[i][4] += val\n",
    "for i, val in enumerate(MalGreen_quench30[5]):\n",
    "    MalGreen[i][5] += val\n",
    "MalGreen[0][6]+= MalGreen_standexp30[6][0]\n",
    "MalGreen[1][6]+= MalGreen_quench30[6][1]\n",
    "MalGreen[2][6]+= MalGreen_standexp30[6][2]\n",
    "\n",
    "MalGreen = pd.DataFrame(MalGreen)\n",
    "MalGreen"
   ]
  },
  {
   "cell_type": "code",
   "execution_count": 85,
   "id": "368b7bec-aa05-4824-972a-f31d53a58bc4",
   "metadata": {},
   "outputs": [],
   "source": [
    "stand_conc = np.array([0, 12.5, 25, 31.25, 37.5, 50]) #µM\n",
    "stand_abso = np.array(MalGreen[3][:6]) - MalGreen[3][0]\n",
    "\n",
    "assay = MalGreen[4][0]\n",
    "EM = MalGreen[4][1] - assay\n",
    "TaxMT = MalGreen[4][2] - assay\n",
    "UMT = MalGreen[4][3] - assay\n",
    "iLidTaxMT = MalGreen[4][4] - assay\n",
    "iLidUMT = MalGreen[4][5] - assay\n",
    "microTaxMT = MalGreen[4][6] - assay\n",
    "microUMT = MalGreen[4][7] - assay\n",
    "\n",
    "assay_Q = MalGreen[5][0]\n",
    "EM_Q = MalGreen[5][1]\n",
    "TaxMT_Q = MalGreen[5][2]\n",
    "UMT_Q = MalGreen[5][3]\n",
    "iLidUMT_Q = MalGreen[5][5]\n",
    "microUMT_Q = MalGreen[5][7]\n",
    "\n",
    "assayMgATP = MalGreen[6][0] - assay\n",
    "assayMgATP_Q = MalGreen[6][1] \n",
    "EMMgATP = MalGreen[6][2] - assay"
   ]
  },
  {
   "cell_type": "code",
   "execution_count": 82,
   "id": "45b92229-1198-47e6-bc5a-a6a4261d38a8",
   "metadata": {},
   "outputs": [],
   "source": [
    "def f(pconc, m):\n",
    "    return m*pconc\n",
    "def fitstandards(pconc, abso, p0):\n",
    "    param, cov = curve_fit(f, pconc, abso, p0)\n",
    "    return param[0]\n",
    "def abso_to_phos(abso, m):\n",
    "    return round(abso/m, 1)"
   ]
  },
  {
   "cell_type": "code",
   "execution_count": 80,
   "id": "65d66deb-e71e-4c30-9505-5f73452048c4",
   "metadata": {},
   "outputs": [
    {
     "name": "stdout",
     "output_type": "stream",
     "text": [
      "m = 0.0089\n"
     ]
    },
    {
     "data": {
      "text/plain": [
       "Text(0, 0.5, 'Absorbance at 620 nm')"
      ]
     },
     "execution_count": 80,
     "metadata": {},
     "output_type": "execute_result"
    },
    {
     "data": {
      "image/png": "[encoded data removed]",
      "text/plain": [
       "<Figure size 432x288 with 1 Axes>"
      ]
     },
     "metadata": {
      "image/png": {
       "height": 261,
       "width": 385
      },
      "needs_background": "light"
     },
     "output_type": "display_data"
    }
   ],
   "source": [
    "m = fitstandards(stand_conc, stand_abso, [1])\n",
    "print('m = ' + str(round(m,4)))\n",
    "\n",
    "plt.plot(stand_conc, m*stand_conc, 'r-', label = 'Fit to Average')\n",
    "plt.scatter(stand_conc, stand_abs)\n",
    "plt.xlabel('Phosphate concentration (µM)')\n",
    "plt.ylabel('Absorbance at 620 nm')\n"
   ]
  },
  {
   "cell_type": "code",
   "execution_count": 87,
   "id": "d791914f-2848-40fa-9710-8991b2a5fd0d",
   "metadata": {},
   "outputs": [],
   "source": [
    "EM_pconc = abso_to_phos(EM, m)\n",
    "TaxMT_pconc = abso_to_phos(TaxMT, m)\n",
    "UMT_pconc = abso_to_phos(UMT, m)\n",
    "iLidTaxMT_pconc = abso_to_phos(iLidTaxMT, m)\n",
    "iLidUMT_pconc = abso_to_phos(iLidUMT, m)\n",
    "microTaxMT_pconc = abso_to_phos(microTaxMT, m)\n",
    "microUMT_pconc = abso_to_phos(microUMT, m)\n",
    "assayMgATP_pconc = abso_to_phos(assayMgATP, m)\n",
    "EMMgATP_pconc = abso_to_phos(EMMgATP, m)"
   ]
  },
  {
   "cell_type": "code",
   "execution_count": 88,
   "id": "dc5796d9-5fa9-4488-9cd6-9e6cb5c0d77f",
   "metadata": {},
   "outputs": [
    {
     "name": "stdout",
     "output_type": "stream",
     "text": [
      "EM: 193.4\n",
      "TaxMT: 1.6\n",
      "UMT: 2.3\n",
      "iLid Taxol MT: 45.4\n",
      "iLid UMT: 48.6\n",
      "micro Taxol MT: 32.3\n",
      "micro UMT: 25.1\n",
      "assay with MgATP: 27.1\n",
      "EM MgATP: 226.4\n"
     ]
    }
   ],
   "source": [
    "print('EM: ' + str(EM_pconc))\n",
    "print('TaxMT: ' + str(TaxMT_pconc))\n",
    "print('UMT: ' + str(UMT_pconc))\n",
    "print('iLid Taxol MT: ' +str(iLidTaxMT_pconc))\n",
    "print('iLid UMT: ' + str(iLidUMT_pconc))\n",
    "print('micro Taxol MT: ' +str(microTaxMT_pconc))\n",
    "print('micro UMT: ' +str(microUMT_pconc))\n",
    "print('assay with MgATP: ' +str(assayMgATP_pconc))\n",
    "print('EM MgATP: ' +str(EMMgATP_pconc))"
   ]
  },
  {
   "cell_type": "code",
   "execution_count": 101,
   "id": "844c895d-dc0c-44f6-9ad0-d65a2c29f5df",
   "metadata": {},
   "outputs": [
    {
     "name": "stdout",
     "output_type": "stream",
     "text": [
      "[P] in EM: 773.6 µM\n",
      "[P] from EM in aster assay: 442.1 µM\n",
      "[P] in Taxol MT: 6.4 µM\n",
      "[P] in UMT: 9.2 µM\n",
      "[P] from UMT in aster assay: 1.3 µM\n",
      "[P] in 50 µM MgATP aliquot: 1355.0 µM\n",
      "[P] from 1401µM MgATP in aster assay: 38.3 µM\n"
     ]
    }
   ],
   "source": [
    "print('[P] in EM: ' +str(round(EM_pconc*40/10, 1)) + ' µM')\n",
    "print('[P] from EM in aster assay: ' +str(round(EM_pconc*40*4/10/7, 1)) + ' µM')\n",
    "\n",
    "print('[P] in Taxol MT: ' +str(round(TaxMT_pconc*40/10,1)) + ' µM')\n",
    "print('[P] in UMT: ' +str(round(UMT_pconc*40/10,1)) + ' µM')\n",
    "print('[P] from UMT in aster assay: ' +str(round(UMT_pconc*40/10/7, 1)) + ' µM')\n",
    "\n",
    "print('[P] in 50 mM MgATP aliquot: ' +str(round(assayMgATP_pconc*40*50/10/4,1)) + ' µM')\n",
    "print('[P] from 1410µM MgATP in aster assay: ' +str(round((assayMgATP_pconc*40*50/10/4)*1.7*4/34.4/7,1)) + ' µM')"
   ]
  },
  {
   "cell_type": "code",
   "execution_count": 111,
   "id": "510d940b-6759-448c-b015-8abdf97da8ee",
   "metadata": {},
   "outputs": [],
   "source": [
    "def hydrorate(sample, motconc, rxntime, Rv, Sv):\n",
    "    return round(sample*Rv/Sv/motconc/rxntime,2)"
   ]
  },
  {
   "cell_type": "code",
   "execution_count": 114,
   "id": "a667ce00-4b13-4623-92b0-70909b6bd662",
   "metadata": {},
   "outputs": [
    {
     "name": "stdout",
     "output_type": "stream",
     "text": [
      "[ATP] hydrolyzed by iLid with Taxol MT: 0.08 ATP/mot*s\n",
      "[ATP] hydrolyzed by iLid with our GMP-cpp UMT: 0.09 ATP/mot*s\n",
      "[ATP] hydrolyzed by micro with Taxol MT: 0.04 ATP/mot*s\n",
      "[ATP] hydrolyzed by micro with our GMP-cpp MT: 0.03 ATP/mot*s\n"
     ]
    }
   ],
   "source": [
    "iLid_conc = 25 #µM\n",
    "micro_conc = 34 #µM\n",
    "rxntime = 30*60 #s\n",
    "Rv = 40 #µl - total reaction volume\n",
    "Sv = 0.5 #ul - added 1µl of a 1:1 motor dilution\n",
    "\n",
    "print('[ATP] hydrolyzed by iLid with Taxol MT: ' +str(hydrorate(iLidTaxMT_pconc, iLid_conc, rxntime, Rv, Sv)) + ' ATP/mot*s')\n",
    "print('[ATP] hydrolyzed by iLid with our GMP-cpp UMT: ' +str(hydrorate(iLidUMT_pconc, iLid_conc, rxntime, Rv, Sv)) + ' ATP/mot*s')\n",
    "print('[ATP] hydrolyzed by micro with Taxol MT: ' +str(hydrorate(microTaxMT_pconc, micro_conc, rxntime, Rv, Sv)) + ' ATP/mot*s')\n",
    "print('[ATP] hydrolyzed by micro with our GMP-cpp MT: ' +str(hydrorate(microUMT_pconc, micro_conc, rxntime, Rv, Sv)) + ' ATP/mot*s')"
   ]
  },
  {
   "cell_type": "code",
   "execution_count": null,
   "id": "9ae597a3-7a0d-43e6-8869-002c38b9179a",
   "metadata": {},
   "outputs": [],
   "source": []
  },
  {
   "cell_type": "code",
   "execution_count": null,
   "id": "4d7c4379-1278-43e6-94b0-0546ec0f4fe1",
   "metadata": {},
   "outputs": [],
   "source": []
  },
  {
   "cell_type": "code",
   "execution_count": null,
   "id": "c1517e2b-4a88-4c39-9332-0fd31f210d2c",
   "metadata": {},
   "outputs": [],
   "source": []
  },
  {
   "cell_type": "code",
   "execution_count": 109,
   "id": "ac615a58-be44-4648-97dd-8ebf7a429ee8",
   "metadata": {},
   "outputs": [
    {
     "data": {
      "text/plain": [
       "0.08071111111111111"
      ]
     },
     "execution_count": 109,
     "metadata": {},
     "output_type": "execute_result"
    }
   ],
   "source": [
    "(45.4*40)/(0.5*30*60*25)"
   ]
  },
  {
   "cell_type": "code",
   "execution_count": null,
   "id": "7674bfd5-81d9-4b29-8175-b39f170a2ba2",
   "metadata": {},
   "outputs": [],
   "source": [
    "def ATeam_Hill_curve_fit(conc, calavg, maxconc, p0):\n",
    "    \"\"\"\n",
    "    Performs a curve fitting using scipy.optimize.curve_fit to fit data to a Langmuir curve\n",
    "    \n",
    "    Parameters\n",
    "    conc = 1D array of concentrations\n",
    "    calavg = 1D array of average intensity values of data\n",
    "    maxconc = scalar Maximum concentration of data taken\n",
    "    p0 = 1D list with 4 entries of parameter guesses for a, b, c, and d in the Hill function\n",
    "    \n",
    "    Returns\n",
    "    param = 1D list with fit values of each parameter\n",
    "    curve = 1D array of intensity values for every concentration in xvals\n",
    "    xvals = 1D array from 0 to maxconc with step size 1\n",
    "    \"\"\"\n",
    "    \n",
    "    \n",
    "    #Curve fits and returns parameter values as well as the covarience\n",
    "    param, param_cov = curve_fit(ATeam_Hill, \n",
    "                                 conc, \n",
    "                                 calavg, \n",
    "                                 p0, \n",
    "                                 bounds = (np.zeros(4), np.ones([4])*np.inf))\n",
    "\n",
    "    #stores the new function information according to the coefficients given by curve-fit() function \n",
    "    xvals=np.linspace(0,maxconc,maxconc)\n",
    "    curve = ATeam_Hill(xvals, param[0], param[1], param[2], param[3])\n",
    "    \n",
    "    return param, curve, xvals"
   ]
  },
  {
   "cell_type": "code",
   "execution_count": 66,
   "id": "5b7911ef-444c-4e25-9ad9-c78e5e95830d",
   "metadata": {},
   "outputs": [
    {
     "name": "stdout",
     "output_type": "stream",
     "text": [
      "m = 0.0083, b = 0.023\n"
     ]
    },
    {
     "data": {
      "text/plain": [
       "Text(0, 0.5, 'Absorbance at 620 nm')"
      ]
     },
     "execution_count": 66,
     "metadata": {},
     "output_type": "execute_result"
    },
    {
     "data": {
      "image/png": "[encoded data removed]",
      "text/plain": [
       "<Figure size 432x288 with 1 Axes>"
      ]
     },
     "metadata": {
      "image/png": {
       "height": 261,
       "width": 385
      },
      "needs_background": "light"
     },
     "output_type": "display_data"
    }
   ],
   "source": [
    "m, b = np.polyfit(stand_conc, stand_abs, 1)\n",
    "print('m = ' + str(round(m,4)) + ', b = ' + str(round(b,4)))\n",
    "plt.plot(stand_conc, m*stand_conc, 'r-', label = 'Fit to Average')\n",
    "plt.scatter(stand_conc, stand_abs)\n",
    "plt.xlabel('Phosphate concentration (µM)')\n",
    "plt.ylabel('Absorbance at 620 nm')"
   ]
  },
  {
   "cell_type": "code",
   "execution_count": 7,
   "id": "de33dda6-b366-4ac1-b503-c532b73d454d",
   "metadata": {},
   "outputs": [],
   "source": [
    "def abso_to_phos(abso, m, b):\n",
    "    return round((abso - b)/m, 1)"
   ]
  },
  {
   "cell_type": "markdown",
   "id": "2ce95835-d247-490f-8b4c-925e9f7c52f5",
   "metadata": {},
   "source": [
    "Background absorbance detection"
   ]
  },
  {
   "cell_type": "code",
   "execution_count": 9,
   "id": "7c585712-8006-40ae-a12a-6644a41d8b80",
   "metadata": {},
   "outputs": [],
   "source": [
    "bg_abso = 0.320"
   ]
  },
  {
   "cell_type": "markdown",
   "id": "b96f3c63-eafb-45bf-b1fd-998c21feee1a",
   "metadata": {},
   "source": [
    "Amount of phosphate in energy mix, subtract the assay only value from the em only value:"
   ]
  },
  {
   "cell_type": "code",
   "execution_count": 10,
   "id": "29593d7b-e71c-40d0-b712-40031b7517fd",
   "metadata": {},
   "outputs": [
    {
     "data": {
      "text/plain": [
       "173.8"
      ]
     },
     "execution_count": 10,
     "metadata": {},
     "output_type": "execute_result"
    }
   ],
   "source": [
    "EM_abso = 2.013 - bg_abso\n",
    "EM_pconc = abso_to_phos(EM_abso, m, b)\n",
    "EM_pconc"
   ]
  },
  {
   "cell_type": "markdown",
   "id": "76bae8ba-ddf9-4e87-b969-c6a4bf560dc1",
   "metadata": {},
   "source": [
    "WOW!! What concentration does this translate to in our aster assay?"
   ]
  },
  {
   "cell_type": "code",
   "execution_count": 11,
   "id": "4f1265e2-206e-4f55-9c69-9c92f7f0cfb3",
   "metadata": {},
   "outputs": [
    {
     "data": {
      "text/plain": [
       "397.25714285714287"
      ]
     },
     "execution_count": 11,
     "metadata": {},
     "output_type": "execute_result"
    }
   ],
   "source": [
    "EM_pconc*4*4/7"
   ]
  },
  {
   "cell_type": "markdown",
   "id": "06f4e8d9-b227-43f1-8081-254aee6aca14",
   "metadata": {},
   "source": [
    "$$\\frac{(173.8µM)(40µl)}{10µl}\\cdot \\frac{4}{7} = 397µM$$  YOWZA... that about as much ATP as we normally start with...."
   ]
  },
  {
   "cell_type": "markdown",
   "id": "d0823c1f-6c38-4aa9-b8bc-b250a7caee4d",
   "metadata": {},
   "source": [
    "How much phosphate do the taxol stabilized ELIPA microtubules contain?"
   ]
  },
  {
   "cell_type": "code",
   "execution_count": 13,
   "id": "abe113f9-becd-41f6-ad55-93a1790114a3",
   "metadata": {},
   "outputs": [
    {
     "data": {
      "text/plain": [
       "-27.7"
      ]
     },
     "execution_count": 13,
     "metadata": {},
     "output_type": "execute_result"
    }
   ],
   "source": [
    "taxMT_abso = 0.341 - bg_abso\n",
    "taxMT_pconc = abso_to_phos(taxMT_abso, m, b)\n",
    "taxMT_pconc"
   ]
  },
  {
   "cell_type": "markdown",
   "id": "352813d7-4c09-4726-8f9f-44d8d787d2cf",
   "metadata": {},
   "source": [
    "Ok so negligable... what about our GMPCPP"
   ]
  },
  {
   "cell_type": "code",
   "execution_count": 18,
   "id": "fdbbc3c6-cf7f-43e7-9adb-5ba03b041d2d",
   "metadata": {},
   "outputs": [
    {
     "data": {
      "text/plain": [
       "-26.9"
      ]
     },
     "execution_count": 18,
     "metadata": {},
     "output_type": "execute_result"
    }
   ],
   "source": [
    "GMPMT_abso = 0.348 - bg_abso\n",
    "GMPMT_pconc = abso_to_phos(GMPMT_abso, m, b)\n",
    "GMPMT_pconc"
   ]
  },
  {
   "cell_type": "markdown",
   "id": "48b3b88b-2326-4574-a5d8-076cc81cac23",
   "metadata": {},
   "source": [
    "Also negligable?"
   ]
  },
  {
   "cell_type": "markdown",
   "id": "18beb897-3c60-4e1e-81d2-6310b04054ac",
   "metadata": {},
   "source": [
    "Now, lets compare how much phosphate we get from using MgATP"
   ]
  },
  {
   "cell_type": "code",
   "execution_count": 20,
   "id": "1e8864ae-cb68-4b51-9008-be5a2f813bfd",
   "metadata": {},
   "outputs": [
    {
     "data": {
      "text/plain": [
       "-2.2"
      ]
     },
     "execution_count": 20,
     "metadata": {},
     "output_type": "execute_result"
    }
   ],
   "source": [
    "MgATP_abso =  0.553 - bg_abso\n",
    "MgATP_pconc = abso_to_phos(MgATP_abso, m, b)\n",
    "MgATP_pconc"
   ]
  },
  {
   "cell_type": "code",
   "execution_count": 22,
   "id": "178b1982-6be2-4144-af8f-3b45062cc11d",
   "metadata": {},
   "outputs": [
    {
     "data": {
      "text/plain": [
       "0.23300000000000004"
      ]
     },
     "execution_count": 22,
     "metadata": {},
     "output_type": "execute_result"
    }
   ],
   "source": [
    "MgATP_abso"
   ]
  },
  {
   "cell_type": "code",
   "execution_count": null,
   "id": "096cf3b0-fdfb-4b55-9616-1eb6b3d0b71f",
   "metadata": {},
   "outputs": [],
   "source": []
  }
 ],
 "metadata": {
  "kernelspec": {
   "display_name": "Python 3 (ipykernel)",
   "language": "python",
   "name": "python3"
  },
  "language_info": {
   "codemirror_mode": {
    "name": "ipython",
    "version": 3
   },
   "file_extension": ".py",
   "mimetype": "text/x-python",
   "name": "python",
   "nbconvert_exporter": "python",
   "pygments_lexer": "ipython3",
   "version": "3.8.11"
  }
 },
 "nbformat": 4,
 "nbformat_minor": 5
}
