{
 "cells": [
  {
   "cell_type": "code",
   "execution_count": 1,
   "id": "049d54f9-ec1e-46ba-80b5-ae58460ed389",
   "metadata": {},
   "outputs": [],
   "source": [
    "# Numpy imports:\n",
    "import numpy as np\n",
    "\n",
    "# for extracting filenames \n",
    "import glob\n",
    "\n",
    "#Matplotlib imports\n",
    "import matplotlib.pyplot as plt\n",
    "\n",
    "# skimage submodules we need\n",
    "import skimage.io\n",
    "\n",
    "#Scipy imports\n",
    "import scipy\n",
    "from scipy import optimize\n",
    "from scipy.optimize import curve_fit"
   ]
  },
  {
   "cell_type": "code",
   "execution_count": 2,
   "id": "3152cb0a-4d3c-4156-a41e-565382fc3c4e",
   "metadata": {},
   "outputs": [],
   "source": [
    "import atp_hydro\n",
    "atp_hydro.pboc_style_mpl()\n",
    "# show images in viridis by default (pboc is fire?)\n",
    "plt.rcParams['image.cmap'] = 'viridis'"
   ]
  },
  {
   "cell_type": "code",
   "execution_count": 3,
   "id": "988aa422-0b79-478e-b377-f8e32a5f443d",
   "metadata": {},
   "outputs": [],
   "source": [
    "#Data Params:\n",
    "#Nikon_10X_bin1_20sFrameInterval_100ms480_150ms405_1uMmicro_1400nM_A81D_2\n",
    "frame_int = 20 #s\n",
    "ATPconc = 470 #uM\n",
    "Motconc = 1 #uM\n",
    "skip_int = 10 #data frames to skip "
   ]
  },
  {
   "cell_type": "code",
   "execution_count": 4,
   "id": "8bb5ad69-78f2-4b63-9253-7623076273ab",
   "metadata": {},
   "outputs": [],
   "source": [
    "#This should not change between experiments:\n",
    "datapath = '../../data/atp_hydro'\n",
    "#This varies between experiments.  \n",
    "datafolder = '2023-11-24_Hydrolysis_QueenA81D/1_ADP_variation_at_500uMATP/Nikon_10X_bin1_20sFrameInterval__100ms480_150ms405_500uATP_1uMmicro_1400nM_A81D_1/470uMADP_1'\n",
    "\n",
    "#--------- Read in Files -----------#\n",
    "# bound Images\n",
    "included_bound = '*405*.tif'\n",
    "bound_files = np.sort(glob.glob(datapath+'/'+datafolder+'/'+included_bound))[::skip_int]\n",
    "\n",
    "# unbound Images\n",
    "included_unbound = '*480*.tif'\n",
    "unbound_files = np.sort(glob.glob(datapath+'/'+datafolder+'/'+included_unbound))[::skip_int]\n",
    "#--------------\n",
    "\n",
    "# Convert files to images and save as array:\n",
    "bound_array = atp_hydro.file_to_image(bound_files)\n",
    "unbound_array = atp_hydro.file_to_image(unbound_files)\n",
    "\n",
    "# ------------------------------------------------------------------------------ #\n",
    "#Background \n",
    "bound_bg = 1914\n",
    "unbound_bg = 1914"
   ]
  },
  {
   "cell_type": "code",
   "execution_count": 5,
   "id": "2a39c0c6-04fe-4e15-b322-1e894b0819c9",
   "metadata": {},
   "outputs": [
    {
     "name": "stderr",
     "output_type": "stream",
     "text": [
      "/Users/anaduarte/RPgroup/am_atp/analysis/atp-hydro/atp_hydro/atp_hydro_packages.py:207: RuntimeWarning: invalid value encountered in power\n",
      "  return a * ((c - array) / (array - b)) ** (1/d)\n"
     ]
    },
    {
     "data": {
      "text/plain": [
       "(array([4007.97600417,  357.14370904,   16.90612178]),\n",
       " 0.08489012581507849,\n",
       " 0.9919076762401595)"
      ]
     },
     "execution_count": 5,
     "metadata": {},
     "output_type": "execute_result"
    }
   ],
   "source": [
    "atp_hydro.analyze_hydrolysis(bound_files, \n",
    "                             unbound_files, \n",
    "                             frame_int, \n",
    "                             skip_int, \n",
    "                             cal_params = [67.60201128,  3.36417414,  1.06783864,  1.17289855], \n",
    "                             p0=[2000, 500, 5],\n",
    "                             Motconc=Motconc)"
   ]
  },
  {
   "cell_type": "code",
   "execution_count": null,
   "id": "63fdeddc-6036-4556-987c-8b4e7bf6555c",
   "metadata": {},
   "outputs": [],
   "source": [
    "df_anal = pd.DataFrame({'ATP (uM)' : ,\n",
    "                        'ADP (uM)' : ,\n",
    "                        'P (uM)' : ,\n",
    "                        'Motor (uM)' : ,\n",
    "                        'Tau (s)' : params[0],\n",
    "                        'A0 (uM)' : params[1],\n",
    "                        'Ainf (uM)' : params[2],\n",
    "                        'r-squared' : r2,\n",
    "                        'hydro' : rate,\n",
    "                        'Param' : ['Km', 'Rmax', 'Rmin', 'n'],\n",
    "                        'Value' : params})\n",
    "#df_fit.to_csv('../../analyzed_data/atp_cal/' + datafolder + '/df_fit')\n",
    "\n",
    "df_data = pd.DataFrame({'time (s)' : times, 'ATP (uM)' : ratio_hydro_uM})\n",
    "#df_data.to_csv('../../analyzed_data/atp_cal/' + datafolder + '/df_data')"
   ]
  }
 ],
 "metadata": {
  "kernelspec": {
   "display_name": "Python 3 (ipykernel)",
   "language": "python",
   "name": "python3"
  },
  "language_info": {
   "codemirror_mode": {
    "name": "ipython",
    "version": 3
   },
   "file_extension": ".py",
   "mimetype": "text/x-python",
   "name": "python",
   "nbconvert_exporter": "python",
   "pygments_lexer": "ipython3",
   "version": "3.8.11"
  }
 },
 "nbformat": 4,
 "nbformat_minor": 5
}
