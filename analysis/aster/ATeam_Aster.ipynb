{
 "cells": [
  {
   "cell_type": "markdown",
   "metadata": {
    "id": "ICaq033BbtRT"
   },
   "source": [
    "# Pipeline for Aster Data Analysis using the ATeam Probe"
   ]
  },
  {
   "cell_type": "markdown",
   "metadata": {
    "id": "bazmf6Wdb4OV"
   },
   "source": [
    "Today we will extract ATP gradients from an aster dataset. Executing the next few cells will import all the relevant data."
   ]
  },
  {
   "cell_type": "markdown",
   "metadata": {},
   "source": [
    "## Imports"
   ]
  },
  {
   "cell_type": "code",
   "execution_count": 1,
   "metadata": {
    "id": "kQI5XTMZb5hO"
   },
   "outputs": [],
   "source": [
    "# Packages to locally download data into the notebook:\n",
    "# import requests\n",
    "# import zipfile\n",
    "import glob\n",
    "\n",
    "#### Numpy #####\n",
    "import numpy as np\n",
    "\n",
    "\n",
    "#### Matplotlib ####\n",
    "\n",
    "#Matplotlib plotting packages\n",
    "import matplotlib.pyplot as plt\n",
    "from matplotlib.colors import Normalize\n",
    "import matplotlib.cm as cm\n",
    "import matplotlib.animation as animation\n",
    "\n",
    "#### Skimage ####\n",
    "\n",
    "#For image plotting\n",
    "import skimage.io\n",
    "\n",
    "#For identifying aster center\n",
    "from skimage.filters import threshold_otsu, gaussian\n",
    "from skimage.measure import regionprops\n",
    "import cv2\n",
    "\n",
    "#for image registration\n",
    "from skimage.registration import phase_cross_correlation\n",
    "import os\n",
    "\n",
    "\n",
    "#For movie Plotting\n",
    "import plotting\n",
    "import celluloid as cell\n",
    "\n",
    "# For loading bars\n",
    "from tqdm.notebook import tqdm as tqdm"
   ]
  },
  {
   "cell_type": "markdown",
   "metadata": {},
   "source": [
    "## Import Images"
   ]
  },
  {
   "cell_type": "markdown",
   "metadata": {},
   "source": [
    "Function for turning file paths into image arrays"
   ]
  },
  {
   "cell_type": "code",
   "execution_count": 2,
   "metadata": {
    "id": "G7XD0-rUb-F_"
   },
   "outputs": [],
   "source": [
    "def file_to_image(files):\n",
    "    \"\"\"\n",
    "    Takes in a file list and converts to images.\n",
    "    \n",
    "    Parameters:\n",
    "    files: list of file names that you want to read into images\n",
    "    \n",
    "    Returns:\n",
    "    An array of np.int16 images\n",
    "    \"\"\"\n",
    "    im_list = list()\n",
    "    for file in files:\n",
    "        im = skimage.io.imread(file)\n",
    "        im_list.append(im.astype(np.int16))\n",
    "\n",
    "    return np.array(im_list)"
   ]
  },
  {
   "cell_type": "markdown",
   "metadata": {},
   "source": [
    "Specify the paths for data. EDIT THIS EACH TIME"
   ]
  },
  {
   "cell_type": "code",
   "execution_count": 3,
   "metadata": {
    "id": "0hYLRWV9cAm0"
   },
   "outputs": [],
   "source": [
    "##### Paths for image files #####\n",
    "\n",
    "#Choose the experiment file name(located in folder 'Asters'):\n",
    "folder_path = '../../data/aster/'\n",
    "\n",
    "folder = '2022-06-20_Ncd_ATeam/2022-06-20_Ncd_ATeam_1/'\n",
    "\n",
    "file_path = folder_path + folder\n",
    "\n",
    "# #Choose the position(s)/aster(s) of interest:\n",
    "pos_list = ['Pos0']\n",
    "\n",
    "#Choose the channels of interest (this is almost always going to be Cherry and iATP)\n",
    "channel_list = ['Bright', 'CFP', 'YFP','Cherry']\n",
    "\n",
    "#included frames\n",
    "included_frames = '*2022*.tif'\n",
    "\n",
    "\n",
    "##### Paths for background subtraction #####\n",
    "\n",
    "#Choose the experiment file name(located in folder 'Asters'):\n",
    "folder_path_bs = '../../data/aster/'\n",
    "\n",
    "folder_bs = '2022-06-15_Ncd_ATeam_Victor+Cathy/2022-06-13_Ncd_ATeam_Victor+cathy_darkims/'\n",
    "\n",
    "file_path_bs = folder_path_bs + folder_bs"
   ]
  },
  {
   "cell_type": "markdown",
   "metadata": {},
   "source": [
    "### Creating image arrays"
   ]
  },
  {
   "cell_type": "code",
   "execution_count": 4,
   "metadata": {
    "colab": {
     "base_uri": "https://localhost:8080/"
    },
    "id": "Gkm9x9xKcC0X",
    "outputId": "a88c84c2-28ed-44da-ea11-9fb69fee21e6"
   },
   "outputs": [
    {
     "name": "stdout",
     "output_type": "stream",
     "text": [
      "im_arrayBrightPos0\n",
      "im_arrayCFPPos0\n",
      "im_arrayYFPPos0\n",
      "im_arrayCherryPos0\n"
     ]
    }
   ],
   "source": [
    "# Import images\n",
    "for pos in pos_list:\n",
    "    for channel in channel_list:\n",
    "\n",
    "        #creates an empty list with the naming convention\n",
    "        exec('im_files' + channel + pos + '= []')\n",
    "        im_files = eval('im_files' + channel + pos)\n",
    "        \n",
    "        #appends all the file names\n",
    "        im_files.append(\n",
    "            np.sort(\n",
    "                glob.glob(file_path + '/' + pos + '/' + channel + '/' +\n",
    "                          included_frames)))\n",
    "\n",
    "        #Reads the files as images\n",
    "        exec('im_array' + channel + pos + ' = file_to_image(im_files[0])')\n",
    "        print('im_array' + channel + pos)"
   ]
  },
  {
   "cell_type": "markdown",
   "metadata": {},
   "source": [
    "### Reading bg images"
   ]
  },
  {
   "cell_type": "code",
   "execution_count": 5,
   "metadata": {},
   "outputs": [],
   "source": [
    "# Camera dark images - for background subtraction\n",
    "\n",
    "im_MT_dark = skimage.io.imread((np.sort(glob.glob(file_path_bs + '*C1*.tif')))[0]).astype(np.int16)\n",
    "im_YFP_dark = skimage.io.imread((np.sort(glob.glob(file_path_bs + '*C2*.tif')))[0]).astype(np.int16)\n",
    "im_CFP_dark = skimage.io.imread((np.sort(glob.glob(file_path_bs + '*C3*.tif')))[0]).astype(np.int16)\n",
    "im_Cherry_dark = skimage.io.imread((np.sort(glob.glob(file_path_bs + '*C4*.tif')))[0]).astype(np.int16)"
   ]
  },
  {
   "cell_type": "markdown",
   "metadata": {},
   "source": [
    "### Param calibration"
   ]
  },
  {
   "cell_type": "code",
   "execution_count": 6,
   "metadata": {
    "id": "sa2H-7v4cFT5"
   },
   "outputs": [],
   "source": [
    "#Length Calibration (microns to pixels)\n",
    "um_per_pixel = 0.59\n",
    "\n",
    "#Image dims\n",
    "w_px, h_px = 1920, 1200  #pixels\n",
    "w_um, h_um = w_px * um_per_pixel, h_px * um_per_pixel  # microns\n",
    "\n",
    "#min area thresh (IN PIXELS)\n",
    "area_thresh = 5000\n",
    "\n",
    "#Fontsize\n",
    "f_small, f_big = 13, 15\n",
    "\n",
    "#timestamps (IN FRAMES)\n",
    "total_frames = 200\n",
    "T_min = 20\n",
    "T_span = total_frames - T_min\n",
    "\n",
    "#??\n",
    "winsize = 100\n",
    "thickness = 5\n",
    "scale = 5"
   ]
  },
  {
   "cell_type": "code",
   "execution_count": 8,
   "metadata": {
    "colab": {
     "base_uri": "https://localhost:8080/",
     "height": 466
    },
    "id": "Nu1ClL8fkqtT",
    "outputId": "f77f0ce8-f966-419e-c116-cb7b6f4158c4"
   },
   "outputs": [
    {
     "data": {
      "text/plain": [
       "<matplotlib.colorbar.Colorbar at 0x7fa80816d6a0>"
      ]
     },
     "execution_count": 8,
     "metadata": {},
     "output_type": "execute_result"
    },
    {
     "data": {
      "image/png": "[encoded data removed]",
      "text/plain": [
       "<Figure size 1152x576 with 7 Axes>"
      ]
     },
     "metadata": {},
     "output_type": "display_data"
    }
   ],
   "source": [
    "frame = 3\n",
    "im_MT = im_arrayBrightPos0[frame]\n",
    "im_CFP = im_arrayCFPPos0[frame]\n",
    "im_YFP = im_arrayYFPPos0[frame]\n",
    "\n",
    "#define colorbar max and min\n",
    "colorbar_max = np.percentile(im_YFP, 100)\n",
    "colorbar_min = np.percentile(im_CFP, 0)\n",
    "\n",
    "#define plot\n",
    "fig, ax = plt.subplots(2, 3, figsize=(16, 8))\n",
    "cmap = cm.get_cmap('gist_earth')\n",
    "normalizer = Normalize(colorbar_min, colorbar_max)\n",
    "cb_setting = cm.ScalarMappable(norm=normalizer)\n",
    "\n",
    "#define each subplot\n",
    "ax[0, 0].imshow(im_MT)\n",
    "ax[0, 0].set_title(r'MT (all units in pixels)', fontsize=f_big)\n",
    "ax[0, 0].set_ylabel(r'Test Image', fontsize=f_small)\n",
    "\n",
    "ax[0, 1].imshow(im_YFP)\n",
    "ax[0, 1].set_title(r'YFP (all units in pixels)', fontsize=f_big)\n",
    "\n",
    "ax[0, 2].imshow(im_CFP)\n",
    "ax[0, 2].set_title(r'CFP (all units in pixels)', fontsize=f_big)\n",
    "\n",
    "#subplots: setting bg plots\n",
    "ax[1, 0].imshow(im_MT)\n",
    "ax[1, 0].set_ylabel(r'Background Image', fontsize=f_small)\n",
    "\n",
    "ax[1, 1].imshow(im_YFP)\n",
    "\n",
    "ax[1, 2].imshow(im_CFP)\n",
    "\n",
    "fig.colorbar(cb_setting, ax=ax.ravel().tolist())"
   ]
  },
  {
   "cell_type": "markdown",
   "metadata": {},
   "source": [
    "### Subtract camera dark images"
   ]
  },
  {
   "cell_type": "code",
   "execution_count": 9,
   "metadata": {
    "id": "844Xtt5uowtT"
   },
   "outputs": [],
   "source": [
    "im_arrayBrightPos0_bs = im_arrayBrightPos0 - im_MT_dark\n",
    "im_arrayYFPPos0_bs = im_arrayYFPPos0 - im_YFP_dark\n",
    "im_arrayCFPPos0_bs = im_arrayCFPPos0 - im_CFP_dark"
   ]
  },
  {
   "cell_type": "code",
   "execution_count": 10,
   "metadata": {
    "colab": {
     "base_uri": "https://localhost:8080/",
     "height": 266
    },
    "id": "BsC0j16opCx0",
    "outputId": "2789ac15-1ce1-4cd6-b88f-45aecfe40d9c"
   },
   "outputs": [
    {
     "data": {
      "text/plain": [
       "<matplotlib.colorbar.Colorbar at 0x7fa85801d0d0>"
      ]
     },
     "execution_count": 10,
     "metadata": {},
     "output_type": "execute_result"
    },
    {
     "data": {
      "image/png": "[encoded data removed]",
      "text/plain": [
       "<Figure size 432x288 with 2 Axes>"
      ]
     },
     "metadata": {},
     "output_type": "display_data"
    }
   ],
   "source": [
    "# test\n",
    "\n",
    "plt.imshow(im_arrayBrightPos0_bs[30])\n",
    "plt.colorbar()"
   ]
  },
  {
   "cell_type": "markdown",
   "metadata": {},
   "source": [
    "### Crop"
   ]
  },
  {
   "cell_type": "code",
   "execution_count": null,
   "metadata": {
    "colab": {
     "base_uri": "https://localhost:8080/",
     "height": 287
    },
    "id": "E-KhUPZ9pcXE",
    "outputId": "62d61f65-eaca-4dbd-e9bc-2bd916ad4f11"
   },
   "outputs": [],
   "source": [
    "#set crop pixel values\n",
    "tc_ymin, tc_ymax, tc_xmin, tc_xmax = 475, 655, 870, 1040 #for 'tight crop'\n",
    "#define crop window\n",
    "tight_crop = np.s_[tc_ymin:tc_ymax, tc_xmin:tc_xmax]\n",
    "\n",
    "#set crop pixel values\n",
    "wc_ymin, wc_ymax, wc_xmin, wc_xmax = 515, 615, 900, 1010  #for 'tight crop'\n",
    "#define crop window\n",
    "wide_crop = np.s_[wc_ymin:wc_ymax, wc_xmin:wc_xmax]\n",
    "\n",
    "#show the crop\n",
    "plt.imshow(im_arrayBrightPos0_bs[30][tight_crop])\n",
    "plt.colorbar()"
   ]
  },
  {
   "cell_type": "markdown",
   "metadata": {
    "id": "ys1NlAr_sHGG"
   },
   "source": [
    "Find the center for each image"
   ]
  },
  {
   "cell_type": "markdown",
   "metadata": {},
   "source": [
    "### Center"
   ]
  },
  {
   "cell_type": "code",
   "execution_count": 13,
   "metadata": {},
   "outputs": [],
   "source": [
    "c_ymin, c_ymax, c_xmin, c_xmax = 100, 900, 700, 1500\n",
    "# define crop window\n",
    "crop = np.s_[c_ymin:c_ymax, c_xmin:c_xmax]"
   ]
  },
  {
   "cell_type": "code",
   "execution_count": 14,
   "metadata": {
    "code_folding": [
     0
    ],
    "colab": {
     "base_uri": "https://localhost:8080/",
     "height": 269
    },
    "deletable": false,
    "editable": false,
    "id": "wb5uhDdJsLuR",
    "outputId": "ade9f142-391f-4bc1-ae09-d048709efb2e",
    "scrolled": true
   },
   "outputs": [
    {
     "name": "stdout",
     "output_type": "stream",
     "text": [
      "**CENTER NOT FOUND**\n",
      "**CENTER NOT FOUND**\n",
      "**CENTER NOT FOUND**\n",
      "**CENTER NOT FOUND**\n",
      "**CENTER NOT FOUND**\n",
      "**CENTER NOT FOUND**\n",
      "**CENTER NOT FOUND**\n",
      "**CENTER NOT FOUND**\n",
      "**CENTER NOT FOUND**\n",
      "**CENTER NOT FOUND**\n",
      "**CENTER NOT FOUND**\n",
      "**CENTER NOT FOUND**\n"
     ]
    }
   ],
   "source": [
    "#init empty lists for center vals, radius, frame #\n",
    "centers_tc = []\n",
    "radii = []\n",
    "frame_num = []\n",
    "contours_plot = []\n",
    "\n",
    "#for loop thru MT images\n",
    "for i, im in enumerate(im_arrayBrightPos0_bs):\n",
    "    #crop image for center identification\n",
    "    image = im\n",
    "\n",
    "    #perform otsu threshholding\n",
    "    thresh = threshold_otsu(image)\n",
    "\n",
    "    #create binary image\n",
    "    binary = (image > thresh).astype(np.uint8)\n",
    "\n",
    "    #create a contour\n",
    "    contours, hierarchy = cv2.findContours(binary, 1, 2)\n",
    "\n",
    "    #iterate through contours (for most connected region)\n",
    "    max_area = 0\n",
    "    max_index = None\n",
    "\n",
    "    for j, contour in enumerate(contours):\n",
    "        area = cv2.contourArea(contour)\n",
    "        if area > max_area and 100000 >= max_area:\n",
    "            max_area = area\n",
    "            max_index = j\n",
    "\n",
    "    if 100000 >= max_area >= area_thresh:\n",
    "        cnt = contours[max_index]\n",
    "        (x, y), radius = cv2.minEnclosingCircle(cnt)\n",
    "        centers_tc.append([x, y])\n",
    "        radii.append(radius)\n",
    "        frame_num.append(i)\n",
    "        contours_plot.append(cnt)\n",
    "    else:\n",
    "        print(\"**CENTER NOT FOUND**\")\n",
    "        cnt = contours[max_index]\n",
    "        (x, y), radius = cv2.minEnclosingCircle(cnt)\n",
    "        centers_tc.append([0, 0])\n",
    "        radii.append(radius)\n",
    "        frame_num.append(i)\n",
    "        contours_plot.append(cnt)\n",
    "        \n",
    "centers_tc = np.array(centers_tc)\n",
    "radii = np.array(radii)\n",
    "frame_num = np.array(frame_num)"
   ]
  },
  {
   "cell_type": "markdown",
   "metadata": {},
   "source": [
    "### Center (w/ Gaussian blur)"
   ]
  },
  {
   "cell_type": "code",
   "execution_count": null,
   "metadata": {},
   "outputs": [],
   "source": [
    "c_ymin, c_ymax, c_xmin, c_xmax = 100, 900, 700, 1500"
   ]
  },
  {
   "cell_type": "code",
   "execution_count": 17,
   "metadata": {},
   "outputs": [],
   "source": [
    "im = im_arrayBrightPos0_bs[30]\n",
    "\n",
    "dst = gaussian(im[crop], sigma=50)\n",
    "thresh = np.percentile(dst, 99)\n",
    "binary = (dst>thresh).astype(np.uint8)\n",
    "\n",
    "#create a contour\n",
    "contours, hierarchy = cv2.findContours(binary, 1, 2)"
   ]
  },
  {
   "cell_type": "code",
   "execution_count": 16,
   "metadata": {},
   "outputs": [],
   "source": [
    "cnt = np.array(contours)\n",
    "cnt = np.squeeze(cnt)"
   ]
  },
  {
   "cell_type": "code",
   "execution_count": null,
   "metadata": {},
   "outputs": [],
   "source": [
    "cnt[:,0] = cnt[:,0] + c_xmin\n",
    "cnt[:,0]"
   ]
  },
  {
   "cell_type": "code",
   "execution_count": null,
   "metadata": {},
   "outputs": [],
   "source": [
    "#init empty lists for center vals, radius, frame #\n",
    "centers_tc = []\n",
    "radii = []\n",
    "frame_num = []\n",
    "contours_plot = []\n",
    "\n",
    "#for loop thru MT images\n",
    "for i, im in tqdm(enumerate(im_arrayBrightPos0_bs)):\n",
    "    #crop image for center identification\n",
    "\n",
    "    #gaussian blur\n",
    "    dst = gaussian(im[crop], sigma=50)\n",
    "    thresh = np.percentile(dst, 99)\n",
    "    binary = (dst>thresh).astype(np.uint8)\n",
    "    \n",
    "    #create a contour\n",
    "    contours, hierarchy = cv2.findContours(binary, 1, 2)\n",
    "\n",
    "    #iterate through contours (for most connected region)\n",
    "    max_area = 0\n",
    "    max_index = None\n",
    "\n",
    "    for j, contour in enumerate(contours):\n",
    "        area = cv2.contourArea(contour)\n",
    "        if area > max_area:\n",
    "            max_area = area\n",
    "            max_index = j\n",
    "\n",
    "    if max_area >= area_thresh:\n",
    "        cnt = contours[max_index]\n",
    "        (x, y), radius = cv2.minEnclosingCircle(cnt)\n",
    "        centers_tc.append([x + c_xmin, y + c_ymin])\n",
    "        radii.append(radius)\n",
    "        frame_num.append(i)\n",
    "        \n",
    "        cnt = np.array(cnt)\n",
    "        cnt = np.squeeze(cnt)\n",
    "        cnt[:,0] += c_xmin\n",
    "        cnt[:,1] += c_ymin\n",
    "        contours_plot.append(cnt)\n",
    "        \n",
    "    else:\n",
    "        print(\"**CENTER NOT FOUND**\")\n",
    "        cnt = contours[max_index]\n",
    "        (x, y), radius = cv2.minEnclosingCircle(cnt)\n",
    "        centers_tc.append([0, 0])\n",
    "        radii.append(radius)\n",
    "        frame_num.append(i)\n",
    "        \n",
    "        cnt = np.array(cnt)\n",
    "        cnt = np.squeeze(cnt)\n",
    "        cnt[:,0] += c_xmin\n",
    "        cnt[:,1] += c_ymin\n",
    "        contours_plot.append(cnt)\n",
    "        \n",
    "centers_tc = np.array(centers_tc)\n",
    "radii = np.array(radii)\n",
    "frame_num = np.array(frame_num)"
   ]
  },
  {
   "cell_type": "markdown",
   "metadata": {
    "id": "5W8nOt0gy-5M"
   },
   "source": [
    "Find what the center vcalues are for full sized image"
   ]
  },
  {
   "cell_type": "code",
   "execution_count": null,
   "metadata": {
    "colab": {
     "base_uri": "https://localhost:8080/",
     "height": 287
    },
    "id": "PdjPGkqKzBwo",
    "outputId": "f8a63bb6-6b80-47b5-f46c-01e18e47021c"
   },
   "outputs": [],
   "source": [
    "centers = []\n",
    "for center in centers_tc:\n",
    "    center_x = int(center[0])\n",
    "    center_y = int(center[1])\n",
    "    centers.append([center_x, center_y])\n",
    "centers = np.array(centers)"
   ]
  },
  {
   "cell_type": "code",
   "execution_count": null,
   "metadata": {},
   "outputs": [],
   "source": [
    "#TEST: plotting all centers\n",
    "\n",
    "plt.figure()\n",
    "\n",
    "for i in range(np.shape(centers)[0]):\n",
    "    plt.scatter(centers[i, 0], centers[i, 1], color='r')\n",
    "\n",
    "plt.xlim(800, 1200)\n",
    "plt.ylim(400, 600)"
   ]
  },
  {
   "cell_type": "markdown",
   "metadata": {},
   "source": [
    "## Making video"
   ]
  },
  {
   "cell_type": "code",
   "execution_count": null,
   "metadata": {
    "code_folding": []
   },
   "outputs": [],
   "source": [
    "#TEST: checking ALL FRAMES centers (only run once please)\n",
    "ims = []\n",
    "cmap = cm.get_cmap('viridis')\n",
    "normalizer = Normalize(colorbar_min, colorbar_max)\n",
    "cb_setting = cm.ScalarMappable(norm=normalizer)\n",
    "fig, ax = plt.subplots()\n",
    "\n",
    "ax.set_xlim([200,1700])\n",
    "ax.set_ylim([0,1200])\n",
    "ax.set_title(\"Detecting Border\")\n",
    "\n",
    "camera = cell.Camera(fig)\n",
    "\n",
    "for i in tqdm(range(total_frames)):\n",
    "    im_temp = im_arrayBrightPos0_bs[i]\n",
    "    im = ax.imshow(im_temp,\n",
    "          vmin=np.percentile(im_temp, 0),\n",
    "          vmax=np.percentile(im_temp, 100),\n",
    "          animated=True,\n",
    "          zorder = 0)\n",
    "    \n",
    "    ax.scatter(contours_plot[i][:, 0],\n",
    "               contours_plot[i][:, 1],\n",
    "               color='r',\n",
    "               s=0.2)\n",
    "    ax.scatter(centers_tc[i, 0], centers_tc[i, 1], color='black', s = 0.2)\n",
    "\n",
    "    circle1 = plt.Circle((centers[i, 0], centers[i, 1]),\n",
    "                         radii[i],\n",
    "                         fill=False,\n",
    "                         color='w')\n",
    "    ax.add_patch(circle1)\n",
    "    camera.snap()\n",
    "    \n",
    "animation = camera.animate()\n",
    "tqdm(animation.save(\"movie.mp4\"))"
   ]
  },
  {
   "cell_type": "markdown",
   "metadata": {},
   "source": [
    "## Register"
   ]
  },
  {
   "cell_type": "markdown",
   "metadata": {
    "id": "o-UuRwNh2_ks"
   },
   "source": [
    "Register images"
   ]
  },
  {
   "cell_type": "code",
   "execution_count": null,
   "metadata": {
    "id": "tWDqSB9u282E"
   },
   "outputs": [],
   "source": [
    "#Empty list to record how much CFP (probe) channel is shifted w.r.t. YFP (ATP is bound) channel\n",
    "shifts = []\n",
    "\n",
    "for i in range(total_frames):\n",
    "    shift, error, _ = phase_cross_correlation(\n",
    "        im_arrayYFPPos0_bs[i][tight_crop], im_arrayCFPPos0_bs[i][tight_crop])\n",
    "    shifts.append(shift)\n",
    "\n",
    "shifts = np.array(shifts)"
   ]
  },
  {
   "cell_type": "markdown",
   "metadata": {},
   "source": [
    "## Analyzing Images"
   ]
  },
  {
   "cell_type": "code",
   "execution_count": null,
   "metadata": {},
   "outputs": [],
   "source": [
    "def create_circular_mask(h, w, center=None, radius=None):\n",
    "\n",
    "    if center is None: # use the middle of the image\n",
    "        center = (int(w/2), int(h/2))\n",
    "    if radius is None: # use the smallest distance between the center and image walls\n",
    "        radius = min(center[0], center[1], w-center[0], h-center[1])\n",
    "\n",
    "    Y, X = np.ogrid[:h, :w]\n",
    "    dist_from_center = np.sqrt((X - center[0])**2 + (Y-center[1])**2)\n",
    "        \n",
    "    mask = dist_from_center <= radius\n",
    "    return mask"
   ]
  },
  {
   "cell_type": "code",
   "execution_count": null,
   "metadata": {
    "code_folding": [],
    "colab": {
     "base_uri": "https://localhost:8080/",
     "height": 314
    },
    "id": "-Fz2gL9m4FOr",
    "outputId": "2403955f-bc93-4e84-dc71-248a1272c520"
   },
   "outputs": [],
   "source": [
    "#cropped aster images\n",
    "im_arrayYFPPos0_plot = []\n",
    "im_arrayCFPPos0_plot = []\n",
    "im_arrayBrightPos0_plot = []\n",
    "ratios_plot = []\n",
    "\n",
    "#Traces for asters\n",
    "YFP_trace_pts = []\n",
    "CFP_trace_pts = []\n",
    "MT_trace_pts = []\n",
    "ratios_trace_pts = []\n",
    "\n",
    "for j in range(T_span):\n",
    "\n",
    "    i = j + T_min\n",
    "    #Set the window parameters\n",
    "    i_min = int(centers[i][0] - winsize)\n",
    "    i_max = int(centers[i][0] + winsize)\n",
    "    j_min = int(centers[i][1] - winsize)\n",
    "    j_max = int(centers[i][1] + winsize)\n",
    "\n",
    "    #demi-variable for shift\n",
    "    shift_j = int(shifts[i][0])\n",
    "    shift_i = int(shifts[i][1])\n",
    "\n",
    "    #set YFP and CFP windows\n",
    "    winYFP = np.s_[j_min:j_max, i_min:i_max]\n",
    "    winCFP = np.s_[(j_min - shift_j):(j_max - shift_j),\n",
    "                   (i_min - shift_i):(i_max - shift_i)]\n",
    "\n",
    "    #Append the plotting images\n",
    "    [h, w] = np.shape(im_arrayYFPPos0_bs[i])\n",
    "    mask = 1 * create_circular_mask(h,w,centers[i],thickness) \n",
    "    \n",
    "    im_arrayYFPPos0_plot.append(im_arrayYFPPos0_bs[i][winYFP])\n",
    "    im_arrayCFPPos0_plot.append(im_arrayCFPPos0_bs[i][winCFP])\n",
    "    im_arrayBrightPos0_plot.append(im_arrayBrightPos0_bs[i][winCFP])\n",
    "    #for now MT same as CFP shifts, running the shift cell seems closest to CFP\n",
    "\n",
    "    ratio = im_arrayYFPPos0_bs[i][winYFP] / im_arrayCFPPos0_bs[i][winCFP]\n",
    "    ratios_plot.append(ratio)\n",
    "\n",
    "    #Define a narrow srip to take trace values\n",
    "    YFP_trace = im_arrayYFPPos0_plot[j][(winsize - thickness):(winsize +\n",
    "                                                               thickness), :]\n",
    "    CFP_trace = im_arrayCFPPos0_plot[j][(winsize - thickness):(winsize +\n",
    "                                                               thickness), :]\n",
    "    MT_trace = im_arrayBrightPos0_plot[j][(winsize - thickness):(winsize +\n",
    "                                                                 thickness), :]\n",
    "    ratios_trace = ratios_plot[j][(winsize - thickness):(winsize +\n",
    "                                                         thickness), :]\n",
    "\n",
    "    #average the strips\n",
    "    YFP_trace_pts.append(np.average(YFP_trace, axis=0))\n",
    "    CFP_trace_pts.append(np.average(CFP_trace, axis=0))\n",
    "    MT_trace_pts.append(np.average(MT_trace, axis=0))\n",
    "    ratios_trace_pts.append(np.average(ratios_trace, axis=0))\n",
    "\n",
    "im_arrayYFPPos0_plot = np.array(im_arrayYFPPos0_plot)\n",
    "im_arrayCFPPos0_plot = np.array(im_arrayCFPPos0_plot)\n",
    "im_arrayBrightPos0_plot = np.array(im_arrayBrightPos0_plot)\n",
    "ratios_plot = np.array(ratios_plot)\n",
    "\n",
    "YFP_trace_pts = np.array(YFP_trace_pts)\n",
    "CFP_trace_pts = np.array(CFP_trace_pts)\n",
    "MT_trace_pts = np.array(MT_trace_pts)\n",
    "ratios_trace_pts = np.array(ratios_trace_pts)\n",
    "\n",
    "pos_xaxis = np.linspace(-winsize, winsize, 2 * winsize)\n",
    "actual_frame = np.arange(T_min * scale, (T_span + T_min) * scale, scale) #not sure about last param"
   ]
  },
  {
   "cell_type": "markdown",
   "metadata": {},
   "source": [
    "### Plotting analysis"
   ]
  },
  {
   "cell_type": "code",
   "execution_count": null,
   "metadata": {},
   "outputs": [],
   "source": [
    "fig, ax = plt.subplots(figsize=(6, 4.3))\n",
    "plt.gca().set_prop_cycle(\n",
    "    plt.cycler(\n",
    "        'color',\n",
    "        plt.cm.gist_earth(np.linspace(0.1, 0.80, len(ratios_trace_pts)))))\n",
    "\n",
    "for i, trace in enumerate(ratios_trace_pts):\n",
    "    plt.plot(pos_xaxis, trace, label=str(actual_frame[i] * 20))\n",
    "#     cmap = cm.get_cmap('')\n",
    "#     normalizer = Normalize(colorbar_min, colorbar_max)\n",
    "#     cb_setting = cm.ScalarMappable(norm=normalizer)\n",
    "#     plt.colorbar()\n",
    "    plt.legend(bbox_to_anchor=(1, 1), loc=\"upper left\", title='Time (s)')\n",
    "\n",
    "plt.xlabel('Distance from aster center ($\\mu m$)')\n",
    "plt.ylabel('ATP Concentration (A.U.)')\n",
    "ax.set_facecolor('#E5E0D5')"
   ]
  },
  {
   "cell_type": "code",
   "execution_count": null,
   "metadata": {},
   "outputs": [],
   "source": [
    "\n",
    "\n",
    "#TEST: checking ALL FRAMES centers (only run once please)\n",
    "ims = []\n",
    "cmap = cm.get_cmap('viridis')\n",
    "normalizer = Normalize(colorbar_min, colorbar_max)\n",
    "cb_setting = cm.ScalarMappable(norm=normalizer)\n",
    "fig, ax = plt.subplots()\n",
    "\n",
    "ax.set_xlim([200,1700])\n",
    "ax.set_ylim([0,1200])\n",
    "ax.set_title(\"Detecting Border\")\n",
    "\n",
    "camera = cell.Camera(fig)\n",
    "\n",
    "for i in range(total_frames):\n",
    "    im_temp = im_arrayBrightPos0_bs[i]\n",
    "    im = ax.imshow(im_temp,\n",
    "          vmin=np.percentile(im_temp, 0),\n",
    "          vmax=np.percentile(im_temp, 100),\n",
    "          animated=True,\n",
    "          zorder = 0)\n",
    "    \n",
    "    ax.scatter(contours_plot[i][:, 0, 0],\n",
    "               contours_plot[i][:, 0, 1],\n",
    "               color='r',\n",
    "               s=0.3)\n",
    "    ax.scatter(centers_tc[i, 0], centers_tc[i, 1], color='black')\n",
    "\n",
    "    circle1 = plt.Circle((centers[i, 0], centers[i, 1]),\n",
    "                         radii[i],\n",
    "                         fill=False,\n",
    "                         color='w')\n",
    "    ax.add_patch(circle1)\n",
    "    camera.snap()\n",
    "    \n",
    "animation = camera.animate()\n",
    "animation.save(\"movie.mp4\")\n"
   ]
  },
  {
   "cell_type": "code",
   "execution_count": null,
   "metadata": {},
   "outputs": [],
   "source": [
    "from PIL import Image, ImageDraw\n",
    "import io"
   ]
  },
  {
   "cell_type": "code",
   "execution_count": null,
   "metadata": {},
   "outputs": [],
   "source": [
    "images = []\n",
    "   \n",
    "for i in range(0, 50000, 1000):\n",
    "    fig = plt.figure()\n",
    "    plt.imshow(ths_big[:,:,i], vmin = 0, vmax = 1, cmap = 'Greys_r' ,alpha=1)\n",
    "    plt.imshow(zs_big[:,:,i], vmin = 0, vmax = 1, cmap = 'Blues', alpha=0.5)\n",
    "    plt.imshow(exclusion, vmin = 0, vmax = 1, cmap = 'Greys')\n",
    "   \n",
    "    img_buf = io.BytesIO()\n",
    "    plt.savefig(img_buf, format='png')\n",
    "    im = Image.open(img_buf)\n",
    "    images.append(im)\n",
    "    plt.close(fig)\n",
    "    \n",
    "images[0].save('LarsenC.gif', save_all=True, append_images=images[1:], optimize=False, duration=140, loop=0)"
   ]
  }
 ],
 "metadata": {
  "colab": {
   "collapsed_sections": [],
   "name": "Copy of Aster_Data_Analysis_2022-06-16.ipynb",
   "provenance": []
  },
  "kernelspec": {
   "display_name": "Python 3 (ipykernel)",
   "language": "python",
   "name": "python3"
  },
  "language_info": {
   "codemirror_mode": {
    "name": "ipython",
    "version": 3
   },
   "file_extension": ".py",
   "mimetype": "text/x-python",
   "name": "python",
   "nbconvert_exporter": "python",
   "pygments_lexer": "ipython3",
   "version": "3.8.11"
  },
  "latex_envs": {
   "LaTeX_envs_menu_present": true,
   "autoclose": false,
   "autocomplete": true,
   "bibliofile": "biblio.bib",
   "cite_by": "apalike",
   "current_citInitial": 1,
   "eqLabelWithNumbers": true,
   "eqNumInitial": 1,
   "hotkeys": {
    "equation": "Ctrl-E",
    "itemize": "Ctrl-I"
   },
   "labels_anchors": false,
   "latex_user_defs": false,
   "report_style_numbering": false,
   "user_envs_cfg": false
  },
  "toc": {
   "base_numbering": 1,
   "nav_menu": {},
   "number_sections": true,
   "sideBar": true,
   "skip_h1_title": false,
   "title_cell": "Table of Contents",
   "title_sidebar": "Contents",
   "toc_cell": false,
   "toc_position": {
    "height": "calc(100% - 180px)",
    "left": "10px",
    "top": "150px",
    "width": "193px"
   },
   "toc_section_display": true,
   "toc_window_display": true
  }
 },
 "nbformat": 4,
 "nbformat_minor": 4
}
