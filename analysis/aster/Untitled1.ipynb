{
 "cells": [
  {
   "cell_type": "markdown",
   "id": "df8b6c75-094e-4ec2-b2d2-78147ee926db",
   "metadata": {},
   "source": [
    "Trying motor calibration with the edges and first frames of motor movies where the background cocnentration should be uniform still"
   ]
  },
  {
   "cell_type": "code",
   "execution_count": null,
   "id": "abbc85f1-1d71-467c-b027-cd0854abcbef",
   "metadata": {},
   "outputs": [],
   "source": []
  }
 ],
 "metadata": {
  "kernelspec": {
   "display_name": "Python 3 (ipykernel)",
   "language": "python",
   "name": "python3"
  },
  "language_info": {
   "codemirror_mode": {
    "name": "ipython",
    "version": 3
   },
   "file_extension": ".py",
   "mimetype": "text/x-python",
   "name": "python",
   "nbconvert_exporter": "python",
   "pygments_lexer": "ipython3",
   "version": "3.13.2"
  }
 },
 "nbformat": 4,
 "nbformat_minor": 5
}
