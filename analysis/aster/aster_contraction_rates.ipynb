{
 "cells": [
  {
   "cell_type": "markdown",
   "metadata": {},
   "source": [
    "Python notebook to extract aster contraction rates from motor fluorescence channel."
   ]
  },
  {
   "cell_type": "markdown",
   "metadata": {},
   "source": [
    "## Imports"
   ]
  },
  {
   "cell_type": "code",
   "execution_count": 1,
   "metadata": {},
   "outputs": [
    {
     "data": {
      "text/html": [
       "<style>\n",
       "        .bk-notebook-logo {\n",
       "            display: block;\n",
       "            width: 20px;\n",
       "            height: 20px;\n",
       "            background-image: url(data:image/png;base64,iVBORw0KGgoAAAANSUhEUgAAABQAAAAUCAYAAACNiR0NAAAABHNCSVQICAgIfAhkiAAAAAlwSFlzAAALEgAACxIB0t1+/AAAABx0RVh0U29mdHdhcmUAQWRvYmUgRmlyZXdvcmtzIENTNui8sowAAAOkSURBVDiNjZRtaJVlGMd/1/08zzln5zjP1LWcU9N0NkN8m2CYjpgQYQXqSs0I84OLIC0hkEKoPtiH3gmKoiJDU7QpLgoLjLIQCpEsNJ1vqUOdO7ppbuec5+V+rj4ctwzd8IIbbi6u+8f1539dt3A78eXC7QizUF7gyV1fD1Yqg4JWz84yffhm0qkFqBogB9rM8tZdtwVsPUhWhGcFJngGeWrPzHm5oaMmkfEg1usvLFyc8jLRqDOMru7AyC8saQr7GG7f5fvDeH7Ej8CM66nIF+8yngt6HWaKh7k49Soy9nXurCi1o3qUbS3zWfrYeQDTB/Qj6kX6Ybhw4B+bOYoLKCC9H3Nu/leUTZ1JdRWkkn2ldcCamzrcf47KKXdAJllSlxAOkRgyHsGC/zRday5Qld9DyoM4/q/rUoy/CXh3jzOu3bHUVZeU+DEn8FInkPBFlu3+nW3Nw0mk6vCDiWg8CeJaxEwuHS3+z5RgY+YBR6V1Z1nxSOfoaPa4LASWxxdNp+VWTk7+4vzaou8v8PN+xo+KY2xsw6une2frhw05CTYOmQvsEhjhWjn0bmXPjpE1+kplmmkP3suftwTubK9Vq22qKmrBhpY4jvd5afdRA3wGjFAgcnTK2s4hY0/GPNIb0nErGMCRxWOOX64Z8RAC4oCXdklmEvcL8o0BfkNK4lUg9HTl+oPlQxdNo3Mg4Nv175e/1LDGzZen30MEjRUtmXSfiTVu1kK8W4txyV6BMKlbgk3lMwYCiusNy9fVfvvwMxv8Ynl6vxoByANLTWplvuj/nF9m2+PDtt1eiHPBr1oIfhCChQMBw6Aw0UulqTKZdfVvfG7VcfIqLG9bcldL/+pdWTLxLUy8Qq38heUIjh4XlzZxzQm19lLFlr8vdQ97rjZVOLf8nclzckbcD4wxXMidpX30sFd37Fv/GtwwhzhxGVAprjbg0gCAEeIgwCZyTV2Z1REEW8O4py0wsjeloKoMr6iCY6dP92H6Vw/oTyICIthibxjm/DfN9lVz8IqtqKYLUXfoKVMVQVVJOElGjrnnUt9T9wbgp8AyYKaGlqingHZU/uG2NTZSVqwHQTWkx9hxjkpWDaCg6Ckj5qebgBVbT3V3NNXMSiWSDdGV3hrtzla7J+duwPOToIg42ChPQOQjspnSlp1V+Gjdged7+8UN5CRAV7a5EdFNwCjEaBR27b3W890TE7g24NAP/mMDXRWrGoFPQI9ls/MWO2dWFAar/xcOIImbbpA3zgAAAABJRU5ErkJggg==);\n",
       "        }\n",
       "    </style>\n",
       "    <div>\n",
       "        <a href=\"https://bokeh.org\" target=\"_blank\" class=\"bk-notebook-logo\"></a>\n",
       "        <span id=\"aa68f1f6-d821-41de-a450-b6d2e8fe4c20\">Loading BokehJS ...</span>\n",
       "    </div>\n"
      ]
     },
     "metadata": {},
     "output_type": "display_data"
    },
    {
     "data": {
      "application/javascript": "(function(root) {\n  function now() {\n    return new Date();\n  }\n\n  const force = true;\n\n  if (typeof root._bokeh_onload_callbacks === \"undefined\" || force === true) {\n    root._bokeh_onload_callbacks = [];\n    root._bokeh_is_loading = undefined;\n  }\n\nconst JS_MIME_TYPE = 'application/javascript';\n  const HTML_MIME_TYPE = 'text/html';\n  const EXEC_MIME_TYPE = 'application/vnd.bokehjs_exec.v0+json';\n  const CLASS_NAME = 'output_bokeh rendered_html';\n\n  /**\n   * Render data to the DOM node\n   */\n  function render(props, node) {\n    const script = document.createElement(\"script\");\n    node.appendChild(script);\n  }\n\n  /**\n   * Handle when an output is cleared or removed\n   */\n  function handleClearOutput(event, handle) {\n    const cell = handle.cell;\n\n    const id = cell.output_area._bokeh_element_id;\n    const server_id = cell.output_area._bokeh_server_id;\n    // Clean up Bokeh references\n    if (id != null && id in Bokeh.index) {\n      Bokeh.index[id].model.document.clear();\n      delete Bokeh.index[id];\n    }\n\n    if (server_id !== undefined) {\n      // Clean up Bokeh references\n      const cmd_clean = \"from bokeh.io.state import curstate; print(curstate().uuid_to_server['\" + server_id + \"'].get_sessions()[0].document.roots[0]._id)\";\n      cell.notebook.kernel.execute(cmd_clean, {\n        iopub: {\n          output: function(msg) {\n            const id = msg.content.text.trim();\n            if (id in Bokeh.index) {\n              Bokeh.index[id].model.document.clear();\n              delete Bokeh.index[id];\n            }\n          }\n        }\n      });\n      // Destroy server and session\n      const cmd_destroy = \"import bokeh.io.notebook as ion; ion.destroy_server('\" + server_id + \"')\";\n      cell.notebook.kernel.execute(cmd_destroy);\n    }\n  }\n\n  /**\n   * Handle when a new output is added\n   */\n  function handleAddOutput(event, handle) {\n    const output_area = handle.output_area;\n    const output = handle.output;\n\n    // limit handleAddOutput to display_data with EXEC_MIME_TYPE content only\n    if ((output.output_type != \"display_data\") || (!Object.prototype.hasOwnProperty.call(output.data, EXEC_MIME_TYPE))) {\n      return\n    }\n\n    const toinsert = output_area.element.find(\".\" + CLASS_NAME.split(' ')[0]);\n\n    if (output.metadata[EXEC_MIME_TYPE][\"id\"] !== undefined) {\n      toinsert[toinsert.length - 1].firstChild.textContent = output.data[JS_MIME_TYPE];\n      // store reference to embed id on output_area\n      output_area._bokeh_element_id = output.metadata[EXEC_MIME_TYPE][\"id\"];\n    }\n    if (output.metadata[EXEC_MIME_TYPE][\"server_id\"] !== undefined) {\n      const bk_div = document.createElement(\"div\");\n      bk_div.innerHTML = output.data[HTML_MIME_TYPE];\n      const script_attrs = bk_div.children[0].attributes;\n      for (let i = 0; i < script_attrs.length; i++) {\n        toinsert[toinsert.length - 1].firstChild.setAttribute(script_attrs[i].name, script_attrs[i].value);\n        toinsert[toinsert.length - 1].firstChild.textContent = bk_div.children[0].textContent\n      }\n      // store reference to server id on output_area\n      output_area._bokeh_server_id = output.metadata[EXEC_MIME_TYPE][\"server_id\"];\n    }\n  }\n\n  function register_renderer(events, OutputArea) {\n\n    function append_mime(data, metadata, element) {\n      // create a DOM node to render to\n      const toinsert = this.create_output_subarea(\n        metadata,\n        CLASS_NAME,\n        EXEC_MIME_TYPE\n      );\n      this.keyboard_manager.register_events(toinsert);\n      // Render to node\n      const props = {data: data, metadata: metadata[EXEC_MIME_TYPE]};\n      render(props, toinsert[toinsert.length - 1]);\n      element.append(toinsert);\n      return toinsert\n    }\n\n    /* Handle when an output is cleared or removed */\n    events.on('clear_output.CodeCell', handleClearOutput);\n    events.on('delete.Cell', handleClearOutput);\n\n    /* Handle when a new output is added */\n    events.on('output_added.OutputArea', handleAddOutput);\n\n    /**\n     * Register the mime type and append_mime function with output_area\n     */\n    OutputArea.prototype.register_mime_type(EXEC_MIME_TYPE, append_mime, {\n      /* Is output safe? */\n      safe: true,\n      /* Index of renderer in `output_area.display_order` */\n      index: 0\n    });\n  }\n\n  // register the mime type if in Jupyter Notebook environment and previously unregistered\n  if (root.Jupyter !== undefined) {\n    const events = require('base/js/events');\n    const OutputArea = require('notebook/js/outputarea').OutputArea;\n\n    if (OutputArea.prototype.mime_types().indexOf(EXEC_MIME_TYPE) == -1) {\n      register_renderer(events, OutputArea);\n    }\n  }\n  if (typeof (root._bokeh_timeout) === \"undefined\" || force === true) {\n    root._bokeh_timeout = Date.now() + 5000;\n    root._bokeh_failed_load = false;\n  }\n\n  const NB_LOAD_WARNING = {'data': {'text/html':\n     \"<div style='background-color: #fdd'>\\n\"+\n     \"<p>\\n\"+\n     \"BokehJS does not appear to have successfully loaded. If loading BokehJS from CDN, this \\n\"+\n     \"may be due to a slow or bad network connection. Possible fixes:\\n\"+\n     \"</p>\\n\"+\n     \"<ul>\\n\"+\n     \"<li>re-rerun `output_notebook()` to attempt to load from CDN again, or</li>\\n\"+\n     \"<li>use INLINE resources instead, as so:</li>\\n\"+\n     \"</ul>\\n\"+\n     \"<code>\\n\"+\n     \"from bokeh.resources import INLINE\\n\"+\n     \"output_notebook(resources=INLINE)\\n\"+\n     \"</code>\\n\"+\n     \"</div>\"}};\n\n  function display_loaded() {\n    const el = document.getElementById(\"aa68f1f6-d821-41de-a450-b6d2e8fe4c20\");\n    if (el != null) {\n      el.textContent = \"BokehJS is loading...\";\n    }\n    if (root.Bokeh !== undefined) {\n      if (el != null) {\n        el.textContent = \"BokehJS \" + root.Bokeh.version + \" successfully loaded.\";\n      }\n    } else if (Date.now() < root._bokeh_timeout) {\n      setTimeout(display_loaded, 100)\n    }\n  }\n\n  function run_callbacks() {\n    try {\n      root._bokeh_onload_callbacks.forEach(function(callback) {\n        if (callback != null)\n          callback();\n      });\n    } finally {\n      delete root._bokeh_onload_callbacks\n    }\n    console.debug(\"Bokeh: all callbacks have finished\");\n  }\n\n  function load_libs(css_urls, js_urls, callback) {\n    if (css_urls == null) css_urls = [];\n    if (js_urls == null) js_urls = [];\n\n    root._bokeh_onload_callbacks.push(callback);\n    if (root._bokeh_is_loading > 0) {\n      console.debug(\"Bokeh: BokehJS is being loaded, scheduling callback at\", now());\n      return null;\n    }\n    if (js_urls == null || js_urls.length === 0) {\n      run_callbacks();\n      return null;\n    }\n    console.debug(\"Bokeh: BokehJS not loaded, scheduling load and callback at\", now());\n    root._bokeh_is_loading = css_urls.length + js_urls.length;\n\n    function on_load() {\n      root._bokeh_is_loading--;\n      if (root._bokeh_is_loading === 0) {\n        console.debug(\"Bokeh: all BokehJS libraries/stylesheets loaded\");\n        run_callbacks()\n      }\n    }\n\n    function on_error(url) {\n      console.error(\"failed to load \" + url);\n    }\n\n    for (let i = 0; i < css_urls.length; i++) {\n      const url = css_urls[i];\n      const element = document.createElement(\"link\");\n      element.onload = on_load;\n      element.onerror = on_error.bind(null, url);\n      element.rel = \"stylesheet\";\n      element.type = \"text/css\";\n      element.href = url;\n      console.debug(\"Bokeh: injecting link tag for BokehJS stylesheet: \", url);\n      document.body.appendChild(element);\n    }\n\n    for (let i = 0; i < js_urls.length; i++) {\n      const url = js_urls[i];\n      const element = document.createElement('script');\n      element.onload = on_load;\n      element.onerror = on_error.bind(null, url);\n      element.async = false;\n      element.src = url;\n      console.debug(\"Bokeh: injecting script tag for BokehJS library: \", url);\n      document.head.appendChild(element);\n    }\n  };\n\n  function inject_raw_css(css) {\n    const element = document.createElement(\"style\");\n    element.appendChild(document.createTextNode(css));\n    document.body.appendChild(element);\n  }\n\n  const js_urls = [\"https://cdn.bokeh.org/bokeh/release/bokeh-3.2.2.min.js\", \"https://cdn.bokeh.org/bokeh/release/bokeh-gl-3.2.2.min.js\", \"https://cdn.bokeh.org/bokeh/release/bokeh-widgets-3.2.2.min.js\", \"https://cdn.bokeh.org/bokeh/release/bokeh-tables-3.2.2.min.js\", \"https://cdn.bokeh.org/bokeh/release/bokeh-mathjax-3.2.2.min.js\"];\n  const css_urls = [];\n\n  const inline_js = [    function(Bokeh) {\n      Bokeh.set_log_level(\"info\");\n    },\nfunction(Bokeh) {\n    }\n  ];\n\n  function run_inline_js() {\n    if (root.Bokeh !== undefined || force === true) {\n          for (let i = 0; i < inline_js.length; i++) {\n      inline_js[i].call(root, root.Bokeh);\n    }\nif (force === true) {\n        display_loaded();\n      }} else if (Date.now() < root._bokeh_timeout) {\n      setTimeout(run_inline_js, 100);\n    } else if (!root._bokeh_failed_load) {\n      console.log(\"Bokeh: BokehJS failed to load within specified timeout.\");\n      root._bokeh_failed_load = true;\n    } else if (force !== true) {\n      const cell = $(document.getElementById(\"aa68f1f6-d821-41de-a450-b6d2e8fe4c20\")).parents('.cell').data().cell;\n      cell.output_area.append_execute_result(NB_LOAD_WARNING)\n    }\n  }\n\n  if (root._bokeh_is_loading === 0) {\n    console.debug(\"Bokeh: BokehJS loaded, going straight to plotting\");\n    run_inline_js();\n  } else {\n    load_libs(css_urls, js_urls, function() {\n      console.debug(\"Bokeh: BokehJS plotting callback run at\", now());\n      run_inline_js();\n    });\n  }\n}(window));",
      "application/vnd.bokehjs_load.v0+json": ""
     },
     "metadata": {},
     "output_type": "display_data"
    }
   ],
   "source": [
    "#for reading files\n",
    "import glob\n",
    "\n",
    "#math computation and data organization\n",
    "import numpy as np\n",
    "import scipy\n",
    "import pandas as pd\n",
    "\n",
    "# For loading bars\n",
    "from tqdm.notebook import tqdm as tqdm\n",
    "\n",
    "#For image plotting\n",
    "import skimage.io\n",
    "\n",
    "#For identifying aster center\n",
    "from skimage.filters import threshold_otsu, gaussian, threshold_mean\n",
    "from skimage.measure import regionprops\n",
    "import cv2\n",
    "\n",
    "#for fitting\n",
    "from lmfit import minimize, Parameters, fit_report\n",
    "\n",
    "#for image registration\n",
    "from skimage.registration import phase_cross_correlation\n",
    "import os\n",
    "\n",
    "#Matplotlib plotting packages\n",
    "import matplotlib.pyplot as plt\n",
    "from matplotlib.colors import Normalize\n",
    "import matplotlib.colors as mcolors\n",
    "import matplotlib.cm as cm\n",
    "from mpl_toolkits.axes_grid1 import make_axes_locatable\n",
    "from matplotlib import patches\n",
    "from matplotlib import gridspec\n",
    "\n",
    "#Movie\n",
    "import celluloid as cell\n",
    "import matplotlib.animation as animation\n",
    "\n",
    "#for saving data\n",
    "import csv\n",
    "\n",
    "#custom analysis packages\n",
    "import aster_packages as ap\n",
    "\n",
    "# impory copy\n",
    "import copy\n",
    "\n",
    "import bokeh\n",
    "from bokeh.layouts import column, row\n",
    "from bokeh.models import CustomJS, Slider\n",
    "from bokeh.plotting import ColumnDataSource, figure, show\n",
    "bokeh.io.output_notebook()\n"
   ]
  },
  {
   "cell_type": "markdown",
   "metadata": {},
   "source": [
    "Figure design based on rp package"
   ]
  },
  {
   "cell_type": "code",
   "execution_count": 2,
   "metadata": {},
   "outputs": [],
   "source": [
    "#!/usr/bin/env python\n",
    "# coding: utf-8\n",
    "\n",
    "# In[ ]:\n",
    "\n",
    "# Figure Formatting\n",
    "import matplotlib.pyplot as plt\n",
    "import matplotlib as mpl\n",
    "\n",
    "figwidth = 4\n",
    "plt.rcParams[\"figure.figsize\"] = [figwidth, figwidth * 1105 / 1920\n",
    "                                  ]  # figure size in inches\n",
    "plt.rcParams[\"lines.linewidth\"] = 2  # line width in points\n",
    "plt.rcParams[\"font.family\"] = \"serif\"\n",
    "plt.rcParams[\"font.serif\"] = \"Times\"\n",
    "\n",
    "plt.rcParams[\"font.style\"] = \"normal\"\n",
    "plt.rcParams[\"font.weight\"] = \"heavy\" #chick this later maybe the source of weirdness in labels (ANA READ THIS)\n",
    "plt.rcParams[\"font.size\"] = 13.0\n",
    "plt.rcParams[\"axes.labelweight\"] = \"bold\"  # weight of the x and y labels\n",
    "plt.rcParams[\"axes.spines.right\"] = True\n",
    "plt.rcParams[\n",
    "    \"axes.formatter.useoffset\"] = True  # If True, the tick label formatter\n",
    "plt.rcParams[\"xtick.major.size\"] = 10  # major tick size in points\n",
    "plt.rcParams[\"xtick.minor.size\"] = 4  # minor tick size in points\n",
    "plt.rcParams[\"xtick.direction\"] = \"in\"  # direction in, out, or inout\n",
    "plt.rcParams[\"xtick.minor.visible\"] = True\n",
    "plt.rcParams[\"ytick.major.size\"] = 10  # major tick size in points\n",
    "plt.rcParams[\"ytick.minor.size\"] = 4  # minor tick size in points\n",
    "plt.rcParams[\"ytick.direction\"] = \"in\"  # direction in, out, or inout\n",
    "plt.rcParams[\"ytick.minor.visible\"] = True\n",
    "plt.rcParams[\"legend.fontsize\"] = 10\n",
    "plt.rcParams[\n",
    "    \"legend.labelspacing\"] = 0.1  # the vertical space between the legend entries in fraction of fontsize\n",
    "plt.rcParams[\"legend.shadow\"] = False\n",
    "plt.rcParams[\n",
    "    \"legend.frameon\"] = True  # whether or not to draw a frame around legend\n",
    "plt.rcParams[\n",
    "    'axes.unicode_minus'] = False  # fix glyph error by using normal hyphens\n",
    "plt.rcParams.update({\"text.usetex\": True, \n",
    "             \"font.family\": \"Times\"})\n",
    "mpl.rc(\"figure\", dpi=200)\n",
    "\n",
    "color_background = '#E5E0D5'"
   ]
  },
  {
   "cell_type": "markdown",
   "metadata": {},
   "source": [
    "## Read Data"
   ]
  },
  {
   "cell_type": "code",
   "execution_count": 22,
   "metadata": {},
   "outputs": [],
   "source": [
    "# Provide filepath\n",
    "datapath = '../../data/aster/'\n",
    "datafolders = ['20sInterval_0.6uM_NCD_dimers_500uMATP_1.3uM_tubulin_2.8uM_A81D_2_MMStack_Pos1.ome.tif']\n",
    "\n",
    "#Choose the channels of interest (Write in the order of bound, unbound, motor, mt)\n",
    "channel_list = ['405', '480', 'Cherry']\n",
    "channel_id = ['bnd', 'unbnd', 'mot'] #Don't change these names\n",
    "\n",
    "#included frames\n",
    "included_frames = '*ome*.tif'\n"
   ]
  },
  {
   "cell_type": "code",
   "execution_count": 23,
   "metadata": {},
   "outputs": [
    {
     "name": "stderr",
     "output_type": "stream",
     "text": [
      "OME series: not an ome-tiff master file\n"
     ]
    }
   ],
   "source": [
    "i = 0; \n",
    "images = ap.file_to_image([datapath + datafolders[i]]); \n",
    "bound_images = images[0, :, :, :, 0]; # Assuming last channel is motors from checking in Fiji - crosscheck.\n",
    "unbound_images = images[0, :, :, :, 1]; # Assuming last channel is motors from checking in Fiji - crosscheck.\n",
    "cherry_motor_images = images[0, :, :, :, 2]; # Assuming last channel is motors from checking in Fiji - crosscheck."
   ]
  },
  {
   "cell_type": "code",
   "execution_count": 5,
   "metadata": {},
   "outputs": [],
   "source": [
    "normalise_image = lambda image: (image - np.amin(image))/(np.amax(image) - np.amin(image))"
   ]
  },
  {
   "cell_type": "markdown",
   "metadata": {},
   "source": [
    "## Extract contraction rates"
   ]
  },
  {
   "cell_type": "markdown",
   "metadata": {},
   "source": [
    "### Function to extract area of a single motor channel image"
   ]
  },
  {
   "cell_type": "code",
   "execution_count": 6,
   "metadata": {},
   "outputs": [],
   "source": [
    "def motor_channel_contour(binary): \n",
    "   \n",
    "    # Create a contour\n",
    "    contours, hierarchy = cv2.findContours(binary, 1, 2)\n",
    "\n",
    "    #iterate through contours (for most connected region)\n",
    "    max_area = 0\n",
    "    max_index = None\n",
    "\n",
    "    #Find the contour that encomppasses the largest area, this will be the best center circle guess\n",
    "    for j, contour in enumerate(contours):\n",
    "        area = cv2.contourArea(contour)\n",
    "        if area > max_area:\n",
    "            max_area = area\n",
    "            max_index = j\n",
    "\n",
    "    (x,y),radius = cv2.minEnclosingCircle(contours[max_index])\n",
    "    center = (int(x),int(y))\n",
    "    radius = int(radius)\n",
    "\n",
    "    print(\"radius: \", radius)\n",
    "    \n",
    "    return center, radius\n",
    "\n",
    "\n",
    "def preprocess_image(microscopy_image, microscopy_image0, isPlot = False): \n",
    "    # Create square mask\n",
    "    square_mask = np.zeros(cherry_motor_images[0].shape)\n",
    "    centre_x = int(square_mask.shape[0]/2)\n",
    "    centre_y = int(square_mask.shape[1]/2)\n",
    "    half_length = 400; \n",
    "    square_mask[centre_x-half_length : centre_x + half_length, centre_y-half_length : centre_y+half_length ] = 1; \n",
    "\n",
    "    # Copy images and apply square mask\n",
    "    image = copy.deepcopy(microscopy_image*square_mask); \n",
    "    image0 = copy.deepcopy(microscopy_image0*square_mask); \n",
    "    \n",
    "    difference_image = (microscopy_image - microscopy_image0)*square_mask\n",
    "    thresh1 = np.percentile(difference_image, q = 0.01); \n",
    "    thresh2 = np.percentile(difference_image, q = 99);\n",
    "\n",
    "    difference_image[difference_image < thresh1] = thresh1; \n",
    "    difference_image[difference_image > thresh2] = thresh2; \n",
    "\n",
    "    difference_image = normalise_image(difference_image)\n",
    "\n",
    "    plt.figure()\n",
    "    plt.imshow(difference_image)\n",
    "    plt.title(\"Difference Image\")\n",
    "\n",
    "\n",
    "    # if isPlot:\n",
    "    #     plt.imshow(image)\n",
    "    #     plt.title(\"Raw Image\")\n",
    "\n",
    "    thresh1 = np.percentile(image, q = 0.01); \n",
    "    thresh2 = np.percentile(image, q = 99); \n",
    "    image[image < thresh1] = thresh1; \n",
    "    image[image > thresh2] = thresh2; \n",
    "    # image = normalise_image(image); \n",
    "\n",
    "    thresh1 = np.percentile(image0, q = 0.01); \n",
    "    thresh2 = np.percentile(image0, q = 99); \n",
    "    image0[image0 < thresh1] = thresh1; \n",
    "    image0[image0 > thresh2] = thresh2; \n",
    "    # image0 = normalise_image(image0); \n",
    "\n",
    "    if isPlot:\n",
    "        fig2, ax2 = plt.subplots() # note we must use plt.subplots, not plt.subplot\n",
    "        plt.imshow(normalise_image(image))\n",
    "        plt.title(\"Threshold Corrected and Normalised\")\n",
    "\n",
    "        # fig2, ax2 = plt.subplots() # note we must use plt.subplots, not plt.subplot\n",
    "        # plt.imshow(scipy.ndimage.gaussian_filter(image, 20))\n",
    "        # plt.title(\"Gaussian smoothed\")\n",
    "\n",
    "        # fig2, ax2 = plt.subplots() # note we must use plt.subplots, not plt.subplot\n",
    "        # plt.imshow(image0)\n",
    "        # plt.title(\"Threshold Corrected and Normalised, Image0\")\n",
    "\n",
    "        # fig2, ax2 = plt.subplots() # note we must use plt.subplots, not plt.subplot\n",
    "        # plt.imshow(normalise_image(image - image0))\n",
    "        # plt.title(\"Initial Image Subtracted\")\n",
    "    \n",
    "    for sigma in np.arange(10, 50, 10): \n",
    "        log_image = scipy.ndimage.gaussian_laplace(difference_image, sigma); \n",
    "        # max_log_image = np.amax(log_image); \n",
    "        # max_log_image_index = np.where(log_image == max_log_image); \n",
    "        log_image[log_image >= 0] = 0; \n",
    "        log_image[log_image < 0] = 1; \n",
    "\n",
    "        # log_image = normalise_image(log_image); \n",
    "\n",
    "        if isPlot:\n",
    "            fig2, ax2 = plt.subplots() # note we must use plt.subplots, not plt.subplot\n",
    "            plt.imshow(log_image\n",
    "                    #    , alpha = 0.3\n",
    "                    )\n",
    "            plt.title(f\"Laplacian of Gaussian Applied, sigma = {sigma}\")\n",
    "\n",
    "            fig2, ax2 = plt.subplots() # note we must use plt.subplots, not plt.subplot\n",
    "            plt.imshow(difference_image*log_image\n",
    "                    #    , alpha = 0.3\n",
    "                    )\n",
    "            plt.title(f\"Image multiplied Laplacian of Gaussian Applied, sigma = {sigma}\")\n",
    "\n",
    "    # canny_edge_image = ~skimage.feature.canny(image, sigma = 1); \n",
    "    # canny_edge_image = canny_edge_image\n",
    "    \n",
    "    # if isPlot:\n",
    "    #     plt.figure()\n",
    "    #     plt.imshow(canny_edge_image)\n",
    "    #     plt.title(f\"Canny Edge Detector, sigma = {1}\")\n",
    "\n",
    "    # erode_image = scipy.ndimage.binary_erosion(canny_edge_image)\n",
    "    # if isPlot:\n",
    "    #     plt.figure()\n",
    "    #     plt.imshow(erode_image)\n",
    "    #     plt.title(f\"Erode Image\")\n",
    "\n",
    "    return log_image.astype(np.uint8)"
   ]
  },
  {
   "cell_type": "code",
   "execution_count": 8,
   "metadata": {},
   "outputs": [],
   "source": [
    "square_mask = np.zeros(cherry_motor_images[0].shape)\n",
    "centre_x = int(square_mask.shape[0]/2)\n",
    "centre_y = int(square_mask.shape[1]/2)\n",
    "half_length = 300;\n",
    "square_mask[centre_x-half_length : centre_x + half_length, centre_y-half_length : centre_y+half_length ] = 1; \n",
    "\n",
    "# plt.figure()\n",
    "# plt.imshow(square_mask*cherry_motor_images[100]); \n",
    "# plt.show()"
   ]
  },
  {
   "cell_type": "code",
   "execution_count": null,
   "metadata": {},
   "outputs": [],
   "source": [
    "%matplotlib qt\n",
    "\n",
    "# selected_image_pairs = np.array([cherry_motor_images[i:i+2] for i in [0, 50]]); \n",
    "# print(selected_images)\n",
    "\n",
    "# for pair in selected_image_pairs:\n",
    "\n",
    "image0 = cherry_motor_images[0]; \n",
    "for image in cherry_motor_images[2:3]:\n",
    "    \n",
    "\n",
    "    # difference_image = normalise_image(image - image0)\n",
    "    # thresh1 = np.percentile(difference_image, q = 0.01); \n",
    "    # thresh2 = np.percentile(difference_image, q = 99);\n",
    "\n",
    "    # difference_image[difference_image < thresh1] = thresh1; \n",
    "    # difference_image[difference_image > thresh2] = thresh2; \n",
    "\n",
    "    # plt.figure()\n",
    "    # plt.imshow(difference_image)\n",
    "    # plt.title(\"Difference Image\")\n",
    "\n",
    "    binarized_image = preprocess_image(image, image0, isPlot=True); \n",
    "\n",
    "    # center, radius = motor_channel_contour(binarized_image)\n",
    "\n",
    "    # fig2, ax2 = plt.subplots() # note we must use plt.subplots, not plt.subplot\n",
    "    # plt.imshow(image, \n",
    "    #         vmin = np.percentile(image, q = 10), \n",
    "    #         vmax = np.percentile(image, q = 99))\n",
    "    # circle1 = plt.Circle(center, radius, color='r', alpha = 0.5)\n",
    "    # ax2.add_patch(circle1)\n",
    "    break\n",
    "\n",
    "\n",
    "plt.show()"
   ]
  },
  {
   "cell_type": "code",
   "execution_count": 13,
   "metadata": {},
   "outputs": [
    {
     "data": {
      "text/plain": [
       "(array([[  0.,   0.,   0., ...,   0., 900.,   0.],\n",
       "        [  0.,   0.,   0., ...,   0., 900.,   0.],\n",
       "        [  0.,   0.,   0., ...,   0., 900.,   0.],\n",
       "        ...,\n",
       "        [  0.,   0.,   0., ...,   0., 900.,   0.],\n",
       "        [  0.,   0.,   0., ...,   0., 900.,   0.],\n",
       "        [  0.,   0.,   0., ...,   0., 900.,   0.]]),\n",
       " array([-32592. , -28505.6, -24419.2, -20332.8, -16246.4, -12160. ,\n",
       "         -8073.6,  -3987.2,     99.2,   4185.6,   8272. ]),\n",
       " <a list of 900 BarContainer objects>)"
      ]
     },
     "execution_count": 13,
     "metadata": {},
     "output_type": "execute_result"
    },
    {
     "data": {
      "image/png": "[encoded data removed]",
      "text/plain": [
       "<Figure size 800x460.417 with 1 Axes>"
      ]
     },
     "metadata": {},
     "output_type": "display_data"
    }
   ],
   "source": [
    "plt.hist(cherry_motor_images[30][centre_x-half_length : centre_x + half_length, centre_y-half_length : centre_y+half_length]); "
   ]
  },
  {
   "cell_type": "code",
   "execution_count": 43,
   "metadata": {},
   "outputs": [],
   "source": [
    "%matplotlib qt\n"
   ]
  },
  {
   "cell_type": "code",
   "execution_count": 165,
   "metadata": {},
   "outputs": [
    {
     "data": {
      "text/plain": [
       "Text(0.5, 1.0, 'log_image')"
      ]
     },
     "execution_count": 165,
     "metadata": {},
     "output_type": "execute_result"
    },
    {
     "ename": "",
     "evalue": "",
     "output_type": "error",
     "traceback": [
      "\u001b[1;31mThe Kernel crashed while executing code in the current cell or a previous cell. \n",
      "\u001b[1;31mPlease review the code in the cell(s) to identify a possible cause of the failure. \n",
      "\u001b[1;31mClick <a href='https://aka.ms/vscodeJupyterKernelCrash'>here</a> for more info. \n",
      "\u001b[1;31mView Jupyter <a href='command:jupyter.viewOutput'>log</a> for further details."
     ]
    }
   ],
   "source": [
    "import scipy.ndimage\n",
    "\n",
    "\n",
    "half_length = 450; \n",
    "image = copy.deepcopy(cherry_motor_images[50][centre_x-half_length : centre_x + half_length, centre_y-half_length : centre_y+half_length])\n",
    "# image[image < np.percentile(image, q = 10)] = np.percentile(image, q = 10); \n",
    "# image[image > np.percentile(image, q = 99)] = np.percentile(image, q = 99); \n",
    "\n",
    "image0 = copy.deepcopy(cherry_motor_images[0][centre_x-half_length : centre_x + half_length, centre_y-half_length : centre_y+half_length])\n",
    "# image0[image0 < np.percentile(image0, q = 10)] = np.percentile(image0, q = 10); \n",
    "# image0[image0 > np.percentile(image0, q = 99)] = np.percentile(image0, q = 99); \n",
    "\n",
    "plt.figure()\n",
    "plt.imshow(image, \n",
    "           vmin = np.percentile(image, q = 10), \n",
    "           vmax = np.percentile(image, q = 99),\n",
    "           )\n",
    "plt.title(\"Image\")\n",
    "\n",
    "plt.figure()\n",
    "plt.imshow(image0, \n",
    "           vmin = np.percentile(image, q = 10), \n",
    "           vmax = np.percentile(image, q = 99),\n",
    "           )\n",
    "plt.title(\"Image0, contrasted\")\n",
    "\n",
    "difference = image - image0; \n",
    "difference[difference < 0] = 0\n",
    "# difference[difference < np.percentile(difference, q = 10)] = np.percentile(difference, q = 10); \n",
    "# difference[difference > np.percentile(difference, q = 99)] = np.percentile(difference, q = 99);\n",
    "\n",
    "difference[difference < np.percentile(difference, q = 99)] = 0; \n",
    "difference[difference >= np.percentile(difference, q = 99)] = 1; \n",
    "\n",
    "\n",
    "# difference = normalise_image(difference)\n",
    "\n",
    "plt.figure()\n",
    "plt.imshow((difference), \n",
    "        #    vmin = np.percentile(difference, q = 10), \n",
    "        #    vmax = np.percentile(difference, q = 99),\n",
    "           )\n",
    "plt.title(\"Difference\")\n",
    "\n",
    "# # Edge detection\n",
    "# edges = skimage.feature.canny(image, sigma=100)\n",
    "# plt.figure()\n",
    "\n",
    "# plt.imshow((edges), \n",
    "#         #    vmin = np.percentile(difference, q = 10), \n",
    "#         #    vmax = np.percentile(difference, q = 99),\n",
    "#            )\n",
    "# plt.title(\"edges\")\n",
    "\n",
    "#Fill Holes\n",
    "# eroded = scipy.ndimage.morphology.binary_erosion(difference)\n",
    "binary_fillholes = scipy.ndimage.binary_dilation(difference, iterations=2)\n",
    "plt.figure()\n",
    "\n",
    "plt.imshow((binary_fillholes), \n",
    "        #    vmin = np.percentile(difference, q = 10), \n",
    "        #    vmax = np.percentile(difference, q = 99),\n",
    "           )\n",
    "plt.title(\"eroded then dilated\")\n",
    "\n",
    "# plt.figure()\n",
    "# plt.hist(difference)\n",
    "# plt.yline(np.percentile(difference, q = 90))\n",
    "\n",
    "# plt.figure()\n",
    "# plt.imshow((difference), vmin = 0, vmax = 1)\n",
    "# plt.title(\"Difference, Normalised\")\n",
    "\n",
    "log_image = scipy.ndimage.gaussian_laplace(binary_fillholes, 50); \n",
    "log_image[log_image >= 0] = 0; \n",
    "log_image[log_image < 0] = 1; \n",
    "# log_image = log_image.astype(np.uint8)\n",
    "\n",
    "\n",
    "# print(np.amax(log_image), np.amin(log_image))\n",
    "plt.figure()\n",
    "plt.imshow((log_image))\n",
    "plt.title(\"log_image\")\n",
    "\n",
    "# center, radius = motor_channel_contour(log_image); \n",
    "# # fig2, ax2 = plt.subplots() # note we must use plt.subplots, not plt.subplot\n",
    "# # # plt.imshow((image))\n",
    "# # plt.imshow((difference))\n",
    "# # circle1 = plt.Circle(center, radius, color='r', alpha = 0.05)\n",
    "# # ax2.add_patch(circle1)\n",
    "# # plt.show()\n",
    "\n",
    "# # fig2, ax2 = plt.subplots() # note we must use plt.subplots, not plt.subplot\n",
    "# # plt.imshow((log_image))\n",
    "# # circle1 = plt.Circle(center, radius, color='r', alpha = 0.05)\n",
    "# # ax2.add_patch(circle1)\n",
    "# # plt.show()\n",
    "\n",
    "# # fig2, ax2 = plt.subplots() # note we must use plt.subplots, not plt.subplot\n",
    "# # plt.imshow((image))\n",
    "# # plt.imshow((log_image), alpha = 0.05, cmap='Reds_r')\n",
    "# # plt.show()\n",
    "# binary_fillholes = binary_fillholes.astype(np.uint8)\n",
    "# dist = cv2.distanceTransform((binary_fillholes), cv2.DIST_L2, 0)\n",
    "# NULL,max_val,NULL,max_indx=cv2.minMaxLoc(dist)\n",
    "\n",
    "# (x,y),radius = max_indx, max_val\n",
    "\n",
    "# fig2, ax2 = plt.subplots() # note we must use plt.subplots, not plt.subplot\n",
    "# plt.imshow((binary_fillholes))\n",
    "# circle1 = plt.Circle((x,y), radius, color='r', alpha = 1)\n",
    "# ax2.add_patch(circle1)\n",
    "# plt.title(\"Max Inscribed Circle\")\n",
    "# plt.show()\n"
   ]
  },
  {
   "cell_type": "code",
   "execution_count": 151,
   "metadata": {},
   "outputs": [
    {
     "data": {
      "text/plain": [
       "8.062257766723633"
      ]
     },
     "execution_count": 151,
     "metadata": {},
     "output_type": "execute_result"
    }
   ],
   "source": [
    "radius"
   ]
  },
  {
   "cell_type": "code",
   "execution_count": null,
   "metadata": {},
   "outputs": [],
   "source": [
    "dummy_image = normalise_image(cherry_motor_images[3] - cherry_motor_images[0]); \n",
    "thresh1 = np.percentile(dummy_image, q = 0.01); \n",
    "thresh2 = np.percentile(dummy_image, q = 99); \n",
    "dummy_image[dummy_image < thresh1] = thresh1; \n",
    "dummy_image[dummy_image > thresh2] = thresh2; \n",
    "\n",
    "plt.figure()\n",
    "plt.hist(dummy_image)\n",
    "\n",
    "thresh = threshold_otsu(image)\n",
    "binary = dummy_image > thresh\n",
    "plt.figure()\n",
    "plt.imshow(binary)\n",
    "plt.title(\"Otsu\")\n",
    "\n",
    "plt.figure()\n",
    "plt.imshow(normalise_image(dummy_image))\n",
    "\n",
    "gaussian_dummy_image = scipy.ndimage.gaussian_filter(dummy_image, 5)\n",
    "plt.figure()\n",
    "plt.imshow(normalise_image(dummy_image))\n",
    "\n",
    "median_dummy_image = scipy.ndimage.median_filter(dummy_image, 20)\n",
    "plt.figure()\n",
    "plt.imshow(normalise_image(median_dummy_image))\n",
    "\n",
    "plt.show()"
   ]
  },
  {
   "cell_type": "code",
   "execution_count": null,
   "metadata": {},
   "outputs": [],
   "source": [
    "normalisation_matrix = ap.norm_mat_fn_iATP(cherry_motor_images[0], 1914); \n",
    "plt.figure()\n",
    "plt.imshow(cherry_motor_images[0], \n",
    "            vmin = np.percentile(cherry_motor_images[0], q = 10), \n",
    "            vmax = np.percentile(cherry_motor_images[0], q = 99)); \n",
    "\n",
    "plt.figure()\n",
    "plt.imshow(normalisation_matrix, \n",
    "            vmin = np.percentile(normalisation_matrix, q = 10), \n",
    "            vmax = np.percentile(normalisation_matrix, q = 99)); \n",
    "\n",
    "plt.figure()\n",
    "plt.imshow(cherry_motor_images[0], \n",
    "            vmin = np.percentile(cherry_motor_images[0], q = 10), \n",
    "            vmax = np.percentile(cherry_motor_images[0], q = 99)); \n",
    "plt.title(\"Original Image\")\n",
    "\n",
    "plt.figure()\n",
    "plt.imshow(cherry_motor_images[1]*normalisation_matrix); \n",
    "plt.title(\"Normalised Image\")\n"
   ]
  },
  {
   "cell_type": "markdown",
   "metadata": {},
   "source": [
    "### Function to extract contraction rate from a series of motor channel images"
   ]
  },
  {
   "cell_type": "code",
   "execution_count": null,
   "metadata": {},
   "outputs": [],
   "source": [
    "def extract_contraction_rate(images):\n",
    "    # Set negative values to zero\n",
    "    images[images < 0] = 0; \n",
    "\n",
    "    # # Remove camera offset and correct for uneven illumination\n",
    "    # normalisation_matrix = ap.norm_mat_fn_iATP(images[0], im_dark=1920);     \n",
    "    # corrected_images = [image*normalisation_matrix for image in images]\n",
    "\n",
    "    # # Correct for photobleaching\n",
    "    \n",
    "    return np.array(images)"
   ]
  },
  {
   "cell_type": "code",
   "execution_count": null,
   "metadata": {},
   "outputs": [],
   "source": [
    "corrected_cherry_images = extract_contraction_rate(cherry_motor_images[:15])"
   ]
  },
  {
   "cell_type": "code",
   "execution_count": null,
   "metadata": {},
   "outputs": [],
   "source": [
    "image = corrected_cherry_images[10]; \n",
    "plt.imshow(image, \n",
    "           vmin = np.percentile(image, q = 1), \n",
    "           vmax = np.percentile(image, q = 90))"
   ]
  },
  {
   "cell_type": "code",
   "execution_count": null,
   "metadata": {},
   "outputs": [],
   "source": [
    "plt.hist(image); "
   ]
  },
  {
   "cell_type": "code",
   "execution_count": null,
   "metadata": {},
   "outputs": [],
   "source": []
  }
 ],
 "metadata": {
  "kernelspec": {
   "display_name": "Python 3",
   "language": "python",
   "name": "python3"
  },
  "language_info": {
   "codemirror_mode": {
    "name": "ipython",
    "version": 3
   },
   "file_extension": ".py",
   "mimetype": "text/x-python",
   "name": "python",
   "nbconvert_exporter": "python",
   "pygments_lexer": "ipython3",
   "version": "3.9.13"
  }
 },
 "nbformat": 4,
 "nbformat_minor": 2
}
