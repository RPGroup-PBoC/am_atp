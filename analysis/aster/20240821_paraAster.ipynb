{
 "cells": [
  {
   "cell_type": "code",
   "execution_count": null,
   "id": "62c65650-e728-4850-a493-044c227ead9c",
   "metadata": {},
   "outputs": [],
   "source": []
  },
  {
   "cell_type": "code",
   "execution_count": null,
   "id": "c12b25aa-f37b-4234-8ccb-0181c6893644",
   "metadata": {},
   "outputs": [],
   "source": []
  },
  {
   "cell_type": "code",
   "execution_count": null,
   "id": "04e75c6f-1527-47a4-b22a-a9a7aa2b49a0",
   "metadata": {},
   "outputs": [],
   "source": []
  },
  {
   "cell_type": "code",
   "execution_count": null,
   "id": "d3095f45-bd2c-43c3-ae68-7cf7bf7cd071",
   "metadata": {},
   "outputs": [],
   "source": []
  },
  {
   "cell_type": "code",
   "execution_count": null,
   "id": "db690299-b4ba-4539-9423-773cc4bb13b3",
   "metadata": {},
   "outputs": [],
   "source": []
  },
  {
   "cell_type": "markdown",
   "id": "dee617d9-d842-48ff-b21d-4d75bf3f3411",
   "metadata": {},
   "source": [
    "# Imports"
   ]
  },
  {
   "cell_type": "code",
   "execution_count": 1,
   "id": "c7b3e52c-3acd-41f3-8401-c5156fed7d5f",
   "metadata": {},
   "outputs": [],
   "source": [
    "#for reading files\n",
    "import glob\n",
    "\n",
    "#math computation and data organization\n",
    "import numpy as np\n",
    "import scipy\n",
    "import pandas as pd\n",
    "\n",
    "# For loading bars\n",
    "from tqdm.notebook import tqdm as tqdm\n",
    "\n",
    "#For image plotting\n",
    "import skimage.io\n",
    "\n",
    "#For identifying aster center\n",
    "from skimage.filters import threshold_otsu, gaussian, threshold_mean\n",
    "from skimage.measure import regionprops\n",
    "import cv2\n",
    "\n",
    "#for fitting\n",
    "from lmfit import minimize, Parameters, fit_report\n",
    "\n",
    "#for image registration\n",
    "from skimage.registration import phase_cross_correlation\n",
    "import os\n",
    "\n",
    "#Matplotlib plotting packages\n",
    "import matplotlib.pyplot as plt\n",
    "from matplotlib.colors import Normalize\n",
    "import matplotlib.colors as mcolors\n",
    "import matplotlib.cm as cm\n",
    "from mpl_toolkits.axes_grid1 import make_axes_locatable\n",
    "from matplotlib import patches\n",
    "from matplotlib import gridspec\n",
    "\n",
    "#Movie\n",
    "import celluloid as cell\n",
    "import matplotlib.animation as animation\n",
    "\n",
    "#for saving data\n",
    "import csv\n",
    "\n",
    "#custom analysis packages\n",
    "import aster_packages as ap"
   ]
  },
  {
   "cell_type": "code",
   "execution_count": 2,
   "id": "92db3368-91da-4963-a0f3-88241f449d7a",
   "metadata": {},
   "outputs": [],
   "source": [
    "#!/usr/bin/env python\n",
    "# coding: utf-8\n",
    "\n",
    "# In[ ]:\n",
    "\n",
    "# Figure Formatting\n",
    "import matplotlib.pyplot as plt\n",
    "import matplotlib as mpl\n",
    "\n",
    "figwidth = 4\n",
    "plt.rcParams[\"figure.figsize\"] = [figwidth, figwidth * 1105 / 1920\n",
    "                                  ]  # figure size in inches\n",
    "plt.rcParams[\"lines.linewidth\"] = 2  # line width in points\n",
    "plt.rcParams[\"font.family\"] = \"serif\"\n",
    "plt.rcParams[\"font.serif\"] = \"Times\"\n",
    "\n",
    "plt.rcParams[\"font.style\"] = \"normal\"\n",
    "plt.rcParams[\"font.weight\"] = \"heavy\" #chick this later maybe the source of weirdness in labels (ANA READ THIS)\n",
    "plt.rcParams[\"font.size\"] = 13.0\n",
    "plt.rcParams[\"axes.labelweight\"] = \"bold\"  # weight of the x and y labels\n",
    "plt.rcParams[\"axes.spines.right\"] = True\n",
    "plt.rcParams[\n",
    "    \"axes.formatter.useoffset\"] = True  # If True, the tick label formatter\n",
    "plt.rcParams[\"xtick.major.size\"] = 10  # major tick size in points\n",
    "plt.rcParams[\"xtick.minor.size\"] = 4  # minor tick size in points\n",
    "plt.rcParams[\"xtick.direction\"] = \"in\"  # direction in, out, or inout\n",
    "plt.rcParams[\"xtick.minor.visible\"] = True\n",
    "plt.rcParams[\"ytick.major.size\"] = 10  # major tick size in points\n",
    "plt.rcParams[\"ytick.minor.size\"] = 4  # minor tick size in points\n",
    "plt.rcParams[\"ytick.direction\"] = \"in\"  # direction in, out, or inout\n",
    "plt.rcParams[\"ytick.minor.visible\"] = True\n",
    "plt.rcParams[\"legend.fontsize\"] = 10\n",
    "plt.rcParams[\n",
    "    \"legend.labelspacing\"] = 0.1  # the vertical space between the legend entries in fraction of fontsize\n",
    "plt.rcParams[\"legend.shadow\"] = False\n",
    "plt.rcParams[\n",
    "    \"legend.frameon\"] = True  # whether or not to draw a frame around legend\n",
    "plt.rcParams[\n",
    "    'axes.unicode_minus'] = False  # fix glyph error by using normal hyphens\n",
    "plt.rcParams.update({\"text.usetex\": True, \n",
    "             \"font.family\": \"Times\"})\n",
    "mpl.rc(\"figure\", dpi=200)\n",
    "\n",
    "color_background = '#E5E0D5'"
   ]
  },
  {
   "cell_type": "markdown",
   "id": "a3419f9e-c0f7-414d-b15a-d56422e83ee9",
   "metadata": {},
   "source": [
    "# Data Imports"
   ]
  },
  {
   "cell_type": "markdown",
   "id": "922d6cb4-f466-4470-aa35-48032118b48a",
   "metadata": {},
   "source": [
    "Function to import aster images into a list of length 3 each containing an image array for each channel with shape (lenth of frames, n by m image shape)"
   ]
  },
  {
   "cell_type": "code",
   "execution_count": 3,
   "id": "0c49295f-6853-4b47-a5d1-e068bf680023",
   "metadata": {},
   "outputs": [],
   "source": [
    "def parse_channelarrays(file, channel_list=['405', '480', 'Cherry']):\n",
    "    \"\"\"\n",
    "    reads a list of directories and returns arrays of images separated by channel\n",
    "    \n",
    "    Inputs:\n",
    "    file: the directory name (includes the position index) i.e.\n",
    "            '../../data/aster/2023-12-12_NCD_Aster/20sInterval_0.6uM_NCD_dimers_500uMATP_1.3uM_tubulin_2.8uM_A81D_2/Pos1/'\n",
    "    \"\"\"\n",
    "    \n",
    "    #3 channels we care about\n",
    "    channel_id = ['bnd', 'unbnd', 'mot'] #Don't change these names\n",
    "    #included frames (ome=all)\n",
    "    included_frames = '*ome*.tif'\n",
    "    \n",
    "    arrays = []\n",
    "    for i, channel in enumerate(channel_list):    \n",
    "        #appends all the file names\n",
    "        im_files=np.sort(glob.glob(file + channel + '/' + included_frames))\n",
    "        \n",
    "        #turn into images\n",
    "        images=ap.file_to_image(im_files)\n",
    "        \n",
    "        #save image array to list\n",
    "        arrays.append(images)\n",
    "        \n",
    "    return arrays    "
   ]
  },
  {
   "cell_type": "code",
   "execution_count": 5,
   "id": "bbc25d33-57cc-4e34-85f7-ffcdb001be41",
   "metadata": {},
   "outputs": [],
   "source": [
    "arrs = parse_channelarrays('../../data/aster/2023-12-12_NCD_Aster/20sInterval_0.6uM_NCD_dimers_500uMATP_1.3uM_tubulin_2.8uM_A81D_2/Pos1/')"
   ]
  },
  {
   "cell_type": "code",
   "execution_count": 11,
   "id": "59b604e5-57c6-4469-b8cf-5de6fe4470aa",
   "metadata": {},
   "outputs": [
    {
     "data": {
      "text/plain": [
       "(200, 1200, 1920)"
      ]
     },
     "execution_count": 11,
     "metadata": {},
     "output_type": "execute_result"
    }
   ],
   "source": []
  },
  {
   "cell_type": "code",
   "execution_count": null,
   "id": "4778b04b-d7b0-4448-9950-54925b1574c9",
   "metadata": {},
   "outputs": [],
   "source": []
  }
 ],
 "metadata": {
  "kernelspec": {
   "display_name": "Python 3 (ipykernel)",
   "language": "python",
   "name": "python3"
  },
  "language_info": {
   "codemirror_mode": {
    "name": "ipython",
    "version": 3
   },
   "file_extension": ".py",
   "mimetype": "text/x-python",
   "name": "python",
   "nbconvert_exporter": "python",
   "pygments_lexer": "ipython3",
   "version": "3.8.11"
  }
 },
 "nbformat": 4,
 "nbformat_minor": 5
}
