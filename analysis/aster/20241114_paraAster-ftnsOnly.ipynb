{
 "cells": [
  {
   "cell_type": "markdown",
   "id": "dee617d9-d842-48ff-b21d-4d75bf3f3411",
   "metadata": {},
   "source": [
    "# Imports"
   ]
  },
  {
   "cell_type": "markdown",
   "id": "b6d371a4-1831-46e7-8b35-57a5bbc122c0",
   "metadata": {},
   "source": [
    "Import Packages"
   ]
  },
  {
   "cell_type": "code",
   "execution_count": 1,
   "id": "0a0331e0-7b7b-45fc-ac36-49126463013c",
   "metadata": {},
   "outputs": [],
   "source": [
    "# import sys\n",
    "# !{sys.executable} -m pip install tifffile scipy tqdm scikit-image opencv-python lmfit celluloid h5py "
   ]
  },
  {
   "cell_type": "code",
   "execution_count": 2,
   "id": "c7b3e52c-3acd-41f3-8401-c5156fed7d5f",
   "metadata": {},
   "outputs": [],
   "source": [
    "#for reading files\n",
    "import glob\n",
    "import tifffile\n",
    "\n",
    "#math computation and data organization\n",
    "import numpy as np\n",
    "import math\n",
    "import scipy\n",
    "from scipy.ndimage import binary_erosion, binary_fill_holes\n",
    "from scipy import optimize\n",
    "from scipy.optimize import curve_fit\n",
    "import pandas as pd\n",
    "\n",
    "# For loading bars\n",
    "from tqdm.notebook import tqdm as tqdm\n",
    "\n",
    "#For image plotting\n",
    "import skimage.io\n",
    "\n",
    "#For identifying aster center\n",
    "from skimage.filters import threshold_otsu, gaussian, threshold_mean\n",
    "from skimage.measure import regionprops\n",
    "import cv2\n",
    "\n",
    "#for fitting\n",
    "from lmfit import minimize, Parameters, fit_report\n",
    "\n",
    "#for image registration\n",
    "from skimage.registration import phase_cross_correlation\n",
    "import os\n",
    "\n",
    "#Matplotlib plotting packages\n",
    "import matplotlib.pyplot as plt\n",
    "from matplotlib.colors import Normalize\n",
    "import matplotlib.colors as mcolors\n",
    "import matplotlib.cm as cm\n",
    "from mpl_toolkits.axes_grid1 import make_axes_locatable\n",
    "from matplotlib import patches\n",
    "from matplotlib import gridspec\n",
    "\n",
    "import seaborn as sns\n",
    "\n",
    "#Movie\n",
    "import celluloid as cell\n",
    "import matplotlib.animation as animation\n",
    "\n",
    "#for saving data\n",
    "import csv\n",
    "import h5py\n",
    "\n",
    "#custom analysis packages\n",
    "import aster_packages as ap #### commented out 20241114 since lucida fonts are not installed...\n",
    "\n",
    "# Thing to enable lovely parallelization\n",
    "import concurrent.futures\n",
    "\n",
    "# Enable repeat from itertools for parallel\n",
    "import itertools\n",
    "\n",
    "#time elements for testing runtimes and using todays date\n",
    "import time\n",
    "from datetime import datetime"
   ]
  },
  {
   "cell_type": "markdown",
   "id": "a3419f9e-c0f7-414d-b15a-d56422e83ee9",
   "metadata": {},
   "source": [
    "# Data Imports"
   ]
  },
  {
   "cell_type": "markdown",
   "id": "922d6cb4-f466-4470-aa35-48032118b48a",
   "metadata": {},
   "source": [
    "Function to import aster images into a list of length 3 each containing an image array for each channel with shape (lenth of frames, n by m image shape)"
   ]
  },
  {
   "cell_type": "code",
   "execution_count": 3,
   "id": "c1ed5d85-5f10-4550-a4b1-dac6d75c0c9a",
   "metadata": {},
   "outputs": [],
   "source": [
    "def parse_ome(file, channel_list=['405', '480', 'Cherry']):\n",
    "    \"\"\"\n",
    "    Extracts image arrays from an ome.tif file.\n",
    "    \n",
    "    Parameters:\n",
    "    file (string): Data file path.\n",
    "    channel_list (list of strings): Names of fluorescent channels taken in this dataset\n",
    "    \n",
    "    Returns:\n",
    "    (list): List of images (as 3D numpy.ndarrays) for each fluorescent channel with shape (# images, m, n).\n",
    "    \"\"\"\n",
    "    \n",
    "    images = []\n",
    "    # Open and read the OME-TIFF file\n",
    "    with tifffile.TiffFile(file) as tif:\n",
    "\n",
    "        for i, page in enumerate(tif.pages):\n",
    "            image_data = page.asarray()\n",
    "            images.append(image_data)\n",
    "\n",
    "        # Access the OME metadata if needed\n",
    "        ome_metadata = tif.ome_metadata\n",
    "\n",
    "    ch1 = images[0::3]\n",
    "    ch2 = images[1::3]\n",
    "    ch3 = images[2::3]\n",
    "    \n",
    "    return [np.array(ch1), np.array(ch2), np.array(ch3)]"
   ]
  },
  {
   "cell_type": "markdown",
   "id": "44150375-2bc8-45c0-b7af-0a3366685236",
   "metadata": {},
   "source": [
    "Function to parse experimental info from the data path name"
   ]
  },
  {
   "cell_type": "code",
   "execution_count": 4,
   "id": "2f5d59c7-fa96-4b23-a56c-fa47e09df38f",
   "metadata": {},
   "outputs": [],
   "source": [
    "def grab_expparams_ome(gname):\n",
    "    \"\"\"\n",
    "    Parses a file name to fine experimental parameters.\n",
    "    \n",
    "    Parameters:\n",
    "    gname (string): data file path.\n",
    "    \n",
    "    Returns:\n",
    "    exp_file (string): Saves the ome.tif name of the dataset.\n",
    "    interval (integer): The time interval between images in seconds.\n",
    "    motor_conc (float): The total concentration of motor proteins in µM.\n",
    "    motor_type (string): The motor species, i.e. NCD or K401.\n",
    "    ATP_conc (float): The inital concentration of ATP in µM.\n",
    "    tubulin_conc (float): The concentration of tubulin (in the form of MT) in µM\n",
    "    probe_conc (float): The concentration of the ATP probe in µM.\n",
    "    probe_type (string): the species of ATP probe, i.e. A81D or ATeam\n",
    "    \"\"\"\n",
    "    exp_file = gname.split('/')[-1]\n",
    "    interval = int(exp_file.split('sInter')[0])\n",
    "    motor_conc = float(exp_file.split('_')[1].split('uM')[0])\n",
    "    motor_type = exp_file.split('_')[2]\n",
    "    ATP_conc = float(exp_file.split('_')[4].split('uM')[0])\n",
    "    tubulin_conc = float(exp_file.split('_')[5].split('uM')[0])\n",
    "    probe_conc = float(exp_file.split('_')[7].split('uM')[0])\n",
    "    probe_type = exp_file.split('_')[8]\n",
    "    \n",
    "    exp_params = {'exp_file':exp_file,\n",
    "                 'interval':interval,\n",
    "                 'motor_conc':motor_conc,\n",
    "                 'motor_type':motor_type,\n",
    "                 'ATP_conc':ATP_conc,\n",
    "                 'tubulin_conc':tubulin_conc,\n",
    "                 'probe_conc':probe_conc,\n",
    "                 'probe_type':probe_type}\n",
    "    return exp_params"
   ]
  },
  {
   "cell_type": "markdown",
   "id": "4d1a7cbe-3ba4-4532-82f9-e85b28fdb2f7",
   "metadata": {},
   "source": [
    "Function to import dark images"
   ]
  },
  {
   "cell_type": "code",
   "execution_count": 5,
   "id": "59b604e5-57c6-4469-b8cf-5de6fe4470aa",
   "metadata": {},
   "outputs": [],
   "source": [
    "def grab_dark_avg(file_path_dark):\n",
    "    \"\"\"\n",
    "    Imports a dark image.\n",
    " \n",
    "    Parameters:\n",
    "    file_path_dark (string): Data path for a dark image.\n",
    "    \n",
    "    Returns:\n",
    "    dark_avg (numpy.ndarray): Dark image as a 2D array.\n",
    "    \"\"\"\n",
    "    dark_files = np.sort(glob.glob(file_path_dark))\n",
    "    dark_ims = ap.file_to_image(dark_files)\n",
    "    dark_avg = np.average(dark_ims, axis=0)\n",
    "    return dark_avg"
   ]
  },
  {
   "cell_type": "markdown",
   "id": "9dc2e28f-4e52-433c-abbd-0413a01dac05",
   "metadata": {},
   "source": [
    "Function to read calibration parameters"
   ]
  },
  {
   "cell_type": "code",
   "execution_count": 6,
   "id": "c7c68f71-8ea5-48d5-b893-b89c95bab132",
   "metadata": {},
   "outputs": [],
   "source": [
    "def grab_calparams(file_path_cal):\n",
    "    \"\"\"\n",
    "    Imports ATP calibration parameters as a DataFrame.\n",
    "    \n",
    "    Parameters:\n",
    "    file_path_cal (string): Data path to a text file with fitting parameters for ATP calibration\n",
    "    \n",
    "    Returns:\n",
    "    cal_params (pd.DataFrame): DataFrame with ATP calibration fitting parameters.\n",
    "    \"\"\"\n",
    "        \n",
    "    #read the DataFrame\n",
    "    #cal_params = pd.read_csv(cal_file_path+cal_file_folder+cal_file_name)\\\n",
    "    cal_params = pd.read_csv(file_path_cal)\n",
    "\n",
    "    #add hill=1 if no hill specified\n",
    "    if len(cal_params)==3:\n",
    "        cal_params.loc[-1] = [3, 'nhill', 1, 0]\n",
    "    \n",
    "    #reindex\n",
    "    cal_params = cal_params.set_index('Param')\n",
    "    \n",
    "    #drop the unnamed colum (from index of text file)\n",
    "    cal_params = cal_params.drop(columns='Unnamed: 0')\n",
    "    \n",
    "    return cal_params"
   ]
  },
  {
   "cell_type": "markdown",
   "id": "dab7cd2f-1407-40d2-b8bd-1ca580dc9fab",
   "metadata": {},
   "source": [
    "## Normalize Images\n",
    "This corrects for uneven illumination. The light gradient that comes from instrumentation \"should\" be the same for each frame. Here, take the first frame of the image sequence and create a normalization matrix. This matrix is created by dividing each pixel in the image by the maximum pixel value, so that when you multiply the original image by the normalization matrix, the first frame will be a homogeneous image with the highest pixel value. All future frames can be multiplied by the matrix to remove the systematic light gradient"
   ]
  },
  {
   "cell_type": "code",
   "execution_count": 7,
   "id": "7688d899-9683-4a09-a80c-784116721af0",
   "metadata": {},
   "outputs": [],
   "source": [
    "def backSubtract(arrs, dark_avg):\n",
    "    \"\"\"\n",
    "    Subtracts camera dark noise from images\n",
    "    \n",
    "    Parameters:\n",
    "    arrs (lsit): list of 3D numpy.ndarray's containing aster images where each array is from a different fluorescent channel.\n",
    "    dark_avg (numpy.ndarray): 2D array image taken with the camera shutter closed of shape (m, n)\n",
    "    \n",
    "    Returns:\n",
    "    (list): list of 3D numpy.ndarray's with dark camera noise subtracted.\n",
    "    \"\"\"\n",
    "    return [arr-dark_avg for arr in arrs] # save processed images"
   ]
  },
  {
   "cell_type": "markdown",
   "id": "15aae0cd-a3f9-4929-beec-39584709ddb0",
   "metadata": {},
   "source": [
    "Find pixels illuminated in the ATP channels for all timepoints"
   ]
  },
  {
   "cell_type": "code",
   "execution_count": 8,
   "id": "2de1faca-6930-46fe-83f4-a321a52d1720",
   "metadata": {},
   "outputs": [],
   "source": [
    "def intersect(arrs):\n",
    "    \"\"\"\n",
    "    The camera has an occasional jitter, illuminating slightly different fields of view. This function finds pixels illluminated in all frames\n",
    "    \n",
    "    Parameters:\n",
    "    arrs (lsit): list of 3D numpy.ndarray's containing aster images where each array is from a different fluorescent channel.\n",
    "    \n",
    "    Returns:\n",
    "    (tuple): tuple containing the pixel coordinates for pixels illuminated in all images. The tuple has two 1D arrays, one for each image dimension.\n",
    "    \"\"\"\n",
    "    _, numRows, numCols=arrs[0].shape\n",
    "    \n",
    "    #iterate through frame numbers\n",
    "    severeIntersection=np.ones_like(arrs[0][0]);\n",
    "    \n",
    "    for fr in range(arrs[0].shape[0]): # for every timepoint\n",
    "        #iterate through channels:\n",
    "        ## Process the ATP channels first!\n",
    "        im_bins=[]\n",
    "        for arr in arrs[:2]: #exclude the motor channel!\n",
    "            im_bin = (arr[fr,:,:] > threshold_otsu(arr[fr,:,:])).astype(np.uint8)\n",
    "            im_bins.append(im_bin)\n",
    "        intersectionBinImg=np.multiply(*im_bins) # This is defined for each frame/timepoint; it is the intersection between both channels' masks\n",
    "        severeIntersection=np.multiply(severeIntersection, intersectionBinImg) # This accumulates the most severe intersection possible such that after iteration over all frames, all pixels not = 0 are visible/illuminated in every frame and every channel\n",
    "\n",
    "    return np.where(severeIntersection.astype(int)) #returns where =1 (or True)"
   ]
  },
  {
   "cell_type": "code",
   "execution_count": 9,
   "id": "b6c9eec8-399e-4644-a0cc-348d38512d7d",
   "metadata": {},
   "outputs": [],
   "source": [
    "def fit_bivariate_quadratic_anyShape(vals, coord):\n",
    "    \"\"\"\n",
    "    Fits a bivariate quadratic polynomial to the intensity values of a grayscale image.\n",
    "    \n",
    "    Parameters:\n",
    "    binary_im (numpy.ndarray): Grayscale image of shape (M, N).\n",
    "    \n",
    "    Returns:\n",
    "    coefficients (numpy.ndarray): Coefficients of the fitted polynomial [a00, a10, a01, a20, a11, a02].\n",
    "    \"\"\"\n",
    "    # Flatten the matrices for the least squares fitting\n",
    "    I_flat = coord[0]\n",
    "    J_flat = coord[1]\n",
    "    Z_flat = vals\n",
    "\n",
    "    # Create the design matrix for the polynomial terms\n",
    "    A = np.vstack([I_flat**2, J_flat**2, I_flat*J_flat, I_flat, J_flat, np.ones_like(I_flat)]).T\n",
    "\n",
    "    # Solve for the coefficients using least squares\n",
    "    coefficients, _, _, _ = np.linalg.lstsq(A, Z_flat, rcond=None)\n",
    "\n",
    "    return coefficients\n",
    "\n",
    "def evaluateBivPoly_anyShape(vals,coord):\n",
    "    \"\"\" Given coordinates, this function returns the best-fit bivariate polynomial for image. \"\"\"\n",
    "    coefficients=fit_bivariate_quadratic_anyShape(vals, coord);\n",
    "    I, J = coord[0], coord[1]\n",
    "    Z_fitted = (coefficients[0] * I**2 + coefficients[1] * J**2 +\n",
    "            coefficients[2] * I * J + coefficients[3] * I +\n",
    "            coefficients[4] * J + coefficients[5])\n",
    "    return Z_fitted"
   ]
  },
  {
   "cell_type": "code",
   "execution_count": 10,
   "id": "be344861-73ed-4602-9868-f80dc812d294",
   "metadata": {},
   "outputs": [],
   "source": [
    "def norm_unev(arrs_sub, mask_coords, allmask_coords):\n",
    "    \"\"\"\n",
    "    Corrects uneven illumination by fitting an image to a bivariate polynomial, normalizing the polynomial, and dividing an array of images by this normalized matrix.\n",
    "    \n",
    "    Parameters:\n",
    "    arrs_sub (list): Dark image subtracted list of image arrays.\n",
    "    mask_coords (length 2 tuple): illumination mask coordinates (for one image)\n",
    "    allmask_coords (slice): slice containing all the illumination coordinates with an extra dimension to account for all timepoints\n",
    "    \n",
    "    Returns:\n",
    "    arr_ev (list): list of image arrays after the evening process.\n",
    "    \"\"\"\n",
    "    #norm_mats = []\n",
    "    arrs_ev = []\n",
    "    \n",
    "    for arr in arrs_sub:\n",
    "        #compute the bivariate filter\n",
    "        biv_filt = np.zeros_like(arr[0])\n",
    "        biv_filt[mask_coords] = evaluateBivPoly_anyShape(arr[0, :, :][mask_coords], mask_coords)\n",
    "        #norm_mats.append(norm_mat)\n",
    "        \n",
    "        #scale the normalization matrix such that the average value after multiplication is the same as the bs image\n",
    "        scalar = np.mean(arr[0][mask_coords])/np.mean(arr[0][mask_coords]/biv_filt[mask_coords])\n",
    "        norm_mat = scalar/biv_filt\n",
    "        \n",
    "        arrs_ev_temp = np.zeros_like(arr)\n",
    "        arrs_ev_temp[allmask_coords]=arr[allmask_coords]*norm_mat[mask_coords]\n",
    "        \n",
    "        arrs_ev.append(arrs_ev_temp)\n",
    "        \n",
    "    return arrs_ev"
   ]
  },
  {
   "cell_type": "markdown",
   "id": "42660c80-d3f9-4b88-ae9a-3b1b756440a5",
   "metadata": {},
   "source": [
    "# Ratio"
   ]
  },
  {
   "cell_type": "markdown",
   "id": "367534b0-d9c9-48c8-bbf1-6596f7bb98a7",
   "metadata": {},
   "source": [
    "Write a function to crop array values to a range"
   ]
  },
  {
   "cell_type": "code",
   "execution_count": 11,
   "id": "a812a41e-1b86-40ff-aa30-5c2f943f9b8c",
   "metadata": {},
   "outputs": [],
   "source": [
    "def replace_out_of_range_values(arr, min_value, max_value):\n",
    "    \"\"\"\n",
    "    Crop the intensities of an array to be withing a defined range.\n",
    "    \n",
    "    Parameters:\n",
    "    arr (numpy.ndarray): images array.\n",
    "    min_value (float): minimum value below which all other values are set to the minimum\n",
    "    max_value (float): maximum value above which all other values are set to the maximum\n",
    "    \n",
    "    Returns:\n",
    "    arr_copy (numpy.ndarray): image array cropped to the set intensity range.\n",
    "    \"\"\"\n",
    "    arr_copy = np.copy(arr)\n",
    "    mask_min = arr < min_value\n",
    "    mask_max = arr > max_value\n",
    "    arr_copy[mask_min] = min_value\n",
    "    arr_copy[mask_max] = max_value\n",
    "    return arr_copy"
   ]
  },
  {
   "cell_type": "markdown",
   "id": "d6d073d1-2792-4702-863a-2f5ef8922a8f",
   "metadata": {},
   "source": [
    "write a function for the equation to convert to concentration values"
   ]
  },
  {
   "cell_type": "code",
   "execution_count": 12,
   "id": "6bbd56cc-67f3-4805-b0dd-4ffb7562c152",
   "metadata": {},
   "outputs": [],
   "source": [
    "def ATP_conc_to_ratio(array, Km, Rmax, Rmin, nhill):\n",
    "    \"\"\"Given a set of concentrations, returns ratio values based on provided Hill equation coefficients\"\"\"\n",
    "    return (Rmax-Rmin)*((array/Km)**nhill/(1 + (array/Km))**nhill) + Rmin\n",
    "\n",
    "def ATP_ratio_to_conc(array, Km, Rmax, Rmin, nhill):\n",
    "    \"\"\"Given a set of ratios, returns concentration values based on provided Hill equation coefficients\"\"\"\n",
    "    return Km * ((Rmin - array) / (array - Rmax)) ** (1/nhill)"
   ]
  },
  {
   "cell_type": "markdown",
   "id": "9e42bcb2-b0bd-4d85-9fb9-384ce3a93329",
   "metadata": {},
   "source": [
    "Write a function to convert arrays of ratios to concentrations"
   ]
  },
  {
   "cell_type": "code",
   "execution_count": 13,
   "id": "d87370b3-4e58-4de2-9bfe-e0fe9c2686e6",
   "metadata": {},
   "outputs": [],
   "source": [
    "def infer_concs(ratios, exp_params, cal_params, allmask_coords, shape):\n",
    "    \"\"\"\n",
    "    Convert ratios images to concentrations. (outputs an image array)\n",
    "    \n",
    "    Parameters:\n",
    "    ratios (numpy.ndarray): ratio array of shape (# timepoints, #of ratio values to convert).\n",
    "    exp_params (dictionary): dictonary of experimental parameters\n",
    "    cal_params (dictionary): maximum value above which all other values are set to the maximum\n",
    "    allmask_coords (slice): coordinates for multiple timepoints \n",
    "    shape (tuple): shape of image array\n",
    "    \n",
    "    Returns:\n",
    "    ratios_conc_ims (numpy.ndarray): image array in concentration units.\n",
    "    \"\"\"\n",
    "    #Find the ratio value for the inital ATP conc value based on calibration curve equation\n",
    "    RinitATP = ATP_conc_to_ratio(exp_params['ATP_conc'], \n",
    "                                 cal_params.loc['Km']['Value'], \n",
    "                                 cal_params.loc['Rmax']['Value'],\n",
    "                                 cal_params.loc['Rmin']['Value'], \n",
    "                                 cal_params.loc['nhill']['Value'])\n",
    "    #Crop the ratios to within range\n",
    "    ratios_inrange = replace_out_of_range_values(ratios, \n",
    "                                                 cal_params.loc['Rmin']['Value'], \n",
    "                                                 RinitATP)\n",
    "    #convert ratios to concentrations\n",
    "    ratios_conc = ATP_ratio_to_conc(ratios_inrange, cal_params.loc['Km']['Value'], \n",
    "                                     cal_params.loc['Rmax']['Value'],\n",
    "                                     cal_params.loc['Rmin']['Value'], \n",
    "                                     cal_params.loc['nhill']['Value'])\n",
    "    #put ratios array into an imag\n",
    "    ratios_conc_ims = np.zeros(shape)\n",
    "    ratios_conc_ims[allmask_coords] = ratios_conc\n",
    "    \n",
    "    return ratios_conc_ims"
   ]
  },
  {
   "cell_type": "code",
   "execution_count": 14,
   "id": "070d3ba1-761e-4b23-a55e-80473310a236",
   "metadata": {},
   "outputs": [],
   "source": [
    "def infer_concs_listsave(ratios, exp_params, cal_params, allmask_coords, shape):\n",
    "    \"\"\"\n",
    "    Convert ratios images to concentrations. outputs list of ATP values not as image as np.float32 type\n",
    "    \n",
    "    Parameters:\n",
    "    ratios (numpy.ndarray): ratios 2D array of shape (# timepoints, #of ratio values to convert).\n",
    "    exp_params (dictionary): dictonary of experimental parameters\n",
    "    cal_params (dictionary): maximum value above which all other values are set to the maximum\n",
    "    allmask_coords (slice): coordinates for multiple timepoints \n",
    "    shape (tuple): shape of image array\n",
    "    \n",
    "    Returns:\n",
    "    ratios_conc (np.ndarray): 2D array of shape (# timepoints, #of ratio values to convert).\n",
    "    \"\"\"\n",
    "    #Find the ratio value for the inital ATP conc value based on calibration curve equation\n",
    "    RinitATP = ATP_conc_to_ratio(exp_params['ATP_conc'], \n",
    "                                 cal_params.loc['Km']['Value'], \n",
    "                                 cal_params.loc['Rmax']['Value'],\n",
    "                                 cal_params.loc['Rmin']['Value'], \n",
    "                                 cal_params.loc['nhill']['Value'])\n",
    "    #Crop the ratios to within range\n",
    "    ratios_inrange = replace_out_of_range_values(ratios, \n",
    "                                                 cal_params.loc['Rmin']['Value'], \n",
    "                                                 RinitATP)\n",
    "    #convert ratios to concentrations\n",
    "    ratios_conc = ATP_ratio_to_conc(ratios_inrange, cal_params.loc['Km']['Value'], \n",
    "                                     cal_params.loc['Rmax']['Value'],\n",
    "                                     cal_params.loc['Rmin']['Value'], \n",
    "                                     cal_params.loc['nhill']['Value']).astype(np.float32)\n",
    "\n",
    "    \n",
    "    return ratios_conc"
   ]
  },
  {
   "cell_type": "markdown",
   "id": "c70ba6b7-97a7-4d9c-885e-1bf7dab45711",
   "metadata": {},
   "source": [
    "# Motor Calibration\n",
    "here we will have a temporary function turning intensity values to uM. for now just return the same thing"
   ]
  },
  {
   "cell_type": "code",
   "execution_count": 15,
   "id": "e44ef4b8-81e3-4ad2-b1a4-eb2d1ee8a234",
   "metadata": {},
   "outputs": [],
   "source": [
    "def mot_inten_to_conc(arr, allmask_coords):\n",
    "    arr1 = arr[allmask_coords].astype(np.float32)\n",
    "    return arr1"
   ]
  },
  {
   "cell_type": "code",
   "execution_count": 16,
   "id": "30779bc8-2ae0-4bf2-bcff-f4625d6c6227",
   "metadata": {},
   "outputs": [],
   "source": [
    "def linear_mot_cal(arr, allmask_coords, exp_params):\n",
    "    init_mot = exp_params['motor_conc']\n",
    "    protein_per_fluo = init_mot/np.average(arr[allmask_coords][0]) \n",
    "    arr1 = (arr[allmask_coords]*protein_per_fluo).astype(np.float32)\n",
    "    return arr1"
   ]
  },
  {
   "cell_type": "markdown",
   "id": "48add6d5-5eae-4638-a4d1-baed5db183c5",
   "metadata": {},
   "source": [
    "# function to run the whole adventure and save h5py"
   ]
  },
  {
   "cell_type": "code",
   "execution_count": 17,
   "id": "a5e54f24-6ad9-48cc-bc53-be5f5b22d336",
   "metadata": {},
   "outputs": [],
   "source": [
    "def save_ATPconc_images(iterable, return_flag=False):\n",
    "    \n",
    "    gname, file_path_dark, cal_file_path, save_name = iterable\n",
    "    \n",
    "    arrs = parse_ome(gname)\n",
    "    #print(arrs[0].shape)\n",
    "    exp_params = grab_expparams_ome(gname)\n",
    "    #print(exp_params)\n",
    "    dark_avg = grab_dark_avg(file_path_dark)\n",
    "    #print(dark_avg.shape)\n",
    "    cal_params = grab_calparams(cal_file_path)\n",
    "    #print(cal_params)\n",
    "    arrs_sub = backSubtract(arrs, dark_avg)\n",
    "\n",
    "    mask_coords=intersect(arrs_sub)\n",
    "    allmask_coords = np.s_[:, mask_coords[0], mask_coords[1]]\n",
    "\n",
    "    arrs_norm=norm_unev(arrs_sub, mask_coords, allmask_coords)\n",
    "\n",
    "    ratios = arrs_norm[0][allmask_coords]/arrs_norm[1][allmask_coords]\n",
    "\n",
    "    ratios_conc = infer_concs_listsave(ratios, \n",
    "                                  exp_params, \n",
    "                                  cal_params, \n",
    "                                  allmask_coords, \n",
    "                                  arrs_sub[0].shape)\n",
    "    \n",
    "    mot_conc = linear_mot_cal(arrs_norm[2], allmask_coords, exp_params)\n",
    "    \n",
    "    # mkdir should not overwrite if already exists\n",
    "    #desiredSavePathName=gname.split('/')[-4]\n",
    "    desiredSavePathName=gname.split('data')[0]+'analyzed_data'+gname.split('data')[1]\n",
    "    os.system(\"mkdir -p \"+desiredSavePathName)\n",
    "#     currDir=os.getcwd();\n",
    "#     os.chdir(desiredSavePathName)\n",
    "    \n",
    "    #save ATP concentration images\n",
    "    # permits saving into the new directory we just created\n",
    "    localNewDirName=desiredSavePathName.split('/')[-1]\n",
    "    with h5py.File(desiredSavePathName+'/'+localNewDirName+save_name+'ATP.h5', 'w') as h5file: #h5py.File(desiredSavePathName+save_name+'ATP.h5', 'w') as h5file:\n",
    "        h5file.create_dataset(desiredSavePathName+save_name+'ATP', data=ratios_conc)\n",
    "    with h5py.File(desiredSavePathName+'/'+localNewDirName+save_name+'mot.h5', 'w') as h5file:\n",
    "        h5file.create_dataset(desiredSavePathName+save_name+'mot', data=mot_conc)\n",
    "    with h5py.File(desiredSavePathName+'/'+localNewDirName+save_name+'mask_coords.h5', 'w') as h5file:\n",
    "        h5file.create_dataset(desiredSavePathName+save_name+'mask_coords', data=mask_coords)\n",
    "    with h5py.File(desiredSavePathName+'/'+localNewDirName+save_name+'imshape.h5', 'w') as h5file:\n",
    "        h5file.create_dataset(desiredSavePathName+save_name+'imshape', data=dark_avg.shape)\n",
    "        \n",
    "    if return_flag:\n",
    "        return (ratios_conc, mot_conc, mask_coords, dark_avg.shape)"
   ]
  },
  {
   "cell_type": "markdown",
   "id": "7eb47d29-887b-4135-8e30-cb381cbd8b01",
   "metadata": {
    "tags": []
   },
   "source": [
    "# Parallelize"
   ]
  },
  {
   "cell_type": "markdown",
   "id": "702bdae3-7f56-47d3-9863-7d4864acf905",
   "metadata": {},
   "source": [
    "version 1 process pool is less good than thread pool"
   ]
  },
  {
   "cell_type": "raw",
   "id": "930ff506-94e3-4d6e-9fbb-23447ddf277e",
   "metadata": {},
   "source": [
    "#we see this is not a good use of memory\n",
    "## Now, try parallel!\n",
    "results=list(concurrent.futures.ProcessPoolExecutor(max_workers=1).map(save_ATPconc_images, (iterable,)))"
   ]
  },
  {
   "cell_type": "markdown",
   "id": "7f97eec9-ae24-4aa7-90d1-e864c1a8b4a7",
   "metadata": {},
   "source": [
    "thread pool ftw! (faster version) ~circa 1min"
   ]
  },
  {
   "cell_type": "raw",
   "id": "c88365d9-de04-4cb9-a183-8a64afe73924",
   "metadata": {},
   "source": [
    "## Now, try parallel!\n",
    "results=list(concurrent.futures.ThreadPoolExecutor().map(save_ATPconc_images, \n",
    "                                                                      (iterable,)))\n"
   ]
  },
  {
   "cell_type": "markdown",
   "id": "803fdfff-1dc2-4053-aa90-d6150769d3d1",
   "metadata": {},
   "source": [
    "# Stage 2 woo"
   ]
  },
  {
   "cell_type": "markdown",
   "id": "aa74b5ff-0650-463b-a948-6336a9e257d2",
   "metadata": {
    "tags": []
   },
   "source": [
    "# Import h5py save result from stage 1"
   ]
  },
  {
   "cell_type": "markdown",
   "id": "e7dfad79-cb4c-4dc5-8524-11a7a1fa919a",
   "metadata": {},
   "source": [
    "THIS IS THE READ CODE TO KEEP!!!!!"
   ]
  },
  {
   "cell_type": "code",
   "execution_count": 18,
   "id": "f0818372-39f8-4779-8d4e-96b4a762073c",
   "metadata": {},
   "outputs": [],
   "source": [
    "def read_h5py(path_name, excludes=[]):\n",
    "    # Glob for directory parsing to get all .h5 files in the specified path\n",
    "    h5files = glob.glob(path_name + '/*.h5')\n",
    "    for excl in excludes:\n",
    "        h5files=[file for file in h5files if excl not in file]\n",
    "        \n",
    "    #print(\"HDF5 files found:\", h5files)\n",
    "    \n",
    "    # Dictionary to store arrays from each file\n",
    "    all_data = {}\n",
    "    \n",
    "    for file in h5files:\n",
    "        file_data = []  # List to hold datasets for the current file\n",
    "        \n",
    "        with h5py.File(file, 'r') as h5file:\n",
    "            def load_data(name, obj):\n",
    "                if isinstance(obj, h5py.Dataset):\n",
    "                    file_data.append(obj[:])  # Append dataset as a NumPy array\n",
    "            \n",
    "            # Visit all datasets in the file and load them into file_data\n",
    "            h5file.visititems(load_data)\n",
    "        \n",
    "        #slice by 8 since the date has 8 didgits\n",
    "        field_name = file.split('.h5')[0].split('tif')[-1][15:] #BRO, 15 is the number of digits in how we save datetime -> 20241114_201131 (formerly we had 8 since we didnt include time)\n",
    "        #print(file + '\\n')\n",
    "        #print(field_name+ '\\n')\n",
    "            \n",
    "        # Add this file's data to all_data with the filename as the key\n",
    "        all_data[field_name] = file_data[0]\n",
    "        \n",
    "        \n",
    "    return all_data"
   ]
  },
  {
   "cell_type": "markdown",
   "id": "e3b50e20-0225-4280-9615-d5768b556325",
   "metadata": {},
   "source": [
    "# Center Identification"
   ]
  },
  {
   "cell_type": "code",
   "execution_count": 19,
   "id": "442788da-4aa6-420f-924f-871e77e09326",
   "metadata": {},
   "outputs": [],
   "source": [
    "def makeImFromValsList(valuesList, mask_coords, imshape):\n",
    "    \"\"\" valuesList: numTimepoints x numValues, such that valuesList[t,:] is the list of values we populate in the returned image/array\n",
    "        mask_coords: tuple of length 2; the first entry is 1d array of rowNums and the second entry is 1d array of colNums, of length = numValues (defined in mask)\n",
    "        imshape: numImgRows x numImgCols.\n",
    "        \n",
    "        Returns imgArrayTotal = (numTimepoints x numImgRows x numImgCols) array where things are zero when outside the mask and otherwise populated by the provided valuesList in appropriate positions.\n",
    "    \"\"\"\n",
    "    imgArrayTotal = np.zeros((len(valuesList), imshape[0], imshape[1]))\n",
    "    for t in range(len(valuesList)):\n",
    "        imgArrayTotal[t,mask_coords[0], mask_coords[1]]=valuesList[t,:]\n",
    "    \n",
    "    return imgArrayTotal"
   ]
  },
  {
   "cell_type": "code",
   "execution_count": 20,
   "id": "04515a97-5a60-4ee7-ae14-c6e5a5ecf988",
   "metadata": {},
   "outputs": [],
   "source": [
    "def coords_to_mask(coords, imshape):\n",
    "    mask = np.zeros(imshape)\n",
    "    mask[coords]  = 1\n",
    "    return mask"
   ]
  },
  {
   "cell_type": "code",
   "execution_count": 21,
   "id": "db5e0658-a7d6-424d-9f25-f4c9ec0121b4",
   "metadata": {},
   "outputs": [],
   "source": [
    "def center_identification(image, mask_coords, area_thresh=0):\n",
    "    #blur\n",
    "    image_blur = gaussian(image, sigma=50)\n",
    "    \n",
    "    #threshold\n",
    "    thresh = threshold_otsu(image_blur[mask_coords]) #Otsu threshold method\n",
    "    binary = (image_blur>thresh).astype(np.uint8)\n",
    "    \n",
    "    #create a contour\n",
    "    contours, hierarchy = cv2.findContours(binary, 1, 2)\n",
    "    \n",
    "    #iterate through contours (for most connected region)\n",
    "    max_area = 0\n",
    "    max_index = None\n",
    "\n",
    "    #Find the contour that encomppasses the largest area, this will be \n",
    "    #the best center circle guess\n",
    "    for j, contour in enumerate(contours):\n",
    "        area = cv2.contourArea(contour)\n",
    "        if area > max_area:\n",
    "            max_area = area\n",
    "            max_index = j\n",
    "            \n",
    "    #Conditional to find the center - only look if the contour is bigger\n",
    "    #than a threshold radius defined above\n",
    "    if (max_area >= area_thresh):\n",
    "        cnt = contours[max_index]\n",
    "        #Find a circle that best encloses the contour\n",
    "        (x, y), radius = cv2.minEnclosingCircle(cnt)\n",
    "        return (x,y), radius\n",
    "    \n",
    "    else:\n",
    "        return \"No Center Found\""
   ]
  },
  {
   "cell_type": "markdown",
   "id": "c35af2ab-e3ef-446a-9336-7c0ac1d1d8b4",
   "metadata": {},
   "source": [
    "minimum radius from center to mango mask"
   ]
  },
  {
   "cell_type": "code",
   "execution_count": 22,
   "id": "fe825e3f-ac89-4021-920d-f9dc559751fb",
   "metadata": {},
   "outputs": [],
   "source": [
    "def find_contour(mask):\n",
    "    #Find contours of binary image\n",
    "    contours, heirarchy = cv2.findContours(mask.astype(np.uint8), 1, 2)\n",
    "    #iterate through contours (for most connected region)\n",
    "    max_area = 0\n",
    "    max_index = None\n",
    "    for j, contour in enumerate(contours):\n",
    "        area = cv2.contourArea(contour)\n",
    "        if area > max_area:\n",
    "            max_area = area\n",
    "            max_index = j\n",
    "\n",
    "    #Find the coordinates of the illumination pattern contour\n",
    "    cnt = contours[max_index]\n",
    "    cnt = np.array(cnt)\n",
    "    cnt = np.squeeze(cnt)\n",
    "    return cnt"
   ]
  },
  {
   "cell_type": "code",
   "execution_count": 23,
   "id": "de45c8b2-1740-4c98-97af-eb1c13b73f05",
   "metadata": {},
   "outputs": [],
   "source": [
    "def min_radius(mango_mask, centers):\n",
    "    mango_skin_coords = find_contour(mango_mask)\n",
    "    #reshapes stuff and broadcasts to do subtraction\n",
    "    dists = np.sqrt(np.sum((mango_skin_coords[:, np.newaxis, :] - centers[np.newaxis, :, :])**2, axis=2))\n",
    "    #find the minimum distance\n",
    "    min_dist = np.min(dists)\n",
    "    # #find the time and position corresponding to the minimum distance\n",
    "    # min_dist_point, min_dist_time = np.where(dists==min_dist)\n",
    "    # #find the coordinate of the minimimum distance\n",
    "    # min_dist_coord = mango_skin_coords[min_dist_point]\n",
    "    return min_dist"
   ]
  },
  {
   "cell_type": "code",
   "execution_count": 24,
   "id": "47693f64-e8ed-489f-bb26-b74825bcbf20",
   "metadata": {},
   "outputs": [],
   "source": [
    "def centered_crop(arr, centers, min_dist):\n",
    "    arr_cropped = np.zeros((int(centers.shape[0]), 2*int(min_dist), 2*int(min_dist)))\n",
    "    \n",
    "    xmin = (np.round(centers[:, 0]) - int(min_dist)).astype(int)\n",
    "    xmax = (np.round(centers[:, 0]) + int(min_dist)).astype(int)\n",
    "    ymin = (np.round(centers[:, 1]) - int(min_dist)).astype(int)\n",
    "    ymax = (np.round(centers[:, 1]) + int(min_dist)).astype(int)\n",
    "    for t in range(centers.shape[0]):\n",
    "        crop = np.s_[ymin[t]:ymax[t], xmin[t]:xmax[t]]\n",
    "        arr_cropped[t] = arr[t][crop]\n",
    "        \n",
    "    \n",
    "    return arr_cropped"
   ]
  },
  {
   "cell_type": "markdown",
   "id": "d61bcb81-e61f-4699-ab57-546e7ef27207",
   "metadata": {},
   "source": [
    "# Stage 2 Saving - omg it worked!"
   ]
  },
  {
   "cell_type": "code",
   "execution_count": 25,
   "id": "6b393dc1-81fb-4a85-b82a-f3dc2cabebe8",
   "metadata": {},
   "outputs": [],
   "source": [
    "def mangoCoring(gname, save=False):\n",
    "    \"\"\"\n",
    "    Find the center of the mango masks and crop accordingly\n",
    "    \n",
    "    Inputs\n",
    "    -----\n",
    "    dirname: directory path\n",
    "    \"\"\"\n",
    "    #read in dataframes\n",
    "    h5spath = gname.split('data')[0]+'analyzed_data'+gname.split('data')[1]+'/' #dirname.split('data')[0]+'analyzed_data'+gname.split('data')[1]+'/'\n",
    "    h5dic = read_h5py(h5spath)#, excludes=['_centCrop'])\n",
    "    #print(len(h5dic.keys()))\n",
    "    \n",
    "    #Turn data into an image shape (parse)\n",
    "    ATP_conc_ims = makeImFromValsList(h5dic['ATP'], h5dic['mask_coords'], h5dic['imshape'])\n",
    "    mot_conc_ims = makeImFromValsList(h5dic['mot'], h5dic['mask_coords'], h5dic['imshape'])\n",
    "    mango_mask = makeImFromValsList(np.ones((len(h5dic['mot']), len(h5dic['mask_coords'][0]))), h5dic['mask_coords'], h5dic['imshape'])[0].astype('int')\n",
    "\n",
    "    #Identify centers (currently parallel! may need to not do that if nested issues)\n",
    "    frameList=mot_conc_ims #mot_conc_ims[0,:,:], mot_conc_ims[-1,:,:]\n",
    "    coordsRepeatList=itertools.repeat(tuple(h5dic['mask_coords']), len(frameList))#(mask_coords,mask_coords)\n",
    "    cent_and_radii=list(concurrent.futures.ThreadPoolExecutor().map(\n",
    "        center_identification, # the function\n",
    "        frameList,\n",
    "        coordsRepeatList, # the list of things to evaluate the function on\n",
    "        )) # the second argument of the function\n",
    "    \n",
    "    #save centers and radii as comprehensible arrays\n",
    "    centers=np.array([cr[0] for cr in cent_and_radii])\n",
    "    radii=np.array([cr[1] for cr in cent_and_radii])\n",
    "    \n",
    "    #Find the minimum distance between the centers and the skin of the mango\n",
    "    min_dist = min_radius(mango_mask, centers)\n",
    "    \n",
    "    #crop according to centers and minimum distance\n",
    "    ATP_conc_ims_cropped = centered_crop(ATP_conc_ims, centers, min_dist)\n",
    "    mot_conc_ims_cropped = centered_crop(mot_conc_ims, centers, min_dist)\n",
    "    \n",
    "    if save:            \n",
    "        save_name = glob.glob(h5spath + '*mot.h5')[0].split('/')[-1].split('mot.h5')[0] #.strip('mot.h5')\n",
    "        with h5py.File(h5spath+save_name+'ATP_centCrop.h5', 'w') as h5file:\n",
    "            h5file.create_dataset(h5spath+save_name+'ATP_centCrop', data=ATP_conc_ims_cropped)\n",
    "        with h5py.File(h5spath+save_name+'mot_centCrop.h5', 'w') as h5file:\n",
    "            h5file.create_dataset(h5spath+save_name+'mot_centCrop', data=mot_conc_ims_cropped)\n",
    "\n",
    "        \n",
    "    \n",
    "    return ATP_conc_ims_cropped, mot_conc_ims_cropped"
   ]
  },
  {
   "cell_type": "markdown",
   "id": "e24be39f-d68a-4e92-980a-4e006135f309",
   "metadata": {},
   "source": [
    "# Stage 3: Radial Traces!"
   ]
  },
  {
   "cell_type": "code",
   "execution_count": 26,
   "id": "b4ace938-1313-4278-aa69-d6067ab4f7f0",
   "metadata": {},
   "outputs": [],
   "source": [
    "def spaceTimeAvg(imgArray, numTimesWindow, spatialBlock, downsampMode = np.nanmean, mode='valid', clip=True):\n",
    "    \"\"\" Also try mode='valid' if you want to only compute time points where the window fits \"\"\"\n",
    "    #Do the time averaging assuming numTimesWindow >1\n",
    "    if numTimesWindow > 1:\n",
    "        # first, take time running average\n",
    "        window = np.ones(numTimesWindow) / numTimesWindow\n",
    "        # 0 refers to first axis (assumed to be time, if imgArray = numTimes x height x width)\n",
    "        timeAvgd= np.apply_along_axis(lambda m: np.convolve(m, window, mode=mode), 0, imgArray)\n",
    "    else:\n",
    "        timeAvgd = imgArray\n",
    "        \n",
    "    # next, do space average assuming spatialBlock >1\n",
    "    if max(spatialBlock) > 1:  \n",
    "        spaceTimeAvgd=np.zeros((timeAvgd.shape[0], timeAvgd.shape[1]//spatialBlock[0], timeAvgd.shape[1]//spatialBlock[0]))\n",
    "        for t in range(timeAvgd.shape[0]):\n",
    "            spaceTimeAvgd[t,:,:]=skimage.measure.block_reduce(timeAvgd[t,:,:],block_size=spatialBlock, func=downsampMode)\n",
    "    else:\n",
    "        spaceTimeAvgd = timeAvgd\n",
    "    \n",
    "    ## optionally, clip to 99th percentile\n",
    "    if clip:\n",
    "        percentile=99.99\n",
    "        for t in range(spaceTimeAvgd.shape[0]):\n",
    "            cutOff=np.percentile(spaceTimeAvgd[t,:,:].flatten(), percentile)\n",
    "            spaceTimeAvgd[t,:,:]=np.where(spaceTimeAvgd[t,:,:]>cutOff, np.nan, spaceTimeAvgd[t,:,:])\n",
    "    \n",
    "    return spaceTimeAvgd"
   ]
  },
  {
   "cell_type": "code",
   "execution_count": 27,
   "id": "da29eff1-93c8-4157-a2a1-88088cf1a796",
   "metadata": {},
   "outputs": [],
   "source": [
    "### hackish binning alternative\n",
    "## assume square\n",
    "def cartesianToPolar(image):\n",
    "    \"\"\" Assumes image is a m x m (square, 2d) array, and the origin is the closest-to-central pixel.\n",
    "        Returns:\n",
    "            list of all r values of each pixel\n",
    "    \"\"\"\n",
    "    \n",
    "    m = image.shape[0]\n",
    "    center = (m // 2, m // 2)\n",
    "    \n",
    "    # Create grid of coordinates\n",
    "    y, x = np.indices((m, m))\n",
    "    x = x - center[1]\n",
    "    y = y - center[0]\n",
    "    \n",
    "    # Convert to polar coordinates\n",
    "    r = np.sqrt(x**2 + y**2)\n",
    "    theta = np.arctan2(y, x)\n",
    "    \n",
    "    return r, theta\n",
    "\n",
    "def polarAverage(image, bins=20, rTraceMode=np.nanmean):\n",
    "    r, theta = cartesianToPolar(image)\n",
    "    \n",
    "    if type(bins)==int:\n",
    "        # if just an integer, automatically find the radial bins\n",
    "        max_radius = np.max(r)\n",
    "        radial_bins = np.linspace(0, max_radius, bins)\n",
    "        radial_profile = np.zeros(bins - 1) #preallocate\n",
    "    \n",
    "    else:\n",
    "        # else, if bins is an array, assume that the bin edges are supplied explicitly.\n",
    "        radial_bins=bins;\n",
    "        radial_profile = np.zeros(bins.shape[0] - 1)\n",
    "    \n",
    "    for i in range(len(radial_bins) - 1):\n",
    "        mask = (r >= radial_bins[i]) & (r < radial_bins[i + 1])\n",
    "        radial_profile[i] = rTraceMode(image[mask])\n",
    "    \n",
    "    return (radial_bins[:-1]+radial_bins[1:])/2, radial_profile # this returns the MIDPOINT of the radii defining the annuli bins\n",
    "\n",
    "def getSensibleBins(image, numBins=15):\n",
    "    rmax=image.shape[0]//2\n",
    "    return np.linspace(0, rmax, numBins)"
   ]
  },
  {
   "cell_type": "code",
   "execution_count": 28,
   "id": "0b8e3448-b6a5-4225-9e3d-c17991f7772e",
   "metadata": {},
   "outputs": [],
   "source": [
    "def perform_downsamp(arr, timewin, pixelwin, mode=np.nanmean):\n",
    "    \"\"\"\n",
    "    executes the downsampling function safely for a given array and returns a time array\n",
    "    \n",
    "    Inputs:\n",
    "    -------\n",
    "    arr (np.array): 3d image array of shape\n",
    "    timewin (integer): number of timesteps to downsample over\n",
    "    pixelwin (integer): number of pixels to downsample over\n",
    "    mode (function): method of averaging (i.e. np.nanmean or np.nanmedian)\n",
    "    \n",
    "    Returns:\n",
    "    --------\n",
    "    times (np.array): 1D array of the frame number corresponding to downsampled images\n",
    "    arr_downsamped (3d np.array): image array of downsampled data\n",
    "    \"\"\"\n",
    "    \n",
    "    #Establish time array\n",
    "    n=arr.shape[0]; #the number of timepoints for this array\n",
    "    times=1/2*(np.arange(0, n-(timewin-1))+np.arange((timewin-1), n)) \n",
    "    \n",
    "    ###execute the down space timesampling###\n",
    "    #if pixelwin is not a multiple of the array shape, crop the edge pixels\n",
    "    if pixelwin != 0:\n",
    "        offset = arr.shape[-1]%pixelwin\n",
    "    else:\n",
    "        offset=0\n",
    "        \n",
    "    if offset%2==0:\n",
    "        if offset==0:\n",
    "            #dont do anyting\n",
    "            arr_cropped = arr\n",
    "        else:\n",
    "            # trim each side of array evenly\n",
    "            offset=int(offset/2)\n",
    "            arr_cropped = arr[:, offset:-offset, offset:-offset]\n",
    "    else:\n",
    "        #trim unevenly, we arbitrarily chose\n",
    "        offset=math.ceil(offset/2)\n",
    "        arr_cropped = arr[:, (offset-1):-offset, (offset-1):-offset]\n",
    "        \n",
    "    #do the downsampling\n",
    "    arr_downsamped = spaceTimeAvg(arr_cropped, timewin, (pixelwin, pixelwin), downsampMode=mode)\n",
    "    \n",
    "    return times, arr_downsamped"
   ]
  },
  {
   "cell_type": "code",
   "execution_count": 29,
   "id": "669a5ad9-9af3-4c52-b049-a8f853f9fe52",
   "metadata": {},
   "outputs": [],
   "source": [
    "def radialTraces(gname, ATPtimewin, ATPpixelwin, Mottimewin, Motpixelwin, dsmode = np.nanmean, numRbins=30, rTraceMode = np.nanmean, save=False):\n",
    "    \"\"\"\n",
    "    downsamp = list --> if length zero, do not downsample\n",
    "                    --> if length 2, First element is the # of timepoints (scalar), \n",
    "                    Second element is # of pixels length 2 tuple, i.e. [2, (6,6)] Tuple should be same integer in each dimension\n",
    "    \"\"\"\n",
    "    exp_params = grab_expparams_ome(gname)\n",
    "    \n",
    "    #read in h5s\n",
    "    h5spath = gname.split('data')[0]+'analyzed_data'+gname.split('data')[1]+'/'\n",
    "    h5dic = read_h5py(h5spath);\n",
    "    \n",
    "    ATP = h5dic['ATP_centCrop']\n",
    "    mot = h5dic['mot_centCrop']\n",
    "    \n",
    "    #downsample ATP\n",
    "    timesATP, ATP = perform_downsamp(ATP, ATPtimewin, ATPpixelwin, mode=dsmode)\n",
    "    timesMot, mot = perform_downsamp(mot, Mottimewin, Motpixelwin, mode=dsmode)\n",
    "    \n",
    "    timesATP = timesATP*exp_params['interval']\n",
    "    timesMot = timesMot*exp_params['interval']\n",
    "    \n",
    "    ####radially average####\n",
    "    ### Motors ###\n",
    "    # preallocate arrays\n",
    "    all_rMotbins=np.zeros((mot.shape[0], numRbins-1))\n",
    "    all_rMotavgs=np.zeros((mot.shape[0], numRbins-1))\n",
    "    \n",
    "    for t in range(mot.shape[0]):\n",
    "        frame=mot[t,:,:]\n",
    "        rbins_thist, radAvgmot_thist= polarAverage(frame, getSensibleBins(frame, numBins=numRbins), rTraceMode=rTraceMode)\n",
    "        all_rMotbins[t, :]=rbins_thist\n",
    "        all_rMotavgs[t, :]=radAvgmot_thist\n",
    "        \n",
    "    ### ATP ###\n",
    "    # preallocate arrays\n",
    "    all_rATPbins=np.zeros((ATP.shape[0], numRbins-1))\n",
    "    all_rATPavgs=np.zeros((ATP.shape[0], numRbins-1))\n",
    "\n",
    "    for t in range(ATP.shape[0]):\n",
    "        frame=ATP[t,:,:]\n",
    "        rbins_thist, radAvgATP_thist= polarAverage(frame, getSensibleBins(frame, numBins=numRbins), rTraceMode=rTraceMode)\n",
    "        all_rATPbins[t, :]=rbins_thist\n",
    "        all_rATPavgs[t, :]=radAvgATP_thist\n",
    "    \n",
    "    if save:\n",
    "        save_name = glob.glob(h5spath + '*mot.h5')[0].split('/')[-1].split('mot.h5')[0]#.strip('mot.h5')\n",
    "        #Motor h5s\n",
    "        with h5py.File(h5spath+save_name+'timesMot.h5', 'w') as h5file:\n",
    "            h5file.create_dataset(h5spath+save_name+'timesMot', data=timesMot)\n",
    "        with h5py.File(h5spath+save_name+'all_rMotbins.h5', 'w') as h5file:\n",
    "            h5file.create_dataset(h5spath+save_name+'all_rMotbins', data=all_rMotbins)\n",
    "        with h5py.File(h5spath+save_name+'all_rMotavgs.h5', 'w') as h5file:\n",
    "            h5file.create_dataset(h5spath+save_name+'all_rMotavgs', data=all_rMotavgs)\n",
    "        #ATP h5s    \n",
    "        with h5py.File(h5spath+save_name+'timesATP.h5', 'w') as h5file:\n",
    "            h5file.create_dataset(h5spath+save_name+'timesATP', data=timesATP)\n",
    "        with h5py.File(h5spath+save_name+'all_rATPbins.h5', 'w') as h5file:\n",
    "            h5file.create_dataset(h5spath+save_name+'all_rATPbins', data=all_rATPbins)    \n",
    "        with h5py.File(h5spath+save_name+'all_rATPavgs.h5', 'w') as h5file:\n",
    "            h5file.create_dataset(h5spath+save_name+'all_rATPavgs', data=all_rATPavgs)\n",
    "        \n",
    "    return timesMot, all_rMotbins, all_rMotavgs, timesATP, all_rATPbins, all_rATPavgs"
   ]
  },
  {
   "cell_type": "markdown",
   "id": "de58c820-50ef-490e-9776-2d4860562b57",
   "metadata": {},
   "source": [
    "# Do all the saves!!"
   ]
  },
  {
   "cell_type": "raw",
   "id": "bddf64c6-0a6f-4419-9945-fb2f0e42efe9",
   "metadata": {},
   "source": [
    "# gname ='../../data/aster/Ncd_Aster_assay_12-12-2023/20sInterval_0.6uM_NCD_dimers_500uMATP_1.3uM_tubulin_2.8uM_A81D_2/20sInterval_0.6uM_NCD_dimers_500uMATP_1.3uM_tubulin_2.8uM_A81D_2_MMStack_Pos1.ome.tif'\n",
    "# #dark im\n",
    "# file_path_dark = '../../data/dark_ims/2021-01-13_nocamera_dark_1/*Pos*/*tif*'\n",
    "# #cal curve\n",
    "# cal_file_path = '../../analyzed_data/atp_cal/'\n",
    "# cal_file_folder = '2023-12-16_A81D_Cal/'\n",
    "# cal_file_name = 'df_fit_example'\n",
    "# cal_dir = cal_file_path+cal_file_folder+cal_file_name\n",
    "\n",
    "# now = datetime.now()\n",
    "# save_name = now.strftime(\"%Y%m%d_%H%M%S\")#'20241113' #'../../analyzed_data/aster/2023-12-12_NCD_Aster/SAVE1OMG.h5'\n",
    "\n",
    "# iterable = (gname, file_path_dark, cal_dir, save_name)\n",
    "\n",
    "# ###\n",
    "# startTime=time.time()\n",
    "\n",
    "# #Run save 1\n",
    "# save_ATPconc_images(iterable, return_flag=False)\n",
    "\n",
    "# #Run save 2\n",
    "# mangoCoring(iterable[0], save=True);\n",
    "\n",
    "# #Run save 3\n",
    "# radialTraces(iterable[0], ATPtimewin=2, ATPpixelwin=6, Mottimewin=1, Motpixelwin=1, save = True);\n",
    "# print(time.time()-startTime)"
   ]
  },
  {
   "cell_type": "raw",
   "id": "484f0165-05f8-4ee8-bfb8-7efc9880cd3c",
   "metadata": {},
   "source": [
    "gname =gnameList[0]\n",
    "#dark im\n",
    "file_path_dark = '../../data/dark_ims/2021-01-13_nocamera_dark_1/*Pos*/*tif*'\n",
    "#cal curve\n",
    "cal_file_path = '../../analyzed_data/atp_cal/'\n",
    "cal_file_folder = '2023-12-16_A81D_Cal/'\n",
    "cal_file_name = 'df_fit_example'\n",
    "cal_dir = cal_file_path+cal_file_folder+cal_file_name\n",
    "\n",
    "now = datetime.now()\n",
    "save_name = now.strftime(\"%Y%m%d_%H%M%S\")#'20241113' #'../../analyzed_data/aster/2023-12-12_NCD_Aster/SAVE1OMG.h5'\n",
    "\n",
    "iterable = (gname, file_path_dark, cal_dir, save_name)\n",
    "\n",
    "###\n",
    "startTime=time.time()\n",
    "\n",
    "#Run save 1\n",
    "save_ATPconc_images(iterable, return_flag=False)\n",
    "\n",
    "#Run save 2\n",
    "mangoCoring(iterable[0], save=True);\n",
    "\n",
    "#Run save 3\n",
    "radialTraces(iterable[0], ATPtimewin=2, ATPpixelwin=6, Mottimewin=1, Motpixelwin=1, save = True);\n",
    "print(time.time()-startTime)"
   ]
  },
  {
   "cell_type": "code",
   "execution_count": 30,
   "id": "3a99302c-130c-4147-9dc3-a4749f800fba",
   "metadata": {},
   "outputs": [],
   "source": [
    "def allSaves(gname):\n",
    "    #dark im\n",
    "    file_path_dark = '../../data/dark_ims/2021-01-13_nocamera_dark_1/*Pos*/*tif*'\n",
    "    #cal curve\n",
    "    cal_file_path = '../../analyzed_data/atp_cal/'\n",
    "    cal_file_folder = '2023-12-16_A81D_Cal/'\n",
    "    cal_file_name = 'df_fit_example'\n",
    "    cal_dir = cal_file_path+cal_file_folder+cal_file_name\n",
    "    \n",
    "    now = datetime.now()\n",
    "    save_name = now.strftime(\"%Y%m%d_%H%M%S\")#'20241113' #'../../analyzed_data/aster/2023-12-12_NCD_Aster/SAVE1OMG.h5'\n",
    "    \n",
    "    iterable = (gname, file_path_dark, cal_dir, save_name)\n",
    "    #print(iterable)\n",
    "    ###\n",
    "    startTime=time.time()\n",
    "    \n",
    "    #Run save 1\n",
    "    save_ATPconc_images(iterable, return_flag=False)\n",
    "    print(gname+' save1')\n",
    "    \n",
    "    #Run save 2\n",
    "    mangoCoring(gname, save=True);\n",
    "    print(gname+' save2')\n",
    "    \n",
    "    #Run save 3\n",
    "    radialTraces(gname, ATPtimewin=2, ATPpixelwin=6, Mottimewin=1, Motpixelwin=1, save = True);\n",
    "    print(gname+' save3')\n",
    "    print(time.time()-startTime)"
   ]
  },
  {
   "cell_type": "markdown",
   "id": "465807f6-97ca-4673-8e90-6c7240a1f9a3",
   "metadata": {},
   "source": [
    "### Parse CSV to get the gnames"
   ]
  },
  {
   "cell_type": "code",
   "execution_count": 191,
   "id": "581f3b63-ed76-47dc-a2ac-17acb73ef32a",
   "metadata": {},
   "outputs": [],
   "source": [
    "# Place where the metadata file is found\n",
    "metaDataFile='../../data/aster/20241114_footageComments_gnames.csv'\n",
    "metaDF = pd.read_csv(metaDataFile)\n",
    "\n",
    "# ## Includes\n",
    "goodSubset=metaDF[metaDF['Note'].apply(lambda x: 'GOOD' in x)]#[np.isin(metaDF['Note'], \"GOOD\")]\n",
    "gnameList=list('../../data/aster/'+goodSubset['child']+'/'+goodSubset['FILE']+'/'+goodSubset['Position'])"
   ]
  },
  {
   "cell_type": "code",
   "execution_count": 32,
   "id": "2a602f50-c560-458f-88e6-07e479167c4c",
   "metadata": {},
   "outputs": [],
   "source": [
    "# ### THIS BROKE AT some intermediat place\n",
    "# list(concurrent.futures.ProcessPoolExecutor().map(allSaves, gnameList))"
   ]
  },
  {
   "cell_type": "code",
   "execution_count": 33,
   "id": "c51ad66f-735c-4c28-874c-69f6e941c4da",
   "metadata": {},
   "outputs": [],
   "source": [
    "#allSaves('/home/aduarte/am_atp/data/aster/Ncd_Aster_assay_12-07-2023/20sInterval_0.2uM_Ncd_dimers_500uMATP_1.3uM_tubulin_2.8uM_A81D_1/20sInterval_0.2uM_Ncd_dimers_500uMATP_1.3uM_tubulin_2.8uM_A81D_1_MMStack_Pos0.ome.tif')"
   ]
  },
  {
   "cell_type": "code",
   "execution_count": 34,
   "id": "f2e3ee25-16f8-4010-9863-dce0f62e4ad0",
   "metadata": {},
   "outputs": [],
   "source": [
    "# # ### try threadpooleexcutor instead\n",
    "# list(concurrent.futures.ThreadPoolExecutor().map(allSaves, gnameList[:3]))"
   ]
  },
  {
   "cell_type": "markdown",
   "id": "1a13cee9-3b6a-4887-8dc4-8a0657593fa0",
   "metadata": {},
   "source": [
    "## Sheesh, do as for loop"
   ]
  },
  {
   "cell_type": "code",
   "execution_count": 193,
   "id": "2c374d8c-ecd6-4826-ab62-72dafbf9b7f8",
   "metadata": {},
   "outputs": [
    {
     "data": {
      "text/plain": [
       "42"
      ]
     },
     "execution_count": 193,
     "metadata": {},
     "output_type": "execute_result"
    }
   ],
   "source": [
    "len(gnameList), len(np.unique(gnameList))"
   ]
  },
  {
   "cell_type": "code",
   "execution_count": 35,
   "id": "c978e73f-abff-4b0f-9355-dc646fa6bfbc",
   "metadata": {
    "scrolled": true
   },
   "outputs": [
    {
     "name": "stderr",
     "output_type": "stream",
     "text": [
      "/tmp/ipykernel_164204/2823317895.py:24: RuntimeWarning: divide by zero encountered in divide\n",
      "  norm_mat = scalar/biv_filt\n"
     ]
    },
    {
     "name": "stdout",
     "output_type": "stream",
     "text": [
      "../../data/aster/Ncd_Aster_assay_12-12-2023/20sInterval_0.3uM_NCD_dimers_500uMATP_1.3uM_tubulin_2.8uM_A81D_2/20sInterval_0.3uM_NCD_dimers_500uMATP_1.3uM_tubulin_2.8uM_A81D_2_MMStack_Pos0.ome.tif save1\n",
      "../../data/aster/Ncd_Aster_assay_12-12-2023/20sInterval_0.3uM_NCD_dimers_500uMATP_1.3uM_tubulin_2.8uM_A81D_2/20sInterval_0.3uM_NCD_dimers_500uMATP_1.3uM_tubulin_2.8uM_A81D_2_MMStack_Pos0.ome.tif save2\n",
      "../../data/aster/Ncd_Aster_assay_12-12-2023/20sInterval_0.3uM_NCD_dimers_500uMATP_1.3uM_tubulin_2.8uM_A81D_2/20sInterval_0.3uM_NCD_dimers_500uMATP_1.3uM_tubulin_2.8uM_A81D_2_MMStack_Pos0.ome.tif save3\n",
      "100.74412775039673\n",
      "\n",
      "\n"
     ]
    },
    {
     "name": "stderr",
     "output_type": "stream",
     "text": [
      "/tmp/ipykernel_164204/2823317895.py:24: RuntimeWarning: divide by zero encountered in divide\n",
      "  norm_mat = scalar/biv_filt\n"
     ]
    },
    {
     "name": "stdout",
     "output_type": "stream",
     "text": [
      "../../data/aster/Ncd_Aster_assay_12-12-2023/20sInterval_0.3uM_NCD_dimers_500uMATP_1.3uM_tubulin_2.8uM_A81D_2/20sInterval_0.3uM_NCD_dimers_500uMATP_1.3uM_tubulin_2.8uM_A81D_2_MMStack_Pos1.ome.tif save1\n",
      "../../data/aster/Ncd_Aster_assay_12-12-2023/20sInterval_0.3uM_NCD_dimers_500uMATP_1.3uM_tubulin_2.8uM_A81D_2/20sInterval_0.3uM_NCD_dimers_500uMATP_1.3uM_tubulin_2.8uM_A81D_2_MMStack_Pos1.ome.tif save2\n",
      "../../data/aster/Ncd_Aster_assay_12-12-2023/20sInterval_0.3uM_NCD_dimers_500uMATP_1.3uM_tubulin_2.8uM_A81D_2/20sInterval_0.3uM_NCD_dimers_500uMATP_1.3uM_tubulin_2.8uM_A81D_2_MMStack_Pos1.ome.tif save3\n",
      "119.41775584220886\n",
      "\n",
      "\n"
     ]
    },
    {
     "name": "stderr",
     "output_type": "stream",
     "text": [
      "/tmp/ipykernel_164204/2823317895.py:24: RuntimeWarning: divide by zero encountered in divide\n",
      "  norm_mat = scalar/biv_filt\n"
     ]
    },
    {
     "name": "stdout",
     "output_type": "stream",
     "text": [
      "../../data/aster/Ncd_Aster_assay_12-12-2023/20sInterval_0.3uM_NCD_dimers_500uMATP_1.3uM_tubulin_2.8uM_A81D_2/20sInterval_0.3uM_NCD_dimers_500uMATP_1.3uM_tubulin_2.8uM_A81D_2_MMStack_Pos2.ome.tif save1\n",
      "../../data/aster/Ncd_Aster_assay_12-12-2023/20sInterval_0.3uM_NCD_dimers_500uMATP_1.3uM_tubulin_2.8uM_A81D_2/20sInterval_0.3uM_NCD_dimers_500uMATP_1.3uM_tubulin_2.8uM_A81D_2_MMStack_Pos2.ome.tif save2\n",
      "../../data/aster/Ncd_Aster_assay_12-12-2023/20sInterval_0.3uM_NCD_dimers_500uMATP_1.3uM_tubulin_2.8uM_A81D_2/20sInterval_0.3uM_NCD_dimers_500uMATP_1.3uM_tubulin_2.8uM_A81D_2_MMStack_Pos2.ome.tif save3\n",
      "118.93614721298218\n",
      "\n",
      "\n"
     ]
    },
    {
     "name": "stderr",
     "output_type": "stream",
     "text": [
      "/tmp/ipykernel_164204/2823317895.py:24: RuntimeWarning: divide by zero encountered in divide\n",
      "  norm_mat = scalar/biv_filt\n"
     ]
    },
    {
     "name": "stdout",
     "output_type": "stream",
     "text": [
      "../../data/aster/Ncd_Aster_assay_12-12-2023/20sInterval_0.6uM_NCD_dimers_500uMATP_1.3uM_tubulin_2.8uM_A81D_1/20sInterval_0.6uM_NCD_dimers_500uMATP_1.3uM_tubulin_2.8uM_A81D_1_MMStack_Pos0.ome.tif save1\n",
      "../../data/aster/Ncd_Aster_assay_12-12-2023/20sInterval_0.6uM_NCD_dimers_500uMATP_1.3uM_tubulin_2.8uM_A81D_1/20sInterval_0.6uM_NCD_dimers_500uMATP_1.3uM_tubulin_2.8uM_A81D_1_MMStack_Pos0.ome.tif save2\n",
      "../../data/aster/Ncd_Aster_assay_12-12-2023/20sInterval_0.6uM_NCD_dimers_500uMATP_1.3uM_tubulin_2.8uM_A81D_1/20sInterval_0.6uM_NCD_dimers_500uMATP_1.3uM_tubulin_2.8uM_A81D_1_MMStack_Pos0.ome.tif save3\n",
      "147.23831152915955\n",
      "\n",
      "\n"
     ]
    },
    {
     "name": "stderr",
     "output_type": "stream",
     "text": [
      "/tmp/ipykernel_164204/2823317895.py:24: RuntimeWarning: divide by zero encountered in divide\n",
      "  norm_mat = scalar/biv_filt\n"
     ]
    },
    {
     "name": "stdout",
     "output_type": "stream",
     "text": [
      "../../data/aster/Ncd_Aster_assay_12-12-2023/20sInterval_0.6uM_NCD_dimers_500uMATP_1.3uM_tubulin_2.8uM_A81D_1/20sInterval_0.6uM_NCD_dimers_500uMATP_1.3uM_tubulin_2.8uM_A81D_1_MMStack_Pos1.ome.tif save1\n",
      "../../data/aster/Ncd_Aster_assay_12-12-2023/20sInterval_0.6uM_NCD_dimers_500uMATP_1.3uM_tubulin_2.8uM_A81D_1/20sInterval_0.6uM_NCD_dimers_500uMATP_1.3uM_tubulin_2.8uM_A81D_1_MMStack_Pos1.ome.tif save2\n",
      "../../data/aster/Ncd_Aster_assay_12-12-2023/20sInterval_0.6uM_NCD_dimers_500uMATP_1.3uM_tubulin_2.8uM_A81D_1/20sInterval_0.6uM_NCD_dimers_500uMATP_1.3uM_tubulin_2.8uM_A81D_1_MMStack_Pos1.ome.tif save3\n",
      "129.31691074371338\n",
      "\n",
      "\n"
     ]
    },
    {
     "name": "stderr",
     "output_type": "stream",
     "text": [
      "/tmp/ipykernel_164204/2823317895.py:24: RuntimeWarning: divide by zero encountered in divide\n",
      "  norm_mat = scalar/biv_filt\n"
     ]
    },
    {
     "name": "stdout",
     "output_type": "stream",
     "text": [
      "../../data/aster/Ncd_Aster_assay_12-12-2023/20sInterval_0.6uM_NCD_dimers_500uMATP_1.3uM_tubulin_2.8uM_A81D_2/20sInterval_0.6uM_NCD_dimers_500uMATP_1.3uM_tubulin_2.8uM_A81D_2_MMStack_Pos0.ome.tif save1\n",
      "../../data/aster/Ncd_Aster_assay_12-12-2023/20sInterval_0.6uM_NCD_dimers_500uMATP_1.3uM_tubulin_2.8uM_A81D_2/20sInterval_0.6uM_NCD_dimers_500uMATP_1.3uM_tubulin_2.8uM_A81D_2_MMStack_Pos0.ome.tif save2\n",
      "../../data/aster/Ncd_Aster_assay_12-12-2023/20sInterval_0.6uM_NCD_dimers_500uMATP_1.3uM_tubulin_2.8uM_A81D_2/20sInterval_0.6uM_NCD_dimers_500uMATP_1.3uM_tubulin_2.8uM_A81D_2_MMStack_Pos0.ome.tif save3\n",
      "139.7138888835907\n",
      "\n",
      "\n"
     ]
    },
    {
     "name": "stderr",
     "output_type": "stream",
     "text": [
      "/tmp/ipykernel_164204/2823317895.py:24: RuntimeWarning: divide by zero encountered in divide\n",
      "  norm_mat = scalar/biv_filt\n"
     ]
    },
    {
     "name": "stdout",
     "output_type": "stream",
     "text": [
      "../../data/aster/Ncd_Aster_assay_12-12-2023/20sInterval_0.6uM_NCD_dimers_500uMATP_1.3uM_tubulin_2.8uM_A81D_2/20sInterval_0.6uM_NCD_dimers_500uMATP_1.3uM_tubulin_2.8uM_A81D_2_MMStack_Pos1.ome.tif save1\n",
      "../../data/aster/Ncd_Aster_assay_12-12-2023/20sInterval_0.6uM_NCD_dimers_500uMATP_1.3uM_tubulin_2.8uM_A81D_2/20sInterval_0.6uM_NCD_dimers_500uMATP_1.3uM_tubulin_2.8uM_A81D_2_MMStack_Pos1.ome.tif save2\n",
      "../../data/aster/Ncd_Aster_assay_12-12-2023/20sInterval_0.6uM_NCD_dimers_500uMATP_1.3uM_tubulin_2.8uM_A81D_2/20sInterval_0.6uM_NCD_dimers_500uMATP_1.3uM_tubulin_2.8uM_A81D_2_MMStack_Pos1.ome.tif save3\n",
      "142.77200555801392\n",
      "\n",
      "\n"
     ]
    },
    {
     "name": "stderr",
     "output_type": "stream",
     "text": [
      "/tmp/ipykernel_164204/2823317895.py:24: RuntimeWarning: divide by zero encountered in divide\n",
      "  norm_mat = scalar/biv_filt\n"
     ]
    },
    {
     "name": "stdout",
     "output_type": "stream",
     "text": [
      "../../data/aster/Ncd_Aster_assay_12-12-2023/20sInterval_0.6uM_NCD_dimers_500uMATP_1.3uM_tubulin_2.8uM_A81D_2/20sInterval_0.6uM_NCD_dimers_500uMATP_1.3uM_tubulin_2.8uM_A81D_2_MMStack_Pos2.ome.tif save1\n",
      "../../data/aster/Ncd_Aster_assay_12-12-2023/20sInterval_0.6uM_NCD_dimers_500uMATP_1.3uM_tubulin_2.8uM_A81D_2/20sInterval_0.6uM_NCD_dimers_500uMATP_1.3uM_tubulin_2.8uM_A81D_2_MMStack_Pos2.ome.tif save2\n",
      "../../data/aster/Ncd_Aster_assay_12-12-2023/20sInterval_0.6uM_NCD_dimers_500uMATP_1.3uM_tubulin_2.8uM_A81D_2/20sInterval_0.6uM_NCD_dimers_500uMATP_1.3uM_tubulin_2.8uM_A81D_2_MMStack_Pos2.ome.tif save3\n",
      "147.1396768093109\n",
      "\n",
      "\n"
     ]
    },
    {
     "name": "stderr",
     "output_type": "stream",
     "text": [
      "/tmp/ipykernel_164204/2823317895.py:24: RuntimeWarning: divide by zero encountered in divide\n",
      "  norm_mat = scalar/biv_filt\n"
     ]
    },
    {
     "name": "stdout",
     "output_type": "stream",
     "text": [
      "../../data/aster/Ncd_Aster_assay_12-07-2023/20sInterval_0.2uM_Ncd_dimers_500uMATP_1.3uM_tubulin_2.8uM_A81D_1/20sInterval_0.2uM_Ncd_dimers_500uMATP_1.3uM_tubulin_2.8uM_A81D_1_MMStack_Pos0.ome.tif save1\n",
      "../../data/aster/Ncd_Aster_assay_12-07-2023/20sInterval_0.2uM_Ncd_dimers_500uMATP_1.3uM_tubulin_2.8uM_A81D_1/20sInterval_0.2uM_Ncd_dimers_500uMATP_1.3uM_tubulin_2.8uM_A81D_1_MMStack_Pos0.ome.tif save2\n",
      "../../data/aster/Ncd_Aster_assay_12-07-2023/20sInterval_0.2uM_Ncd_dimers_500uMATP_1.3uM_tubulin_2.8uM_A81D_1/20sInterval_0.2uM_Ncd_dimers_500uMATP_1.3uM_tubulin_2.8uM_A81D_1_MMStack_Pos0.ome.tif save3\n",
      "124.11529397964478\n",
      "\n",
      "\n"
     ]
    },
    {
     "name": "stderr",
     "output_type": "stream",
     "text": [
      "/tmp/ipykernel_164204/2823317895.py:24: RuntimeWarning: divide by zero encountered in divide\n",
      "  norm_mat = scalar/biv_filt\n"
     ]
    },
    {
     "name": "stdout",
     "output_type": "stream",
     "text": [
      "../../data/aster/Ncd_Aster_assay_12-07-2023/20sInterval_0.2uM_Ncd_dimers_500uMATP_1.3uM_tubulin_2.8uM_A81D_1/20sInterval_0.2uM_Ncd_dimers_500uMATP_1.3uM_tubulin_2.8uM_A81D_1_MMStack_Pos1.ome.tif save1\n",
      "../../data/aster/Ncd_Aster_assay_12-07-2023/20sInterval_0.2uM_Ncd_dimers_500uMATP_1.3uM_tubulin_2.8uM_A81D_1/20sInterval_0.2uM_Ncd_dimers_500uMATP_1.3uM_tubulin_2.8uM_A81D_1_MMStack_Pos1.ome.tif save2\n",
      "../../data/aster/Ncd_Aster_assay_12-07-2023/20sInterval_0.2uM_Ncd_dimers_500uMATP_1.3uM_tubulin_2.8uM_A81D_1/20sInterval_0.2uM_Ncd_dimers_500uMATP_1.3uM_tubulin_2.8uM_A81D_1_MMStack_Pos1.ome.tif save3\n",
      "121.09508752822876\n",
      "\n",
      "\n"
     ]
    },
    {
     "name": "stderr",
     "output_type": "stream",
     "text": [
      "/tmp/ipykernel_164204/2823317895.py:24: RuntimeWarning: divide by zero encountered in divide\n",
      "  norm_mat = scalar/biv_filt\n"
     ]
    },
    {
     "name": "stdout",
     "output_type": "stream",
     "text": [
      "../../data/aster/Ncd_Aster_assay_12-07-2023/20sInterval_0.2uM_Ncd_dimers_500uMATP_1.3uM_tubulin_2.8uM_A81D_1/20sInterval_0.2uM_Ncd_dimers_500uMATP_1.3uM_tubulin_2.8uM_A81D_1_MMStack_Pos2.ome.tif save1\n",
      "../../data/aster/Ncd_Aster_assay_12-07-2023/20sInterval_0.2uM_Ncd_dimers_500uMATP_1.3uM_tubulin_2.8uM_A81D_1/20sInterval_0.2uM_Ncd_dimers_500uMATP_1.3uM_tubulin_2.8uM_A81D_1_MMStack_Pos2.ome.tif save2\n",
      "../../data/aster/Ncd_Aster_assay_12-07-2023/20sInterval_0.2uM_Ncd_dimers_500uMATP_1.3uM_tubulin_2.8uM_A81D_1/20sInterval_0.2uM_Ncd_dimers_500uMATP_1.3uM_tubulin_2.8uM_A81D_1_MMStack_Pos2.ome.tif save3\n",
      "127.2981948852539\n",
      "\n",
      "\n"
     ]
    },
    {
     "name": "stderr",
     "output_type": "stream",
     "text": [
      "/tmp/ipykernel_164204/2823317895.py:24: RuntimeWarning: divide by zero encountered in divide\n",
      "  norm_mat = scalar/biv_filt\n"
     ]
    },
    {
     "name": "stdout",
     "output_type": "stream",
     "text": [
      "../../data/aster/Ncd_Aster_assay_12-07-2023/20sInterval_0.3uM_Ncd_dimers_500uMATP_1.3uM_tubulin_2.8uM_A81D_1/20sInterval_0.3uM_Ncd_dimers_500uMATP_1.3uM_tubulin_2.8uM_A81D_1_MMStack_Pos0.ome.tif save1\n",
      "../../data/aster/Ncd_Aster_assay_12-07-2023/20sInterval_0.3uM_Ncd_dimers_500uMATP_1.3uM_tubulin_2.8uM_A81D_1/20sInterval_0.3uM_Ncd_dimers_500uMATP_1.3uM_tubulin_2.8uM_A81D_1_MMStack_Pos0.ome.tif save2\n",
      "../../data/aster/Ncd_Aster_assay_12-07-2023/20sInterval_0.3uM_Ncd_dimers_500uMATP_1.3uM_tubulin_2.8uM_A81D_1/20sInterval_0.3uM_Ncd_dimers_500uMATP_1.3uM_tubulin_2.8uM_A81D_1_MMStack_Pos0.ome.tif save3\n",
      "81.43912649154663\n",
      "\n",
      "\n"
     ]
    },
    {
     "name": "stderr",
     "output_type": "stream",
     "text": [
      "/tmp/ipykernel_164204/2823317895.py:24: RuntimeWarning: divide by zero encountered in divide\n",
      "  norm_mat = scalar/biv_filt\n"
     ]
    },
    {
     "name": "stdout",
     "output_type": "stream",
     "text": [
      "../../data/aster/Ncd_Aster_assay_12-07-2023/20sInterval_0.3uM_Ncd_dimers_500uMATP_1.3uM_tubulin_2.8uM_A81D_1/20sInterval_0.3uM_Ncd_dimers_500uMATP_1.3uM_tubulin_2.8uM_A81D_1_MMStack_Pos1.ome.tif save1\n",
      "../../data/aster/Ncd_Aster_assay_12-07-2023/20sInterval_0.3uM_Ncd_dimers_500uMATP_1.3uM_tubulin_2.8uM_A81D_1/20sInterval_0.3uM_Ncd_dimers_500uMATP_1.3uM_tubulin_2.8uM_A81D_1_MMStack_Pos1.ome.tif save2\n",
      "../../data/aster/Ncd_Aster_assay_12-07-2023/20sInterval_0.3uM_Ncd_dimers_500uMATP_1.3uM_tubulin_2.8uM_A81D_1/20sInterval_0.3uM_Ncd_dimers_500uMATP_1.3uM_tubulin_2.8uM_A81D_1_MMStack_Pos1.ome.tif save3\n",
      "81.36017107963562\n",
      "\n",
      "\n"
     ]
    },
    {
     "name": "stderr",
     "output_type": "stream",
     "text": [
      "/tmp/ipykernel_164204/2823317895.py:24: RuntimeWarning: divide by zero encountered in divide\n",
      "  norm_mat = scalar/biv_filt\n"
     ]
    },
    {
     "name": "stdout",
     "output_type": "stream",
     "text": [
      "../../data/aster/Ncd_Aster_assay_12-07-2023/20sInterval_0.3uM_Ncd_dimers_500uMATP_1.3uM_tubulin_2.8uM_A81D_1/20sInterval_0.3uM_Ncd_dimers_500uMATP_1.3uM_tubulin_2.8uM_A81D_1_MMStack_Pos2.ome.tif save1\n",
      "../../data/aster/Ncd_Aster_assay_12-07-2023/20sInterval_0.3uM_Ncd_dimers_500uMATP_1.3uM_tubulin_2.8uM_A81D_1/20sInterval_0.3uM_Ncd_dimers_500uMATP_1.3uM_tubulin_2.8uM_A81D_1_MMStack_Pos2.ome.tif save2\n",
      "../../data/aster/Ncd_Aster_assay_12-07-2023/20sInterval_0.3uM_Ncd_dimers_500uMATP_1.3uM_tubulin_2.8uM_A81D_1/20sInterval_0.3uM_Ncd_dimers_500uMATP_1.3uM_tubulin_2.8uM_A81D_1_MMStack_Pos2.ome.tif save3\n",
      "80.18566370010376\n",
      "\n",
      "\n"
     ]
    },
    {
     "name": "stderr",
     "output_type": "stream",
     "text": [
      "/tmp/ipykernel_164204/2823317895.py:24: RuntimeWarning: divide by zero encountered in divide\n",
      "  norm_mat = scalar/biv_filt\n"
     ]
    },
    {
     "name": "stdout",
     "output_type": "stream",
     "text": [
      "../../data/aster/Ncd_Aster_assay_12-07-2023/20sInterval_0.5uM_Ncd_dimers_500uMATP_1.3uM_tubulin_2.8uM_A81D_1/20sInterval_0.5uM_Ncd_dimers_500uMATP_1.3uM_tubulin_2.8uM_A81D_1_MMStack_Pos0.ome.tif save1\n",
      "../../data/aster/Ncd_Aster_assay_12-07-2023/20sInterval_0.5uM_Ncd_dimers_500uMATP_1.3uM_tubulin_2.8uM_A81D_1/20sInterval_0.5uM_Ncd_dimers_500uMATP_1.3uM_tubulin_2.8uM_A81D_1_MMStack_Pos0.ome.tif save2\n",
      "../../data/aster/Ncd_Aster_assay_12-07-2023/20sInterval_0.5uM_Ncd_dimers_500uMATP_1.3uM_tubulin_2.8uM_A81D_1/20sInterval_0.5uM_Ncd_dimers_500uMATP_1.3uM_tubulin_2.8uM_A81D_1_MMStack_Pos0.ome.tif save3\n",
      "155.49782991409302\n",
      "\n",
      "\n"
     ]
    },
    {
     "name": "stderr",
     "output_type": "stream",
     "text": [
      "/tmp/ipykernel_164204/2823317895.py:24: RuntimeWarning: divide by zero encountered in divide\n",
      "  norm_mat = scalar/biv_filt\n"
     ]
    },
    {
     "name": "stdout",
     "output_type": "stream",
     "text": [
      "../../data/aster/Ncd_Aster_assay_12-07-2023/20sInterval_0.5uM_Ncd_dimers_500uMATP_1.3uM_tubulin_2.8uM_A81D_1/20sInterval_0.5uM_Ncd_dimers_500uMATP_1.3uM_tubulin_2.8uM_A81D_1_MMStack_Pos1.ome.tif save1\n",
      "../../data/aster/Ncd_Aster_assay_12-07-2023/20sInterval_0.5uM_Ncd_dimers_500uMATP_1.3uM_tubulin_2.8uM_A81D_1/20sInterval_0.5uM_Ncd_dimers_500uMATP_1.3uM_tubulin_2.8uM_A81D_1_MMStack_Pos1.ome.tif save2\n",
      "../../data/aster/Ncd_Aster_assay_12-07-2023/20sInterval_0.5uM_Ncd_dimers_500uMATP_1.3uM_tubulin_2.8uM_A81D_1/20sInterval_0.5uM_Ncd_dimers_500uMATP_1.3uM_tubulin_2.8uM_A81D_1_MMStack_Pos1.ome.tif save3\n",
      "164.87023639678955\n",
      "\n",
      "\n"
     ]
    },
    {
     "name": "stderr",
     "output_type": "stream",
     "text": [
      "/tmp/ipykernel_164204/2823317895.py:24: RuntimeWarning: divide by zero encountered in divide\n",
      "  norm_mat = scalar/biv_filt\n"
     ]
    },
    {
     "name": "stdout",
     "output_type": "stream",
     "text": [
      "../../data/aster/Ncd_Aster_assay_12-07-2023/20sInterval_0.5uM_Ncd_dimers_500uMATP_1.3uM_tubulin_2.8uM_A81D_1/20sInterval_0.5uM_Ncd_dimers_500uMATP_1.3uM_tubulin_2.8uM_A81D_1_MMStack_Pos2.ome.tif save1\n",
      "../../data/aster/Ncd_Aster_assay_12-07-2023/20sInterval_0.5uM_Ncd_dimers_500uMATP_1.3uM_tubulin_2.8uM_A81D_1/20sInterval_0.5uM_Ncd_dimers_500uMATP_1.3uM_tubulin_2.8uM_A81D_1_MMStack_Pos2.ome.tif save2\n",
      "../../data/aster/Ncd_Aster_assay_12-07-2023/20sInterval_0.5uM_Ncd_dimers_500uMATP_1.3uM_tubulin_2.8uM_A81D_1/20sInterval_0.5uM_Ncd_dimers_500uMATP_1.3uM_tubulin_2.8uM_A81D_1_MMStack_Pos2.ome.tif save3\n",
      "155.6031687259674\n",
      "\n",
      "\n"
     ]
    },
    {
     "name": "stderr",
     "output_type": "stream",
     "text": [
      "/tmp/ipykernel_164204/2823317895.py:24: RuntimeWarning: divide by zero encountered in divide\n",
      "  norm_mat = scalar/biv_filt\n"
     ]
    },
    {
     "name": "stdout",
     "output_type": "stream",
     "text": [
      "../../data/aster/Ncd_Aster_assay_12-07-2023/20sInterval_0.6uM_Ncd_dimers_500uMATP_1.3uM_tubulin_2.8uM_A81D_1/20sInterval_0.6uM_Ncd_dimers_500uMATP_1.3uM_tubulin_2.8uM_A81D_1_MMStack_Pos0.ome.tif save1\n",
      "../../data/aster/Ncd_Aster_assay_12-07-2023/20sInterval_0.6uM_Ncd_dimers_500uMATP_1.3uM_tubulin_2.8uM_A81D_1/20sInterval_0.6uM_Ncd_dimers_500uMATP_1.3uM_tubulin_2.8uM_A81D_1_MMStack_Pos0.ome.tif save2\n",
      "../../data/aster/Ncd_Aster_assay_12-07-2023/20sInterval_0.6uM_Ncd_dimers_500uMATP_1.3uM_tubulin_2.8uM_A81D_1/20sInterval_0.6uM_Ncd_dimers_500uMATP_1.3uM_tubulin_2.8uM_A81D_1_MMStack_Pos0.ome.tif save3\n",
      "131.51497650146484\n",
      "\n",
      "\n"
     ]
    },
    {
     "name": "stderr",
     "output_type": "stream",
     "text": [
      "/tmp/ipykernel_164204/2823317895.py:24: RuntimeWarning: divide by zero encountered in divide\n",
      "  norm_mat = scalar/biv_filt\n"
     ]
    },
    {
     "name": "stdout",
     "output_type": "stream",
     "text": [
      "../../data/aster/Ncd_Aster_assay_12-07-2023/20sInterval_0.6uM_Ncd_dimers_500uMATP_1.3uM_tubulin_2.8uM_A81D_1/20sInterval_0.6uM_Ncd_dimers_500uMATP_1.3uM_tubulin_2.8uM_A81D_1_MMStack_Pos1.ome.tif save1\n",
      "../../data/aster/Ncd_Aster_assay_12-07-2023/20sInterval_0.6uM_Ncd_dimers_500uMATP_1.3uM_tubulin_2.8uM_A81D_1/20sInterval_0.6uM_Ncd_dimers_500uMATP_1.3uM_tubulin_2.8uM_A81D_1_MMStack_Pos1.ome.tif save2\n",
      "../../data/aster/Ncd_Aster_assay_12-07-2023/20sInterval_0.6uM_Ncd_dimers_500uMATP_1.3uM_tubulin_2.8uM_A81D_1/20sInterval_0.6uM_Ncd_dimers_500uMATP_1.3uM_tubulin_2.8uM_A81D_1_MMStack_Pos1.ome.tif save3\n",
      "136.2186622619629\n",
      "\n",
      "\n"
     ]
    },
    {
     "name": "stderr",
     "output_type": "stream",
     "text": [
      "/tmp/ipykernel_164204/2823317895.py:24: RuntimeWarning: divide by zero encountered in divide\n",
      "  norm_mat = scalar/biv_filt\n"
     ]
    },
    {
     "name": "stdout",
     "output_type": "stream",
     "text": [
      "../../data/aster/Ncd_Aster_assay_12-07-2023/20sInterval_0.6uM_Ncd_dimers_500uMATP_1.3uM_tubulin_2.8uM_A81D_1/20sInterval_0.6uM_Ncd_dimers_500uMATP_1.3uM_tubulin_2.8uM_A81D_1_MMStack_Pos2.ome.tif save1\n",
      "../../data/aster/Ncd_Aster_assay_12-07-2023/20sInterval_0.6uM_Ncd_dimers_500uMATP_1.3uM_tubulin_2.8uM_A81D_1/20sInterval_0.6uM_Ncd_dimers_500uMATP_1.3uM_tubulin_2.8uM_A81D_1_MMStack_Pos2.ome.tif save2\n",
      "../../data/aster/Ncd_Aster_assay_12-07-2023/20sInterval_0.6uM_Ncd_dimers_500uMATP_1.3uM_tubulin_2.8uM_A81D_1/20sInterval_0.6uM_Ncd_dimers_500uMATP_1.3uM_tubulin_2.8uM_A81D_1_MMStack_Pos2.ome.tif save3\n",
      "120.69376516342163\n",
      "\n",
      "\n"
     ]
    },
    {
     "name": "stderr",
     "output_type": "stream",
     "text": [
      "/tmp/ipykernel_164204/2823317895.py:24: RuntimeWarning: divide by zero encountered in divide\n",
      "  norm_mat = scalar/biv_filt\n"
     ]
    },
    {
     "name": "stdout",
     "output_type": "stream",
     "text": [
      "../../data/aster/Ncd_Aster_assay_12-07-2023/20sInterval_0.6uM_Ncd_dimers_500uMATP_1.3uM_tubulin_2.8uM_A81D_2/20sInterval_0.6uM_Ncd_dimers_500uMATP_1.3uM_tubulin_2.8uM_A81D_2_MMStack_Pos0.ome.tif save1\n",
      "../../data/aster/Ncd_Aster_assay_12-07-2023/20sInterval_0.6uM_Ncd_dimers_500uMATP_1.3uM_tubulin_2.8uM_A81D_2/20sInterval_0.6uM_Ncd_dimers_500uMATP_1.3uM_tubulin_2.8uM_A81D_2_MMStack_Pos0.ome.tif save2\n",
      "../../data/aster/Ncd_Aster_assay_12-07-2023/20sInterval_0.6uM_Ncd_dimers_500uMATP_1.3uM_tubulin_2.8uM_A81D_2/20sInterval_0.6uM_Ncd_dimers_500uMATP_1.3uM_tubulin_2.8uM_A81D_2_MMStack_Pos0.ome.tif save3\n",
      "179.6539022922516\n",
      "\n",
      "\n"
     ]
    },
    {
     "name": "stderr",
     "output_type": "stream",
     "text": [
      "/tmp/ipykernel_164204/2823317895.py:24: RuntimeWarning: divide by zero encountered in divide\n",
      "  norm_mat = scalar/biv_filt\n"
     ]
    },
    {
     "name": "stdout",
     "output_type": "stream",
     "text": [
      "../../data/aster/Ncd_Aster_assay_12-07-2023/20sInterval_0.6uM_Ncd_dimers_500uMATP_1.3uM_tubulin_2.8uM_A81D_2/20sInterval_0.6uM_Ncd_dimers_500uMATP_1.3uM_tubulin_2.8uM_A81D_2_MMStack_Pos1.ome.tif save1\n",
      "../../data/aster/Ncd_Aster_assay_12-07-2023/20sInterval_0.6uM_Ncd_dimers_500uMATP_1.3uM_tubulin_2.8uM_A81D_2/20sInterval_0.6uM_Ncd_dimers_500uMATP_1.3uM_tubulin_2.8uM_A81D_2_MMStack_Pos1.ome.tif save2\n",
      "../../data/aster/Ncd_Aster_assay_12-07-2023/20sInterval_0.6uM_Ncd_dimers_500uMATP_1.3uM_tubulin_2.8uM_A81D_2/20sInterval_0.6uM_Ncd_dimers_500uMATP_1.3uM_tubulin_2.8uM_A81D_2_MMStack_Pos1.ome.tif save3\n",
      "164.678608417511\n",
      "\n",
      "\n"
     ]
    },
    {
     "name": "stderr",
     "output_type": "stream",
     "text": [
      "/tmp/ipykernel_164204/2823317895.py:24: RuntimeWarning: divide by zero encountered in divide\n",
      "  norm_mat = scalar/biv_filt\n"
     ]
    },
    {
     "name": "stdout",
     "output_type": "stream",
     "text": [
      "../../data/aster/Ncd_Aster_assay_12-07-2023/20sInterval_0.6uM_Ncd_dimers_500uMATP_1.3uM_tubulin_2.8uM_A81D_2/20sInterval_0.6uM_Ncd_dimers_500uMATP_1.3uM_tubulin_2.8uM_A81D_2_MMStack_Pos2.ome.tif save1\n",
      "../../data/aster/Ncd_Aster_assay_12-07-2023/20sInterval_0.6uM_Ncd_dimers_500uMATP_1.3uM_tubulin_2.8uM_A81D_2/20sInterval_0.6uM_Ncd_dimers_500uMATP_1.3uM_tubulin_2.8uM_A81D_2_MMStack_Pos2.ome.tif save2\n",
      "../../data/aster/Ncd_Aster_assay_12-07-2023/20sInterval_0.6uM_Ncd_dimers_500uMATP_1.3uM_tubulin_2.8uM_A81D_2/20sInterval_0.6uM_Ncd_dimers_500uMATP_1.3uM_tubulin_2.8uM_A81D_2_MMStack_Pos2.ome.tif save3\n",
      "155.22729396820068\n",
      "\n",
      "\n"
     ]
    },
    {
     "name": "stderr",
     "output_type": "stream",
     "text": [
      "/tmp/ipykernel_164204/2823317895.py:24: RuntimeWarning: divide by zero encountered in divide\n",
      "  norm_mat = scalar/biv_filt\n"
     ]
    },
    {
     "name": "stdout",
     "output_type": "stream",
     "text": [
      "../../data/aster/Ncd_Aster_assay_12-11-2023/20sInterval_0.6uM_NCD_dimers_500uMATP_1.3uM_tubulin_2.8uM_A81D_1/20sInterval_0.6uM_NCD_dimers_500uMATP_1.3uM_tubulin_2.8uM_A81D_1_MMStack_Pos0.ome.tif save1\n",
      "../../data/aster/Ncd_Aster_assay_12-11-2023/20sInterval_0.6uM_NCD_dimers_500uMATP_1.3uM_tubulin_2.8uM_A81D_1/20sInterval_0.6uM_NCD_dimers_500uMATP_1.3uM_tubulin_2.8uM_A81D_1_MMStack_Pos0.ome.tif save2\n",
      "../../data/aster/Ncd_Aster_assay_12-11-2023/20sInterval_0.6uM_NCD_dimers_500uMATP_1.3uM_tubulin_2.8uM_A81D_1/20sInterval_0.6uM_NCD_dimers_500uMATP_1.3uM_tubulin_2.8uM_A81D_1_MMStack_Pos0.ome.tif save3\n",
      "154.10550904273987\n",
      "\n",
      "\n"
     ]
    },
    {
     "name": "stderr",
     "output_type": "stream",
     "text": [
      "/tmp/ipykernel_164204/2823317895.py:24: RuntimeWarning: divide by zero encountered in divide\n",
      "  norm_mat = scalar/biv_filt\n"
     ]
    },
    {
     "name": "stdout",
     "output_type": "stream",
     "text": [
      "../../data/aster/Ncd_Aster_assay_12-11-2023/20sInterval_0.6uM_NCD_dimers_500uMATP_1.3uM_tubulin_2.8uM_A81D_1/20sInterval_0.6uM_NCD_dimers_500uMATP_1.3uM_tubulin_2.8uM_A81D_1_MMStack_Pos1.ome.tif save1\n",
      "../../data/aster/Ncd_Aster_assay_12-11-2023/20sInterval_0.6uM_NCD_dimers_500uMATP_1.3uM_tubulin_2.8uM_A81D_1/20sInterval_0.6uM_NCD_dimers_500uMATP_1.3uM_tubulin_2.8uM_A81D_1_MMStack_Pos1.ome.tif save2\n",
      "../../data/aster/Ncd_Aster_assay_12-11-2023/20sInterval_0.6uM_NCD_dimers_500uMATP_1.3uM_tubulin_2.8uM_A81D_1/20sInterval_0.6uM_NCD_dimers_500uMATP_1.3uM_tubulin_2.8uM_A81D_1_MMStack_Pos1.ome.tif save3\n",
      "160.66714763641357\n",
      "\n",
      "\n"
     ]
    },
    {
     "name": "stderr",
     "output_type": "stream",
     "text": [
      "/tmp/ipykernel_164204/2823317895.py:24: RuntimeWarning: divide by zero encountered in divide\n",
      "  norm_mat = scalar/biv_filt\n"
     ]
    },
    {
     "name": "stdout",
     "output_type": "stream",
     "text": [
      "../../data/aster/Ncd_Aster_assay_12-11-2023/20sInterval_0.6uM_NCD_dimers_500uMATP_1.3uM_tubulin_2.8uM_A81D_1/20sInterval_0.6uM_NCD_dimers_500uMATP_1.3uM_tubulin_2.8uM_A81D_1_MMStack_Pos2.ome.tif save1\n",
      "../../data/aster/Ncd_Aster_assay_12-11-2023/20sInterval_0.6uM_NCD_dimers_500uMATP_1.3uM_tubulin_2.8uM_A81D_1/20sInterval_0.6uM_NCD_dimers_500uMATP_1.3uM_tubulin_2.8uM_A81D_1_MMStack_Pos2.ome.tif save2\n",
      "../../data/aster/Ncd_Aster_assay_12-11-2023/20sInterval_0.6uM_NCD_dimers_500uMATP_1.3uM_tubulin_2.8uM_A81D_1/20sInterval_0.6uM_NCD_dimers_500uMATP_1.3uM_tubulin_2.8uM_A81D_1_MMStack_Pos2.ome.tif save3\n",
      "171.80365681648254\n",
      "\n",
      "\n"
     ]
    },
    {
     "name": "stderr",
     "output_type": "stream",
     "text": [
      "/tmp/ipykernel_164204/2823317895.py:24: RuntimeWarning: divide by zero encountered in divide\n",
      "  norm_mat = scalar/biv_filt\n"
     ]
    },
    {
     "name": "stdout",
     "output_type": "stream",
     "text": [
      "../../data/aster/Ncd_Aster_assay_12-11-2023/20sInterval_0.75uM_NCD_dimers_500uMATP_1.3uM_tubulin_2.8uM_A81D_1/20sInterval_0.75uM_NCD_dimers_500uMATP_1.3uM_tubulin_2.8uM_A81D_1_MMStack_Pos0.ome.tif save1\n",
      "../../data/aster/Ncd_Aster_assay_12-11-2023/20sInterval_0.75uM_NCD_dimers_500uMATP_1.3uM_tubulin_2.8uM_A81D_1/20sInterval_0.75uM_NCD_dimers_500uMATP_1.3uM_tubulin_2.8uM_A81D_1_MMStack_Pos0.ome.tif save2\n",
      "../../data/aster/Ncd_Aster_assay_12-11-2023/20sInterval_0.75uM_NCD_dimers_500uMATP_1.3uM_tubulin_2.8uM_A81D_1/20sInterval_0.75uM_NCD_dimers_500uMATP_1.3uM_tubulin_2.8uM_A81D_1_MMStack_Pos0.ome.tif save3\n",
      "116.77127051353455\n",
      "\n",
      "\n"
     ]
    },
    {
     "name": "stderr",
     "output_type": "stream",
     "text": [
      "/tmp/ipykernel_164204/2823317895.py:24: RuntimeWarning: divide by zero encountered in divide\n",
      "  norm_mat = scalar/biv_filt\n"
     ]
    },
    {
     "name": "stdout",
     "output_type": "stream",
     "text": [
      "../../data/aster/Ncd_Aster_assay_12-11-2023/20sInterval_0.75uM_NCD_dimers_500uMATP_1.3uM_tubulin_2.8uM_A81D_1/20sInterval_0.75uM_NCD_dimers_500uMATP_1.3uM_tubulin_2.8uM_A81D_1_MMStack_Pos1.ome.tif save1\n",
      "../../data/aster/Ncd_Aster_assay_12-11-2023/20sInterval_0.75uM_NCD_dimers_500uMATP_1.3uM_tubulin_2.8uM_A81D_1/20sInterval_0.75uM_NCD_dimers_500uMATP_1.3uM_tubulin_2.8uM_A81D_1_MMStack_Pos1.ome.tif save2\n",
      "../../data/aster/Ncd_Aster_assay_12-11-2023/20sInterval_0.75uM_NCD_dimers_500uMATP_1.3uM_tubulin_2.8uM_A81D_1/20sInterval_0.75uM_NCD_dimers_500uMATP_1.3uM_tubulin_2.8uM_A81D_1_MMStack_Pos1.ome.tif save3\n",
      "108.98911547660828\n",
      "\n",
      "\n"
     ]
    },
    {
     "name": "stderr",
     "output_type": "stream",
     "text": [
      "/tmp/ipykernel_164204/2823317895.py:24: RuntimeWarning: divide by zero encountered in divide\n",
      "  norm_mat = scalar/biv_filt\n"
     ]
    },
    {
     "name": "stdout",
     "output_type": "stream",
     "text": [
      "../../data/aster/Ncd_Aster_assay_12-11-2023/20sInterval_0.75uM_NCD_dimers_500uMATP_1.3uM_tubulin_2.8uM_A81D_1/20sInterval_0.75uM_NCD_dimers_500uMATP_1.3uM_tubulin_2.8uM_A81D_1_MMStack_Pos2.ome.tif save1\n",
      "../../data/aster/Ncd_Aster_assay_12-11-2023/20sInterval_0.75uM_NCD_dimers_500uMATP_1.3uM_tubulin_2.8uM_A81D_1/20sInterval_0.75uM_NCD_dimers_500uMATP_1.3uM_tubulin_2.8uM_A81D_1_MMStack_Pos2.ome.tif save2\n",
      "../../data/aster/Ncd_Aster_assay_12-11-2023/20sInterval_0.75uM_NCD_dimers_500uMATP_1.3uM_tubulin_2.8uM_A81D_1/20sInterval_0.75uM_NCD_dimers_500uMATP_1.3uM_tubulin_2.8uM_A81D_1_MMStack_Pos2.ome.tif save3\n",
      "116.5617733001709\n",
      "\n",
      "\n"
     ]
    },
    {
     "name": "stderr",
     "output_type": "stream",
     "text": [
      "/tmp/ipykernel_164204/2823317895.py:24: RuntimeWarning: divide by zero encountered in divide\n",
      "  norm_mat = scalar/biv_filt\n"
     ]
    },
    {
     "name": "stdout",
     "output_type": "stream",
     "text": [
      "../../data/aster/Ncd_Aster_assay_12-11-2023/20sInterval_0.75uM_NCD_dimers_500uMATP_1.3uM_tubulin_2.8uM_A81D_2/20sInterval_0.75uM_NCD_dimers_500uMATP_1.3uM_tubulin_2.8uM_A81D_2_MMStack_Pos0.ome.tif save1\n",
      "../../data/aster/Ncd_Aster_assay_12-11-2023/20sInterval_0.75uM_NCD_dimers_500uMATP_1.3uM_tubulin_2.8uM_A81D_2/20sInterval_0.75uM_NCD_dimers_500uMATP_1.3uM_tubulin_2.8uM_A81D_2_MMStack_Pos0.ome.tif save2\n",
      "../../data/aster/Ncd_Aster_assay_12-11-2023/20sInterval_0.75uM_NCD_dimers_500uMATP_1.3uM_tubulin_2.8uM_A81D_2/20sInterval_0.75uM_NCD_dimers_500uMATP_1.3uM_tubulin_2.8uM_A81D_2_MMStack_Pos0.ome.tif save3\n",
      "190.69531393051147\n",
      "\n",
      "\n"
     ]
    },
    {
     "name": "stderr",
     "output_type": "stream",
     "text": [
      "/tmp/ipykernel_164204/2823317895.py:24: RuntimeWarning: divide by zero encountered in divide\n",
      "  norm_mat = scalar/biv_filt\n"
     ]
    },
    {
     "name": "stdout",
     "output_type": "stream",
     "text": [
      "../../data/aster/Ncd_Aster_assay_12-11-2023/20sInterval_0.75uM_NCD_dimers_500uMATP_1.3uM_tubulin_2.8uM_A81D_2/20sInterval_0.75uM_NCD_dimers_500uMATP_1.3uM_tubulin_2.8uM_A81D_2_MMStack_Pos1.ome.tif save1\n",
      "../../data/aster/Ncd_Aster_assay_12-11-2023/20sInterval_0.75uM_NCD_dimers_500uMATP_1.3uM_tubulin_2.8uM_A81D_2/20sInterval_0.75uM_NCD_dimers_500uMATP_1.3uM_tubulin_2.8uM_A81D_2_MMStack_Pos1.ome.tif save2\n",
      "../../data/aster/Ncd_Aster_assay_12-11-2023/20sInterval_0.75uM_NCD_dimers_500uMATP_1.3uM_tubulin_2.8uM_A81D_2/20sInterval_0.75uM_NCD_dimers_500uMATP_1.3uM_tubulin_2.8uM_A81D_2_MMStack_Pos1.ome.tif save3\n",
      "170.83584666252136\n",
      "\n",
      "\n"
     ]
    },
    {
     "name": "stderr",
     "output_type": "stream",
     "text": [
      "/tmp/ipykernel_164204/2823317895.py:24: RuntimeWarning: divide by zero encountered in divide\n",
      "  norm_mat = scalar/biv_filt\n"
     ]
    },
    {
     "name": "stdout",
     "output_type": "stream",
     "text": [
      "../../data/aster/Ncd_Aster_assay_12-11-2023/20sInterval_0.75uM_NCD_dimers_500uMATP_1.3uM_tubulin_2.8uM_A81D_2/20sInterval_0.75uM_NCD_dimers_500uMATP_1.3uM_tubulin_2.8uM_A81D_2_MMStack_Pos2.ome.tif save1\n",
      "../../data/aster/Ncd_Aster_assay_12-11-2023/20sInterval_0.75uM_NCD_dimers_500uMATP_1.3uM_tubulin_2.8uM_A81D_2/20sInterval_0.75uM_NCD_dimers_500uMATP_1.3uM_tubulin_2.8uM_A81D_2_MMStack_Pos2.ome.tif save2\n",
      "../../data/aster/Ncd_Aster_assay_12-11-2023/20sInterval_0.75uM_NCD_dimers_500uMATP_1.3uM_tubulin_2.8uM_A81D_2/20sInterval_0.75uM_NCD_dimers_500uMATP_1.3uM_tubulin_2.8uM_A81D_2_MMStack_Pos2.ome.tif save3\n",
      "151.2211058139801\n",
      "\n",
      "\n"
     ]
    },
    {
     "name": "stderr",
     "output_type": "stream",
     "text": [
      "/tmp/ipykernel_164204/2823317895.py:24: RuntimeWarning: divide by zero encountered in divide\n",
      "  norm_mat = scalar/biv_filt\n"
     ]
    },
    {
     "name": "stdout",
     "output_type": "stream",
     "text": [
      "../../data/aster/Ncd_Aster_assay_12-11-2023/20sInterval_0.375uM_NCD_dimers_500uMATP_1.3uM_tubulin_2.8uM_A81D_2/20sInterval_0.375uM_NCD_dimers_500uMATP_1.3uM_tubulin_2.8uM_A81D_2_MMStack_Pos0.ome.tif save1\n",
      "../../data/aster/Ncd_Aster_assay_12-11-2023/20sInterval_0.375uM_NCD_dimers_500uMATP_1.3uM_tubulin_2.8uM_A81D_2/20sInterval_0.375uM_NCD_dimers_500uMATP_1.3uM_tubulin_2.8uM_A81D_2_MMStack_Pos0.ome.tif save2\n",
      "../../data/aster/Ncd_Aster_assay_12-11-2023/20sInterval_0.375uM_NCD_dimers_500uMATP_1.3uM_tubulin_2.8uM_A81D_2/20sInterval_0.375uM_NCD_dimers_500uMATP_1.3uM_tubulin_2.8uM_A81D_2_MMStack_Pos0.ome.tif save3\n",
      "165.1402988433838\n",
      "\n",
      "\n"
     ]
    },
    {
     "name": "stderr",
     "output_type": "stream",
     "text": [
      "/tmp/ipykernel_164204/2823317895.py:24: RuntimeWarning: divide by zero encountered in divide\n",
      "  norm_mat = scalar/biv_filt\n"
     ]
    },
    {
     "name": "stdout",
     "output_type": "stream",
     "text": [
      "../../data/aster/Ncd_Aster_assay_12-11-2023/20sInterval_0.375uM_NCD_dimers_500uMATP_1.3uM_tubulin_2.8uM_A81D_2/20sInterval_0.375uM_NCD_dimers_500uMATP_1.3uM_tubulin_2.8uM_A81D_2_MMStack_Pos1.ome.tif save1\n",
      "../../data/aster/Ncd_Aster_assay_12-11-2023/20sInterval_0.375uM_NCD_dimers_500uMATP_1.3uM_tubulin_2.8uM_A81D_2/20sInterval_0.375uM_NCD_dimers_500uMATP_1.3uM_tubulin_2.8uM_A81D_2_MMStack_Pos1.ome.tif save2\n",
      "../../data/aster/Ncd_Aster_assay_12-11-2023/20sInterval_0.375uM_NCD_dimers_500uMATP_1.3uM_tubulin_2.8uM_A81D_2/20sInterval_0.375uM_NCD_dimers_500uMATP_1.3uM_tubulin_2.8uM_A81D_2_MMStack_Pos1.ome.tif save3\n",
      "169.97283029556274\n",
      "\n",
      "\n"
     ]
    },
    {
     "name": "stderr",
     "output_type": "stream",
     "text": [
      "/tmp/ipykernel_164204/2823317895.py:24: RuntimeWarning: divide by zero encountered in divide\n",
      "  norm_mat = scalar/biv_filt\n"
     ]
    },
    {
     "name": "stdout",
     "output_type": "stream",
     "text": [
      "../../data/aster/Ncd_Aster_assay_12-11-2023/20sInterval_0.375uM_NCD_dimers_500uMATP_1.3uM_tubulin_2.8uM_A81D_2/20sInterval_0.375uM_NCD_dimers_500uMATP_1.3uM_tubulin_2.8uM_A81D_2_MMStack_Pos2.ome.tif save1\n",
      "../../data/aster/Ncd_Aster_assay_12-11-2023/20sInterval_0.375uM_NCD_dimers_500uMATP_1.3uM_tubulin_2.8uM_A81D_2/20sInterval_0.375uM_NCD_dimers_500uMATP_1.3uM_tubulin_2.8uM_A81D_2_MMStack_Pos2.ome.tif save2\n",
      "../../data/aster/Ncd_Aster_assay_12-11-2023/20sInterval_0.375uM_NCD_dimers_500uMATP_1.3uM_tubulin_2.8uM_A81D_2/20sInterval_0.375uM_NCD_dimers_500uMATP_1.3uM_tubulin_2.8uM_A81D_2_MMStack_Pos2.ome.tif save3\n",
      "164.10919380187988\n",
      "\n",
      "\n"
     ]
    },
    {
     "name": "stderr",
     "output_type": "stream",
     "text": [
      "/tmp/ipykernel_164204/2823317895.py:24: RuntimeWarning: divide by zero encountered in divide\n",
      "  norm_mat = scalar/biv_filt\n"
     ]
    },
    {
     "name": "stdout",
     "output_type": "stream",
     "text": [
      "../../data/aster/Ncd_Aster_assay_12-11-2023/20sInterval_0.375uM_NCD_dimers_500uMATP_1.3uM_tubulin_2.8uM_A81D_3/20sInterval_0.375uM_NCD_dimers_500uMATP_1.3uM_tubulin_2.8uM_A81D_3_MMStack_Pos0.ome.tif save1\n",
      "../../data/aster/Ncd_Aster_assay_12-11-2023/20sInterval_0.375uM_NCD_dimers_500uMATP_1.3uM_tubulin_2.8uM_A81D_3/20sInterval_0.375uM_NCD_dimers_500uMATP_1.3uM_tubulin_2.8uM_A81D_3_MMStack_Pos0.ome.tif save2\n",
      "../../data/aster/Ncd_Aster_assay_12-11-2023/20sInterval_0.375uM_NCD_dimers_500uMATP_1.3uM_tubulin_2.8uM_A81D_3/20sInterval_0.375uM_NCD_dimers_500uMATP_1.3uM_tubulin_2.8uM_A81D_3_MMStack_Pos0.ome.tif save3\n",
      "112.32073521614075\n",
      "\n",
      "\n"
     ]
    },
    {
     "name": "stderr",
     "output_type": "stream",
     "text": [
      "/tmp/ipykernel_164204/2823317895.py:24: RuntimeWarning: divide by zero encountered in divide\n",
      "  norm_mat = scalar/biv_filt\n"
     ]
    },
    {
     "name": "stdout",
     "output_type": "stream",
     "text": [
      "../../data/aster/Ncd_Aster_assay_12-11-2023/20sInterval_0.375uM_NCD_dimers_500uMATP_1.3uM_tubulin_2.8uM_A81D_3/20sInterval_0.375uM_NCD_dimers_500uMATP_1.3uM_tubulin_2.8uM_A81D_3_MMStack_Pos1.ome.tif save1\n",
      "../../data/aster/Ncd_Aster_assay_12-11-2023/20sInterval_0.375uM_NCD_dimers_500uMATP_1.3uM_tubulin_2.8uM_A81D_3/20sInterval_0.375uM_NCD_dimers_500uMATP_1.3uM_tubulin_2.8uM_A81D_3_MMStack_Pos1.ome.tif save2\n",
      "../../data/aster/Ncd_Aster_assay_12-11-2023/20sInterval_0.375uM_NCD_dimers_500uMATP_1.3uM_tubulin_2.8uM_A81D_3/20sInterval_0.375uM_NCD_dimers_500uMATP_1.3uM_tubulin_2.8uM_A81D_3_MMStack_Pos1.ome.tif save3\n",
      "111.54198980331421\n",
      "\n",
      "\n"
     ]
    },
    {
     "name": "stderr",
     "output_type": "stream",
     "text": [
      "/tmp/ipykernel_164204/2823317895.py:24: RuntimeWarning: divide by zero encountered in divide\n",
      "  norm_mat = scalar/biv_filt\n"
     ]
    },
    {
     "name": "stdout",
     "output_type": "stream",
     "text": [
      "../../data/aster/Ncd_Aster_assay_12-11-2023/20sInterval_0.375uM_NCD_dimers_500uMATP_1.3uM_tubulin_2.8uM_A81D_3/20sInterval_0.375uM_NCD_dimers_500uMATP_1.3uM_tubulin_2.8uM_A81D_3_MMStack_Pos2.ome.tif save1\n",
      "../../data/aster/Ncd_Aster_assay_12-11-2023/20sInterval_0.375uM_NCD_dimers_500uMATP_1.3uM_tubulin_2.8uM_A81D_3/20sInterval_0.375uM_NCD_dimers_500uMATP_1.3uM_tubulin_2.8uM_A81D_3_MMStack_Pos2.ome.tif save2\n",
      "../../data/aster/Ncd_Aster_assay_12-11-2023/20sInterval_0.375uM_NCD_dimers_500uMATP_1.3uM_tubulin_2.8uM_A81D_3/20sInterval_0.375uM_NCD_dimers_500uMATP_1.3uM_tubulin_2.8uM_A81D_3_MMStack_Pos2.ome.tif save3\n",
      "100.19102621078491\n",
      "\n",
      "\n"
     ]
    }
   ],
   "source": [
    "# Do simple for loop\n",
    "trackingFile='20241116_aster_firstSavesTracking.txt'\n",
    "\n",
    "for f in gnameList:\n",
    "    with open(trackingFile, 'r') as file:\n",
    "        lines=file.readlines()\n",
    "        visited=[line.strip().split(' ')[0] for line in lines]\n",
    "    if f not in visited:\n",
    "        allSaves(f)\n",
    "        print('\\n')\n",
    "        with open(trackingFile, 'a') as file:\n",
    "            file.write(f+' '+datetime.now().strftime(\"%Y%m%d_%H%M%S\")+'\\n')"
   ]
  },
  {
   "cell_type": "code",
   "execution_count": 61,
   "id": "6821dd56-3d90-4e02-98b8-67da6a94067b",
   "metadata": {},
   "outputs": [
    {
     "data": {
      "text/plain": [
       "1"
      ]
     },
     "execution_count": 61,
     "metadata": {},
     "output_type": "execute_result"
    }
   ],
   "source": [
    "# max([np.sum(uniqueG==gnameList[ii]) for ii in range(len(gnameList))])"
   ]
  },
  {
   "cell_type": "code",
   "execution_count": 69,
   "id": "11fc4391-76d0-44b2-b4ae-2a2dd9fa6334",
   "metadata": {},
   "outputs": [
    {
     "name": "stdout",
     "output_type": "stream",
     "text": [
      "../../data/aster/Ncd_Aster_assay_12-12-2023/20sInterval_0.6uM_NCD_dimers_500uMATP_1.3uM_tubulin_2.8uM_A81D_1/20sInterval_0.6uM_NCD_dimers_500uMATP_1.3uM_tubulin_2.8uM_A81D_1_MMStack_Pos1.ome.tif\n"
     ]
    }
   ],
   "source": [
    "# from collections import Counter\n",
    "# counts=Counter(gnameList)\n",
    "# for name, count in counts.items():\n",
    "#     if count > 1:\n",
    "#         print(name)"
   ]
  },
  {
   "cell_type": "code",
   "execution_count": 196,
   "id": "19dc8290-f0fc-4e6f-966c-fa73c64f2cdb",
   "metadata": {},
   "outputs": [
    {
     "name": "stderr",
     "output_type": "stream",
     "text": [
      "/tmp/ipykernel_164204/2823317895.py:24: RuntimeWarning: divide by zero encountered in divide\n",
      "  norm_mat = scalar/biv_filt\n"
     ]
    },
    {
     "name": "stdout",
     "output_type": "stream",
     "text": [
      "../../data/aster/Ncd_Aster_assay_12-12-2023/20sInterval_0.6uM_NCD_dimers_500uMATP_1.3uM_tubulin_2.8uM_A81D_1/20sInterval_0.6uM_NCD_dimers_500uMATP_1.3uM_tubulin_2.8uM_A81D_1_MMStack_Pos2.ome.tif save1\n",
      "../../data/aster/Ncd_Aster_assay_12-12-2023/20sInterval_0.6uM_NCD_dimers_500uMATP_1.3uM_tubulin_2.8uM_A81D_1/20sInterval_0.6uM_NCD_dimers_500uMATP_1.3uM_tubulin_2.8uM_A81D_1_MMStack_Pos2.ome.tif save2\n",
      "../../data/aster/Ncd_Aster_assay_12-12-2023/20sInterval_0.6uM_NCD_dimers_500uMATP_1.3uM_tubulin_2.8uM_A81D_1/20sInterval_0.6uM_NCD_dimers_500uMATP_1.3uM_tubulin_2.8uM_A81D_1_MMStack_Pos2.ome.tif save3\n",
      "135.7398293018341\n",
      "\n",
      "\n"
     ]
    }
   ],
   "source": [
    "#### RUN AGAIN after fixing my typo (by just removing the line)\n",
    "# Do simple for loop\n",
    "trackingFile='20241116_aster_firstSavesTracking.txt'\n",
    "\n",
    "for f in gnameList:\n",
    "    with open(trackingFile, 'r') as file:\n",
    "        lines=file.readlines()\n",
    "        visited=[line.strip().split(' ')[0] for line in lines]\n",
    "    if f not in visited:\n",
    "        allSaves(f)\n",
    "        print('\\n')\n",
    "        with open(trackingFile, 'a') as file:\n",
    "            file.write(f+' '+datetime.now().strftime(\"%Y%m%d_%H%M%S\")+'\\n')"
   ]
  },
  {
   "cell_type": "markdown",
   "id": "86659e35-9ac7-41c8-ba27-e68c75a68686",
   "metadata": {},
   "source": [
    "## Might as well do for prc1 experiments now too...\n"
   ]
  },
  {
   "cell_type": "code",
   "execution_count": null,
   "id": "87cf1cf7-455a-4847-8013-2c3dcbf4e09a",
   "metadata": {},
   "outputs": [],
   "source": [
    "## main differences: \n",
    "# raw data are in /home/aduarte/am_atp/data/aster/prc1expts\n",
    "# metadata file is \n",
    "metaDataFile_prc1='../../data/aster/prc1expts/20241116_footageComments_gnames_PRC1.csv'"
   ]
  },
  {
   "cell_type": "code",
   "execution_count": null,
   "id": "5837ef1d-bdc5-4c6e-944b-54ef40f3c05f",
   "metadata": {},
   "outputs": [],
   "source": []
  },
  {
   "cell_type": "code",
   "execution_count": null,
   "id": "3be88f49-7af0-44dc-a6a6-c8d06b3eacdd",
   "metadata": {},
   "outputs": [],
   "source": []
  },
  {
   "cell_type": "markdown",
   "id": "892ed75b-b7d5-424c-8fea-3317d3b88e88",
   "metadata": {},
   "source": [
    "## VISUALIZATION"
   ]
  },
  {
   "cell_type": "code",
   "execution_count": 198,
   "id": "a6c5f2ae-26c7-4980-88a3-dca975ad0af9",
   "metadata": {},
   "outputs": [
    {
     "data": {
      "text/plain": [
       "('12-12-2023_Pos1', 0.2, '500uM')"
      ]
     },
     "execution_count": 198,
     "metadata": {},
     "output_type": "execute_result"
    }
   ],
   "source": [
    "summarizeGname(gnameList[1])"
   ]
  },
  {
   "cell_type": "code",
   "execution_count": 199,
   "id": "b28e4663-30c0-4ef3-9561-87181980b263",
   "metadata": {},
   "outputs": [
    {
     "data": {
      "text/plain": [
       "('12-07-2023_Pos2', 0.2, '500uM')"
      ]
     },
     "execution_count": 199,
     "metadata": {},
     "output_type": "execute_result"
    }
   ],
   "source": [
    "summarizeGname(gnameList[14])"
   ]
  },
  {
   "cell_type": "code",
   "execution_count": 200,
   "id": "021543cc-aaf9-4ab3-a8cf-7c6fddbebd69",
   "metadata": {},
   "outputs": [],
   "source": []
  },
  {
   "cell_type": "code",
   "execution_count": 201,
   "id": "c8c78ab1-3045-4ec3-ac14-2f66d13783f5",
   "metadata": {},
   "outputs": [
    {
     "data": {
      "text/plain": [
       "array(['12-07-2023_Pos0', '12-07-2023_Pos1', '12-07-2023_Pos2',\n",
       "       '12-11-2023_Pos0', '12-11-2023_Pos1', '12-11-2023_Pos2',\n",
       "       '12-12-2023_Pos0', '12-12-2023_Pos1', '12-12-2023_Pos2'],\n",
       "      dtype='<U32')"
      ]
     },
     "execution_count": 201,
     "metadata": {},
     "output_type": "execute_result"
    }
   ],
   "source": [
    "np.unique(allProps[:,0])"
   ]
  },
  {
   "cell_type": "code",
   "execution_count": 202,
   "id": "d23789e7-c17b-403c-8a9b-df2842fbdf38",
   "metadata": {},
   "outputs": [
    {
     "name": "stdout",
     "output_type": "stream",
     "text": [
      "0.2: 6\n",
      "0.3: 6\n",
      "0.375: 3\n",
      "0.5: 3\n",
      "0.6: 9\n",
      "0.75: 3\n"
     ]
    }
   ],
   "source": [
    "for conc in np.unique(allProps[:,1]):\n",
    "    subset=allProps[allProps[:,1]==conc]\n",
    "    print(conc+': '+str(len(np.unique(subset[:,0]))))"
   ]
  },
  {
   "cell_type": "code",
   "execution_count": null,
   "id": "c65a446f-c27c-4ce6-80f0-87e8794ed6c9",
   "metadata": {},
   "outputs": [],
   "source": [
    "# 6 concentrations\n",
    "# 3 dates\n",
    "# up to 3 positions (repeats) per date"
   ]
  },
  {
   "cell_type": "code",
   "execution_count": null,
   "id": "aa39bf16-009e-45e8-bc1c-357714a4c111",
   "metadata": {},
   "outputs": [],
   "source": []
  }
 ],
 "metadata": {
  "kernelspec": {
   "display_name": "Python 3 (ipykernel)",
   "language": "python",
   "name": "python3"
  },
  "language_info": {
   "codemirror_mode": {
    "name": "ipython",
    "version": 3
   },
   "file_extension": ".py",
   "mimetype": "text/x-python",
   "name": "python",
   "nbconvert_exporter": "python",
   "pygments_lexer": "ipython3",
   "version": "3.10.12"
  }
 },
 "nbformat": 4,
 "nbformat_minor": 5
}
