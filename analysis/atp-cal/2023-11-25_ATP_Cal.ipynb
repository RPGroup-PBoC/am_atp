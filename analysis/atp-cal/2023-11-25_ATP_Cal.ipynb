{
 "cells": [
  {
   "cell_type": "code",
   "execution_count": 2,
   "id": "98af2982-d2a9-4baf-a707-3b78dd59865b",
   "metadata": {},
   "outputs": [],
   "source": [
    "%load_ext autoreload\n",
    "%autoreload 2"
   ]
  },
  {
   "cell_type": "code",
   "execution_count": 7,
   "id": "7318a128-06ac-40c9-9c9d-80a137ab809c",
   "metadata": {},
   "outputs": [],
   "source": [
    "# Numpy imports:\n",
    "import numpy as np\n",
    "\n",
    "#Scipy imports\n",
    "import scipy\n",
    "from scipy import optimize\n",
    "from scipy.optimize import curve_fit\n",
    "\n",
    "# for extracting filenames\n",
    "import glob\n",
    "\n",
    "# skimage submodules we need\n",
    "import skimage.io\n",
    "import skimage.measure\n",
    "import skimage.filters\n",
    "import skimage.exposure\n",
    "import skimage.morphology\n",
    "from skimage.registration import phase_cross_correlation\n",
    "\n",
    "#Matplotlib imports\n",
    "import matplotlib.pyplot as plt\n",
    "%matplotlib inline\n",
    "%config InlineBackend.figure_formats = {'png', 'retina'}\n",
    "from matplotlib.colors import Normalize\n",
    "import matplotlib.cm as cm\n",
    "\n",
    "# # Seaborn imports (stylistic for nice plots)\n",
    "# import seaborn as sns\n",
    "# rc={'lines.linewidth': 2, 'axes.labelsize': 14, 'axes.titlesize': 14, \\\n",
    "#     'xtick.labelsize' : 14, 'ytick.labelsize' : 14}\n",
    "# sns.set(style='ticks', rc=rc)\n",
    "\n",
    "#for DataFrames\n",
    "import pandas as pd\n",
    "\n",
    "#To interact with the operating system\n",
    "import os\n",
    "\n",
    "#For status bar \n",
    "from tqdm.notebook import tqdm as tqdm"
   ]
  },
  {
   "cell_type": "code",
   "execution_count": 9,
   "id": "3179d8a2-75c6-4396-aa20-f8ec6ec4fcfa",
   "metadata": {},
   "outputs": [],
   "source": [
    "import atp_cal"
   ]
  },
  {
   "cell_type": "code",
   "execution_count": null,
   "id": "46573da9-9d8e-497b-8d10-233dacc13fd9",
   "metadata": {},
   "outputs": [],
   "source": [
    "atp_cal.pboc_style_mpl()\n",
    "\n",
    "# show images in viridis by default (pboc is fire?)\n",
    "plt.rcParams['image.cmap'] = 'viridis'"
   ]
  },
  {
   "cell_type": "markdown",
   "id": "96150b6d-d30c-48fd-b6f2-bead63dab295",
   "metadata": {
    "tags": []
   },
   "source": [
    "## Import Images"
   ]
  },
  {
   "cell_type": "code",
   "execution_count": 10,
   "id": "22c2c667-6e3d-4f13-84e8-dc4a74fc77e5",
   "metadata": {},
   "outputs": [
    {
     "name": "stderr",
     "output_type": "stream",
     "text": [
      "/Users/mashok/Library/Python/3.9/lib/python/site-packages/numpy/lib/function_base.py:518: RuntimeWarning: Mean of empty slice.\n",
      "  avg = a.mean(axis, **keepdims_kw)\n",
      "/Users/mashok/Library/Python/3.9/lib/python/site-packages/numpy/core/_methods.py:192: RuntimeWarning: invalid value encountered in scalar divide\n",
      "  ret = ret.dtype.type(ret / rcount)\n"
     ]
    }
   ],
   "source": [
    "#This should not change between experiments:\n",
    "datapath = '../../data/atp_cal'\n",
    "\n",
    "#This varies between experiments. \n",
    "datafolder = '2023-11-21_A81D_Cal' #EDIT THIS EVERY TIME\n",
    "\n",
    "# bound Images\n",
    "included_bound = '*uM*/*Pos*/*405*.tif' #EDIT THIS EVERY TIME\n",
    "bound_files = np.sort(glob.glob(datapath+'/'+datafolder+'/'+included_bound))\n",
    "\n",
    "# unbound Images\n",
    "included_unbound = '*uM*/*Pos*/*480*.tif' #EDIT THIS EVERY TIME\n",
    "unbound_files = np.sort(glob.glob(datapath+'/'+datafolder+'/'+included_unbound))\n",
    "\n",
    "ATPconc=[]\n",
    "for i, file in enumerate(unbound_files):\n",
    "    conc = int(file.split('/')[5].split('_')[1].split('uM')[0]) #EDIT THIS EVERY TIME\n",
    "    ATPconc.append(conc)\n",
    "ATPconc = np.array(ATPconc)\n",
    "\n",
    "#Read in images and save as array:\n",
    "bound_array = atp_cal.file_to_image(bound_files)\n",
    "unbound_array = atp_cal.file_to_image(unbound_files)\n",
    "\n",
    "# Set background - want a no ATeam image for this\n",
    "bound_bg = 1915\n",
    "unbound_bg = 1915\n",
    "\n",
    "\n",
    "# Define the zero concentration image (DO EVERY TIME):\n",
    "bound_zero = np.average(bound_array[np.where(ATPconc==0)], axis=0)\n",
    "unbound_zero = np.average(unbound_array[np.where(ATPconc==0)], axis=0)"
   ]
  },
  {
   "cell_type": "markdown",
   "id": "b5984398-dd24-4aac-aa4a-a7d709b5cf77",
   "metadata": {
    "tags": []
   },
   "source": [
    "## Subtract background"
   ]
  },
  {
   "cell_type": "code",
   "execution_count": 11,
   "id": "25e0e956-0e39-47f0-9506-430a7829b3fc",
   "metadata": {},
   "outputs": [],
   "source": [
    "#Subtract im_dark from all calibration images\n",
    "bound_bs = bound_array - bound_bg\n",
    "unbound_bs = unbound_array - unbound_bg"
   ]
  },
  {
   "cell_type": "code",
   "execution_count": 12,
   "id": "db8f5104-6426-45a7-b593-40422e5f8b37",
   "metadata": {},
   "outputs": [],
   "source": [
    "unbound_bs[unbound_bs<0] = 0\n",
    "bound_bs[unbound_bs<0] = 0"
   ]
  },
  {
   "cell_type": "markdown",
   "id": "1db176aa-0189-4d23-af64-049dfc7fce58",
   "metadata": {},
   "source": [
    "## Correct for uneven illumination background subtraction"
   ]
  },
  {
   "cell_type": "code",
   "execution_count": 13,
   "id": "a7ec1c8f-561c-465b-8d48-a28b2181f23b",
   "metadata": {},
   "outputs": [
    {
     "ename": "RuntimeError",
     "evalue": "input and output rank must be > 0",
     "output_type": "error",
     "traceback": [
      "\u001b[0;31m---------------------------------------------------------------------------\u001b[0m",
      "\u001b[0;31mRuntimeError\u001b[0m                              Traceback (most recent call last)",
      "Cell \u001b[0;32mIn[13], line 2\u001b[0m\n\u001b[1;32m      1\u001b[0m \u001b[38;5;66;03m#Find the normilization matrix\u001b[39;00m\n\u001b[0;32m----> 2\u001b[0m bound_norm_mat \u001b[38;5;241m=\u001b[39m \u001b[43matp_cal\u001b[49m\u001b[38;5;241;43m.\u001b[39;49m\u001b[43mnorm_mat_fn_iATP\u001b[49m\u001b[43m(\u001b[49m\u001b[43mbound_zero\u001b[49m\u001b[43m,\u001b[49m\u001b[43m \u001b[49m\u001b[43mbound_bg\u001b[49m\u001b[43m)\u001b[49m\n\u001b[1;32m      3\u001b[0m unbound_norm_mat \u001b[38;5;241m=\u001b[39m atp_cal\u001b[38;5;241m.\u001b[39mnorm_mat_fn_iATP(unbound_zero, unbound_bg)\n\u001b[1;32m      5\u001b[0m \u001b[38;5;66;03m#plot the normalizaiton matrix\u001b[39;00m\n",
      "File \u001b[0;32m~/Documents/analysis/am_atp/analysis/atp-cal/atp_cal/atp_cal_packages.py:176\u001b[0m, in \u001b[0;36mnorm_mat_fn_iATP\u001b[0;34m(im_ref, im_dark, r_blur)\u001b[0m\n\u001b[1;32m    174\u001b[0m \u001b[38;5;66;03m# Rescale the image down for faster denoising\u001b[39;00m\n\u001b[1;32m    175\u001b[0m rescale \u001b[38;5;241m=\u001b[39m \u001b[38;5;241m4.0\u001b[39m\n\u001b[0;32m--> 176\u001b[0m im_resized \u001b[38;5;241m=\u001b[39m \u001b[43mskimage\u001b[49m\u001b[38;5;241;43m.\u001b[39;49m\u001b[43mtransform\u001b[49m\u001b[38;5;241;43m.\u001b[39;49m\u001b[43mrescale\u001b[49m\u001b[43m(\u001b[49m\u001b[43mim\u001b[49m\u001b[43m,\u001b[49m\u001b[43m \u001b[49m\u001b[38;5;241;43m1\u001b[39;49m\u001b[38;5;241;43m/\u001b[39;49m\u001b[43mrescale\u001b[49m\u001b[43m)\u001b[49m\n\u001b[1;32m    178\u001b[0m \u001b[38;5;66;03m# Median filter to remove hot pixels\u001b[39;00m\n\u001b[1;32m    179\u001b[0m im_median \u001b[38;5;241m=\u001b[39m skimage\u001b[38;5;241m.\u001b[39mfilters\u001b[38;5;241m.\u001b[39mmedian(im_resized, skimage\u001b[38;5;241m.\u001b[39mmorphology\u001b[38;5;241m.\u001b[39mdisk(\u001b[38;5;241m10.0\u001b[39m))\n",
      "File \u001b[0;32m~/Library/Python/3.9/lib/python/site-packages/skimage/_shared/utils.py:394\u001b[0m, in \u001b[0;36mchannel_as_last_axis.__call__.<locals>.fixed_func\u001b[0;34m(*args, **kwargs)\u001b[0m\n\u001b[1;32m    391\u001b[0m channel_axis \u001b[38;5;241m=\u001b[39m kwargs\u001b[38;5;241m.\u001b[39mget(\u001b[38;5;124m'\u001b[39m\u001b[38;5;124mchannel_axis\u001b[39m\u001b[38;5;124m'\u001b[39m, \u001b[38;5;28;01mNone\u001b[39;00m)\n\u001b[1;32m    393\u001b[0m \u001b[38;5;28;01mif\u001b[39;00m channel_axis \u001b[38;5;129;01mis\u001b[39;00m \u001b[38;5;28;01mNone\u001b[39;00m:\n\u001b[0;32m--> 394\u001b[0m     \u001b[38;5;28;01mreturn\u001b[39;00m \u001b[43mfunc\u001b[49m\u001b[43m(\u001b[49m\u001b[38;5;241;43m*\u001b[39;49m\u001b[43margs\u001b[49m\u001b[43m,\u001b[49m\u001b[43m \u001b[49m\u001b[38;5;241;43m*\u001b[39;49m\u001b[38;5;241;43m*\u001b[39;49m\u001b[43mkwargs\u001b[49m\u001b[43m)\u001b[49m\n\u001b[1;32m    396\u001b[0m \u001b[38;5;66;03m# TODO: convert scalars to a tuple in anticipation of eventually\u001b[39;00m\n\u001b[1;32m    397\u001b[0m \u001b[38;5;66;03m#       supporting a tuple of channel axes. Right now, only an\u001b[39;00m\n\u001b[1;32m    398\u001b[0m \u001b[38;5;66;03m#       integer or a single-element tuple is supported, though.\u001b[39;00m\n\u001b[1;32m    399\u001b[0m \u001b[38;5;28;01mif\u001b[39;00m np\u001b[38;5;241m.\u001b[39misscalar(channel_axis):\n",
      "File \u001b[0;32m~/Library/Python/3.9/lib/python/site-packages/skimage/_shared/utils.py:348\u001b[0m, in \u001b[0;36mdeprecate_multichannel_kwarg.__call__.<locals>.fixed_func\u001b[0;34m(*args, **kwargs)\u001b[0m\n\u001b[1;32m    345\u001b[0m     kwargs[\u001b[38;5;124m'\u001b[39m\u001b[38;5;124mchannel_axis\u001b[39m\u001b[38;5;124m'\u001b[39m] \u001b[38;5;241m=\u001b[39m convert[kwargs\u001b[38;5;241m.\u001b[39mpop(\u001b[38;5;124m'\u001b[39m\u001b[38;5;124mmultichannel\u001b[39m\u001b[38;5;124m'\u001b[39m)]\n\u001b[1;32m    347\u001b[0m \u001b[38;5;66;03m# Call the function with the fixed arguments\u001b[39;00m\n\u001b[0;32m--> 348\u001b[0m \u001b[38;5;28;01mreturn\u001b[39;00m \u001b[43mfunc\u001b[49m\u001b[43m(\u001b[49m\u001b[38;5;241;43m*\u001b[39;49m\u001b[43margs\u001b[49m\u001b[43m,\u001b[49m\u001b[43m \u001b[49m\u001b[38;5;241;43m*\u001b[39;49m\u001b[38;5;241;43m*\u001b[39;49m\u001b[43mkwargs\u001b[49m\u001b[43m)\u001b[49m\n",
      "File \u001b[0;32m~/Library/Python/3.9/lib/python/site-packages/skimage/transform/_warps.py:341\u001b[0m, in \u001b[0;36mrescale\u001b[0;34m(image, scale, order, mode, cval, clip, preserve_range, multichannel, anti_aliasing, anti_aliasing_sigma, channel_axis)\u001b[0m\n\u001b[1;32m    338\u001b[0m \u001b[38;5;28;01mif\u001b[39;00m multichannel:  \u001b[38;5;66;03m# don't scale channel dimension\u001b[39;00m\n\u001b[1;32m    339\u001b[0m     output_shape[\u001b[38;5;241m-\u001b[39m\u001b[38;5;241m1\u001b[39m] \u001b[38;5;241m=\u001b[39m orig_shape[\u001b[38;5;241m-\u001b[39m\u001b[38;5;241m1\u001b[39m]\n\u001b[0;32m--> 341\u001b[0m \u001b[38;5;28;01mreturn\u001b[39;00m \u001b[43mresize\u001b[49m\u001b[43m(\u001b[49m\u001b[43mimage\u001b[49m\u001b[43m,\u001b[49m\u001b[43m \u001b[49m\u001b[43moutput_shape\u001b[49m\u001b[43m,\u001b[49m\u001b[43m \u001b[49m\u001b[43morder\u001b[49m\u001b[38;5;241;43m=\u001b[39;49m\u001b[43morder\u001b[49m\u001b[43m,\u001b[49m\u001b[43m \u001b[49m\u001b[43mmode\u001b[49m\u001b[38;5;241;43m=\u001b[39;49m\u001b[43mmode\u001b[49m\u001b[43m,\u001b[49m\u001b[43m \u001b[49m\u001b[43mcval\u001b[49m\u001b[38;5;241;43m=\u001b[39;49m\u001b[43mcval\u001b[49m\u001b[43m,\u001b[49m\n\u001b[1;32m    342\u001b[0m \u001b[43m              \u001b[49m\u001b[43mclip\u001b[49m\u001b[38;5;241;43m=\u001b[39;49m\u001b[43mclip\u001b[49m\u001b[43m,\u001b[49m\u001b[43m \u001b[49m\u001b[43mpreserve_range\u001b[49m\u001b[38;5;241;43m=\u001b[39;49m\u001b[43mpreserve_range\u001b[49m\u001b[43m,\u001b[49m\n\u001b[1;32m    343\u001b[0m \u001b[43m              \u001b[49m\u001b[43manti_aliasing\u001b[49m\u001b[38;5;241;43m=\u001b[39;49m\u001b[43manti_aliasing\u001b[49m\u001b[43m,\u001b[49m\n\u001b[1;32m    344\u001b[0m \u001b[43m              \u001b[49m\u001b[43manti_aliasing_sigma\u001b[49m\u001b[38;5;241;43m=\u001b[39;49m\u001b[43manti_aliasing_sigma\u001b[49m\u001b[43m)\u001b[49m\n",
      "File \u001b[0;32m~/Library/Python/3.9/lib/python/site-packages/skimage/transform/_warps.py:187\u001b[0m, in \u001b[0;36mresize\u001b[0;34m(image, output_shape, order, mode, cval, clip, preserve_range, anti_aliasing, anti_aliasing_sigma)\u001b[0m\n\u001b[1;32m    184\u001b[0m \u001b[38;5;28;01mif\u001b[39;00m NumpyVersion(scipy\u001b[38;5;241m.\u001b[39m__version__) \u001b[38;5;241m>\u001b[39m\u001b[38;5;241m=\u001b[39m \u001b[38;5;124m'\u001b[39m\u001b[38;5;124m1.6.0\u001b[39m\u001b[38;5;124m'\u001b[39m:\n\u001b[1;32m    185\u001b[0m     \u001b[38;5;66;03m# The grid_mode kwarg was introduced in SciPy 1.6.0\u001b[39;00m\n\u001b[1;32m    186\u001b[0m     zoom_factors \u001b[38;5;241m=\u001b[39m [\u001b[38;5;241m1\u001b[39m \u001b[38;5;241m/\u001b[39m f \u001b[38;5;28;01mfor\u001b[39;00m f \u001b[38;5;129;01min\u001b[39;00m factors]\n\u001b[0;32m--> 187\u001b[0m     out \u001b[38;5;241m=\u001b[39m \u001b[43mndi\u001b[49m\u001b[38;5;241;43m.\u001b[39;49m\u001b[43mzoom\u001b[49m\u001b[43m(\u001b[49m\u001b[43mimage\u001b[49m\u001b[43m,\u001b[49m\u001b[43m \u001b[49m\u001b[43mzoom_factors\u001b[49m\u001b[43m,\u001b[49m\u001b[43m \u001b[49m\u001b[43morder\u001b[49m\u001b[38;5;241;43m=\u001b[39;49m\u001b[43morder\u001b[49m\u001b[43m,\u001b[49m\u001b[43m \u001b[49m\u001b[43mmode\u001b[49m\u001b[38;5;241;43m=\u001b[39;49m\u001b[43mndi_mode\u001b[49m\u001b[43m,\u001b[49m\n\u001b[1;32m    188\u001b[0m \u001b[43m                   \u001b[49m\u001b[43mcval\u001b[49m\u001b[38;5;241;43m=\u001b[39;49m\u001b[43mcval\u001b[49m\u001b[43m,\u001b[49m\u001b[43m \u001b[49m\u001b[43mgrid_mode\u001b[49m\u001b[38;5;241;43m=\u001b[39;49m\u001b[38;5;28;43;01mTrue\u001b[39;49;00m\u001b[43m)\u001b[49m\n\u001b[1;32m    190\u001b[0m \u001b[38;5;66;03m# TODO: Remove the fallback code below once SciPy >= 1.6.0 is required.\u001b[39;00m\n\u001b[1;32m    191\u001b[0m \n\u001b[1;32m    192\u001b[0m \u001b[38;5;66;03m# 2-dimensional interpolation\u001b[39;00m\n\u001b[1;32m    193\u001b[0m \u001b[38;5;28;01melif\u001b[39;00m \u001b[38;5;28mlen\u001b[39m(output_shape) \u001b[38;5;241m==\u001b[39m \u001b[38;5;241m2\u001b[39m \u001b[38;5;129;01mor\u001b[39;00m (\u001b[38;5;28mlen\u001b[39m(output_shape) \u001b[38;5;241m==\u001b[39m \u001b[38;5;241m3\u001b[39m \u001b[38;5;129;01mand\u001b[39;00m\n\u001b[1;32m    194\u001b[0m                                 output_shape[\u001b[38;5;241m2\u001b[39m] \u001b[38;5;241m==\u001b[39m input_shape[\u001b[38;5;241m2\u001b[39m]):\n",
      "File \u001b[0;32m~/Library/Python/3.9/lib/python/site-packages/scipy/ndimage/_interpolation.py:769\u001b[0m, in \u001b[0;36mzoom\u001b[0;34m(input, zoom, output, order, mode, cval, prefilter, grid_mode)\u001b[0m\n\u001b[1;32m    767\u001b[0m \u001b[38;5;28minput\u001b[39m \u001b[38;5;241m=\u001b[39m numpy\u001b[38;5;241m.\u001b[39masarray(\u001b[38;5;28minput\u001b[39m)\n\u001b[1;32m    768\u001b[0m \u001b[38;5;28;01mif\u001b[39;00m \u001b[38;5;28minput\u001b[39m\u001b[38;5;241m.\u001b[39mndim \u001b[38;5;241m<\u001b[39m \u001b[38;5;241m1\u001b[39m:\n\u001b[0;32m--> 769\u001b[0m     \u001b[38;5;28;01mraise\u001b[39;00m \u001b[38;5;167;01mRuntimeError\u001b[39;00m(\u001b[38;5;124m'\u001b[39m\u001b[38;5;124minput and output rank must be > 0\u001b[39m\u001b[38;5;124m'\u001b[39m)\n\u001b[1;32m    770\u001b[0m zoom \u001b[38;5;241m=\u001b[39m _ni_support\u001b[38;5;241m.\u001b[39m_normalize_sequence(zoom, \u001b[38;5;28minput\u001b[39m\u001b[38;5;241m.\u001b[39mndim)\n\u001b[1;32m    771\u001b[0m output_shape \u001b[38;5;241m=\u001b[39m \u001b[38;5;28mtuple\u001b[39m(\n\u001b[1;32m    772\u001b[0m         [\u001b[38;5;28mint\u001b[39m(\u001b[38;5;28mround\u001b[39m(ii \u001b[38;5;241m*\u001b[39m jj)) \u001b[38;5;28;01mfor\u001b[39;00m ii, jj \u001b[38;5;129;01min\u001b[39;00m \u001b[38;5;28mzip\u001b[39m(\u001b[38;5;28minput\u001b[39m\u001b[38;5;241m.\u001b[39mshape, zoom)])\n",
      "\u001b[0;31mRuntimeError\u001b[0m: input and output rank must be > 0"
     ]
    }
   ],
   "source": [
    "#Find the normilization matrix\n",
    "bound_norm_mat = atp_cal.norm_mat_fn_iATP(bound_zero, bound_bg)\n",
    "unbound_norm_mat = atp_cal.norm_mat_fn_iATP(unbound_zero, unbound_bg)\n",
    "\n",
    "#plot the normalizaiton matrix\n",
    "plt.imshow(unbound_norm_mat, vmin = 1, vmax = 3)\n",
    "plt.colorbar(shrink = 0.7)\n",
    "plt.grid(False)"
   ]
  },
  {
   "cell_type": "code",
   "execution_count": 14,
   "id": "19e47c69-03d5-4603-9089-fe149256f527",
   "metadata": {},
   "outputs": [
    {
     "ename": "NameError",
     "evalue": "name 'bound_norm_mat' is not defined",
     "output_type": "error",
     "traceback": [
      "\u001b[0;31m---------------------------------------------------------------------------\u001b[0m",
      "\u001b[0;31mNameError\u001b[0m                                 Traceback (most recent call last)",
      "Cell \u001b[0;32mIn[14], line 2\u001b[0m\n\u001b[1;32m      1\u001b[0m \u001b[38;5;66;03m#Normalize all the claibration images by multiplying by the normalization matrix\u001b[39;00m\n\u001b[0;32m----> 2\u001b[0m bound_norm \u001b[38;5;241m=\u001b[39m bound_bs\u001b[38;5;241m*\u001b[39m\u001b[43mbound_norm_mat\u001b[49m\n\u001b[1;32m      3\u001b[0m unbound_norm \u001b[38;5;241m=\u001b[39m unbound_bs\u001b[38;5;241m*\u001b[39munbound_norm_mat\n",
      "\u001b[0;31mNameError\u001b[0m: name 'bound_norm_mat' is not defined"
     ]
    }
   ],
   "source": [
    "#Normalize all the claibration images by multiplying by the normalization matrix\n",
    "bound_norm = bound_bs*bound_norm_mat\n",
    "unbound_norm = unbound_bs*unbound_norm_mat"
   ]
  },
  {
   "cell_type": "markdown",
   "id": "bb704e70-1b62-447a-bfe5-f83052c2620b",
   "metadata": {
    "tags": []
   },
   "source": [
    "## Calculate the average intensity value per concentration"
   ]
  },
  {
   "cell_type": "code",
   "execution_count": 15,
   "id": "a9a97669-d561-4644-9ee6-3bdfc7a1339a",
   "metadata": {},
   "outputs": [
    {
     "ename": "NameError",
     "evalue": "name 'bound_norm' is not defined",
     "output_type": "error",
     "traceback": [
      "\u001b[0;31m---------------------------------------------------------------------------\u001b[0m",
      "\u001b[0;31mNameError\u001b[0m                                 Traceback (most recent call last)",
      "Cell \u001b[0;32mIn[15], line 2\u001b[0m\n\u001b[1;32m      1\u001b[0m \u001b[38;5;66;03m#Average over the non-zero values in the image to get the calibration\u001b[39;00m\n\u001b[0;32m----> 2\u001b[0m bound_calavg \u001b[38;5;241m=\u001b[39m np\u001b[38;5;241m.\u001b[39maverage(\u001b[43mbound_norm\u001b[49m, axis\u001b[38;5;241m=\u001b[39m(\u001b[38;5;241m1\u001b[39m,\u001b[38;5;241m2\u001b[39m))\n\u001b[1;32m      3\u001b[0m unbound_calavg \u001b[38;5;241m=\u001b[39m np\u001b[38;5;241m.\u001b[39maverage(unbound_norm, axis\u001b[38;5;241m=\u001b[39m(\u001b[38;5;241m1\u001b[39m,\u001b[38;5;241m2\u001b[39m))\n\u001b[1;32m      4\u001b[0m ratio_calavg \u001b[38;5;241m=\u001b[39m bound_calavg\u001b[38;5;241m/\u001b[39munbound_calavg \n",
      "\u001b[0;31mNameError\u001b[0m: name 'bound_norm' is not defined"
     ]
    }
   ],
   "source": [
    "#Average over the non-zero values in the image to get the calibration\n",
    "bound_calavg = np.average(bound_norm, axis=(1,2))\n",
    "unbound_calavg = np.average(unbound_norm, axis=(1,2))\n",
    "ratio_calavg = bound_calavg/unbound_calavg "
   ]
  },
  {
   "cell_type": "code",
   "execution_count": 16,
   "id": "6167ef94-e65a-42c0-b500-fe83095e2fd0",
   "metadata": {},
   "outputs": [
    {
     "ename": "NameError",
     "evalue": "name 'bound_calavg' is not defined",
     "output_type": "error",
     "traceback": [
      "\u001b[0;31m---------------------------------------------------------------------------\u001b[0m",
      "\u001b[0;31mNameError\u001b[0m                                 Traceback (most recent call last)",
      "Cell \u001b[0;32mIn[16], line 1\u001b[0m\n\u001b[0;32m----> 1\u001b[0m plt\u001b[38;5;241m.\u001b[39mscatter(ATPconc, \u001b[43mbound_calavg\u001b[49m)\n\u001b[1;32m      2\u001b[0m plt\u001b[38;5;241m.\u001b[39mscatter(ATPconc, unbound_calavg)\n\u001b[1;32m      3\u001b[0m plt\u001b[38;5;241m.\u001b[39mxscale(\u001b[38;5;124m'\u001b[39m\u001b[38;5;124msymlog\u001b[39m\u001b[38;5;124m'\u001b[39m)\n",
      "\u001b[0;31mNameError\u001b[0m: name 'bound_calavg' is not defined"
     ]
    }
   ],
   "source": [
    "plt.scatter(ATPconc, bound_calavg)\n",
    "plt.scatter(ATPconc, unbound_calavg)\n",
    "plt.xscale('symlog')\n",
    "plt.tick_params(which='minor', length=100, color='k')"
   ]
  },
  {
   "cell_type": "markdown",
   "id": "f1f78731-6ffd-44d2-8cb2-029121abad00",
   "metadata": {},
   "source": [
    "## Plot the data and fit to a Hill function"
   ]
  },
  {
   "cell_type": "code",
   "execution_count": 17,
   "id": "36a4eda5-3045-4b04-9929-855452948669",
   "metadata": {
    "tags": []
   },
   "outputs": [],
   "source": [
    "#Langmuir equation\n",
    "def ATeam_Hill(conc, a, b, c, d):\n",
    "    \"\"\"\n",
    "    Given a concentration value, this function returns an intensity value based on the Hill function given\n",
    "    in Immamura et. al (ATeam paper)\n",
    "    Parameters\n",
    "    conc = 1D array of concentrations\n",
    "    a, b, c, d parameters of the function\n",
    "    \n",
    "    Returns\n",
    "    A 1D array of intensities corresponding to the given concentrations\n",
    "    \"\"\"\n",
    "    \n",
    "    \n",
    "    \n",
    "    return (((b-c)*(conc/a)**d/(1+(conc/a)**d))+c)\n",
    "\n",
    "\n",
    "\n",
    "#Curve-fit to the Langmuir curve\n",
    "def ATeam_Hill_curve_fit(conc, calavg, maxconc, p0):\n",
    "    \"\"\"\n",
    "    Performs a curve fitting using scipy.optimize.curve_fit to fit data to a Langmuir curve\n",
    "    \n",
    "    Parameters\n",
    "    conc = 1D array of concentrations\n",
    "    calavg = 1D array of average intensity values of data\n",
    "    maxconc = scalar Maximum concentration of data taken\n",
    "    p0 = 1D list with 4 entries of parameter guesses for a, b, c, and d in the Hill function\n",
    "    \n",
    "    Returns\n",
    "    param = 1D list with fit values of each parameter\n",
    "    curve = 1D array of intensity values for every concentration in xvals\n",
    "    xvals = 1D array from 0 to maxconc with step size 1\n",
    "    \"\"\"\n",
    "    \n",
    "    \n",
    "    #Curve fits and returns parameter values as well as the covarience\n",
    "    param, param_cov = curve_fit(ATeam_Hill, \n",
    "                                 conc, \n",
    "                                 calavg, \n",
    "                                 p0, \n",
    "                                 bounds = (np.zeros(4), np.ones([4])*np.inf))\n",
    "\n",
    "    #stores the new function information according to the coefficients given by curve-fit() function \n",
    "    xvals=np.linspace(0,maxconc,maxconc)\n",
    "    curve = ATeam_Hill(xvals, param[0], param[1], param[2], param[3])\n",
    "    \n",
    "    return param, curve, xvals"
   ]
  },
  {
   "cell_type": "code",
   "execution_count": 18,
   "id": "67ce85a7-b7f9-4091-92b2-8b24373f6a23",
   "metadata": {},
   "outputs": [
    {
     "ename": "NameError",
     "evalue": "name 'ratio_calavg' is not defined",
     "output_type": "error",
     "traceback": [
      "\u001b[0;31m---------------------------------------------------------------------------\u001b[0m",
      "\u001b[0;31mNameError\u001b[0m                                 Traceback (most recent call last)",
      "Cell \u001b[0;32mIn[18], line 1\u001b[0m\n\u001b[0;32m----> 1\u001b[0m params, curve, xvals \u001b[38;5;241m=\u001b[39m ATeam_Hill_curve_fit(ATPconc, \u001b[43mratio_calavg\u001b[49m, np\u001b[38;5;241m.\u001b[39mmax(ATPconc), [\u001b[38;5;241m300\u001b[39m, \u001b[38;5;241m1\u001b[39m, \u001b[38;5;241m0.5\u001b[39m, \u001b[38;5;241m2\u001b[39m])\n\u001b[1;32m      2\u001b[0m \u001b[38;5;28mprint\u001b[39m(params)\n\u001b[1;32m      4\u001b[0m plt\u001b[38;5;241m.\u001b[39mscatter(ATPconc, ratio_calavg, label \u001b[38;5;241m=\u001b[39m \u001b[38;5;124m'\u001b[39m\u001b[38;5;124mData\u001b[39m\u001b[38;5;124m'\u001b[39m)\n",
      "\u001b[0;31mNameError\u001b[0m: name 'ratio_calavg' is not defined"
     ]
    }
   ],
   "source": [
    "params, curve, xvals = ATeam_Hill_curve_fit(ATPconc, ratio_calavg, np.max(ATPconc), [300, 1, 0.5, 2])\n",
    "print(params)\n",
    "\n",
    "plt.scatter(ATPconc, ratio_calavg, label = 'Data')\n",
    "plt.xscale('symlog')\n",
    "plt.plot(xvals, curve, label='Hill fit')\n",
    "plt.legend(loc = 'lower right')\n",
    "plt.xlabel('ATP Concentration (µM)')\n",
    "plt.ylabel('Ratio 405/480 (A.U.)')\n",
    "plt.title('Km = ' +str(round(params[0])) + ' µM'+ ' n = ' + str(round(params[3], 1)))"
   ]
  },
  {
   "cell_type": "code",
   "execution_count": 19,
   "id": "f3038e48-ea0a-4cdb-96e8-01aa01e430c8",
   "metadata": {},
   "outputs": [
    {
     "ename": "NameError",
     "evalue": "name 'params' is not defined",
     "output_type": "error",
     "traceback": [
      "\u001b[0;31m---------------------------------------------------------------------------\u001b[0m",
      "\u001b[0;31mNameError\u001b[0m                                 Traceback (most recent call last)",
      "Cell \u001b[0;32mIn[19], line 1\u001b[0m\n\u001b[0;32m----> 1\u001b[0m df_fit \u001b[38;5;241m=\u001b[39m pd\u001b[38;5;241m.\u001b[39mDataFrame({\u001b[38;5;124m'\u001b[39m\u001b[38;5;124mParam\u001b[39m\u001b[38;5;124m'\u001b[39m : [\u001b[38;5;124m'\u001b[39m\u001b[38;5;124mKm\u001b[39m\u001b[38;5;124m'\u001b[39m, \u001b[38;5;124m'\u001b[39m\u001b[38;5;124mRmax\u001b[39m\u001b[38;5;124m'\u001b[39m, \u001b[38;5;124m'\u001b[39m\u001b[38;5;124mRmin\u001b[39m\u001b[38;5;124m'\u001b[39m, \u001b[38;5;124m'\u001b[39m\u001b[38;5;124mn\u001b[39m\u001b[38;5;124m'\u001b[39m], \u001b[38;5;124m'\u001b[39m\u001b[38;5;124mValue\u001b[39m\u001b[38;5;124m'\u001b[39m : \u001b[43mparams\u001b[49m})\n\u001b[1;32m      2\u001b[0m df_fit\u001b[38;5;241m.\u001b[39mto_csv(\u001b[38;5;124m'\u001b[39m\u001b[38;5;124m../../analyzed_data/atp_cal/\u001b[39m\u001b[38;5;124m'\u001b[39m \u001b[38;5;241m+\u001b[39m datafolder \u001b[38;5;241m+\u001b[39m \u001b[38;5;124m'\u001b[39m\u001b[38;5;124m/df_fit\u001b[39m\u001b[38;5;124m'\u001b[39m)\n\u001b[1;32m      4\u001b[0m df_data \u001b[38;5;241m=\u001b[39m pd\u001b[38;5;241m.\u001b[39mDataFrame({\u001b[38;5;124m'\u001b[39m\u001b[38;5;124mATP uM\u001b[39m\u001b[38;5;124m'\u001b[39m : ATPconc, \u001b[38;5;124m'\u001b[39m\u001b[38;5;124mRatio\u001b[39m\u001b[38;5;124m'\u001b[39m : ratio_calavg})\n",
      "\u001b[0;31mNameError\u001b[0m: name 'params' is not defined"
     ]
    }
   ],
   "source": [
    "df_fit = pd.DataFrame({'Param' : ['Km', 'Rmax', 'Rmin', 'n'], 'Value' : params})\n",
    "df_fit.to_csv('../../analyzed_data/atp_cal/' + datafolder + '/df_fit')\n",
    "\n",
    "df_data = pd.DataFrame({'ATP uM' : ATPconc, 'Ratio' : ratio_calavg})\n",
    "df_data.to_csv('../../analyzed_data/atp_cal/' + datafolder + '/df_data')"
   ]
  },
  {
   "cell_type": "markdown",
   "id": "acd4505b",
   "metadata": {},
   "source": [
    "### For asserting exponent = 1"
   ]
  },
  {
   "cell_type": "code",
   "execution_count": 1,
   "id": "c90b50e5-58d3-4e09-8612-cc4649eea04b",
   "metadata": {},
   "outputs": [],
   "source": [
    "#Langmuir equation\n",
    "def ATeam_Hill(conc, a, b, c):\n",
    "    \"\"\"\n",
    "    Given a concentration value, this function returns an intensity value based on the Hill function given\n",
    "    in Immamura et. al (ATeam paper)\n",
    "    Parameters\n",
    "    conc = 1D array of concentrations\n",
    "    a, b, c, d parameters of the function\n",
    "    \n",
    "    Returns\n",
    "    A 1D array of intensities corresponding to the given concentrations\n",
    "    \"\"\"\n",
    "    \n",
    "    d = 1; # fix exponent term\n",
    "    \n",
    "    return (((b-c)*(conc/a)**d/(1+(conc/a)**d))+c)\n",
    "\n",
    "\n",
    "#Curve-fit to the Langmuir curve\n",
    "def ATeam_Hill_curve_fit_fixed_exp(conc, calavg, maxconc, p0):\n",
    "    \"\"\"\n",
    "    Performs a curve fitting using scipy.optimize.curve_fit to fit data to a Langmuir curve\n",
    "    \n",
    "    Parameters\n",
    "    conc = 1D array of concentrations\n",
    "    calavg = 1D array of average intensity values of data\n",
    "    maxconc = scalar Maximum concentration of data taken\n",
    "    p0 = 1D list with 4 entries of parameter guesses for a, b, c, and d in the Hill function\n",
    "    \n",
    "    Returns\n",
    "    param = 1D list with fit values of each parameter\n",
    "    curve = 1D array of intensity values for every concentration in xvals\n",
    "    xvals = 1D array from 0 to maxconc with step size 1\n",
    "    \"\"\"\n",
    "    \n",
    "    \n",
    "    #Curve fits and returns parameter values as well as the covarience\n",
    "    param, param_cov = curve_fit(ATeam_Hill, \n",
    "                                 conc, \n",
    "                                 calavg, \n",
    "                                 p0, \n",
    "                                 bounds = (np.zeros(4), np.ones([4])*np.inf))\n",
    "\n",
    "    #stores the new function information according to the coefficients given by curve-fit() function \n",
    "    xvals=np.linspace(0,maxconc,maxconc)\n",
    "    curve = ATeam_Hill(xvals, param[0], param[1], param[2])\n",
    "    \n",
    "    return param, curve, xvals"
   ]
  },
  {
   "cell_type": "code",
   "execution_count": null,
   "id": "8df922ef",
   "metadata": {},
   "outputs": [],
   "source": [
    "params, curve, xvals = ATeam_Hill_curve_fit(ATPconc, ratio_calavg, np.max(ATPconc), [300, 1, 0.5, 2])\n",
    "print(params)\n",
    "\n",
    "plt.scatter(ATPconc, ratio_calavg, label = 'Data')\n",
    "plt.xscale('symlog')\n",
    "plt.plot(xvals, curve, label='Hill fit')\n",
    "plt.legend(loc = 'lower right')\n",
    "plt.xlabel('ATP Concentration (µM)')\n",
    "plt.ylabel('Ratio 405/480 (A.U.)')\n",
    "plt.title('Km = ' +str(round(params[0])) + ' µM'+ ' n = ' + str(round(params[3], 1)))"
   ]
  }
 ],
 "metadata": {
  "kernelspec": {
   "display_name": "Python 3 (ipykernel)",
   "language": "python",
   "name": "python3"
  },
  "language_info": {
   "codemirror_mode": {
    "name": "ipython",
    "version": 3
   },
   "file_extension": ".py",
   "mimetype": "text/x-python",
   "name": "python",
   "nbconvert_exporter": "python",
   "pygments_lexer": "ipython3",
   "version": "3.9.6"
  }
 },
 "nbformat": 4,
 "nbformat_minor": 5
}
